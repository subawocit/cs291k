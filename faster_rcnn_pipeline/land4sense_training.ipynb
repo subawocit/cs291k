{
 "cells": [
  {
   "cell_type": "code",
   "execution_count": 1,
   "id": "c7019978-68a4-4d9e-99ce-471b7a91537d",
   "metadata": {},
   "outputs": [
    {
     "name": "stdout",
     "output_type": "stream",
     "text": [
      "/hdd/yuchen/pipeline/training_pipeline\n"
     ]
    }
   ],
   "source": [
    "%cd /hdd/yuchen/pipeline/training_pipeline"
   ]
  },
  {
   "cell_type": "code",
   "execution_count": 2,
   "id": "051c61e4-9859-449f-88c9-d0ae5d777261",
   "metadata": {},
   "outputs": [],
   "source": [
    "from torch_utils.engine import ( train_one_epoch, evaluate, utils)\n",
    "from torch.utils.data import ( distributed, RandomSampler, SequentialSampler)\n",
    "from datasets import (\n",
    "    create_train_dataset, create_valid_dataset, \n",
    "    create_train_loader, create_valid_loader)\n",
    "from models.create_fasterrcnn_model import create_model\n",
    "from utils.general import (\n",
    "    set_training_dir, Averager, \n",
    "    save_model, save_loss_plot,\n",
    "    show_tranformed_image,\n",
    "    save_mAP, save_model_state, SaveBestModel,\n",
    "    yaml_save, init_seeds)\n",
    "from utils.logging import (\n",
    "    set_log, coco_log,set_summary_writer, tensorboard_loss_log,  tensorboard_map_log,\n",
    "    csv_log, wandb_log,  wandb_save_model, wandb_init)\n",
    "\n",
    "import torch\n",
    "import argparse\n",
    "import yaml\n",
    "import numpy as np\n",
    "import torchinfo\n",
    "import os"
   ]
  },
  {
   "cell_type": "code",
   "execution_count": 4,
   "id": "a5faf4da-98c8-4cd7-8804-25f713273f57",
   "metadata": {},
   "outputs": [],
   "source": [
    "parse_opt = {\n",
    "    'model' : 'fasterrcnn_resnet50_fpn_v2',\n",
    "    'data' : '',\n",
    "    'device' : 'cuda:0',\n",
    "    'epochs' : 5,\n",
    "    'workers' : 4,\n",
    "    'batch' : 2,\n",
    "    'lr' : 0.001,\n",
    "    'imgsz' : 224,\n",
    "    'name' : '',\n",
    "    'vis_transformed' : False,\n",
    "    'mosaic' : 0.0,\n",
    "    'use_train_aug' : False,\n",
    "    'cosine_annealing' : True,  # use cosine annealing warm restarts\n",
    "    'weights' : None,  # load weights directly from files\n",
    "    'resume_training' : False,\n",
    "    'square_training' : True,  # 'Resize images to square shape\n",
    "    'sync_bn' : True,  # sync batch norm\n",
    "    'amp' : True,  # use automatic mixed precision\n",
    "    'seed' : 42,\n",
    "    'project_dir' : None\n",
    "}\n",
    "args = parse_opt"
   ]
  },
  {
   "cell_type": "code",
   "execution_count": 5,
   "id": "a2a32ce9-30ba-4ac7-aabb-7ad7074178d0",
   "metadata": {},
   "outputs": [],
   "source": [
    "args['epochs'] = 90\n",
    "args['imgsz'] = 224\n",
    "args['device'] = 'cuda:1'\n",
    "args['model'] = 'fasterrcnn_swin'\n",
    "\n",
    "args['name'] = 'land4sensor_training'\n",
    "args['batch'] = 8\n",
    "args['data'] = 'data_configs/land4sensor.yaml'"
   ]
  },
  {
   "cell_type": "code",
   "execution_count": 6,
   "id": "6d655da4-7158-4493-9785-ff14450d6264",
   "metadata": {},
   "outputs": [
    {
     "name": "stdout",
     "output_type": "stream",
     "text": [
      "device cuda:1\n"
     ]
    }
   ],
   "source": [
    "torch.multiprocessing.set_sharing_strategy('file_system')\n",
    "\n",
    "RANK = int(os.getenv('RANK', -1))\n",
    "\n",
    "# For same annotation colors each time.\n",
    "np.random.seed(42)\n",
    "\n",
    "with open(args['data']) as file:\n",
    "    data_configs = yaml.safe_load(file)\n",
    "\n",
    "init_seeds(args['seed'] + 1 + RANK, deterministic=True)\n",
    "    \n",
    "    # Settings/parameters/constants.\n",
    "TRAIN_DIR_IMAGES = os.path.normpath(data_configs['TRAIN_DIR_IMAGES'])\n",
    "TRAIN_DIR_LABELS = os.path.normpath(data_configs['TRAIN_DIR_LABELS'])\n",
    "VALID_DIR_IMAGES = os.path.normpath(data_configs['VALID_DIR_IMAGES'])\n",
    "VALID_DIR_LABELS = os.path.normpath(data_configs['VALID_DIR_LABELS'])\n",
    "CLASSES = data_configs['CLASSES']\n",
    "NUM_CLASSES = data_configs['NC']\n",
    "NUM_WORKERS = args['workers']\n",
    "DEVICE = torch.device(args['device'])\n",
    "print(\"device\",DEVICE)\n",
    "NUM_EPOCHS = args['epochs']\n",
    "SAVE_VALID_PREDICTIONS = data_configs['SAVE_VALID_PREDICTION_IMAGES']\n",
    "BATCH_SIZE = args['batch']\n",
    "VISUALIZE_TRANSFORMED_IMAGES = args['vis_transformed']\n",
    "OUT_DIR = set_training_dir(args['name'], args['project_dir'])\n",
    "COLORS = np.random.uniform(0, 1, size=(len(CLASSES), 3))\n",
    "SCALER = torch.cuda.amp.GradScaler() if args['amp'] else None"
   ]
  },
  {
   "cell_type": "code",
   "execution_count": 7,
   "id": "2c09cf67-0876-43aa-bfa9-d6b20886d94d",
   "metadata": {},
   "outputs": [
    {
     "name": "stdout",
     "output_type": "stream",
     "text": [
      "Checking Labels and images...\n"
     ]
    },
    {
     "data": {
      "application/vnd.jupyter.widget-view+json": {
       "model_id": "0cd19f0608bb495495eed114e7e1b951",
       "version_major": 2,
       "version_minor": 0
      },
      "text/plain": [
       "  0%|          | 0/1440 [00:00<?, ?it/s]"
      ]
     },
     "metadata": {},
     "output_type": "display_data"
    },
    {
     "name": "stdout",
     "output_type": "stream",
     "text": [
      "Checking Labels and images...\n"
     ]
    },
    {
     "data": {
      "application/vnd.jupyter.widget-view+json": {
       "model_id": "d7e77d129b1f4d0eb0b2fab14c1fabc3",
       "version_major": 2,
       "version_minor": 0
      },
      "text/plain": [
       "  0%|          | 0/309 [00:00<?, ?it/s]"
      ]
     },
     "metadata": {},
     "output_type": "display_data"
    }
   ],
   "source": [
    "set_log(OUT_DIR)\n",
    "writer = set_summary_writer(OUT_DIR)\n",
    "\n",
    "yaml_save(file_path=os.path.join(OUT_DIR, 'opt.yaml'), data=args)\n",
    "\n",
    "    # Model configurations\n",
    "IMAGE_SIZE = args['imgsz']\n",
    "    \n",
    "train_dataset = create_train_dataset(\n",
    "        TRAIN_DIR_IMAGES, \n",
    "        TRAIN_DIR_LABELS,\n",
    "        IMAGE_SIZE, \n",
    "        CLASSES,\n",
    "        use_train_aug=args['use_train_aug'],\n",
    "        mosaic=args['mosaic'],\n",
    "        square_training=args['square_training']\n",
    "    )\n",
    "valid_dataset = create_valid_dataset(\n",
    "        VALID_DIR_IMAGES, \n",
    "        VALID_DIR_LABELS, \n",
    "        IMAGE_SIZE, \n",
    "        CLASSES,\n",
    "        square_training=args['square_training']\n",
    "    )\n",
    "\n",
    "train_sampler = RandomSampler(train_dataset)\n",
    "valid_sampler = SequentialSampler(valid_dataset)\n",
    "\n",
    "train_loader = create_train_loader(train_dataset, BATCH_SIZE, NUM_WORKERS, batch_sampler=train_sampler)\n",
    "valid_loader = create_valid_loader(valid_dataset, BATCH_SIZE, NUM_WORKERS)"
   ]
  },
  {
   "cell_type": "code",
   "execution_count": 8,
   "id": "66afdfe3-7325-4235-8ec9-b55155fee0ee",
   "metadata": {
    "scrolled": true
   },
   "outputs": [
    {
     "name": "stdout",
     "output_type": "stream",
     "text": [
      "Building model from scratch or load weights from files\n",
      "current model setting: base_from_mae\n"
     ]
    },
    {
     "name": "stderr",
     "output_type": "stream",
     "text": [
      "/hdd/yuchen/anaconda3/envs/291k/lib/python3.10/site-packages/torch/optim/lr_scheduler.py:28: UserWarning: The verbose parameter is deprecated. Please use get_last_lr() to access the learning rate.\n",
      "  warnings.warn(\"The verbose parameter is deprecated. Please use get_last_lr() \"\n"
     ]
    }
   ],
   "source": [
    "train_loss_hist = Averager()\n",
    "train_loss_list = []\n",
    "loss_cls_list = []\n",
    "loss_box_reg_list = []\n",
    "loss_objectness_list = []\n",
    "loss_rpn_list = []\n",
    "train_loss_list_epoch = []\n",
    "val_map_05 = []\n",
    "val_map = []\n",
    "start_epochs = 0\n",
    "\n",
    "if args['weights'] is None:\n",
    "    print('Building model from scratch or load weights from files')\n",
    "    build_model = create_model[args['model']]\n",
    "    model = build_model(num_classes=NUM_CLASSES, pretrained=True)\n",
    "\n",
    "    model.transform.min_size = (args['imgsz'], )\n",
    "    model = model.to(DEVICE)\n",
    "\n",
    "    # print(model)\n",
    "\n",
    "total_params = sum(p.numel() for p in model.parameters())\n",
    "total_trainable_params = sum(p.numel() for p in model.parameters() if p.requires_grad)\n",
    "params = [p for p in model.parameters() if p.requires_grad]\n",
    "optimizer = torch.optim.SGD(params, lr=args['lr'], momentum=0.9, nesterov=True)\n",
    "# optimizer = torch.optim.AdamW(params, lr=0.0001, weight_decay=0.0005)\n",
    "\n",
    "if args['cosine_annealing']:\n",
    "    # LR will be zero as we approach `steps` number of epochs each time.\n",
    "    # If `steps = 5`, LR will slowly reduce to zero every 5 epochs.\n",
    "    steps = NUM_EPOCHS + 10\n",
    "    scheduler = torch.optim.lr_scheduler.CosineAnnealingWarmRestarts(\n",
    "        optimizer, \n",
    "        T_0=steps,\n",
    "        T_mult=1,\n",
    "        verbose=False\n",
    "    )\n",
    "else:\n",
    "    scheduler = None\n",
    "\n",
    "save_best_model = SaveBestModel()"
   ]
  },
  {
   "cell_type": "code",
   "execution_count": null,
   "id": "6a2868bb-6869-4921-864b-a19581c63126",
   "metadata": {
    "scrolled": true
   },
   "outputs": [
    {
     "name": "stderr",
     "output_type": "stream",
     "text": [
      "Epoch: [0]  [  0/180]  eta: 0:12:53  lr: 0.000007  loss: 1.8263 (1.8263)  loss_classifier: 0.7132 (0.7132)  loss_box_reg: 0.0478 (0.0478)  loss_objectness: 0.7206 (0.7206)  loss_rpn_box_reg: 0.3448 (0.3448)  time: 4.2966  data: 0.7697  max mem: 576\n",
      "Epoch: [0]  [100/180]  eta: 0:00:19  lr: 0.001010  loss: 0.7125 (0.8876)  loss_classifier: 0.1385 (0.1734)  loss_box_reg: 0.1264 (0.1138)  loss_objectness: 0.2959 (0.4285)  loss_rpn_box_reg: 0.1346 (0.1720)  time: 0.2052  data: 0.0035  max mem: 576\n",
      "Epoch: [0]  [179/180]  eta: 0:00:00  lr: 0.001000  loss: 0.7497 (0.8307)  loss_classifier: 0.1542 (0.1672)  loss_box_reg: 0.1456 (0.1299)  loss_objectness: 0.2668 (0.3726)  loss_rpn_box_reg: 0.1277 (0.1610)  time: 0.2035  data: 0.0034  max mem: 576\n",
      "Epoch: [0] Total time: 0:00:40 (0.2276 s / it)\n"
     ]
    },
    {
     "name": "stdout",
     "output_type": "stream",
     "text": [
      "creating index...\n",
      "index created!\n"
     ]
    },
    {
     "name": "stderr",
     "output_type": "stream",
     "text": [
      "Test:  [ 0/39]  eta: 0:00:25  model_time: 0.1937 (0.1937)  evaluator_time: 0.0399 (0.0399)  time: 0.6446  data: 0.3969  max mem: 576\n",
      "Test:  [38/39]  eta: 0:00:00  model_time: 0.1226 (0.1249)  evaluator_time: 0.0499 (0.0613)  time: 0.1914  data: 0.0033  max mem: 576\n",
      "Test: Total time: 0:00:08 (0.2056 s / it)\n"
     ]
    },
    {
     "name": "stdout",
     "output_type": "stream",
     "text": [
      "Averaged stats: model_time: 0.1226 (0.1249)  evaluator_time: 0.0499 (0.0613)\n",
      "Accumulating evaluation results...\n",
      "DONE (t=0.23s).\n",
      "IoU metric: bbox\n",
      " Average Precision  (AP) @[ IoU=0.50:0.95 | area=   all | maxDets=100 ] = 0.002\n",
      " Average Precision  (AP) @[ IoU=0.50      | area=   all | maxDets=100 ] = 0.011\n",
      " Average Precision  (AP) @[ IoU=0.75      | area=   all | maxDets=100 ] = 0.000\n",
      " Average Precision  (AP) @[ IoU=0.50:0.95 | area= small | maxDets=100 ] = 0.002\n",
      " Average Precision  (AP) @[ IoU=0.50:0.95 | area=medium | maxDets=100 ] = 0.016\n",
      " Average Precision  (AP) @[ IoU=0.50:0.95 | area= large | maxDets=100 ] = 0.022\n",
      " Average Recall     (AR) @[ IoU=0.50:0.95 | area=   all | maxDets=  1 ] = 0.007\n",
      " Average Recall     (AR) @[ IoU=0.50:0.95 | area=   all | maxDets= 10 ] = 0.030\n",
      " Average Recall     (AR) @[ IoU=0.50:0.95 | area=   all | maxDets=100 ] = 0.106\n",
      " Average Recall     (AR) @[ IoU=0.50:0.95 | area= small | maxDets=100 ] = 0.099\n",
      " Average Recall     (AR) @[ IoU=0.50:0.95 | area=medium | maxDets=100 ] = 0.124\n",
      " Average Recall     (AR) @[ IoU=0.50:0.95 | area= large | maxDets=100 ] = 0.168\n",
      "0.0023461635381405404 0.010516415532725726\n",
      "SAVING PLOTS COMPLETE...\n",
      "SAVING PLOTS COMPLETE...\n",
      "SAVING PLOTS COMPLETE...\n",
      "SAVING PLOTS COMPLETE...\n",
      "SAVING PLOTS COMPLETE...\n",
      "SAVING PLOTS COMPLETE...\n"
     ]
    },
    {
     "name": "stderr",
     "output_type": "stream",
     "text": [
      "Epoch: [1]  [  0/180]  eta: 0:01:52  lr: 0.001000  loss: 0.7648 (0.7648)  loss_classifier: 0.1812 (0.1812)  loss_box_reg: 0.1871 (0.1871)  loss_objectness: 0.2787 (0.2787)  loss_rpn_box_reg: 0.1180 (0.1180)  time: 0.6271  data: 0.3979  max mem: 576\n",
      "Epoch: [1]  [100/180]  eta: 0:00:16  lr: 0.000999  loss: 0.7207 (0.7361)  loss_classifier: 0.1433 (0.1607)  loss_box_reg: 0.1466 (0.1655)  loss_objectness: 0.2603 (0.2690)  loss_rpn_box_reg: 0.1381 (0.1408)  time: 0.2071  data: 0.0036  max mem: 576\n",
      "Epoch: [1]  [179/180]  eta: 0:00:00  lr: 0.000999  loss: 0.6452 (0.7225)  loss_classifier: 0.1494 (0.1593)  loss_box_reg: 0.1715 (0.1685)  loss_objectness: 0.2168 (0.2574)  loss_rpn_box_reg: 0.1102 (0.1372)  time: 0.2047  data: 0.0035  max mem: 576\n",
      "Epoch: [1] Total time: 0:00:37 (0.2096 s / it)\n"
     ]
    },
    {
     "name": "stdout",
     "output_type": "stream",
     "text": [
      "creating index...\n",
      "index created!\n"
     ]
    },
    {
     "name": "stderr",
     "output_type": "stream",
     "text": [
      "Test:  [ 0/39]  eta: 0:00:24  model_time: 0.1389 (0.1389)  evaluator_time: 0.0323 (0.0323)  time: 0.6172  data: 0.4317  max mem: 576\n",
      "Test:  [38/39]  eta: 0:00:00  model_time: 0.1235 (0.1231)  evaluator_time: 0.0440 (0.0631)  time: 0.1859  data: 0.0032  max mem: 576\n",
      "Test: Total time: 0:00:08 (0.2069 s / it)\n"
     ]
    },
    {
     "name": "stdout",
     "output_type": "stream",
     "text": [
      "Averaged stats: model_time: 0.1235 (0.1231)  evaluator_time: 0.0440 (0.0631)\n",
      "Accumulating evaluation results...\n",
      "DONE (t=0.19s).\n",
      "IoU metric: bbox\n",
      " Average Precision  (AP) @[ IoU=0.50:0.95 | area=   all | maxDets=100 ] = 0.014\n",
      " Average Precision  (AP) @[ IoU=0.50      | area=   all | maxDets=100 ] = 0.057\n",
      " Average Precision  (AP) @[ IoU=0.75      | area=   all | maxDets=100 ] = 0.001\n",
      " Average Precision  (AP) @[ IoU=0.50:0.95 | area= small | maxDets=100 ] = 0.013\n",
      " Average Precision  (AP) @[ IoU=0.50:0.95 | area=medium | maxDets=100 ] = 0.029\n",
      " Average Precision  (AP) @[ IoU=0.50:0.95 | area= large | maxDets=100 ] = 0.058\n",
      " Average Recall     (AR) @[ IoU=0.50:0.95 | area=   all | maxDets=  1 ] = 0.017\n",
      " Average Recall     (AR) @[ IoU=0.50:0.95 | area=   all | maxDets= 10 ] = 0.062\n",
      " Average Recall     (AR) @[ IoU=0.50:0.95 | area=   all | maxDets=100 ] = 0.155\n",
      " Average Recall     (AR) @[ IoU=0.50:0.95 | area= small | maxDets=100 ] = 0.150\n",
      " Average Recall     (AR) @[ IoU=0.50:0.95 | area=medium | maxDets=100 ] = 0.166\n",
      " Average Recall     (AR) @[ IoU=0.50:0.95 | area= large | maxDets=100 ] = 0.274\n",
      "0.013528389002353236 0.056781049878411156\n",
      "SAVING PLOTS COMPLETE...\n",
      "SAVING PLOTS COMPLETE...\n",
      "SAVING PLOTS COMPLETE...\n",
      "SAVING PLOTS COMPLETE...\n",
      "SAVING PLOTS COMPLETE...\n",
      "SAVING PLOTS COMPLETE...\n"
     ]
    },
    {
     "name": "stderr",
     "output_type": "stream",
     "text": [
      "Epoch: [2]  [  0/180]  eta: 0:02:11  lr: 0.000999  loss: 0.5931 (0.5931)  loss_classifier: 0.1322 (0.1322)  loss_box_reg: 0.1531 (0.1531)  loss_objectness: 0.2076 (0.2076)  loss_rpn_box_reg: 0.1001 (0.1001)  time: 0.7321  data: 0.5025  max mem: 576\n",
      "Epoch: [2]  [100/180]  eta: 0:00:17  lr: 0.000998  loss: 0.7204 (0.7006)  loss_classifier: 0.1454 (0.1563)  loss_box_reg: 0.1732 (0.1802)  loss_objectness: 0.2195 (0.2347)  loss_rpn_box_reg: 0.1369 (0.1293)  time: 0.2094  data: 0.0037  max mem: 576\n",
      "Epoch: [2]  [179/180]  eta: 0:00:00  lr: 0.000998  loss: 0.7104 (0.7011)  loss_classifier: 0.1521 (0.1554)  loss_box_reg: 0.1849 (0.1802)  loss_objectness: 0.2580 (0.2348)  loss_rpn_box_reg: 0.1381 (0.1307)  time: 0.2087  data: 0.0036  max mem: 576\n",
      "Epoch: [2] Total time: 0:00:38 (0.2131 s / it)\n"
     ]
    },
    {
     "name": "stdout",
     "output_type": "stream",
     "text": [
      "creating index...\n",
      "index created!\n"
     ]
    },
    {
     "name": "stderr",
     "output_type": "stream",
     "text": [
      "Test:  [ 0/39]  eta: 0:00:28  model_time: 0.1401 (0.1401)  evaluator_time: 0.0285 (0.0285)  time: 0.7352  data: 0.5522  max mem: 576\n",
      "Test:  [38/39]  eta: 0:00:00  model_time: 0.1250 (0.1244)  evaluator_time: 0.0425 (0.0534)  time: 0.1835  data: 0.0032  max mem: 576\n",
      "Test: Total time: 0:00:07 (0.2013 s / it)\n"
     ]
    },
    {
     "name": "stdout",
     "output_type": "stream",
     "text": [
      "Averaged stats: model_time: 0.1250 (0.1244)  evaluator_time: 0.0425 (0.0534)\n",
      "Accumulating evaluation results...\n",
      "DONE (t=0.19s).\n",
      "IoU metric: bbox\n",
      " Average Precision  (AP) @[ IoU=0.50:0.95 | area=   all | maxDets=100 ] = 0.026\n",
      " Average Precision  (AP) @[ IoU=0.50      | area=   all | maxDets=100 ] = 0.098\n",
      " Average Precision  (AP) @[ IoU=0.75      | area=   all | maxDets=100 ] = 0.011\n",
      " Average Precision  (AP) @[ IoU=0.50:0.95 | area= small | maxDets=100 ] = 0.025\n",
      " Average Precision  (AP) @[ IoU=0.50:0.95 | area=medium | maxDets=100 ] = 0.028\n",
      " Average Precision  (AP) @[ IoU=0.50:0.95 | area= large | maxDets=100 ] = 0.064\n",
      " Average Recall     (AR) @[ IoU=0.50:0.95 | area=   all | maxDets=  1 ] = 0.023\n",
      " Average Recall     (AR) @[ IoU=0.50:0.95 | area=   all | maxDets= 10 ] = 0.085\n",
      " Average Recall     (AR) @[ IoU=0.50:0.95 | area=   all | maxDets=100 ] = 0.186\n",
      " Average Recall     (AR) @[ IoU=0.50:0.95 | area= small | maxDets=100 ] = 0.170\n",
      " Average Recall     (AR) @[ IoU=0.50:0.95 | area=medium | maxDets=100 ] = 0.225\n",
      " Average Recall     (AR) @[ IoU=0.50:0.95 | area= large | maxDets=100 ] = 0.405\n",
      "0.025628294965943422 0.09842675214117873\n",
      "SAVING PLOTS COMPLETE...\n",
      "SAVING PLOTS COMPLETE...\n",
      "SAVING PLOTS COMPLETE...\n",
      "SAVING PLOTS COMPLETE...\n",
      "SAVING PLOTS COMPLETE...\n",
      "SAVING PLOTS COMPLETE...\n"
     ]
    },
    {
     "name": "stderr",
     "output_type": "stream",
     "text": [
      "Epoch: [3]  [  0/180]  eta: 0:01:54  lr: 0.000998  loss: 0.7035 (0.7035)  loss_classifier: 0.1442 (0.1442)  loss_box_reg: 0.1837 (0.1837)  loss_objectness: 0.2413 (0.2413)  loss_rpn_box_reg: 0.1343 (0.1343)  time: 0.6373  data: 0.4113  max mem: 576\n",
      "Epoch: [3]  [100/180]  eta: 0:00:17  lr: 0.000997  loss: 0.6104 (0.6804)  loss_classifier: 0.1364 (0.1504)  loss_box_reg: 0.1661 (0.1813)  loss_objectness: 0.2083 (0.2235)  loss_rpn_box_reg: 0.1167 (0.1252)  time: 0.2122  data: 0.0035  max mem: 576\n",
      "Epoch: [3]  [179/180]  eta: 0:00:00  lr: 0.000996  loss: 0.6584 (0.6728)  loss_classifier: 0.1534 (0.1471)  loss_box_reg: 0.1751 (0.1784)  loss_objectness: 0.2128 (0.2228)  loss_rpn_box_reg: 0.1154 (0.1246)  time: 0.2130  data: 0.0035  max mem: 576\n",
      "Epoch: [3] Total time: 0:00:38 (0.2158 s / it)\n"
     ]
    },
    {
     "name": "stdout",
     "output_type": "stream",
     "text": [
      "creating index...\n",
      "index created!\n"
     ]
    },
    {
     "name": "stderr",
     "output_type": "stream",
     "text": [
      "Test:  [ 0/39]  eta: 0:00:22  model_time: 0.1326 (0.1326)  evaluator_time: 0.0276 (0.0276)  time: 0.5689  data: 0.3932  max mem: 576\n",
      "Test:  [38/39]  eta: 0:00:00  model_time: 0.1265 (0.1258)  evaluator_time: 0.0418 (0.0529)  time: 0.1853  data: 0.0033  max mem: 576\n",
      "Test: Total time: 0:00:07 (0.1984 s / it)\n"
     ]
    },
    {
     "name": "stdout",
     "output_type": "stream",
     "text": [
      "Averaged stats: model_time: 0.1265 (0.1258)  evaluator_time: 0.0418 (0.0529)\n",
      "Accumulating evaluation results...\n",
      "DONE (t=0.17s).\n",
      "IoU metric: bbox\n",
      " Average Precision  (AP) @[ IoU=0.50:0.95 | area=   all | maxDets=100 ] = 0.030\n",
      " Average Precision  (AP) @[ IoU=0.50      | area=   all | maxDets=100 ] = 0.124\n",
      " Average Precision  (AP) @[ IoU=0.75      | area=   all | maxDets=100 ] = 0.007\n",
      " Average Precision  (AP) @[ IoU=0.50:0.95 | area= small | maxDets=100 ] = 0.031\n",
      " Average Precision  (AP) @[ IoU=0.50:0.95 | area=medium | maxDets=100 ] = 0.033\n",
      " Average Precision  (AP) @[ IoU=0.50:0.95 | area= large | maxDets=100 ] = 0.059\n",
      " Average Recall     (AR) @[ IoU=0.50:0.95 | area=   all | maxDets=  1 ] = 0.025\n",
      " Average Recall     (AR) @[ IoU=0.50:0.95 | area=   all | maxDets= 10 ] = 0.102\n",
      " Average Recall     (AR) @[ IoU=0.50:0.95 | area=   all | maxDets=100 ] = 0.199\n",
      " Average Recall     (AR) @[ IoU=0.50:0.95 | area= small | maxDets=100 ] = 0.182\n",
      " Average Recall     (AR) @[ IoU=0.50:0.95 | area=medium | maxDets=100 ] = 0.242\n",
      " Average Recall     (AR) @[ IoU=0.50:0.95 | area= large | maxDets=100 ] = 0.400\n",
      "0.029504391336406338 0.12421000227811428\n",
      "SAVING PLOTS COMPLETE...\n",
      "SAVING PLOTS COMPLETE...\n",
      "SAVING PLOTS COMPLETE...\n",
      "SAVING PLOTS COMPLETE...\n",
      "SAVING PLOTS COMPLETE...\n",
      "SAVING PLOTS COMPLETE...\n"
     ]
    },
    {
     "name": "stderr",
     "output_type": "stream",
     "text": [
      "Epoch: [4]  [  0/180]  eta: 0:01:53  lr: 0.000996  loss: 0.5768 (0.5768)  loss_classifier: 0.1241 (0.1241)  loss_box_reg: 0.1331 (0.1331)  loss_objectness: 0.2138 (0.2138)  loss_rpn_box_reg: 0.1058 (0.1058)  time: 0.6318  data: 0.4088  max mem: 576\n",
      "Epoch: [4]  [100/180]  eta: 0:00:17  lr: 0.000995  loss: 0.6185 (0.6409)  loss_classifier: 0.1357 (0.1390)  loss_box_reg: 0.1568 (0.1727)  loss_objectness: 0.2060 (0.2123)  loss_rpn_box_reg: 0.1169 (0.1170)  time: 0.2158  data: 0.0036  max mem: 576\n",
      "Epoch: [4]  [179/180]  eta: 0:00:00  lr: 0.000994  loss: 0.6211 (0.6535)  loss_classifier: 0.1422 (0.1420)  loss_box_reg: 0.1864 (0.1782)  loss_objectness: 0.2074 (0.2137)  loss_rpn_box_reg: 0.1190 (0.1196)  time: 0.2149  data: 0.0036  max mem: 576\n",
      "Epoch: [4] Total time: 0:00:39 (0.2190 s / it)\n"
     ]
    },
    {
     "name": "stdout",
     "output_type": "stream",
     "text": [
      "creating index...\n",
      "index created!\n"
     ]
    },
    {
     "name": "stderr",
     "output_type": "stream",
     "text": [
      "Test:  [ 0/39]  eta: 0:00:26  model_time: 0.1363 (0.1363)  evaluator_time: 0.0252 (0.0252)  time: 0.6801  data: 0.5032  max mem: 576\n",
      "Test:  [38/39]  eta: 0:00:00  model_time: 0.1261 (0.1274)  evaluator_time: 0.0433 (0.0572)  time: 0.1956  data: 0.0033  max mem: 576\n",
      "Test: Total time: 0:00:08 (0.2071 s / it)\n"
     ]
    },
    {
     "name": "stdout",
     "output_type": "stream",
     "text": [
      "Averaged stats: model_time: 0.1261 (0.1274)  evaluator_time: 0.0433 (0.0572)\n",
      "Accumulating evaluation results...\n",
      "DONE (t=0.16s).\n",
      "IoU metric: bbox\n",
      " Average Precision  (AP) @[ IoU=0.50:0.95 | area=   all | maxDets=100 ] = 0.035\n",
      " Average Precision  (AP) @[ IoU=0.50      | area=   all | maxDets=100 ] = 0.145\n",
      " Average Precision  (AP) @[ IoU=0.75      | area=   all | maxDets=100 ] = 0.005\n",
      " Average Precision  (AP) @[ IoU=0.50:0.95 | area= small | maxDets=100 ] = 0.036\n",
      " Average Precision  (AP) @[ IoU=0.50:0.95 | area=medium | maxDets=100 ] = 0.037\n",
      " Average Precision  (AP) @[ IoU=0.50:0.95 | area= large | maxDets=100 ] = 0.093\n",
      " Average Recall     (AR) @[ IoU=0.50:0.95 | area=   all | maxDets=  1 ] = 0.029\n",
      " Average Recall     (AR) @[ IoU=0.50:0.95 | area=   all | maxDets= 10 ] = 0.120\n",
      " Average Recall     (AR) @[ IoU=0.50:0.95 | area=   all | maxDets=100 ] = 0.221\n",
      " Average Recall     (AR) @[ IoU=0.50:0.95 | area= small | maxDets=100 ] = 0.204\n",
      " Average Recall     (AR) @[ IoU=0.50:0.95 | area=medium | maxDets=100 ] = 0.264\n",
      " Average Recall     (AR) @[ IoU=0.50:0.95 | area= large | maxDets=100 ] = 0.416\n",
      "0.035329361828939525 0.14462073074808995\n",
      "SAVING PLOTS COMPLETE...\n",
      "SAVING PLOTS COMPLETE...\n",
      "SAVING PLOTS COMPLETE...\n",
      "SAVING PLOTS COMPLETE...\n",
      "SAVING PLOTS COMPLETE...\n",
      "SAVING PLOTS COMPLETE...\n"
     ]
    },
    {
     "name": "stderr",
     "output_type": "stream",
     "text": [
      "Epoch: [5]  [  0/180]  eta: 0:01:54  lr: 0.000994  loss: 0.7972 (0.7972)  loss_classifier: 0.1802 (0.1802)  loss_box_reg: 0.2693 (0.2693)  loss_objectness: 0.2250 (0.2250)  loss_rpn_box_reg: 0.1227 (0.1227)  time: 0.6348  data: 0.4057  max mem: 576\n",
      "Epoch: [5]  [100/180]  eta: 0:00:17  lr: 0.000992  loss: 0.6012 (0.6494)  loss_classifier: 0.1320 (0.1412)  loss_box_reg: 0.1741 (0.1830)  loss_objectness: 0.1955 (0.2075)  loss_rpn_box_reg: 0.1048 (0.1177)  time: 0.2201  data: 0.0037  max mem: 576\n",
      "Epoch: [5]  [179/180]  eta: 0:00:00  lr: 0.000991  loss: 0.5264 (0.6373)  loss_classifier: 0.1186 (0.1380)  loss_box_reg: 0.1416 (0.1776)  loss_objectness: 0.1740 (0.2053)  loss_rpn_box_reg: 0.1001 (0.1164)  time: 0.2175  data: 0.0036  max mem: 576\n",
      "Epoch: [5] Total time: 0:00:39 (0.2207 s / it)\n"
     ]
    },
    {
     "name": "stdout",
     "output_type": "stream",
     "text": [
      "creating index...\n",
      "index created!\n"
     ]
    },
    {
     "name": "stderr",
     "output_type": "stream",
     "text": [
      "Test:  [ 0/39]  eta: 0:00:22  model_time: 0.1324 (0.1324)  evaluator_time: 0.0231 (0.0231)  time: 0.5653  data: 0.3942  max mem: 576\n",
      "Test:  [38/39]  eta: 0:00:00  model_time: 0.1294 (0.1289)  evaluator_time: 0.0368 (0.0480)  time: 0.1832  data: 0.0034  max mem: 576\n",
      "Test: Total time: 0:00:07 (0.1965 s / it)\n"
     ]
    },
    {
     "name": "stdout",
     "output_type": "stream",
     "text": [
      "Averaged stats: model_time: 0.1294 (0.1289)  evaluator_time: 0.0368 (0.0480)\n",
      "Accumulating evaluation results...\n",
      "DONE (t=0.14s).\n",
      "IoU metric: bbox\n",
      " Average Precision  (AP) @[ IoU=0.50:0.95 | area=   all | maxDets=100 ] = 0.044\n",
      " Average Precision  (AP) @[ IoU=0.50      | area=   all | maxDets=100 ] = 0.173\n",
      " Average Precision  (AP) @[ IoU=0.75      | area=   all | maxDets=100 ] = 0.006\n",
      " Average Precision  (AP) @[ IoU=0.50:0.95 | area= small | maxDets=100 ] = 0.041\n",
      " Average Precision  (AP) @[ IoU=0.50:0.95 | area=medium | maxDets=100 ] = 0.056\n",
      " Average Precision  (AP) @[ IoU=0.50:0.95 | area= large | maxDets=100 ] = 0.094\n",
      " Average Recall     (AR) @[ IoU=0.50:0.95 | area=   all | maxDets=  1 ] = 0.033\n",
      " Average Recall     (AR) @[ IoU=0.50:0.95 | area=   all | maxDets= 10 ] = 0.128\n",
      " Average Recall     (AR) @[ IoU=0.50:0.95 | area=   all | maxDets=100 ] = 0.233\n",
      " Average Recall     (AR) @[ IoU=0.50:0.95 | area= small | maxDets=100 ] = 0.216\n",
      " Average Recall     (AR) @[ IoU=0.50:0.95 | area=medium | maxDets=100 ] = 0.284\n",
      " Average Recall     (AR) @[ IoU=0.50:0.95 | area= large | maxDets=100 ] = 0.379\n",
      "0.04393522080462357 0.17263752889580697\n",
      "SAVING PLOTS COMPLETE...\n",
      "SAVING PLOTS COMPLETE...\n",
      "SAVING PLOTS COMPLETE...\n",
      "SAVING PLOTS COMPLETE...\n",
      "SAVING PLOTS COMPLETE...\n",
      "SAVING PLOTS COMPLETE...\n"
     ]
    },
    {
     "name": "stderr",
     "output_type": "stream",
     "text": [
      "Epoch: [6]  [  0/180]  eta: 0:01:54  lr: 0.000991  loss: 0.6587 (0.6587)  loss_classifier: 0.1253 (0.1253)  loss_box_reg: 0.1743 (0.1743)  loss_objectness: 0.2246 (0.2246)  loss_rpn_box_reg: 0.1344 (0.1344)  time: 0.6363  data: 0.4052  max mem: 576\n",
      "Epoch: [6]  [100/180]  eta: 0:00:17  lr: 0.000989  loss: 0.5798 (0.6312)  loss_classifier: 0.1295 (0.1371)  loss_box_reg: 0.1659 (0.1802)  loss_objectness: 0.1882 (0.1982)  loss_rpn_box_reg: 0.0990 (0.1157)  time: 0.2168  data: 0.0037  max mem: 576\n",
      "Epoch: [6]  [179/180]  eta: 0:00:00  lr: 0.000988  loss: 0.5999 (0.6257)  loss_classifier: 0.1318 (0.1359)  loss_box_reg: 0.1758 (0.1793)  loss_objectness: 0.1873 (0.1968)  loss_rpn_box_reg: 0.1057 (0.1137)  time: 0.2208  data: 0.0037  max mem: 576\n",
      "Epoch: [6] Total time: 0:00:39 (0.2217 s / it)\n"
     ]
    },
    {
     "name": "stdout",
     "output_type": "stream",
     "text": [
      "creating index...\n",
      "index created!\n"
     ]
    },
    {
     "name": "stderr",
     "output_type": "stream",
     "text": [
      "Test:  [ 0/39]  eta: 0:00:22  model_time: 0.1336 (0.1336)  evaluator_time: 0.0257 (0.0257)  time: 0.5705  data: 0.3950  max mem: 576\n",
      "Test:  [38/39]  eta: 0:00:00  model_time: 0.1317 (0.1296)  evaluator_time: 0.0415 (0.0573)  time: 0.2006  data: 0.0034  max mem: 576\n",
      "Test: Total time: 0:00:08 (0.2067 s / it)\n"
     ]
    },
    {
     "name": "stdout",
     "output_type": "stream",
     "text": [
      "Averaged stats: model_time: 0.1317 (0.1296)  evaluator_time: 0.0415 (0.0573)\n",
      "Accumulating evaluation results...\n",
      "DONE (t=0.16s).\n",
      "IoU metric: bbox\n",
      " Average Precision  (AP) @[ IoU=0.50:0.95 | area=   all | maxDets=100 ] = 0.051\n",
      " Average Precision  (AP) @[ IoU=0.50      | area=   all | maxDets=100 ] = 0.197\n",
      " Average Precision  (AP) @[ IoU=0.75      | area=   all | maxDets=100 ] = 0.008\n",
      " Average Precision  (AP) @[ IoU=0.50:0.95 | area= small | maxDets=100 ] = 0.048\n",
      " Average Precision  (AP) @[ IoU=0.50:0.95 | area=medium | maxDets=100 ] = 0.067\n",
      " Average Precision  (AP) @[ IoU=0.50:0.95 | area= large | maxDets=100 ] = 0.125\n",
      " Average Recall     (AR) @[ IoU=0.50:0.95 | area=   all | maxDets=  1 ] = 0.035\n",
      " Average Recall     (AR) @[ IoU=0.50:0.95 | area=   all | maxDets= 10 ] = 0.138\n",
      " Average Recall     (AR) @[ IoU=0.50:0.95 | area=   all | maxDets=100 ] = 0.248\n",
      " Average Recall     (AR) @[ IoU=0.50:0.95 | area= small | maxDets=100 ] = 0.227\n",
      " Average Recall     (AR) @[ IoU=0.50:0.95 | area=medium | maxDets=100 ] = 0.306\n",
      " Average Recall     (AR) @[ IoU=0.50:0.95 | area= large | maxDets=100 ] = 0.432\n",
      "0.05148658740751475 0.19700556830416163\n",
      "SAVING PLOTS COMPLETE...\n",
      "SAVING PLOTS COMPLETE...\n",
      "SAVING PLOTS COMPLETE...\n",
      "SAVING PLOTS COMPLETE...\n",
      "SAVING PLOTS COMPLETE...\n",
      "SAVING PLOTS COMPLETE...\n"
     ]
    },
    {
     "name": "stderr",
     "output_type": "stream",
     "text": [
      "Epoch: [7]  [  0/180]  eta: 0:02:03  lr: 0.000988  loss: 0.4051 (0.4051)  loss_classifier: 0.0872 (0.0872)  loss_box_reg: 0.1209 (0.1209)  loss_objectness: 0.1323 (0.1323)  loss_rpn_box_reg: 0.0647 (0.0647)  time: 0.6870  data: 0.4502  max mem: 576\n",
      "Epoch: [7]  [100/180]  eta: 0:00:17  lr: 0.000986  loss: 0.6109 (0.6173)  loss_classifier: 0.1207 (0.1327)  loss_box_reg: 0.1695 (0.1806)  loss_objectness: 0.2003 (0.1906)  loss_rpn_box_reg: 0.1226 (0.1135)  time: 0.2192  data: 0.0038  max mem: 576\n",
      "Epoch: [7]  [179/180]  eta: 0:00:00  lr: 0.000984  loss: 0.5830 (0.6176)  loss_classifier: 0.1171 (0.1337)  loss_box_reg: 0.1505 (0.1808)  loss_objectness: 0.1861 (0.1906)  loss_rpn_box_reg: 0.1092 (0.1125)  time: 0.2182  data: 0.0036  max mem: 576\n",
      "Epoch: [7] Total time: 0:00:40 (0.2233 s / it)\n"
     ]
    },
    {
     "name": "stdout",
     "output_type": "stream",
     "text": [
      "creating index...\n",
      "index created!\n"
     ]
    },
    {
     "name": "stderr",
     "output_type": "stream",
     "text": [
      "Test:  [ 0/39]  eta: 0:00:28  model_time: 0.1335 (0.1335)  evaluator_time: 0.0218 (0.0218)  time: 0.7225  data: 0.5507  max mem: 576\n",
      "Test:  [38/39]  eta: 0:00:00  model_time: 0.1312 (0.1298)  evaluator_time: 0.0361 (0.0479)  time: 0.1847  data: 0.0033  max mem: 576\n",
      "Test: Total time: 0:00:07 (0.2016 s / it)\n"
     ]
    },
    {
     "name": "stdout",
     "output_type": "stream",
     "text": [
      "Averaged stats: model_time: 0.1312 (0.1298)  evaluator_time: 0.0361 (0.0479)\n",
      "Accumulating evaluation results...\n",
      "DONE (t=0.14s).\n",
      "IoU metric: bbox\n",
      " Average Precision  (AP) @[ IoU=0.50:0.95 | area=   all | maxDets=100 ] = 0.060\n",
      " Average Precision  (AP) @[ IoU=0.50      | area=   all | maxDets=100 ] = 0.222\n",
      " Average Precision  (AP) @[ IoU=0.75      | area=   all | maxDets=100 ] = 0.010\n",
      " Average Precision  (AP) @[ IoU=0.50:0.95 | area= small | maxDets=100 ] = 0.058\n",
      " Average Precision  (AP) @[ IoU=0.50:0.95 | area=medium | maxDets=100 ] = 0.075\n",
      " Average Precision  (AP) @[ IoU=0.50:0.95 | area= large | maxDets=100 ] = 0.075\n",
      " Average Recall     (AR) @[ IoU=0.50:0.95 | area=   all | maxDets=  1 ] = 0.041\n",
      " Average Recall     (AR) @[ IoU=0.50:0.95 | area=   all | maxDets= 10 ] = 0.151\n",
      " Average Recall     (AR) @[ IoU=0.50:0.95 | area=   all | maxDets=100 ] = 0.260\n",
      " Average Recall     (AR) @[ IoU=0.50:0.95 | area= small | maxDets=100 ] = 0.238\n",
      " Average Recall     (AR) @[ IoU=0.50:0.95 | area=medium | maxDets=100 ] = 0.326\n",
      " Average Recall     (AR) @[ IoU=0.50:0.95 | area= large | maxDets=100 ] = 0.432\n",
      "0.060418371749943155 0.2220994263312182\n",
      "SAVING PLOTS COMPLETE...\n",
      "SAVING PLOTS COMPLETE...\n",
      "SAVING PLOTS COMPLETE...\n",
      "SAVING PLOTS COMPLETE...\n",
      "SAVING PLOTS COMPLETE...\n",
      "SAVING PLOTS COMPLETE...\n"
     ]
    },
    {
     "name": "stderr",
     "output_type": "stream",
     "text": [
      "Epoch: [8]  [  0/180]  eta: 0:02:15  lr: 0.000984  loss: 0.6785 (0.6785)  loss_classifier: 0.1257 (0.1257)  loss_box_reg: 0.1643 (0.1643)  loss_objectness: 0.2557 (0.2557)  loss_rpn_box_reg: 0.1328 (0.1328)  time: 0.7541  data: 0.5121  max mem: 576\n",
      "Epoch: [8]  [100/180]  eta: 0:00:17  lr: 0.000982  loss: 0.5658 (0.6172)  loss_classifier: 0.1110 (0.1316)  loss_box_reg: 0.1612 (0.1821)  loss_objectness: 0.1818 (0.1894)  loss_rpn_box_reg: 0.1136 (0.1141)  time: 0.2203  data: 0.0037  max mem: 576\n",
      "Epoch: [8]  [179/180]  eta: 0:00:00  lr: 0.000980  loss: 0.5554 (0.6137)  loss_classifier: 0.1243 (0.1333)  loss_box_reg: 0.1591 (0.1829)  loss_objectness: 0.1777 (0.1868)  loss_rpn_box_reg: 0.0947 (0.1108)  time: 0.2162  data: 0.0038  max mem: 576\n",
      "Epoch: [8] Total time: 0:00:40 (0.2234 s / it)\n"
     ]
    },
    {
     "name": "stdout",
     "output_type": "stream",
     "text": [
      "creating index...\n",
      "index created!\n"
     ]
    },
    {
     "name": "stderr",
     "output_type": "stream",
     "text": [
      "Test:  [ 0/39]  eta: 0:00:25  model_time: 0.1349 (0.1349)  evaluator_time: 0.0179 (0.0179)  time: 0.6632  data: 0.4953  max mem: 576\n",
      "Test:  [38/39]  eta: 0:00:00  model_time: 0.1330 (0.1349)  evaluator_time: 0.0318 (0.0421)  time: 0.1801  data: 0.0033  max mem: 576\n",
      "Test: Total time: 0:00:07 (0.1992 s / it)\n"
     ]
    },
    {
     "name": "stdout",
     "output_type": "stream",
     "text": [
      "Averaged stats: model_time: 0.1330 (0.1349)  evaluator_time: 0.0318 (0.0421)\n",
      "Accumulating evaluation results...\n",
      "DONE (t=0.13s).\n",
      "IoU metric: bbox\n",
      " Average Precision  (AP) @[ IoU=0.50:0.95 | area=   all | maxDets=100 ] = 0.061\n",
      " Average Precision  (AP) @[ IoU=0.50      | area=   all | maxDets=100 ] = 0.230\n",
      " Average Precision  (AP) @[ IoU=0.75      | area=   all | maxDets=100 ] = 0.013\n",
      " Average Precision  (AP) @[ IoU=0.50:0.95 | area= small | maxDets=100 ] = 0.057\n",
      " Average Precision  (AP) @[ IoU=0.50:0.95 | area=medium | maxDets=100 ] = 0.083\n",
      " Average Precision  (AP) @[ IoU=0.50:0.95 | area= large | maxDets=100 ] = 0.100\n",
      " Average Recall     (AR) @[ IoU=0.50:0.95 | area=   all | maxDets=  1 ] = 0.044\n",
      " Average Recall     (AR) @[ IoU=0.50:0.95 | area=   all | maxDets= 10 ] = 0.157\n",
      " Average Recall     (AR) @[ IoU=0.50:0.95 | area=   all | maxDets=100 ] = 0.251\n",
      " Average Recall     (AR) @[ IoU=0.50:0.95 | area= small | maxDets=100 ] = 0.225\n",
      " Average Recall     (AR) @[ IoU=0.50:0.95 | area=medium | maxDets=100 ] = 0.329\n",
      " Average Recall     (AR) @[ IoU=0.50:0.95 | area= large | maxDets=100 ] = 0.442\n",
      "0.061494139839776384 0.22952510522160333\n",
      "SAVING PLOTS COMPLETE...\n",
      "SAVING PLOTS COMPLETE...\n",
      "SAVING PLOTS COMPLETE...\n",
      "SAVING PLOTS COMPLETE...\n",
      "SAVING PLOTS COMPLETE...\n",
      "SAVING PLOTS COMPLETE...\n"
     ]
    },
    {
     "name": "stderr",
     "output_type": "stream",
     "text": [
      "Epoch: [9]  [  0/180]  eta: 0:02:13  lr: 0.000980  loss: 0.6909 (0.6909)  loss_classifier: 0.1370 (0.1370)  loss_box_reg: 0.1577 (0.1577)  loss_objectness: 0.2585 (0.2585)  loss_rpn_box_reg: 0.1376 (0.1376)  time: 0.7419  data: 0.5025  max mem: 576\n",
      "Epoch: [9]  [100/180]  eta: 0:00:18  lr: 0.000978  loss: 0.6304 (0.6124)  loss_classifier: 0.1327 (0.1326)  loss_box_reg: 0.1986 (0.1856)  loss_objectness: 0.1813 (0.1835)  loss_rpn_box_reg: 0.1204 (0.1108)  time: 0.2179  data: 0.0038  max mem: 576\n",
      "Epoch: [9]  [179/180]  eta: 0:00:00  lr: 0.000976  loss: 0.6033 (0.6049)  loss_classifier: 0.1353 (0.1319)  loss_box_reg: 0.1771 (0.1831)  loss_objectness: 0.1769 (0.1820)  loss_rpn_box_reg: 0.1008 (0.1079)  time: 0.2196  data: 0.0038  max mem: 576\n",
      "Epoch: [9] Total time: 0:00:40 (0.2246 s / it)\n"
     ]
    },
    {
     "name": "stdout",
     "output_type": "stream",
     "text": [
      "creating index...\n",
      "index created!\n"
     ]
    },
    {
     "name": "stderr",
     "output_type": "stream",
     "text": [
      "Test:  [ 0/39]  eta: 0:00:22  model_time: 0.1344 (0.1344)  evaluator_time: 0.0250 (0.0250)  time: 0.5826  data: 0.4068  max mem: 576\n",
      "Test:  [38/39]  eta: 0:00:00  model_time: 0.1321 (0.1313)  evaluator_time: 0.0366 (0.0491)  time: 0.1859  data: 0.0034  max mem: 576\n",
      "Test: Total time: 0:00:07 (0.2001 s / it)\n"
     ]
    },
    {
     "name": "stdout",
     "output_type": "stream",
     "text": [
      "Averaged stats: model_time: 0.1321 (0.1313)  evaluator_time: 0.0366 (0.0491)\n",
      "Accumulating evaluation results...\n",
      "DONE (t=0.15s).\n",
      "IoU metric: bbox\n",
      " Average Precision  (AP) @[ IoU=0.50:0.95 | area=   all | maxDets=100 ] = 0.075\n",
      " Average Precision  (AP) @[ IoU=0.50      | area=   all | maxDets=100 ] = 0.257\n",
      " Average Precision  (AP) @[ IoU=0.75      | area=   all | maxDets=100 ] = 0.016\n",
      " Average Precision  (AP) @[ IoU=0.50:0.95 | area= small | maxDets=100 ] = 0.071\n",
      " Average Precision  (AP) @[ IoU=0.50:0.95 | area=medium | maxDets=100 ] = 0.097\n",
      " Average Precision  (AP) @[ IoU=0.50:0.95 | area= large | maxDets=100 ] = 0.083\n",
      " Average Recall     (AR) @[ IoU=0.50:0.95 | area=   all | maxDets=  1 ] = 0.043\n",
      " Average Recall     (AR) @[ IoU=0.50:0.95 | area=   all | maxDets= 10 ] = 0.165\n",
      " Average Recall     (AR) @[ IoU=0.50:0.95 | area=   all | maxDets=100 ] = 0.279\n",
      " Average Recall     (AR) @[ IoU=0.50:0.95 | area= small | maxDets=100 ] = 0.258\n",
      " Average Recall     (AR) @[ IoU=0.50:0.95 | area=medium | maxDets=100 ] = 0.339\n",
      " Average Recall     (AR) @[ IoU=0.50:0.95 | area= large | maxDets=100 ] = 0.453\n",
      "0.07499019954280377 0.25677106083525686\n",
      "SAVING PLOTS COMPLETE...\n",
      "SAVING PLOTS COMPLETE...\n",
      "SAVING PLOTS COMPLETE...\n",
      "SAVING PLOTS COMPLETE...\n",
      "SAVING PLOTS COMPLETE...\n",
      "SAVING PLOTS COMPLETE...\n"
     ]
    },
    {
     "name": "stderr",
     "output_type": "stream",
     "text": [
      "Epoch: [10]  [  0/180]  eta: 0:01:56  lr: 0.000976  loss: 0.6053 (0.6053)  loss_classifier: 0.1069 (0.1069)  loss_box_reg: 0.1515 (0.1515)  loss_objectness: 0.1881 (0.1881)  loss_rpn_box_reg: 0.1587 (0.1587)  time: 0.6480  data: 0.4095  max mem: 576\n",
      "Epoch: [10]  [100/180]  eta: 0:00:18  lr: 0.000973  loss: 0.5803 (0.6026)  loss_classifier: 0.1264 (0.1303)  loss_box_reg: 0.1757 (0.1844)  loss_objectness: 0.1739 (0.1816)  loss_rpn_box_reg: 0.1042 (0.1062)  time: 0.2241  data: 0.0036  max mem: 576\n",
      "Epoch: [10]  [179/180]  eta: 0:00:00  lr: 0.000970  loss: 0.5580 (0.5991)  loss_classifier: 0.1179 (0.1302)  loss_box_reg: 0.1742 (0.1841)  loss_objectness: 0.1664 (0.1784)  loss_rpn_box_reg: 0.0906 (0.1065)  time: 0.2236  data: 0.0038  max mem: 576\n",
      "Epoch: [10] Total time: 0:00:40 (0.2250 s / it)\n"
     ]
    },
    {
     "name": "stdout",
     "output_type": "stream",
     "text": [
      "creating index...\n",
      "index created!\n"
     ]
    },
    {
     "name": "stderr",
     "output_type": "stream",
     "text": [
      "Test:  [ 0/39]  eta: 0:00:22  model_time: 0.1338 (0.1338)  evaluator_time: 0.0224 (0.0224)  time: 0.5867  data: 0.4137  max mem: 576\n",
      "Test:  [38/39]  eta: 0:00:00  model_time: 0.1319 (0.1336)  evaluator_time: 0.0327 (0.0442)  time: 0.1869  data: 0.0033  max mem: 576\n",
      "Test: Total time: 0:00:07 (0.1980 s / it)\n"
     ]
    },
    {
     "name": "stdout",
     "output_type": "stream",
     "text": [
      "Averaged stats: model_time: 0.1319 (0.1336)  evaluator_time: 0.0327 (0.0442)\n",
      "Accumulating evaluation results...\n",
      "DONE (t=0.13s).\n",
      "IoU metric: bbox\n",
      " Average Precision  (AP) @[ IoU=0.50:0.95 | area=   all | maxDets=100 ] = 0.068\n",
      " Average Precision  (AP) @[ IoU=0.50      | area=   all | maxDets=100 ] = 0.246\n",
      " Average Precision  (AP) @[ IoU=0.75      | area=   all | maxDets=100 ] = 0.015\n",
      " Average Precision  (AP) @[ IoU=0.50:0.95 | area= small | maxDets=100 ] = 0.064\n",
      " Average Precision  (AP) @[ IoU=0.50:0.95 | area=medium | maxDets=100 ] = 0.088\n",
      " Average Precision  (AP) @[ IoU=0.50:0.95 | area= large | maxDets=100 ] = 0.091\n",
      " Average Recall     (AR) @[ IoU=0.50:0.95 | area=   all | maxDets=  1 ] = 0.042\n",
      " Average Recall     (AR) @[ IoU=0.50:0.95 | area=   all | maxDets= 10 ] = 0.162\n",
      " Average Recall     (AR) @[ IoU=0.50:0.95 | area=   all | maxDets=100 ] = 0.263\n",
      " Average Recall     (AR) @[ IoU=0.50:0.95 | area= small | maxDets=100 ] = 0.239\n",
      " Average Recall     (AR) @[ IoU=0.50:0.95 | area=medium | maxDets=100 ] = 0.332\n",
      " Average Recall     (AR) @[ IoU=0.50:0.95 | area= large | maxDets=100 ] = 0.463\n",
      "0.06786398024581664 0.24590665357356223\n",
      "SAVING PLOTS COMPLETE...\n",
      "SAVING PLOTS COMPLETE...\n",
      "SAVING PLOTS COMPLETE...\n",
      "SAVING PLOTS COMPLETE...\n",
      "SAVING PLOTS COMPLETE...\n",
      "SAVING PLOTS COMPLETE...\n"
     ]
    },
    {
     "name": "stderr",
     "output_type": "stream",
     "text": [
      "Epoch: [11]  [  0/180]  eta: 0:02:23  lr: 0.000970  loss: 0.4888 (0.4888)  loss_classifier: 0.1200 (0.1200)  loss_box_reg: 0.1677 (0.1677)  loss_objectness: 0.1507 (0.1507)  loss_rpn_box_reg: 0.0504 (0.0504)  time: 0.7945  data: 0.5540  max mem: 576\n",
      "Epoch: [11]  [100/180]  eta: 0:00:18  lr: 0.000967  loss: 0.6069 (0.5896)  loss_classifier: 0.1311 (0.1286)  loss_box_reg: 0.1858 (0.1833)  loss_objectness: 0.1752 (0.1746)  loss_rpn_box_reg: 0.1003 (0.1031)  time: 0.2237  data: 0.0040  max mem: 576\n",
      "Epoch: [11]  [179/180]  eta: 0:00:00  lr: 0.000965  loss: 0.5185 (0.5939)  loss_classifier: 0.1124 (0.1291)  loss_box_reg: 0.1576 (0.1836)  loss_objectness: 0.1590 (0.1753)  loss_rpn_box_reg: 0.0858 (0.1059)  time: 0.2215  data: 0.0038  max mem: 576\n",
      "Epoch: [11] Total time: 0:00:40 (0.2260 s / it)\n"
     ]
    },
    {
     "name": "stdout",
     "output_type": "stream",
     "text": [
      "creating index...\n",
      "index created!\n"
     ]
    },
    {
     "name": "stderr",
     "output_type": "stream",
     "text": [
      "Test:  [ 0/39]  eta: 0:00:22  model_time: 0.1357 (0.1357)  evaluator_time: 0.0201 (0.0201)  time: 0.5709  data: 0.3990  max mem: 576\n",
      "Test:  [38/39]  eta: 0:00:00  model_time: 0.1315 (0.1302)  evaluator_time: 0.0344 (0.0510)  time: 0.1829  data: 0.0033  max mem: 576\n",
      "Test: Total time: 0:00:07 (0.2012 s / it)\n"
     ]
    },
    {
     "name": "stdout",
     "output_type": "stream",
     "text": [
      "Averaged stats: model_time: 0.1315 (0.1302)  evaluator_time: 0.0344 (0.0510)\n",
      "Accumulating evaluation results...\n",
      "DONE (t=0.13s).\n",
      "IoU metric: bbox\n",
      " Average Precision  (AP) @[ IoU=0.50:0.95 | area=   all | maxDets=100 ] = 0.083\n",
      " Average Precision  (AP) @[ IoU=0.50      | area=   all | maxDets=100 ] = 0.280\n",
      " Average Precision  (AP) @[ IoU=0.75      | area=   all | maxDets=100 ] = 0.020\n",
      " Average Precision  (AP) @[ IoU=0.50:0.95 | area= small | maxDets=100 ] = 0.078\n",
      " Average Precision  (AP) @[ IoU=0.50:0.95 | area=medium | maxDets=100 ] = 0.104\n",
      " Average Precision  (AP) @[ IoU=0.50:0.95 | area= large | maxDets=100 ] = 0.112\n",
      " Average Recall     (AR) @[ IoU=0.50:0.95 | area=   all | maxDets=  1 ] = 0.047\n",
      " Average Recall     (AR) @[ IoU=0.50:0.95 | area=   all | maxDets= 10 ] = 0.176\n",
      " Average Recall     (AR) @[ IoU=0.50:0.95 | area=   all | maxDets=100 ] = 0.289\n",
      " Average Recall     (AR) @[ IoU=0.50:0.95 | area= small | maxDets=100 ] = 0.265\n",
      " Average Recall     (AR) @[ IoU=0.50:0.95 | area=medium | maxDets=100 ] = 0.361\n",
      " Average Recall     (AR) @[ IoU=0.50:0.95 | area= large | maxDets=100 ] = 0.421\n",
      "0.0827703735234302 0.2800306881661987\n",
      "SAVING PLOTS COMPLETE...\n",
      "SAVING PLOTS COMPLETE...\n",
      "SAVING PLOTS COMPLETE...\n",
      "SAVING PLOTS COMPLETE...\n",
      "SAVING PLOTS COMPLETE...\n",
      "SAVING PLOTS COMPLETE...\n"
     ]
    },
    {
     "name": "stderr",
     "output_type": "stream",
     "text": [
      "Epoch: [12]  [  0/180]  eta: 0:01:56  lr: 0.000965  loss: 0.5660 (0.5660)  loss_classifier: 0.1104 (0.1104)  loss_box_reg: 0.1711 (0.1711)  loss_objectness: 0.1698 (0.1698)  loss_rpn_box_reg: 0.1147 (0.1147)  time: 0.6478  data: 0.4073  max mem: 576\n",
      "Epoch: [12]  [100/180]  eta: 0:00:18  lr: 0.000962  loss: 0.5457 (0.6097)  loss_classifier: 0.1134 (0.1316)  loss_box_reg: 0.1663 (0.1893)  loss_objectness: 0.1681 (0.1797)  loss_rpn_box_reg: 0.0999 (0.1091)  time: 0.2238  data: 0.0039  max mem: 576\n",
      "Epoch: [12]  [179/180]  eta: 0:00:00  lr: 0.000959  loss: 0.5400 (0.5900)  loss_classifier: 0.1246 (0.1282)  loss_box_reg: 0.1823 (0.1846)  loss_objectness: 0.1699 (0.1729)  loss_rpn_box_reg: 0.1023 (0.1043)  time: 0.2236  data: 0.0038  max mem: 576\n",
      "Epoch: [12] Total time: 0:00:40 (0.2256 s / it)\n"
     ]
    },
    {
     "name": "stdout",
     "output_type": "stream",
     "text": [
      "creating index...\n",
      "index created!\n"
     ]
    },
    {
     "name": "stderr",
     "output_type": "stream",
     "text": [
      "Test:  [ 0/39]  eta: 0:00:22  model_time: 0.1383 (0.1383)  evaluator_time: 0.0215 (0.0215)  time: 0.5741  data: 0.3974  max mem: 576\n",
      "Test:  [38/39]  eta: 0:00:00  model_time: 0.1294 (0.1311)  evaluator_time: 0.0339 (0.0464)  time: 0.1824  data: 0.0033  max mem: 576\n",
      "Test: Total time: 0:00:07 (0.1972 s / it)\n"
     ]
    },
    {
     "name": "stdout",
     "output_type": "stream",
     "text": [
      "Averaged stats: model_time: 0.1294 (0.1311)  evaluator_time: 0.0339 (0.0464)\n",
      "Accumulating evaluation results...\n",
      "DONE (t=0.13s).\n",
      "IoU metric: bbox\n",
      " Average Precision  (AP) @[ IoU=0.50:0.95 | area=   all | maxDets=100 ] = 0.086\n",
      " Average Precision  (AP) @[ IoU=0.50      | area=   all | maxDets=100 ] = 0.289\n",
      " Average Precision  (AP) @[ IoU=0.75      | area=   all | maxDets=100 ] = 0.020\n",
      " Average Precision  (AP) @[ IoU=0.50:0.95 | area= small | maxDets=100 ] = 0.080\n",
      " Average Precision  (AP) @[ IoU=0.50:0.95 | area=medium | maxDets=100 ] = 0.115\n",
      " Average Precision  (AP) @[ IoU=0.50:0.95 | area= large | maxDets=100 ] = 0.101\n",
      " Average Recall     (AR) @[ IoU=0.50:0.95 | area=   all | maxDets=  1 ] = 0.048\n",
      " Average Recall     (AR) @[ IoU=0.50:0.95 | area=   all | maxDets= 10 ] = 0.181\n",
      " Average Recall     (AR) @[ IoU=0.50:0.95 | area=   all | maxDets=100 ] = 0.286\n",
      " Average Recall     (AR) @[ IoU=0.50:0.95 | area= small | maxDets=100 ] = 0.263\n",
      " Average Recall     (AR) @[ IoU=0.50:0.95 | area=medium | maxDets=100 ] = 0.350\n",
      " Average Recall     (AR) @[ IoU=0.50:0.95 | area= large | maxDets=100 ] = 0.479\n",
      "0.0855763091158447 0.2889593412171836\n",
      "SAVING PLOTS COMPLETE...\n",
      "SAVING PLOTS COMPLETE...\n",
      "SAVING PLOTS COMPLETE...\n",
      "SAVING PLOTS COMPLETE...\n",
      "SAVING PLOTS COMPLETE...\n",
      "SAVING PLOTS COMPLETE...\n"
     ]
    },
    {
     "name": "stderr",
     "output_type": "stream",
     "text": [
      "Epoch: [13]  [  0/180]  eta: 0:01:58  lr: 0.000959  loss: 0.6625 (0.6625)  loss_classifier: 0.1494 (0.1494)  loss_box_reg: 0.1988 (0.1988)  loss_objectness: 0.1865 (0.1865)  loss_rpn_box_reg: 0.1278 (0.1278)  time: 0.6561  data: 0.4154  max mem: 576\n",
      "Epoch: [13]  [100/180]  eta: 0:00:18  lr: 0.000955  loss: 0.5921 (0.6070)  loss_classifier: 0.1304 (0.1319)  loss_box_reg: 0.1790 (0.1911)  loss_objectness: 0.1613 (0.1764)  loss_rpn_box_reg: 0.0974 (0.1076)  time: 0.2206  data: 0.0038  max mem: 576\n",
      "Epoch: [13]  [179/180]  eta: 0:00:00  lr: 0.000952  loss: 0.5691 (0.5899)  loss_classifier: 0.1199 (0.1279)  loss_box_reg: 0.1812 (0.1866)  loss_objectness: 0.1539 (0.1716)  loss_rpn_box_reg: 0.0852 (0.1038)  time: 0.2229  data: 0.0038  max mem: 576\n",
      "Epoch: [13] Total time: 0:00:40 (0.2263 s / it)\n"
     ]
    },
    {
     "name": "stdout",
     "output_type": "stream",
     "text": [
      "creating index...\n",
      "index created!\n"
     ]
    },
    {
     "name": "stderr",
     "output_type": "stream",
     "text": [
      "Test:  [ 0/39]  eta: 0:00:24  model_time: 0.1339 (0.1339)  evaluator_time: 0.0194 (0.0194)  time: 0.6261  data: 0.4572  max mem: 576\n",
      "Test:  [38/39]  eta: 0:00:00  model_time: 0.1310 (0.1318)  evaluator_time: 0.0306 (0.0486)  time: 0.1801  data: 0.0033  max mem: 576\n",
      "Test: Total time: 0:00:07 (0.2018 s / it)\n"
     ]
    },
    {
     "name": "stdout",
     "output_type": "stream",
     "text": [
      "Averaged stats: model_time: 0.1310 (0.1318)  evaluator_time: 0.0306 (0.0486)\n",
      "Accumulating evaluation results...\n",
      "DONE (t=0.12s).\n",
      "IoU metric: bbox\n",
      " Average Precision  (AP) @[ IoU=0.50:0.95 | area=   all | maxDets=100 ] = 0.089\n",
      " Average Precision  (AP) @[ IoU=0.50      | area=   all | maxDets=100 ] = 0.287\n",
      " Average Precision  (AP) @[ IoU=0.75      | area=   all | maxDets=100 ] = 0.030\n",
      " Average Precision  (AP) @[ IoU=0.50:0.95 | area= small | maxDets=100 ] = 0.081\n",
      " Average Precision  (AP) @[ IoU=0.50:0.95 | area=medium | maxDets=100 ] = 0.124\n",
      " Average Precision  (AP) @[ IoU=0.50:0.95 | area= large | maxDets=100 ] = 0.108\n",
      " Average Recall     (AR) @[ IoU=0.50:0.95 | area=   all | maxDets=  1 ] = 0.046\n",
      " Average Recall     (AR) @[ IoU=0.50:0.95 | area=   all | maxDets= 10 ] = 0.185\n",
      " Average Recall     (AR) @[ IoU=0.50:0.95 | area=   all | maxDets=100 ] = 0.290\n",
      " Average Recall     (AR) @[ IoU=0.50:0.95 | area= small | maxDets=100 ] = 0.262\n",
      " Average Recall     (AR) @[ IoU=0.50:0.95 | area=medium | maxDets=100 ] = 0.373\n",
      " Average Recall     (AR) @[ IoU=0.50:0.95 | area= large | maxDets=100 ] = 0.495\n",
      "0.08885877795129955 0.2869613323698249\n",
      "SAVING PLOTS COMPLETE...\n",
      "SAVING PLOTS COMPLETE...\n",
      "SAVING PLOTS COMPLETE...\n",
      "SAVING PLOTS COMPLETE...\n",
      "SAVING PLOTS COMPLETE...\n",
      "SAVING PLOTS COMPLETE...\n"
     ]
    },
    {
     "name": "stderr",
     "output_type": "stream",
     "text": [
      "Epoch: [14]  [  0/180]  eta: 0:02:13  lr: 0.000952  loss: 0.5188 (0.5188)  loss_classifier: 0.1124 (0.1124)  loss_box_reg: 0.1769 (0.1769)  loss_objectness: 0.1436 (0.1436)  loss_rpn_box_reg: 0.0859 (0.0859)  time: 0.7407  data: 0.5011  max mem: 576\n",
      "Epoch: [14]  [100/180]  eta: 0:00:18  lr: 0.000949  loss: 0.5905 (0.5920)  loss_classifier: 0.1344 (0.1290)  loss_box_reg: 0.1961 (0.1876)  loss_objectness: 0.1569 (0.1710)  loss_rpn_box_reg: 0.0923 (0.1044)  time: 0.2281  data: 0.0040  max mem: 576\n",
      "Epoch: [14]  [179/180]  eta: 0:00:00  lr: 0.000946  loss: 0.5308 (0.5813)  loss_classifier: 0.1112 (0.1260)  loss_box_reg: 0.1616 (0.1848)  loss_objectness: 0.1473 (0.1678)  loss_rpn_box_reg: 0.0942 (0.1028)  time: 0.2203  data: 0.0037  max mem: 576\n",
      "Epoch: [14] Total time: 0:00:41 (0.2281 s / it)\n"
     ]
    },
    {
     "name": "stdout",
     "output_type": "stream",
     "text": [
      "creating index...\n",
      "index created!\n"
     ]
    },
    {
     "name": "stderr",
     "output_type": "stream",
     "text": [
      "Test:  [ 0/39]  eta: 0:00:24  model_time: 0.1345 (0.1345)  evaluator_time: 0.0169 (0.0169)  time: 0.6287  data: 0.4613  max mem: 576\n",
      "Test:  [38/39]  eta: 0:00:00  model_time: 0.1328 (0.1390)  evaluator_time: 0.0290 (0.0402)  time: 0.1781  data: 0.0033  max mem: 576\n",
      "Test: Total time: 0:00:07 (0.2004 s / it)\n"
     ]
    },
    {
     "name": "stdout",
     "output_type": "stream",
     "text": [
      "Averaged stats: model_time: 0.1328 (0.1390)  evaluator_time: 0.0290 (0.0402)\n",
      "Accumulating evaluation results...\n",
      "DONE (t=0.12s).\n",
      "IoU metric: bbox\n",
      " Average Precision  (AP) @[ IoU=0.50:0.95 | area=   all | maxDets=100 ] = 0.089\n",
      " Average Precision  (AP) @[ IoU=0.50      | area=   all | maxDets=100 ] = 0.294\n",
      " Average Precision  (AP) @[ IoU=0.75      | area=   all | maxDets=100 ] = 0.029\n",
      " Average Precision  (AP) @[ IoU=0.50:0.95 | area= small | maxDets=100 ] = 0.081\n",
      " Average Precision  (AP) @[ IoU=0.50:0.95 | area=medium | maxDets=100 ] = 0.118\n",
      " Average Precision  (AP) @[ IoU=0.50:0.95 | area= large | maxDets=100 ] = 0.151\n",
      " Average Recall     (AR) @[ IoU=0.50:0.95 | area=   all | maxDets=  1 ] = 0.046\n",
      " Average Recall     (AR) @[ IoU=0.50:0.95 | area=   all | maxDets= 10 ] = 0.185\n",
      " Average Recall     (AR) @[ IoU=0.50:0.95 | area=   all | maxDets=100 ] = 0.288\n",
      " Average Recall     (AR) @[ IoU=0.50:0.95 | area= small | maxDets=100 ] = 0.264\n",
      " Average Recall     (AR) @[ IoU=0.50:0.95 | area=medium | maxDets=100 ] = 0.351\n",
      " Average Recall     (AR) @[ IoU=0.50:0.95 | area= large | maxDets=100 ] = 0.526\n",
      "0.08938177538015597 0.29393516620636007\n",
      "SAVING PLOTS COMPLETE...\n",
      "SAVING PLOTS COMPLETE...\n",
      "SAVING PLOTS COMPLETE...\n",
      "SAVING PLOTS COMPLETE...\n",
      "SAVING PLOTS COMPLETE...\n",
      "SAVING PLOTS COMPLETE...\n"
     ]
    },
    {
     "name": "stderr",
     "output_type": "stream",
     "text": [
      "Epoch: [15]  [  0/180]  eta: 0:02:02  lr: 0.000946  loss: 0.6986 (0.6986)  loss_classifier: 0.1419 (0.1419)  loss_box_reg: 0.2292 (0.2292)  loss_objectness: 0.1888 (0.1888)  loss_rpn_box_reg: 0.1387 (0.1387)  time: 0.6794  data: 0.4505  max mem: 576\n",
      "Epoch: [15]  [100/180]  eta: 0:00:18  lr: 0.000941  loss: 0.5999 (0.5653)  loss_classifier: 0.1323 (0.1234)  loss_box_reg: 0.1932 (0.1823)  loss_objectness: 0.1665 (0.1606)  loss_rpn_box_reg: 0.1046 (0.0990)  time: 0.2207  data: 0.0038  max mem: 576\n",
      "Epoch: [15]  [179/180]  eta: 0:00:00  lr: 0.000938  loss: 0.6227 (0.5790)  loss_classifier: 0.1348 (0.1260)  loss_box_reg: 0.2133 (0.1857)  loss_objectness: 0.1741 (0.1655)  loss_rpn_box_reg: 0.1133 (0.1019)  time: 0.2240  data: 0.0037  max mem: 576\n",
      "Epoch: [15] Total time: 0:00:40 (0.2256 s / it)\n"
     ]
    },
    {
     "name": "stdout",
     "output_type": "stream",
     "text": [
      "creating index...\n",
      "index created!\n"
     ]
    },
    {
     "name": "stderr",
     "output_type": "stream",
     "text": [
      "Test:  [ 0/39]  eta: 0:00:26  model_time: 0.1349 (0.1349)  evaluator_time: 0.0183 (0.0183)  time: 0.6820  data: 0.5127  max mem: 576\n",
      "Test:  [38/39]  eta: 0:00:00  model_time: 0.1294 (0.1306)  evaluator_time: 0.0306 (0.0423)  time: 0.1791  data: 0.0033  max mem: 576\n",
      "Test: Total time: 0:00:07 (0.1955 s / it)\n"
     ]
    },
    {
     "name": "stdout",
     "output_type": "stream",
     "text": [
      "Averaged stats: model_time: 0.1294 (0.1306)  evaluator_time: 0.0306 (0.0423)\n",
      "Accumulating evaluation results...\n",
      "DONE (t=0.12s).\n",
      "IoU metric: bbox\n",
      " Average Precision  (AP) @[ IoU=0.50:0.95 | area=   all | maxDets=100 ] = 0.093\n",
      " Average Precision  (AP) @[ IoU=0.50      | area=   all | maxDets=100 ] = 0.298\n",
      " Average Precision  (AP) @[ IoU=0.75      | area=   all | maxDets=100 ] = 0.027\n",
      " Average Precision  (AP) @[ IoU=0.50:0.95 | area= small | maxDets=100 ] = 0.087\n",
      " Average Precision  (AP) @[ IoU=0.50:0.95 | area=medium | maxDets=100 ] = 0.118\n",
      " Average Precision  (AP) @[ IoU=0.50:0.95 | area= large | maxDets=100 ] = 0.122\n",
      " Average Recall     (AR) @[ IoU=0.50:0.95 | area=   all | maxDets=  1 ] = 0.050\n",
      " Average Recall     (AR) @[ IoU=0.50:0.95 | area=   all | maxDets= 10 ] = 0.194\n",
      " Average Recall     (AR) @[ IoU=0.50:0.95 | area=   all | maxDets=100 ] = 0.294\n",
      " Average Recall     (AR) @[ IoU=0.50:0.95 | area= small | maxDets=100 ] = 0.269\n",
      " Average Recall     (AR) @[ IoU=0.50:0.95 | area=medium | maxDets=100 ] = 0.367\n",
      " Average Recall     (AR) @[ IoU=0.50:0.95 | area= large | maxDets=100 ] = 0.479\n",
      "0.0934093617575099 0.2975494889792361\n",
      "SAVING PLOTS COMPLETE...\n",
      "SAVING PLOTS COMPLETE...\n",
      "SAVING PLOTS COMPLETE...\n",
      "SAVING PLOTS COMPLETE...\n",
      "SAVING PLOTS COMPLETE...\n",
      "SAVING PLOTS COMPLETE...\n"
     ]
    },
    {
     "name": "stderr",
     "output_type": "stream",
     "text": [
      "Epoch: [16]  [  0/180]  eta: 0:01:55  lr: 0.000938  loss: 0.4039 (0.4039)  loss_classifier: 0.0831 (0.0831)  loss_box_reg: 0.1261 (0.1261)  loss_objectness: 0.1119 (0.1119)  loss_rpn_box_reg: 0.0829 (0.0829)  time: 0.6432  data: 0.4009  max mem: 576\n",
      "Epoch: [16]  [100/180]  eta: 0:00:18  lr: 0.000934  loss: 0.5630 (0.5840)  loss_classifier: 0.1232 (0.1288)  loss_box_reg: 0.1772 (0.1904)  loss_objectness: 0.1516 (0.1632)  loss_rpn_box_reg: 0.0893 (0.1017)  time: 0.2155  data: 0.0038  max mem: 576\n",
      "Epoch: [16]  [179/180]  eta: 0:00:00  lr: 0.000930  loss: 0.5250 (0.5741)  loss_classifier: 0.1173 (0.1257)  loss_box_reg: 0.1793 (0.1866)  loss_objectness: 0.1517 (0.1614)  loss_rpn_box_reg: 0.0945 (0.1004)  time: 0.2231  data: 0.0035  max mem: 576\n",
      "Epoch: [16] Total time: 0:00:40 (0.2266 s / it)\n"
     ]
    },
    {
     "name": "stdout",
     "output_type": "stream",
     "text": [
      "creating index...\n",
      "index created!\n"
     ]
    },
    {
     "name": "stderr",
     "output_type": "stream",
     "text": [
      "Test:  [ 0/39]  eta: 0:00:24  model_time: 0.1363 (0.1363)  evaluator_time: 0.0171 (0.0171)  time: 0.6209  data: 0.4514  max mem: 576\n",
      "Test:  [38/39]  eta: 0:00:00  model_time: 0.1287 (0.1400)  evaluator_time: 0.0280 (0.0390)  time: 0.1945  data: 0.0033  max mem: 576\n",
      "Test: Total time: 0:00:07 (0.2001 s / it)\n"
     ]
    },
    {
     "name": "stdout",
     "output_type": "stream",
     "text": [
      "Averaged stats: model_time: 0.1287 (0.1400)  evaluator_time: 0.0280 (0.0390)\n",
      "Accumulating evaluation results...\n",
      "DONE (t=0.12s).\n",
      "IoU metric: bbox\n",
      " Average Precision  (AP) @[ IoU=0.50:0.95 | area=   all | maxDets=100 ] = 0.098\n",
      " Average Precision  (AP) @[ IoU=0.50      | area=   all | maxDets=100 ] = 0.298\n",
      " Average Precision  (AP) @[ IoU=0.75      | area=   all | maxDets=100 ] = 0.035\n",
      " Average Precision  (AP) @[ IoU=0.50:0.95 | area= small | maxDets=100 ] = 0.089\n",
      " Average Precision  (AP) @[ IoU=0.50:0.95 | area=medium | maxDets=100 ] = 0.129\n",
      " Average Precision  (AP) @[ IoU=0.50:0.95 | area= large | maxDets=100 ] = 0.151\n",
      " Average Recall     (AR) @[ IoU=0.50:0.95 | area=   all | maxDets=  1 ] = 0.053\n",
      " Average Recall     (AR) @[ IoU=0.50:0.95 | area=   all | maxDets= 10 ] = 0.193\n",
      " Average Recall     (AR) @[ IoU=0.50:0.95 | area=   all | maxDets=100 ] = 0.296\n",
      " Average Recall     (AR) @[ IoU=0.50:0.95 | area= small | maxDets=100 ] = 0.268\n",
      " Average Recall     (AR) @[ IoU=0.50:0.95 | area=medium | maxDets=100 ] = 0.376\n",
      " Average Recall     (AR) @[ IoU=0.50:0.95 | area= large | maxDets=100 ] = 0.511\n",
      "0.09819181382077452 0.2980487709556183\n",
      "SAVING PLOTS COMPLETE...\n",
      "SAVING PLOTS COMPLETE...\n",
      "SAVING PLOTS COMPLETE...\n",
      "SAVING PLOTS COMPLETE...\n",
      "SAVING PLOTS COMPLETE...\n",
      "SAVING PLOTS COMPLETE...\n"
     ]
    },
    {
     "name": "stderr",
     "output_type": "stream",
     "text": [
      "Epoch: [17]  [  0/180]  eta: 0:02:16  lr: 0.000930  loss: 0.4023 (0.4023)  loss_classifier: 0.0957 (0.0957)  loss_box_reg: 0.1373 (0.1373)  loss_objectness: 0.1194 (0.1194)  loss_rpn_box_reg: 0.0499 (0.0499)  time: 0.7573  data: 0.5173  max mem: 576\n",
      "Epoch: [17]  [100/180]  eta: 0:00:18  lr: 0.000926  loss: 0.5460 (0.5699)  loss_classifier: 0.1104 (0.1233)  loss_box_reg: 0.1750 (0.1850)  loss_objectness: 0.1591 (0.1608)  loss_rpn_box_reg: 0.0879 (0.1008)  time: 0.2239  data: 0.0036  max mem: 576\n",
      "Epoch: [17]  [179/180]  eta: 0:00:00  lr: 0.000922  loss: 0.6071 (0.5700)  loss_classifier: 0.1187 (0.1240)  loss_box_reg: 0.1849 (0.1860)  loss_objectness: 0.1656 (0.1599)  loss_rpn_box_reg: 0.1001 (0.1000)  time: 0.2211  data: 0.0037  max mem: 576\n",
      "Epoch: [17] Total time: 0:00:40 (0.2266 s / it)\n"
     ]
    },
    {
     "name": "stdout",
     "output_type": "stream",
     "text": [
      "creating index...\n",
      "index created!\n"
     ]
    },
    {
     "name": "stderr",
     "output_type": "stream",
     "text": [
      "Test:  [ 0/39]  eta: 0:00:25  model_time: 0.1313 (0.1313)  evaluator_time: 0.0175 (0.0175)  time: 0.6589  data: 0.4940  max mem: 576\n",
      "Test:  [38/39]  eta: 0:00:00  model_time: 0.1317 (0.1317)  evaluator_time: 0.0296 (0.0403)  time: 0.1793  data: 0.0033  max mem: 576\n",
      "Test: Total time: 0:00:07 (0.1939 s / it)\n"
     ]
    },
    {
     "name": "stdout",
     "output_type": "stream",
     "text": [
      "Averaged stats: model_time: 0.1317 (0.1317)  evaluator_time: 0.0296 (0.0403)\n",
      "Accumulating evaluation results...\n",
      "DONE (t=0.11s).\n",
      "IoU metric: bbox\n",
      " Average Precision  (AP) @[ IoU=0.50:0.95 | area=   all | maxDets=100 ] = 0.100\n",
      " Average Precision  (AP) @[ IoU=0.50      | area=   all | maxDets=100 ] = 0.311\n",
      " Average Precision  (AP) @[ IoU=0.75      | area=   all | maxDets=100 ] = 0.035\n",
      " Average Precision  (AP) @[ IoU=0.50:0.95 | area= small | maxDets=100 ] = 0.094\n",
      " Average Precision  (AP) @[ IoU=0.50:0.95 | area=medium | maxDets=100 ] = 0.123\n",
      " Average Precision  (AP) @[ IoU=0.50:0.95 | area= large | maxDets=100 ] = 0.138\n",
      " Average Recall     (AR) @[ IoU=0.50:0.95 | area=   all | maxDets=  1 ] = 0.054\n",
      " Average Recall     (AR) @[ IoU=0.50:0.95 | area=   all | maxDets= 10 ] = 0.195\n",
      " Average Recall     (AR) @[ IoU=0.50:0.95 | area=   all | maxDets=100 ] = 0.299\n",
      " Average Recall     (AR) @[ IoU=0.50:0.95 | area= small | maxDets=100 ] = 0.276\n",
      " Average Recall     (AR) @[ IoU=0.50:0.95 | area=medium | maxDets=100 ] = 0.366\n",
      " Average Recall     (AR) @[ IoU=0.50:0.95 | area= large | maxDets=100 ] = 0.484\n",
      "0.10042576504765727 0.3112273509680993\n",
      "SAVING PLOTS COMPLETE...\n",
      "SAVING PLOTS COMPLETE...\n",
      "SAVING PLOTS COMPLETE...\n",
      "SAVING PLOTS COMPLETE...\n",
      "SAVING PLOTS COMPLETE...\n",
      "SAVING PLOTS COMPLETE...\n"
     ]
    },
    {
     "name": "stderr",
     "output_type": "stream",
     "text": [
      "Epoch: [18]  [  0/180]  eta: 0:02:06  lr: 0.000922  loss: 0.3797 (0.3797)  loss_classifier: 0.0762 (0.0762)  loss_box_reg: 0.0929 (0.0929)  loss_objectness: 0.1108 (0.1108)  loss_rpn_box_reg: 0.0998 (0.0998)  time: 0.7045  data: 0.4571  max mem: 576\n",
      "Epoch: [18]  [100/180]  eta: 0:00:18  lr: 0.000917  loss: 0.5284 (0.5615)  loss_classifier: 0.1205 (0.1223)  loss_box_reg: 0.1889 (0.1856)  loss_objectness: 0.1335 (0.1546)  loss_rpn_box_reg: 0.0926 (0.0990)  time: 0.2250  data: 0.0037  max mem: 576\n",
      "Epoch: [18]  [179/180]  eta: 0:00:00  lr: 0.000914  loss: 0.5711 (0.5681)  loss_classifier: 0.1371 (0.1238)  loss_box_reg: 0.2061 (0.1872)  loss_objectness: 0.1550 (0.1580)  loss_rpn_box_reg: 0.0964 (0.0991)  time: 0.2207  data: 0.0036  max mem: 576\n",
      "Epoch: [18] Total time: 0:00:40 (0.2270 s / it)\n"
     ]
    },
    {
     "name": "stdout",
     "output_type": "stream",
     "text": [
      "creating index...\n",
      "index created!\n"
     ]
    },
    {
     "name": "stderr",
     "output_type": "stream",
     "text": [
      "Test:  [ 0/39]  eta: 0:00:24  model_time: 0.1321 (0.1321)  evaluator_time: 0.0181 (0.0181)  time: 0.6236  data: 0.4571  max mem: 576\n",
      "Test:  [38/39]  eta: 0:00:00  model_time: 0.1316 (0.1329)  evaluator_time: 0.0313 (0.0483)  time: 0.1789  data: 0.0033  max mem: 576\n",
      "Test: Total time: 0:00:07 (0.2027 s / it)\n"
     ]
    },
    {
     "name": "stdout",
     "output_type": "stream",
     "text": [
      "Averaged stats: model_time: 0.1316 (0.1329)  evaluator_time: 0.0313 (0.0483)\n",
      "Accumulating evaluation results...\n",
      "DONE (t=0.12s).\n",
      "IoU metric: bbox\n",
      " Average Precision  (AP) @[ IoU=0.50:0.95 | area=   all | maxDets=100 ] = 0.094\n",
      " Average Precision  (AP) @[ IoU=0.50      | area=   all | maxDets=100 ] = 0.305\n",
      " Average Precision  (AP) @[ IoU=0.75      | area=   all | maxDets=100 ] = 0.034\n",
      " Average Precision  (AP) @[ IoU=0.50:0.95 | area= small | maxDets=100 ] = 0.082\n",
      " Average Precision  (AP) @[ IoU=0.50:0.95 | area=medium | maxDets=100 ] = 0.134\n",
      " Average Precision  (AP) @[ IoU=0.50:0.95 | area= large | maxDets=100 ] = 0.144\n",
      " Average Recall     (AR) @[ IoU=0.50:0.95 | area=   all | maxDets=  1 ] = 0.050\n",
      " Average Recall     (AR) @[ IoU=0.50:0.95 | area=   all | maxDets= 10 ] = 0.186\n",
      " Average Recall     (AR) @[ IoU=0.50:0.95 | area=   all | maxDets=100 ] = 0.289\n",
      " Average Recall     (AR) @[ IoU=0.50:0.95 | area= small | maxDets=100 ] = 0.257\n",
      " Average Recall     (AR) @[ IoU=0.50:0.95 | area=medium | maxDets=100 ] = 0.384\n",
      " Average Recall     (AR) @[ IoU=0.50:0.95 | area= large | maxDets=100 ] = 0.484\n",
      "0.09394156858678164 0.30515013474745484\n",
      "SAVING PLOTS COMPLETE...\n",
      "SAVING PLOTS COMPLETE...\n",
      "SAVING PLOTS COMPLETE...\n",
      "SAVING PLOTS COMPLETE...\n",
      "SAVING PLOTS COMPLETE...\n",
      "SAVING PLOTS COMPLETE...\n"
     ]
    },
    {
     "name": "stderr",
     "output_type": "stream",
     "text": [
      "Epoch: [19]  [  0/180]  eta: 0:01:57  lr: 0.000914  loss: 0.6070 (0.6070)  loss_classifier: 0.1210 (0.1210)  loss_box_reg: 0.1667 (0.1667)  loss_objectness: 0.1834 (0.1834)  loss_rpn_box_reg: 0.1360 (0.1360)  time: 0.6518  data: 0.4113  max mem: 576\n",
      "Epoch: [19]  [100/180]  eta: 0:00:18  lr: 0.000909  loss: 0.5932 (0.5722)  loss_classifier: 0.1264 (0.1250)  loss_box_reg: 0.1869 (0.1890)  loss_objectness: 0.1652 (0.1589)  loss_rpn_box_reg: 0.0957 (0.0993)  time: 0.2234  data: 0.0038  max mem: 576\n",
      "Epoch: [19]  [179/180]  eta: 0:00:00  lr: 0.000905  loss: 0.5092 (0.5666)  loss_classifier: 0.1151 (0.1241)  loss_box_reg: 0.1690 (0.1878)  loss_objectness: 0.1406 (0.1566)  loss_rpn_box_reg: 0.0855 (0.0981)  time: 0.2206  data: 0.0037  max mem: 576\n",
      "Epoch: [19] Total time: 0:00:40 (0.2262 s / it)\n"
     ]
    },
    {
     "name": "stdout",
     "output_type": "stream",
     "text": [
      "creating index...\n",
      "index created!\n"
     ]
    },
    {
     "name": "stderr",
     "output_type": "stream",
     "text": [
      "Test:  [ 0/39]  eta: 0:00:22  model_time: 0.1322 (0.1322)  evaluator_time: 0.0184 (0.0184)  time: 0.5738  data: 0.4064  max mem: 576\n",
      "Test:  [38/39]  eta: 0:00:00  model_time: 0.1330 (0.1316)  evaluator_time: 0.0312 (0.0402)  time: 0.1789  data: 0.0033  max mem: 576\n",
      "Test: Total time: 0:00:07 (0.1918 s / it)\n"
     ]
    },
    {
     "name": "stdout",
     "output_type": "stream",
     "text": [
      "Averaged stats: model_time: 0.1330 (0.1316)  evaluator_time: 0.0312 (0.0402)\n",
      "Accumulating evaluation results...\n",
      "DONE (t=0.12s).\n",
      "IoU metric: bbox\n",
      " Average Precision  (AP) @[ IoU=0.50:0.95 | area=   all | maxDets=100 ] = 0.099\n",
      " Average Precision  (AP) @[ IoU=0.50      | area=   all | maxDets=100 ] = 0.301\n",
      " Average Precision  (AP) @[ IoU=0.75      | area=   all | maxDets=100 ] = 0.042\n",
      " Average Precision  (AP) @[ IoU=0.50:0.95 | area= small | maxDets=100 ] = 0.084\n",
      " Average Precision  (AP) @[ IoU=0.50:0.95 | area=medium | maxDets=100 ] = 0.148\n",
      " Average Precision  (AP) @[ IoU=0.50:0.95 | area= large | maxDets=100 ] = 0.161\n",
      " Average Recall     (AR) @[ IoU=0.50:0.95 | area=   all | maxDets=  1 ] = 0.051\n",
      " Average Recall     (AR) @[ IoU=0.50:0.95 | area=   all | maxDets= 10 ] = 0.198\n",
      " Average Recall     (AR) @[ IoU=0.50:0.95 | area=   all | maxDets=100 ] = 0.298\n",
      " Average Recall     (AR) @[ IoU=0.50:0.95 | area= small | maxDets=100 ] = 0.266\n",
      " Average Recall     (AR) @[ IoU=0.50:0.95 | area=medium | maxDets=100 ] = 0.392\n",
      " Average Recall     (AR) @[ IoU=0.50:0.95 | area= large | maxDets=100 ] = 0.547\n",
      "0.09931700689816292 0.3010146599542058\n",
      "SAVING PLOTS COMPLETE...\n",
      "SAVING PLOTS COMPLETE...\n",
      "SAVING PLOTS COMPLETE...\n",
      "SAVING PLOTS COMPLETE...\n",
      "SAVING PLOTS COMPLETE...\n",
      "SAVING PLOTS COMPLETE...\n"
     ]
    },
    {
     "name": "stderr",
     "output_type": "stream",
     "text": [
      "Epoch: [20]  [  0/180]  eta: 0:01:56  lr: 0.000905  loss: 0.6004 (0.6004)  loss_classifier: 0.1255 (0.1255)  loss_box_reg: 0.1916 (0.1916)  loss_objectness: 0.1852 (0.1852)  loss_rpn_box_reg: 0.0981 (0.0981)  time: 0.6462  data: 0.4104  max mem: 576\n",
      "Epoch: [20]  [100/180]  eta: 0:00:18  lr: 0.000899  loss: 0.5392 (0.5583)  loss_classifier: 0.1166 (0.1222)  loss_box_reg: 0.1775 (0.1854)  loss_objectness: 0.1468 (0.1523)  loss_rpn_box_reg: 0.0884 (0.0984)  time: 0.2211  data: 0.0038  max mem: 576\n",
      "Epoch: [20]  [179/180]  eta: 0:00:00  lr: 0.000895  loss: 0.5994 (0.5643)  loss_classifier: 0.1244 (0.1235)  loss_box_reg: 0.2041 (0.1870)  loss_objectness: 0.1592 (0.1555)  loss_rpn_box_reg: 0.1017 (0.0983)  time: 0.2220  data: 0.0036  max mem: 576\n",
      "Epoch: [20] Total time: 0:00:40 (0.2257 s / it)\n"
     ]
    },
    {
     "name": "stdout",
     "output_type": "stream",
     "text": [
      "creating index...\n",
      "index created!\n"
     ]
    },
    {
     "name": "stderr",
     "output_type": "stream",
     "text": [
      "Test:  [ 0/39]  eta: 0:00:22  model_time: 0.1324 (0.1324)  evaluator_time: 0.0174 (0.0174)  time: 0.5745  data: 0.4079  max mem: 576\n",
      "Test:  [38/39]  eta: 0:00:00  model_time: 0.1319 (0.1383)  evaluator_time: 0.0304 (0.0401)  time: 0.1799  data: 0.0033  max mem: 576\n",
      "Test: Total time: 0:00:07 (0.1984 s / it)\n"
     ]
    },
    {
     "name": "stdout",
     "output_type": "stream",
     "text": [
      "Averaged stats: model_time: 0.1319 (0.1383)  evaluator_time: 0.0304 (0.0401)\n",
      "Accumulating evaluation results...\n",
      "DONE (t=0.12s).\n",
      "IoU metric: bbox\n",
      " Average Precision  (AP) @[ IoU=0.50:0.95 | area=   all | maxDets=100 ] = 0.108\n",
      " Average Precision  (AP) @[ IoU=0.50      | area=   all | maxDets=100 ] = 0.333\n",
      " Average Precision  (AP) @[ IoU=0.75      | area=   all | maxDets=100 ] = 0.041\n",
      " Average Precision  (AP) @[ IoU=0.50:0.95 | area= small | maxDets=100 ] = 0.097\n",
      " Average Precision  (AP) @[ IoU=0.50:0.95 | area=medium | maxDets=100 ] = 0.143\n",
      " Average Precision  (AP) @[ IoU=0.50:0.95 | area= large | maxDets=100 ] = 0.168\n",
      " Average Recall     (AR) @[ IoU=0.50:0.95 | area=   all | maxDets=  1 ] = 0.055\n",
      " Average Recall     (AR) @[ IoU=0.50:0.95 | area=   all | maxDets= 10 ] = 0.203\n",
      " Average Recall     (AR) @[ IoU=0.50:0.95 | area=   all | maxDets=100 ] = 0.305\n",
      " Average Recall     (AR) @[ IoU=0.50:0.95 | area= small | maxDets=100 ] = 0.277\n",
      " Average Recall     (AR) @[ IoU=0.50:0.95 | area=medium | maxDets=100 ] = 0.390\n",
      " Average Recall     (AR) @[ IoU=0.50:0.95 | area= large | maxDets=100 ] = 0.500\n",
      "0.1076572458422186 0.3334198735092763\n",
      "SAVING PLOTS COMPLETE...\n",
      "SAVING PLOTS COMPLETE...\n",
      "SAVING PLOTS COMPLETE...\n",
      "SAVING PLOTS COMPLETE...\n",
      "SAVING PLOTS COMPLETE...\n",
      "SAVING PLOTS COMPLETE...\n"
     ]
    },
    {
     "name": "stderr",
     "output_type": "stream",
     "text": [
      "Epoch: [21]  [  0/180]  eta: 0:02:04  lr: 0.000895  loss: 0.7928 (0.7928)  loss_classifier: 0.1668 (0.1668)  loss_box_reg: 0.2341 (0.2341)  loss_objectness: 0.2027 (0.2027)  loss_rpn_box_reg: 0.1892 (0.1892)  time: 0.6892  data: 0.4528  max mem: 576\n",
      "Epoch: [21]  [100/180]  eta: 0:00:18  lr: 0.000890  loss: 0.5555 (0.5548)  loss_classifier: 0.1251 (0.1225)  loss_box_reg: 0.1883 (0.1889)  loss_objectness: 0.1428 (0.1489)  loss_rpn_box_reg: 0.0887 (0.0945)  time: 0.2182  data: 0.0036  max mem: 576\n",
      "Epoch: [21]  [179/180]  eta: 0:00:00  lr: 0.000885  loss: 0.5771 (0.5614)  loss_classifier: 0.1180 (0.1230)  loss_box_reg: 0.1905 (0.1897)  loss_objectness: 0.1707 (0.1516)  loss_rpn_box_reg: 0.1072 (0.0971)  time: 0.2229  data: 0.0038  max mem: 576\n",
      "Epoch: [21] Total time: 0:00:40 (0.2249 s / it)\n"
     ]
    },
    {
     "name": "stdout",
     "output_type": "stream",
     "text": [
      "creating index...\n",
      "index created!\n"
     ]
    },
    {
     "name": "stderr",
     "output_type": "stream",
     "text": [
      "Test:  [ 0/39]  eta: 0:00:24  model_time: 0.1340 (0.1340)  evaluator_time: 0.0165 (0.0165)  time: 0.6212  data: 0.4550  max mem: 576\n",
      "Test:  [38/39]  eta: 0:00:00  model_time: 0.1300 (0.1396)  evaluator_time: 0.0304 (0.0400)  time: 0.1932  data: 0.0033  max mem: 576\n",
      "Test: Total time: 0:00:07 (0.2009 s / it)\n"
     ]
    },
    {
     "name": "stdout",
     "output_type": "stream",
     "text": [
      "Averaged stats: model_time: 0.1300 (0.1396)  evaluator_time: 0.0304 (0.0400)\n",
      "Accumulating evaluation results...\n",
      "DONE (t=0.12s).\n",
      "IoU metric: bbox\n",
      " Average Precision  (AP) @[ IoU=0.50:0.95 | area=   all | maxDets=100 ] = 0.105\n",
      " Average Precision  (AP) @[ IoU=0.50      | area=   all | maxDets=100 ] = 0.327\n",
      " Average Precision  (AP) @[ IoU=0.75      | area=   all | maxDets=100 ] = 0.038\n",
      " Average Precision  (AP) @[ IoU=0.50:0.95 | area= small | maxDets=100 ] = 0.095\n",
      " Average Precision  (AP) @[ IoU=0.50:0.95 | area=medium | maxDets=100 ] = 0.143\n",
      " Average Precision  (AP) @[ IoU=0.50:0.95 | area= large | maxDets=100 ] = 0.147\n",
      " Average Recall     (AR) @[ IoU=0.50:0.95 | area=   all | maxDets=  1 ] = 0.057\n",
      " Average Recall     (AR) @[ IoU=0.50:0.95 | area=   all | maxDets= 10 ] = 0.203\n",
      " Average Recall     (AR) @[ IoU=0.50:0.95 | area=   all | maxDets=100 ] = 0.302\n",
      " Average Recall     (AR) @[ IoU=0.50:0.95 | area= small | maxDets=100 ] = 0.270\n",
      " Average Recall     (AR) @[ IoU=0.50:0.95 | area=medium | maxDets=100 ] = 0.395\n",
      " Average Recall     (AR) @[ IoU=0.50:0.95 | area= large | maxDets=100 ] = 0.505\n",
      "0.10512806040448877 0.3265995861495021\n",
      "SAVING PLOTS COMPLETE...\n",
      "SAVING PLOTS COMPLETE...\n",
      "SAVING PLOTS COMPLETE...\n",
      "SAVING PLOTS COMPLETE...\n",
      "SAVING PLOTS COMPLETE...\n",
      "SAVING PLOTS COMPLETE...\n"
     ]
    },
    {
     "name": "stderr",
     "output_type": "stream",
     "text": [
      "Epoch: [22]  [  0/180]  eta: 0:02:04  lr: 0.000885  loss: 0.4063 (0.4063)  loss_classifier: 0.0853 (0.0853)  loss_box_reg: 0.1365 (0.1365)  loss_objectness: 0.1013 (0.1013)  loss_rpn_box_reg: 0.0832 (0.0832)  time: 0.6931  data: 0.4488  max mem: 576\n",
      "Epoch: [22]  [100/180]  eta: 0:00:18  lr: 0.000880  loss: 0.5300 (0.5521)  loss_classifier: 0.1230 (0.1206)  loss_box_reg: 0.1799 (0.1865)  loss_objectness: 0.1462 (0.1485)  loss_rpn_box_reg: 0.0844 (0.0965)  time: 0.2215  data: 0.0038  max mem: 576\n",
      "Epoch: [22]  [179/180]  eta: 0:00:00  lr: 0.000875  loss: 0.5282 (0.5557)  loss_classifier: 0.1189 (0.1213)  loss_box_reg: 0.1938 (0.1875)  loss_objectness: 0.1420 (0.1496)  loss_rpn_box_reg: 0.0847 (0.0973)  time: 0.2213  data: 0.0039  max mem: 576\n",
      "Epoch: [22] Total time: 0:00:40 (0.2255 s / it)\n"
     ]
    },
    {
     "name": "stdout",
     "output_type": "stream",
     "text": [
      "creating index...\n",
      "index created!\n"
     ]
    },
    {
     "name": "stderr",
     "output_type": "stream",
     "text": [
      "Test:  [ 0/39]  eta: 0:00:21  model_time: 0.1374 (0.1374)  evaluator_time: 0.0165 (0.0165)  time: 0.5639  data: 0.3942  max mem: 576\n",
      "Test:  [38/39]  eta: 0:00:00  model_time: 0.1328 (0.1505)  evaluator_time: 0.0276 (0.0378)  time: 0.1989  data: 0.0034  max mem: 576\n",
      "Test: Total time: 0:00:08 (0.2081 s / it)\n"
     ]
    },
    {
     "name": "stdout",
     "output_type": "stream",
     "text": [
      "Averaged stats: model_time: 0.1328 (0.1505)  evaluator_time: 0.0276 (0.0378)\n",
      "Accumulating evaluation results...\n",
      "DONE (t=0.12s).\n",
      "IoU metric: bbox\n",
      " Average Precision  (AP) @[ IoU=0.50:0.95 | area=   all | maxDets=100 ] = 0.104\n",
      " Average Precision  (AP) @[ IoU=0.50      | area=   all | maxDets=100 ] = 0.323\n",
      " Average Precision  (AP) @[ IoU=0.75      | area=   all | maxDets=100 ] = 0.036\n",
      " Average Precision  (AP) @[ IoU=0.50:0.95 | area= small | maxDets=100 ] = 0.096\n",
      " Average Precision  (AP) @[ IoU=0.50:0.95 | area=medium | maxDets=100 ] = 0.140\n",
      " Average Precision  (AP) @[ IoU=0.50:0.95 | area= large | maxDets=100 ] = 0.190\n",
      " Average Recall     (AR) @[ IoU=0.50:0.95 | area=   all | maxDets=  1 ] = 0.059\n",
      " Average Recall     (AR) @[ IoU=0.50:0.95 | area=   all | maxDets= 10 ] = 0.202\n",
      " Average Recall     (AR) @[ IoU=0.50:0.95 | area=   all | maxDets=100 ] = 0.300\n",
      " Average Recall     (AR) @[ IoU=0.50:0.95 | area= small | maxDets=100 ] = 0.269\n",
      " Average Recall     (AR) @[ IoU=0.50:0.95 | area=medium | maxDets=100 ] = 0.389\n",
      " Average Recall     (AR) @[ IoU=0.50:0.95 | area= large | maxDets=100 ] = 0.563\n",
      "0.10355634316676768 0.3227868643429385\n",
      "SAVING PLOTS COMPLETE...\n",
      "SAVING PLOTS COMPLETE...\n",
      "SAVING PLOTS COMPLETE...\n",
      "SAVING PLOTS COMPLETE...\n",
      "SAVING PLOTS COMPLETE...\n",
      "SAVING PLOTS COMPLETE...\n"
     ]
    },
    {
     "name": "stderr",
     "output_type": "stream",
     "text": [
      "Epoch: [23]  [  0/180]  eta: 0:02:00  lr: 0.000875  loss: 0.6541 (0.6541)  loss_classifier: 0.1490 (0.1490)  loss_box_reg: 0.2077 (0.2077)  loss_objectness: 0.1864 (0.1864)  loss_rpn_box_reg: 0.1110 (0.1110)  time: 0.6697  data: 0.4247  max mem: 576\n",
      "Epoch: [23]  [100/180]  eta: 0:00:18  lr: 0.000869  loss: 0.5507 (0.5547)  loss_classifier: 0.1231 (0.1219)  loss_box_reg: 0.1947 (0.1870)  loss_objectness: 0.1405 (0.1499)  loss_rpn_box_reg: 0.0979 (0.0959)  time: 0.2248  data: 0.0039  max mem: 576\n",
      "Epoch: [23]  [179/180]  eta: 0:00:00  lr: 0.000865  loss: 0.5647 (0.5554)  loss_classifier: 0.1247 (0.1222)  loss_box_reg: 0.1729 (0.1884)  loss_objectness: 0.1420 (0.1484)  loss_rpn_box_reg: 0.0844 (0.0965)  time: 0.2198  data: 0.0038  max mem: 576\n",
      "Epoch: [23] Total time: 0:00:40 (0.2256 s / it)\n"
     ]
    },
    {
     "name": "stdout",
     "output_type": "stream",
     "text": [
      "creating index...\n",
      "index created!\n"
     ]
    },
    {
     "name": "stderr",
     "output_type": "stream",
     "text": [
      "Test:  [ 0/39]  eta: 0:00:24  model_time: 0.1359 (0.1359)  evaluator_time: 0.0162 (0.0162)  time: 0.6230  data: 0.4545  max mem: 576\n",
      "Test:  [38/39]  eta: 0:00:00  model_time: 0.1352 (0.1399)  evaluator_time: 0.0320 (0.0451)  time: 0.2022  data: 0.0034  max mem: 576\n",
      "Test: Total time: 0:00:08 (0.2062 s / it)\n"
     ]
    },
    {
     "name": "stdout",
     "output_type": "stream",
     "text": [
      "Averaged stats: model_time: 0.1352 (0.1399)  evaluator_time: 0.0320 (0.0451)\n",
      "Accumulating evaluation results...\n",
      "DONE (t=0.11s).\n",
      "IoU metric: bbox\n",
      " Average Precision  (AP) @[ IoU=0.50:0.95 | area=   all | maxDets=100 ] = 0.107\n",
      " Average Precision  (AP) @[ IoU=0.50      | area=   all | maxDets=100 ] = 0.329\n",
      " Average Precision  (AP) @[ IoU=0.75      | area=   all | maxDets=100 ] = 0.034\n",
      " Average Precision  (AP) @[ IoU=0.50:0.95 | area= small | maxDets=100 ] = 0.096\n",
      " Average Precision  (AP) @[ IoU=0.50:0.95 | area=medium | maxDets=100 ] = 0.144\n",
      " Average Precision  (AP) @[ IoU=0.50:0.95 | area= large | maxDets=100 ] = 0.201\n",
      " Average Recall     (AR) @[ IoU=0.50:0.95 | area=   all | maxDets=  1 ] = 0.054\n",
      " Average Recall     (AR) @[ IoU=0.50:0.95 | area=   all | maxDets= 10 ] = 0.205\n",
      " Average Recall     (AR) @[ IoU=0.50:0.95 | area=   all | maxDets=100 ] = 0.309\n",
      " Average Recall     (AR) @[ IoU=0.50:0.95 | area= small | maxDets=100 ] = 0.279\n",
      " Average Recall     (AR) @[ IoU=0.50:0.95 | area=medium | maxDets=100 ] = 0.393\n",
      " Average Recall     (AR) @[ IoU=0.50:0.95 | area= large | maxDets=100 ] = 0.563\n",
      "0.10683368483683585 0.3290854097589251\n",
      "SAVING PLOTS COMPLETE...\n",
      "SAVING PLOTS COMPLETE...\n",
      "SAVING PLOTS COMPLETE...\n",
      "SAVING PLOTS COMPLETE...\n",
      "SAVING PLOTS COMPLETE...\n",
      "SAVING PLOTS COMPLETE...\n"
     ]
    },
    {
     "name": "stderr",
     "output_type": "stream",
     "text": [
      "Epoch: [24]  [  0/180]  eta: 0:01:57  lr: 0.000864  loss: 0.6198 (0.6198)  loss_classifier: 0.1362 (0.1362)  loss_box_reg: 0.2229 (0.2229)  loss_objectness: 0.1507 (0.1507)  loss_rpn_box_reg: 0.1100 (0.1100)  time: 0.6522  data: 0.4148  max mem: 576\n",
      "Epoch: [24]  [100/180]  eta: 0:00:17  lr: 0.000858  loss: 0.5827 (0.5642)  loss_classifier: 0.1258 (0.1233)  loss_box_reg: 0.1928 (0.1922)  loss_objectness: 0.1512 (0.1499)  loss_rpn_box_reg: 0.1025 (0.0988)  time: 0.2192  data: 0.0039  max mem: 576\n",
      "Epoch: [24]  [179/180]  eta: 0:00:00  lr: 0.000854  loss: 0.5224 (0.5528)  loss_classifier: 0.1136 (0.1216)  loss_box_reg: 0.1794 (0.1886)  loss_objectness: 0.1380 (0.1467)  loss_rpn_box_reg: 0.0930 (0.0960)  time: 0.2207  data: 0.0038  max mem: 576\n",
      "Epoch: [24] Total time: 0:00:40 (0.2247 s / it)\n"
     ]
    },
    {
     "name": "stdout",
     "output_type": "stream",
     "text": [
      "creating index...\n",
      "index created!\n"
     ]
    },
    {
     "name": "stderr",
     "output_type": "stream",
     "text": [
      "Test:  [ 0/39]  eta: 0:00:22  model_time: 0.1376 (0.1376)  evaluator_time: 0.0171 (0.0171)  time: 0.5767  data: 0.4052  max mem: 576\n",
      "Test:  [38/39]  eta: 0:00:00  model_time: 0.1354 (0.1342)  evaluator_time: 0.0314 (0.0416)  time: 0.1844  data: 0.0033  max mem: 576\n",
      "Test: Total time: 0:00:07 (0.1960 s / it)\n"
     ]
    },
    {
     "name": "stdout",
     "output_type": "stream",
     "text": [
      "Averaged stats: model_time: 0.1354 (0.1342)  evaluator_time: 0.0314 (0.0416)\n",
      "Accumulating evaluation results...\n",
      "DONE (t=0.13s).\n",
      "IoU metric: bbox\n",
      " Average Precision  (AP) @[ IoU=0.50:0.95 | area=   all | maxDets=100 ] = 0.108\n",
      " Average Precision  (AP) @[ IoU=0.50      | area=   all | maxDets=100 ] = 0.331\n",
      " Average Precision  (AP) @[ IoU=0.75      | area=   all | maxDets=100 ] = 0.040\n",
      " Average Precision  (AP) @[ IoU=0.50:0.95 | area= small | maxDets=100 ] = 0.095\n",
      " Average Precision  (AP) @[ IoU=0.50:0.95 | area=medium | maxDets=100 ] = 0.152\n",
      " Average Precision  (AP) @[ IoU=0.50:0.95 | area= large | maxDets=100 ] = 0.199\n",
      " Average Recall     (AR) @[ IoU=0.50:0.95 | area=   all | maxDets=  1 ] = 0.057\n",
      " Average Recall     (AR) @[ IoU=0.50:0.95 | area=   all | maxDets= 10 ] = 0.206\n",
      " Average Recall     (AR) @[ IoU=0.50:0.95 | area=   all | maxDets=100 ] = 0.312\n",
      " Average Recall     (AR) @[ IoU=0.50:0.95 | area= small | maxDets=100 ] = 0.279\n",
      " Average Recall     (AR) @[ IoU=0.50:0.95 | area=medium | maxDets=100 ] = 0.411\n",
      " Average Recall     (AR) @[ IoU=0.50:0.95 | area= large | maxDets=100 ] = 0.505\n",
      "0.10787170394629561 0.33083509973694414\n",
      "SAVING PLOTS COMPLETE...\n",
      "SAVING PLOTS COMPLETE...\n",
      "SAVING PLOTS COMPLETE...\n",
      "SAVING PLOTS COMPLETE...\n",
      "SAVING PLOTS COMPLETE...\n",
      "SAVING PLOTS COMPLETE...\n"
     ]
    },
    {
     "name": "stderr",
     "output_type": "stream",
     "text": [
      "Epoch: [25]  [  0/180]  eta: 0:01:55  lr: 0.000854  loss: 0.2469 (0.2469)  loss_classifier: 0.0581 (0.0581)  loss_box_reg: 0.0617 (0.0617)  loss_objectness: 0.0987 (0.0987)  loss_rpn_box_reg: 0.0285 (0.0285)  time: 0.6393  data: 0.4018  max mem: 576\n",
      "Epoch: [25]  [100/180]  eta: 0:00:18  lr: 0.000847  loss: 0.5066 (0.5579)  loss_classifier: 0.1120 (0.1216)  loss_box_reg: 0.1761 (0.1916)  loss_objectness: 0.1426 (0.1462)  loss_rpn_box_reg: 0.0965 (0.0984)  time: 0.2231  data: 0.0036  max mem: 576\n",
      "Epoch: [25]  [179/180]  eta: 0:00:00  lr: 0.000842  loss: 0.5767 (0.5534)  loss_classifier: 0.1335 (0.1223)  loss_box_reg: 0.2020 (0.1908)  loss_objectness: 0.1363 (0.1452)  loss_rpn_box_reg: 0.0964 (0.0952)  time: 0.2227  data: 0.0038  max mem: 576\n",
      "Epoch: [25] Total time: 0:00:40 (0.2256 s / it)\n"
     ]
    },
    {
     "name": "stdout",
     "output_type": "stream",
     "text": [
      "creating index...\n",
      "index created!\n"
     ]
    },
    {
     "name": "stderr",
     "output_type": "stream",
     "text": [
      "Test:  [ 0/39]  eta: 0:00:25  model_time: 0.1357 (0.1357)  evaluator_time: 0.0181 (0.0181)  time: 0.6653  data: 0.4952  max mem: 576\n",
      "Test:  [38/39]  eta: 0:00:00  model_time: 0.1319 (0.1359)  evaluator_time: 0.0305 (0.0402)  time: 0.1861  data: 0.0033  max mem: 576\n",
      "Test: Total time: 0:00:07 (0.1985 s / it)\n"
     ]
    },
    {
     "name": "stdout",
     "output_type": "stream",
     "text": [
      "Averaged stats: model_time: 0.1319 (0.1359)  evaluator_time: 0.0305 (0.0402)\n",
      "Accumulating evaluation results...\n",
      "DONE (t=0.12s).\n",
      "IoU metric: bbox\n",
      " Average Precision  (AP) @[ IoU=0.50:0.95 | area=   all | maxDets=100 ] = 0.114\n",
      " Average Precision  (AP) @[ IoU=0.50      | area=   all | maxDets=100 ] = 0.341\n",
      " Average Precision  (AP) @[ IoU=0.75      | area=   all | maxDets=100 ] = 0.046\n",
      " Average Precision  (AP) @[ IoU=0.50:0.95 | area= small | maxDets=100 ] = 0.103\n",
      " Average Precision  (AP) @[ IoU=0.50:0.95 | area=medium | maxDets=100 ] = 0.156\n",
      " Average Precision  (AP) @[ IoU=0.50:0.95 | area= large | maxDets=100 ] = 0.189\n",
      " Average Recall     (AR) @[ IoU=0.50:0.95 | area=   all | maxDets=  1 ] = 0.058\n",
      " Average Recall     (AR) @[ IoU=0.50:0.95 | area=   all | maxDets= 10 ] = 0.211\n",
      " Average Recall     (AR) @[ IoU=0.50:0.95 | area=   all | maxDets=100 ] = 0.313\n",
      " Average Recall     (AR) @[ IoU=0.50:0.95 | area= small | maxDets=100 ] = 0.284\n",
      " Average Recall     (AR) @[ IoU=0.50:0.95 | area=medium | maxDets=100 ] = 0.401\n",
      " Average Recall     (AR) @[ IoU=0.50:0.95 | area= large | maxDets=100 ] = 0.489\n",
      "0.11447851682284456 0.34091708564484013\n",
      "SAVING PLOTS COMPLETE...\n",
      "SAVING PLOTS COMPLETE...\n",
      "SAVING PLOTS COMPLETE...\n",
      "SAVING PLOTS COMPLETE...\n",
      "SAVING PLOTS COMPLETE...\n",
      "SAVING PLOTS COMPLETE...\n"
     ]
    },
    {
     "name": "stderr",
     "output_type": "stream",
     "text": [
      "Epoch: [26]  [  0/180]  eta: 0:01:56  lr: 0.000842  loss: 0.4760 (0.4760)  loss_classifier: 0.1065 (0.1065)  loss_box_reg: 0.1571 (0.1571)  loss_objectness: 0.1209 (0.1209)  loss_rpn_box_reg: 0.0915 (0.0915)  time: 0.6477  data: 0.4108  max mem: 576\n",
      "Epoch: [26]  [100/180]  eta: 0:00:18  lr: 0.000836  loss: 0.5096 (0.5623)  loss_classifier: 0.1118 (0.1236)  loss_box_reg: 0.1899 (0.1944)  loss_objectness: 0.1367 (0.1471)  loss_rpn_box_reg: 0.0850 (0.0971)  time: 0.2241  data: 0.0038  max mem: 576\n",
      "Epoch: [26]  [179/180]  eta: 0:00:00  lr: 0.000831  loss: 0.5213 (0.5507)  loss_classifier: 0.1096 (0.1214)  loss_box_reg: 0.1694 (0.1903)  loss_objectness: 0.1354 (0.1447)  loss_rpn_box_reg: 0.0938 (0.0944)  time: 0.2182  data: 0.0037  max mem: 576\n",
      "Epoch: [26] Total time: 0:00:40 (0.2253 s / it)\n"
     ]
    },
    {
     "name": "stdout",
     "output_type": "stream",
     "text": [
      "creating index...\n",
      "index created!\n"
     ]
    },
    {
     "name": "stderr",
     "output_type": "stream",
     "text": [
      "Test:  [ 0/39]  eta: 0:00:24  model_time: 0.1354 (0.1354)  evaluator_time: 0.0154 (0.0154)  time: 0.6259  data: 0.4593  max mem: 576\n",
      "Test:  [38/39]  eta: 0:00:00  model_time: 0.1321 (0.1345)  evaluator_time: 0.0270 (0.0433)  time: 0.1826  data: 0.0033  max mem: 576\n",
      "Test: Total time: 0:00:07 (0.1991 s / it)\n"
     ]
    },
    {
     "name": "stdout",
     "output_type": "stream",
     "text": [
      "Averaged stats: model_time: 0.1321 (0.1345)  evaluator_time: 0.0270 (0.0433)\n",
      "Accumulating evaluation results...\n",
      "DONE (t=0.11s).\n",
      "IoU metric: bbox\n",
      " Average Precision  (AP) @[ IoU=0.50:0.95 | area=   all | maxDets=100 ] = 0.112\n",
      " Average Precision  (AP) @[ IoU=0.50      | area=   all | maxDets=100 ] = 0.336\n",
      " Average Precision  (AP) @[ IoU=0.75      | area=   all | maxDets=100 ] = 0.046\n",
      " Average Precision  (AP) @[ IoU=0.50:0.95 | area= small | maxDets=100 ] = 0.099\n",
      " Average Precision  (AP) @[ IoU=0.50:0.95 | area=medium | maxDets=100 ] = 0.154\n",
      " Average Precision  (AP) @[ IoU=0.50:0.95 | area= large | maxDets=100 ] = 0.233\n",
      " Average Recall     (AR) @[ IoU=0.50:0.95 | area=   all | maxDets=  1 ] = 0.059\n",
      " Average Recall     (AR) @[ IoU=0.50:0.95 | area=   all | maxDets= 10 ] = 0.207\n",
      " Average Recall     (AR) @[ IoU=0.50:0.95 | area=   all | maxDets=100 ] = 0.310\n",
      " Average Recall     (AR) @[ IoU=0.50:0.95 | area= small | maxDets=100 ] = 0.278\n",
      " Average Recall     (AR) @[ IoU=0.50:0.95 | area=medium | maxDets=100 ] = 0.406\n",
      " Average Recall     (AR) @[ IoU=0.50:0.95 | area= large | maxDets=100 ] = 0.526\n",
      "0.1118678673569693 0.33629253354665956\n",
      "SAVING PLOTS COMPLETE...\n",
      "SAVING PLOTS COMPLETE...\n",
      "SAVING PLOTS COMPLETE...\n",
      "SAVING PLOTS COMPLETE...\n",
      "SAVING PLOTS COMPLETE...\n",
      "SAVING PLOTS COMPLETE...\n"
     ]
    },
    {
     "name": "stderr",
     "output_type": "stream",
     "text": [
      "Epoch: [27]  [  0/180]  eta: 0:01:56  lr: 0.000831  loss: 0.4752 (0.4752)  loss_classifier: 0.1016 (0.1016)  loss_box_reg: 0.1450 (0.1450)  loss_objectness: 0.1318 (0.1318)  loss_rpn_box_reg: 0.0969 (0.0969)  time: 0.6498  data: 0.4137  max mem: 576\n",
      "Epoch: [27]  [100/180]  eta: 0:00:18  lr: 0.000824  loss: 0.5223 (0.5347)  loss_classifier: 0.1097 (0.1181)  loss_box_reg: 0.1752 (0.1852)  loss_objectness: 0.1258 (0.1399)  loss_rpn_box_reg: 0.0852 (0.0916)  time: 0.2235  data: 0.0038  max mem: 576\n",
      "Epoch: [27]  [179/180]  eta: 0:00:00  lr: 0.000819  loss: 0.5802 (0.5443)  loss_classifier: 0.1252 (0.1202)  loss_box_reg: 0.1936 (0.1887)  loss_objectness: 0.1357 (0.1418)  loss_rpn_box_reg: 0.0931 (0.0937)  time: 0.2214  data: 0.0038  max mem: 576\n",
      "Epoch: [27] Total time: 0:00:40 (0.2274 s / it)\n"
     ]
    },
    {
     "name": "stdout",
     "output_type": "stream",
     "text": [
      "creating index...\n",
      "index created!\n"
     ]
    },
    {
     "name": "stderr",
     "output_type": "stream",
     "text": [
      "Test:  [ 0/39]  eta: 0:00:24  model_time: 0.1353 (0.1353)  evaluator_time: 0.0167 (0.0167)  time: 0.6204  data: 0.4521  max mem: 576\n",
      "Test:  [38/39]  eta: 0:00:00  model_time: 0.1304 (0.1306)  evaluator_time: 0.0302 (0.0398)  time: 0.1777  data: 0.0034  max mem: 576\n",
      "Test: Total time: 0:00:07 (0.1920 s / it)\n"
     ]
    },
    {
     "name": "stdout",
     "output_type": "stream",
     "text": [
      "Averaged stats: model_time: 0.1304 (0.1306)  evaluator_time: 0.0302 (0.0398)\n",
      "Accumulating evaluation results...\n",
      "DONE (t=0.13s).\n",
      "IoU metric: bbox\n",
      " Average Precision  (AP) @[ IoU=0.50:0.95 | area=   all | maxDets=100 ] = 0.111\n",
      " Average Precision  (AP) @[ IoU=0.50      | area=   all | maxDets=100 ] = 0.341\n",
      " Average Precision  (AP) @[ IoU=0.75      | area=   all | maxDets=100 ] = 0.045\n",
      " Average Precision  (AP) @[ IoU=0.50:0.95 | area= small | maxDets=100 ] = 0.098\n",
      " Average Precision  (AP) @[ IoU=0.50:0.95 | area=medium | maxDets=100 ] = 0.156\n",
      " Average Precision  (AP) @[ IoU=0.50:0.95 | area= large | maxDets=100 ] = 0.221\n",
      " Average Recall     (AR) @[ IoU=0.50:0.95 | area=   all | maxDets=  1 ] = 0.061\n",
      " Average Recall     (AR) @[ IoU=0.50:0.95 | area=   all | maxDets= 10 ] = 0.210\n",
      " Average Recall     (AR) @[ IoU=0.50:0.95 | area=   all | maxDets=100 ] = 0.314\n",
      " Average Recall     (AR) @[ IoU=0.50:0.95 | area= small | maxDets=100 ] = 0.277\n",
      " Average Recall     (AR) @[ IoU=0.50:0.95 | area=medium | maxDets=100 ] = 0.423\n",
      " Average Recall     (AR) @[ IoU=0.50:0.95 | area= large | maxDets=100 ] = 0.589\n",
      "0.11121319553506127 0.3405036349884469\n",
      "SAVING PLOTS COMPLETE...\n",
      "SAVING PLOTS COMPLETE...\n",
      "SAVING PLOTS COMPLETE...\n",
      "SAVING PLOTS COMPLETE...\n",
      "SAVING PLOTS COMPLETE...\n",
      "SAVING PLOTS COMPLETE...\n"
     ]
    },
    {
     "name": "stderr",
     "output_type": "stream",
     "text": [
      "Epoch: [28]  [  0/180]  eta: 0:01:56  lr: 0.000819  loss: 0.5314 (0.5314)  loss_classifier: 0.1065 (0.1065)  loss_box_reg: 0.1978 (0.1978)  loss_objectness: 0.1138 (0.1138)  loss_rpn_box_reg: 0.1133 (0.1133)  time: 0.6489  data: 0.4111  max mem: 576\n",
      "Epoch: [28]  [100/180]  eta: 0:00:18  lr: 0.000812  loss: 0.5228 (0.5392)  loss_classifier: 0.1158 (0.1206)  loss_box_reg: 0.1819 (0.1924)  loss_objectness: 0.1339 (0.1364)  loss_rpn_box_reg: 0.0784 (0.0899)  time: 0.2216  data: 0.0038  max mem: 576\n",
      "Epoch: [28]  [179/180]  eta: 0:00:00  lr: 0.000807  loss: 0.6107 (0.5438)  loss_classifier: 0.1332 (0.1206)  loss_box_reg: 0.2224 (0.1911)  loss_objectness: 0.1527 (0.1391)  loss_rpn_box_reg: 0.1192 (0.0931)  time: 0.2225  data: 0.0037  max mem: 576\n",
      "Epoch: [28] Total time: 0:00:40 (0.2255 s / it)\n"
     ]
    },
    {
     "name": "stdout",
     "output_type": "stream",
     "text": [
      "creating index...\n",
      "index created!\n"
     ]
    },
    {
     "name": "stderr",
     "output_type": "stream",
     "text": [
      "Test:  [ 0/39]  eta: 0:00:25  model_time: 0.1343 (0.1343)  evaluator_time: 0.0166 (0.0166)  time: 0.6645  data: 0.4981  max mem: 576\n",
      "Test:  [38/39]  eta: 0:00:00  model_time: 0.1318 (0.1351)  evaluator_time: 0.0280 (0.0380)  time: 0.1829  data: 0.0033  max mem: 576\n",
      "Test: Total time: 0:00:07 (0.1955 s / it)\n"
     ]
    },
    {
     "name": "stdout",
     "output_type": "stream",
     "text": [
      "Averaged stats: model_time: 0.1318 (0.1351)  evaluator_time: 0.0280 (0.0380)\n",
      "Accumulating evaluation results...\n",
      "DONE (t=0.11s).\n",
      "IoU metric: bbox\n",
      " Average Precision  (AP) @[ IoU=0.50:0.95 | area=   all | maxDets=100 ] = 0.114\n",
      " Average Precision  (AP) @[ IoU=0.50      | area=   all | maxDets=100 ] = 0.338\n",
      " Average Precision  (AP) @[ IoU=0.75      | area=   all | maxDets=100 ] = 0.042\n",
      " Average Precision  (AP) @[ IoU=0.50:0.95 | area= small | maxDets=100 ] = 0.101\n",
      " Average Precision  (AP) @[ IoU=0.50:0.95 | area=medium | maxDets=100 ] = 0.158\n",
      " Average Precision  (AP) @[ IoU=0.50:0.95 | area= large | maxDets=100 ] = 0.195\n",
      " Average Recall     (AR) @[ IoU=0.50:0.95 | area=   all | maxDets=  1 ] = 0.057\n",
      " Average Recall     (AR) @[ IoU=0.50:0.95 | area=   all | maxDets= 10 ] = 0.213\n",
      " Average Recall     (AR) @[ IoU=0.50:0.95 | area=   all | maxDets=100 ] = 0.316\n",
      " Average Recall     (AR) @[ IoU=0.50:0.95 | area= small | maxDets=100 ] = 0.284\n",
      " Average Recall     (AR) @[ IoU=0.50:0.95 | area=medium | maxDets=100 ] = 0.411\n",
      " Average Recall     (AR) @[ IoU=0.50:0.95 | area= large | maxDets=100 ] = 0.516\n",
      "0.11397243459383646 0.3384940019098088\n",
      "SAVING PLOTS COMPLETE...\n",
      "SAVING PLOTS COMPLETE...\n",
      "SAVING PLOTS COMPLETE...\n",
      "SAVING PLOTS COMPLETE...\n",
      "SAVING PLOTS COMPLETE...\n",
      "SAVING PLOTS COMPLETE...\n"
     ]
    },
    {
     "name": "stderr",
     "output_type": "stream",
     "text": [
      "Epoch: [29]  [  0/180]  eta: 0:01:56  lr: 0.000806  loss: 0.4004 (0.4004)  loss_classifier: 0.0915 (0.0915)  loss_box_reg: 0.1746 (0.1746)  loss_objectness: 0.0842 (0.0842)  loss_rpn_box_reg: 0.0501 (0.0501)  time: 0.6480  data: 0.4042  max mem: 576\n",
      "Epoch: [29]  [100/180]  eta: 0:00:18  lr: 0.000800  loss: 0.5036 (0.5514)  loss_classifier: 0.1120 (0.1214)  loss_box_reg: 0.1653 (0.1934)  loss_objectness: 0.1393 (0.1412)  loss_rpn_box_reg: 0.0859 (0.0954)  time: 0.2227  data: 0.0037  max mem: 576\n",
      "Epoch: [29]  [179/180]  eta: 0:00:00  lr: 0.000794  loss: 0.5183 (0.5401)  loss_classifier: 0.1133 (0.1202)  loss_box_reg: 0.1737 (0.1898)  loss_objectness: 0.1323 (0.1369)  loss_rpn_box_reg: 0.0817 (0.0931)  time: 0.2233  data: 0.0035  max mem: 576\n",
      "Epoch: [29] Total time: 0:00:40 (0.2254 s / it)\n"
     ]
    },
    {
     "name": "stdout",
     "output_type": "stream",
     "text": [
      "creating index...\n",
      "index created!\n"
     ]
    },
    {
     "name": "stderr",
     "output_type": "stream",
     "text": [
      "Test:  [ 0/39]  eta: 0:00:24  model_time: 0.1305 (0.1305)  evaluator_time: 0.0180 (0.0180)  time: 0.6171  data: 0.4523  max mem: 576\n",
      "Test:  [38/39]  eta: 0:00:00  model_time: 0.1341 (0.1419)  evaluator_time: 0.0281 (0.0399)  time: 0.1988  data: 0.0034  max mem: 576\n",
      "Test: Total time: 0:00:07 (0.2030 s / it)\n"
     ]
    },
    {
     "name": "stdout",
     "output_type": "stream",
     "text": [
      "Averaged stats: model_time: 0.1341 (0.1419)  evaluator_time: 0.0281 (0.0399)\n",
      "Accumulating evaluation results...\n",
      "DONE (t=0.12s).\n",
      "IoU metric: bbox\n",
      " Average Precision  (AP) @[ IoU=0.50:0.95 | area=   all | maxDets=100 ] = 0.112\n",
      " Average Precision  (AP) @[ IoU=0.50      | area=   all | maxDets=100 ] = 0.336\n",
      " Average Precision  (AP) @[ IoU=0.75      | area=   all | maxDets=100 ] = 0.047\n",
      " Average Precision  (AP) @[ IoU=0.50:0.95 | area= small | maxDets=100 ] = 0.098\n",
      " Average Precision  (AP) @[ IoU=0.50:0.95 | area=medium | maxDets=100 ] = 0.154\n",
      " Average Precision  (AP) @[ IoU=0.50:0.95 | area= large | maxDets=100 ] = 0.224\n",
      " Average Recall     (AR) @[ IoU=0.50:0.95 | area=   all | maxDets=  1 ] = 0.060\n",
      " Average Recall     (AR) @[ IoU=0.50:0.95 | area=   all | maxDets= 10 ] = 0.208\n",
      " Average Recall     (AR) @[ IoU=0.50:0.95 | area=   all | maxDets=100 ] = 0.312\n",
      " Average Recall     (AR) @[ IoU=0.50:0.95 | area= small | maxDets=100 ] = 0.281\n",
      " Average Recall     (AR) @[ IoU=0.50:0.95 | area=medium | maxDets=100 ] = 0.404\n",
      " Average Recall     (AR) @[ IoU=0.50:0.95 | area= large | maxDets=100 ] = 0.484\n",
      "0.11197397155393023 0.33618097945855996\n",
      "SAVING PLOTS COMPLETE...\n",
      "SAVING PLOTS COMPLETE...\n",
      "SAVING PLOTS COMPLETE...\n",
      "SAVING PLOTS COMPLETE...\n",
      "SAVING PLOTS COMPLETE...\n",
      "SAVING PLOTS COMPLETE...\n"
     ]
    },
    {
     "name": "stderr",
     "output_type": "stream",
     "text": [
      "Epoch: [30]  [  0/180]  eta: 0:01:56  lr: 0.000794  loss: 0.3602 (0.3602)  loss_classifier: 0.0918 (0.0918)  loss_box_reg: 0.1258 (0.1258)  loss_objectness: 0.1033 (0.1033)  loss_rpn_box_reg: 0.0393 (0.0393)  time: 0.6446  data: 0.4038  max mem: 576\n",
      "Epoch: [30]  [100/180]  eta: 0:00:18  lr: 0.000787  loss: 0.4775 (0.5357)  loss_classifier: 0.1131 (0.1185)  loss_box_reg: 0.1495 (0.1869)  loss_objectness: 0.1383 (0.1374)  loss_rpn_box_reg: 0.0784 (0.0929)  time: 0.2221  data: 0.0035  max mem: 576\n",
      "Epoch: [30]  [179/180]  eta: 0:00:00  lr: 0.000781  loss: 0.5610 (0.5389)  loss_classifier: 0.1179 (0.1198)  loss_box_reg: 0.1787 (0.1895)  loss_objectness: 0.1371 (0.1373)  loss_rpn_box_reg: 0.0940 (0.0923)  time: 0.2227  data: 0.0038  max mem: 576\n",
      "Epoch: [30] Total time: 0:00:40 (0.2262 s / it)\n"
     ]
    },
    {
     "name": "stdout",
     "output_type": "stream",
     "text": [
      "creating index...\n",
      "index created!\n"
     ]
    },
    {
     "name": "stderr",
     "output_type": "stream",
     "text": [
      "Test:  [ 0/39]  eta: 0:00:23  model_time: 0.1351 (0.1351)  evaluator_time: 0.0146 (0.0146)  time: 0.6096  data: 0.4442  max mem: 576\n",
      "Test:  [38/39]  eta: 0:00:00  model_time: 0.1326 (0.1431)  evaluator_time: 0.0240 (0.0332)  time: 0.1953  data: 0.0033  max mem: 576\n",
      "Test: Total time: 0:00:07 (0.1973 s / it)\n"
     ]
    },
    {
     "name": "stdout",
     "output_type": "stream",
     "text": [
      "Averaged stats: model_time: 0.1326 (0.1431)  evaluator_time: 0.0240 (0.0332)\n",
      "Accumulating evaluation results...\n",
      "DONE (t=0.10s).\n",
      "IoU metric: bbox\n",
      " Average Precision  (AP) @[ IoU=0.50:0.95 | area=   all | maxDets=100 ] = 0.105\n",
      " Average Precision  (AP) @[ IoU=0.50      | area=   all | maxDets=100 ] = 0.322\n",
      " Average Precision  (AP) @[ IoU=0.75      | area=   all | maxDets=100 ] = 0.039\n",
      " Average Precision  (AP) @[ IoU=0.50:0.95 | area= small | maxDets=100 ] = 0.092\n",
      " Average Precision  (AP) @[ IoU=0.50:0.95 | area=medium | maxDets=100 ] = 0.149\n",
      " Average Precision  (AP) @[ IoU=0.50:0.95 | area= large | maxDets=100 ] = 0.181\n",
      " Average Recall     (AR) @[ IoU=0.50:0.95 | area=   all | maxDets=  1 ] = 0.057\n",
      " Average Recall     (AR) @[ IoU=0.50:0.95 | area=   all | maxDets= 10 ] = 0.203\n",
      " Average Recall     (AR) @[ IoU=0.50:0.95 | area=   all | maxDets=100 ] = 0.291\n",
      " Average Recall     (AR) @[ IoU=0.50:0.95 | area= small | maxDets=100 ] = 0.259\n",
      " Average Recall     (AR) @[ IoU=0.50:0.95 | area=medium | maxDets=100 ] = 0.384\n",
      " Average Recall     (AR) @[ IoU=0.50:0.95 | area= large | maxDets=100 ] = 0.500\n",
      "0.10544955654511645 0.32207269626051743\n",
      "SAVING PLOTS COMPLETE...\n",
      "SAVING PLOTS COMPLETE...\n",
      "SAVING PLOTS COMPLETE...\n",
      "SAVING PLOTS COMPLETE...\n",
      "SAVING PLOTS COMPLETE...\n",
      "SAVING PLOTS COMPLETE...\n"
     ]
    },
    {
     "name": "stderr",
     "output_type": "stream",
     "text": [
      "Epoch: [31]  [  0/180]  eta: 0:01:54  lr: 0.000781  loss: 0.4377 (0.4377)  loss_classifier: 0.0931 (0.0931)  loss_box_reg: 0.1429 (0.1429)  loss_objectness: 0.1119 (0.1119)  loss_rpn_box_reg: 0.0898 (0.0898)  time: 0.6366  data: 0.4014  max mem: 576\n",
      "Epoch: [31]  [100/180]  eta: 0:00:18  lr: 0.000774  loss: 0.4922 (0.5328)  loss_classifier: 0.1081 (0.1181)  loss_box_reg: 0.1660 (0.1900)  loss_objectness: 0.1239 (0.1342)  loss_rpn_box_reg: 0.0907 (0.0906)  time: 0.2175  data: 0.0036  max mem: 576\n",
      "Epoch: [31]  [179/180]  eta: 0:00:00  lr: 0.000768  loss: 0.4926 (0.5381)  loss_classifier: 0.1062 (0.1195)  loss_box_reg: 0.1628 (0.1913)  loss_objectness: 0.1413 (0.1350)  loss_rpn_box_reg: 0.0718 (0.0924)  time: 0.2226  data: 0.0037  max mem: 576\n",
      "Epoch: [31] Total time: 0:00:40 (0.2251 s / it)\n"
     ]
    },
    {
     "name": "stdout",
     "output_type": "stream",
     "text": [
      "creating index...\n",
      "index created!\n"
     ]
    },
    {
     "name": "stderr",
     "output_type": "stream",
     "text": [
      "Test:  [ 0/39]  eta: 0:00:21  model_time: 0.1318 (0.1318)  evaluator_time: 0.0140 (0.0140)  time: 0.5625  data: 0.4010  max mem: 576\n",
      "Test:  [38/39]  eta: 0:00:00  model_time: 0.1353 (0.1428)  evaluator_time: 0.0243 (0.0349)  time: 0.1875  data: 0.0033  max mem: 576\n",
      "Test: Total time: 0:00:07 (0.1971 s / it)\n"
     ]
    },
    {
     "name": "stdout",
     "output_type": "stream",
     "text": [
      "Averaged stats: model_time: 0.1353 (0.1428)  evaluator_time: 0.0243 (0.0349)\n",
      "Accumulating evaluation results...\n",
      "DONE (t=0.10s).\n",
      "IoU metric: bbox\n",
      " Average Precision  (AP) @[ IoU=0.50:0.95 | area=   all | maxDets=100 ] = 0.113\n",
      " Average Precision  (AP) @[ IoU=0.50      | area=   all | maxDets=100 ] = 0.349\n",
      " Average Precision  (AP) @[ IoU=0.75      | area=   all | maxDets=100 ] = 0.041\n",
      " Average Precision  (AP) @[ IoU=0.50:0.95 | area= small | maxDets=100 ] = 0.103\n",
      " Average Precision  (AP) @[ IoU=0.50:0.95 | area=medium | maxDets=100 ] = 0.151\n",
      " Average Precision  (AP) @[ IoU=0.50:0.95 | area= large | maxDets=100 ] = 0.184\n",
      " Average Recall     (AR) @[ IoU=0.50:0.95 | area=   all | maxDets=  1 ] = 0.057\n",
      " Average Recall     (AR) @[ IoU=0.50:0.95 | area=   all | maxDets= 10 ] = 0.215\n",
      " Average Recall     (AR) @[ IoU=0.50:0.95 | area=   all | maxDets=100 ] = 0.307\n",
      " Average Recall     (AR) @[ IoU=0.50:0.95 | area= small | maxDets=100 ] = 0.274\n",
      " Average Recall     (AR) @[ IoU=0.50:0.95 | area=medium | maxDets=100 ] = 0.403\n",
      " Average Recall     (AR) @[ IoU=0.50:0.95 | area= large | maxDets=100 ] = 0.532\n",
      "0.11272315277418536 0.34872981662972774\n",
      "SAVING PLOTS COMPLETE...\n",
      "SAVING PLOTS COMPLETE...\n",
      "SAVING PLOTS COMPLETE...\n",
      "SAVING PLOTS COMPLETE...\n",
      "SAVING PLOTS COMPLETE...\n",
      "SAVING PLOTS COMPLETE...\n"
     ]
    },
    {
     "name": "stderr",
     "output_type": "stream",
     "text": [
      "Epoch: [32]  [  0/180]  eta: 0:02:05  lr: 0.000768  loss: 0.5310 (0.5310)  loss_classifier: 0.1240 (0.1240)  loss_box_reg: 0.1802 (0.1802)  loss_objectness: 0.1524 (0.1524)  loss_rpn_box_reg: 0.0744 (0.0744)  time: 0.6994  data: 0.4669  max mem: 576\n",
      "Epoch: [32]  [100/180]  eta: 0:00:18  lr: 0.000761  loss: 0.5393 (0.5289)  loss_classifier: 0.1200 (0.1177)  loss_box_reg: 0.1803 (0.1871)  loss_objectness: 0.1375 (0.1328)  loss_rpn_box_reg: 0.0903 (0.0914)  time: 0.2175  data: 0.0037  max mem: 576\n",
      "Epoch: [32]  [179/180]  eta: 0:00:00  lr: 0.000755  loss: 0.4635 (0.5367)  loss_classifier: 0.1034 (0.1195)  loss_box_reg: 0.1672 (0.1912)  loss_objectness: 0.1211 (0.1338)  loss_rpn_box_reg: 0.0743 (0.0922)  time: 0.2203  data: 0.0036  max mem: 576\n",
      "Epoch: [32] Total time: 0:00:40 (0.2264 s / it)\n"
     ]
    },
    {
     "name": "stdout",
     "output_type": "stream",
     "text": [
      "creating index...\n",
      "index created!\n"
     ]
    },
    {
     "name": "stderr",
     "output_type": "stream",
     "text": [
      "Test:  [ 0/39]  eta: 0:00:24  model_time: 0.1369 (0.1369)  evaluator_time: 0.0163 (0.0163)  time: 0.6304  data: 0.4602  max mem: 576\n",
      "Test:  [38/39]  eta: 0:00:00  model_time: 0.1326 (0.1367)  evaluator_time: 0.0265 (0.0369)  time: 0.1791  data: 0.0033  max mem: 576\n",
      "Test: Total time: 0:00:07 (0.1949 s / it)\n"
     ]
    },
    {
     "name": "stdout",
     "output_type": "stream",
     "text": [
      "Averaged stats: model_time: 0.1326 (0.1367)  evaluator_time: 0.0265 (0.0369)\n",
      "Accumulating evaluation results...\n",
      "DONE (t=0.11s).\n",
      "IoU metric: bbox\n",
      " Average Precision  (AP) @[ IoU=0.50:0.95 | area=   all | maxDets=100 ] = 0.121\n",
      " Average Precision  (AP) @[ IoU=0.50      | area=   all | maxDets=100 ] = 0.357\n",
      " Average Precision  (AP) @[ IoU=0.75      | area=   all | maxDets=100 ] = 0.051\n",
      " Average Precision  (AP) @[ IoU=0.50:0.95 | area= small | maxDets=100 ] = 0.110\n",
      " Average Precision  (AP) @[ IoU=0.50:0.95 | area=medium | maxDets=100 ] = 0.154\n",
      " Average Precision  (AP) @[ IoU=0.50:0.95 | area= large | maxDets=100 ] = 0.244\n",
      " Average Recall     (AR) @[ IoU=0.50:0.95 | area=   all | maxDets=  1 ] = 0.061\n",
      " Average Recall     (AR) @[ IoU=0.50:0.95 | area=   all | maxDets= 10 ] = 0.219\n",
      " Average Recall     (AR) @[ IoU=0.50:0.95 | area=   all | maxDets=100 ] = 0.323\n",
      " Average Recall     (AR) @[ IoU=0.50:0.95 | area= small | maxDets=100 ] = 0.294\n",
      " Average Recall     (AR) @[ IoU=0.50:0.95 | area=medium | maxDets=100 ] = 0.406\n",
      " Average Recall     (AR) @[ IoU=0.50:0.95 | area= large | maxDets=100 ] = 0.563\n",
      "0.12140044376863607 0.35721270315494225\n",
      "SAVING PLOTS COMPLETE...\n",
      "SAVING PLOTS COMPLETE...\n",
      "SAVING PLOTS COMPLETE...\n",
      "SAVING PLOTS COMPLETE...\n",
      "SAVING PLOTS COMPLETE...\n",
      "SAVING PLOTS COMPLETE...\n"
     ]
    },
    {
     "name": "stderr",
     "output_type": "stream",
     "text": [
      "Epoch: [33]  [  0/180]  eta: 0:01:56  lr: 0.000755  loss: 0.5577 (0.5577)  loss_classifier: 0.1289 (0.1289)  loss_box_reg: 0.1921 (0.1921)  loss_objectness: 0.1473 (0.1473)  loss_rpn_box_reg: 0.0893 (0.0893)  time: 0.6447  data: 0.4146  max mem: 576\n",
      "Epoch: [33]  [100/180]  eta: 0:00:18  lr: 0.000747  loss: 0.4557 (0.5345)  loss_classifier: 0.1117 (0.1202)  loss_box_reg: 0.1743 (0.1892)  loss_objectness: 0.1132 (0.1351)  loss_rpn_box_reg: 0.0633 (0.0901)  time: 0.2230  data: 0.0036  max mem: 576\n",
      "Epoch: [33]  [179/180]  eta: 0:00:00  lr: 0.000741  loss: 0.5510 (0.5320)  loss_classifier: 0.1259 (0.1186)  loss_box_reg: 0.2001 (0.1891)  loss_objectness: 0.1397 (0.1330)  loss_rpn_box_reg: 0.0950 (0.0912)  time: 0.2233  data: 0.0037  max mem: 576\n",
      "Epoch: [33] Total time: 0:00:40 (0.2250 s / it)\n"
     ]
    },
    {
     "name": "stdout",
     "output_type": "stream",
     "text": [
      "creating index...\n",
      "index created!\n"
     ]
    },
    {
     "name": "stderr",
     "output_type": "stream",
     "text": [
      "Test:  [ 0/39]  eta: 0:00:25  model_time: 0.1334 (0.1334)  evaluator_time: 0.0159 (0.0159)  time: 0.6666  data: 0.5007  max mem: 576\n",
      "Test:  [38/39]  eta: 0:00:00  model_time: 0.1313 (0.1359)  evaluator_time: 0.0247 (0.0365)  time: 0.1826  data: 0.0033  max mem: 576\n",
      "Test: Total time: 0:00:07 (0.1949 s / it)\n"
     ]
    },
    {
     "name": "stdout",
     "output_type": "stream",
     "text": [
      "Averaged stats: model_time: 0.1313 (0.1359)  evaluator_time: 0.0247 (0.0365)\n",
      "Accumulating evaluation results...\n",
      "DONE (t=0.11s).\n",
      "IoU metric: bbox\n",
      " Average Precision  (AP) @[ IoU=0.50:0.95 | area=   all | maxDets=100 ] = 0.108\n",
      " Average Precision  (AP) @[ IoU=0.50      | area=   all | maxDets=100 ] = 0.335\n",
      " Average Precision  (AP) @[ IoU=0.75      | area=   all | maxDets=100 ] = 0.037\n",
      " Average Precision  (AP) @[ IoU=0.50:0.95 | area= small | maxDets=100 ] = 0.096\n",
      " Average Precision  (AP) @[ IoU=0.50:0.95 | area=medium | maxDets=100 ] = 0.145\n",
      " Average Precision  (AP) @[ IoU=0.50:0.95 | area= large | maxDets=100 ] = 0.181\n",
      " Average Recall     (AR) @[ IoU=0.50:0.95 | area=   all | maxDets=  1 ] = 0.056\n",
      " Average Recall     (AR) @[ IoU=0.50:0.95 | area=   all | maxDets= 10 ] = 0.202\n",
      " Average Recall     (AR) @[ IoU=0.50:0.95 | area=   all | maxDets=100 ] = 0.302\n",
      " Average Recall     (AR) @[ IoU=0.50:0.95 | area= small | maxDets=100 ] = 0.272\n",
      " Average Recall     (AR) @[ IoU=0.50:0.95 | area=medium | maxDets=100 ] = 0.389\n",
      " Average Recall     (AR) @[ IoU=0.50:0.95 | area= large | maxDets=100 ] = 0.495\n",
      "0.10775349510426457 0.3345247617882278\n",
      "SAVING PLOTS COMPLETE...\n",
      "SAVING PLOTS COMPLETE...\n",
      "SAVING PLOTS COMPLETE...\n",
      "SAVING PLOTS COMPLETE...\n",
      "SAVING PLOTS COMPLETE...\n",
      "SAVING PLOTS COMPLETE...\n"
     ]
    },
    {
     "name": "stderr",
     "output_type": "stream",
     "text": [
      "Epoch: [34]  [  0/180]  eta: 0:02:07  lr: 0.000741  loss: 0.4006 (0.4006)  loss_classifier: 0.0888 (0.0888)  loss_box_reg: 0.1483 (0.1483)  loss_objectness: 0.0940 (0.0940)  loss_rpn_box_reg: 0.0694 (0.0694)  time: 0.7073  data: 0.4628  max mem: 576\n",
      "Epoch: [34]  [100/180]  eta: 0:00:18  lr: 0.000733  loss: 0.4953 (0.5316)  loss_classifier: 0.1074 (0.1174)  loss_box_reg: 0.1870 (0.1890)  loss_objectness: 0.1101 (0.1346)  loss_rpn_box_reg: 0.0828 (0.0906)  time: 0.2294  data: 0.0039  max mem: 576\n",
      "Epoch: [34]  [179/180]  eta: 0:00:00  lr: 0.000727  loss: 0.5032 (0.5321)  loss_classifier: 0.1164 (0.1180)  loss_box_reg: 0.1946 (0.1905)  loss_objectness: 0.1249 (0.1326)  loss_rpn_box_reg: 0.0815 (0.0909)  time: 0.2252  data: 0.0038  max mem: 576\n",
      "Epoch: [34] Total time: 0:00:41 (0.2282 s / it)\n"
     ]
    },
    {
     "name": "stdout",
     "output_type": "stream",
     "text": [
      "creating index...\n",
      "index created!\n"
     ]
    },
    {
     "name": "stderr",
     "output_type": "stream",
     "text": [
      "Test:  [ 0/39]  eta: 0:00:25  model_time: 0.1311 (0.1311)  evaluator_time: 0.0139 (0.0139)  time: 0.6631  data: 0.5019  max mem: 576\n",
      "Test:  [38/39]  eta: 0:00:00  model_time: 0.1326 (0.1378)  evaluator_time: 0.0252 (0.0343)  time: 0.1862  data: 0.0033  max mem: 576\n",
      "Test: Total time: 0:00:07 (0.1945 s / it)\n"
     ]
    },
    {
     "name": "stdout",
     "output_type": "stream",
     "text": [
      "Averaged stats: model_time: 0.1326 (0.1378)  evaluator_time: 0.0252 (0.0343)\n",
      "Accumulating evaluation results...\n",
      "DONE (t=0.10s).\n",
      "IoU metric: bbox\n",
      " Average Precision  (AP) @[ IoU=0.50:0.95 | area=   all | maxDets=100 ] = 0.113\n",
      " Average Precision  (AP) @[ IoU=0.50      | area=   all | maxDets=100 ] = 0.348\n",
      " Average Precision  (AP) @[ IoU=0.75      | area=   all | maxDets=100 ] = 0.050\n",
      " Average Precision  (AP) @[ IoU=0.50:0.95 | area= small | maxDets=100 ] = 0.104\n",
      " Average Precision  (AP) @[ IoU=0.50:0.95 | area=medium | maxDets=100 ] = 0.151\n",
      " Average Precision  (AP) @[ IoU=0.50:0.95 | area= large | maxDets=100 ] = 0.183\n",
      " Average Recall     (AR) @[ IoU=0.50:0.95 | area=   all | maxDets=  1 ] = 0.057\n",
      " Average Recall     (AR) @[ IoU=0.50:0.95 | area=   all | maxDets= 10 ] = 0.210\n",
      " Average Recall     (AR) @[ IoU=0.50:0.95 | area=   all | maxDets=100 ] = 0.309\n",
      " Average Recall     (AR) @[ IoU=0.50:0.95 | area= small | maxDets=100 ] = 0.279\n",
      " Average Recall     (AR) @[ IoU=0.50:0.95 | area=medium | maxDets=100 ] = 0.397\n",
      " Average Recall     (AR) @[ IoU=0.50:0.95 | area= large | maxDets=100 ] = 0.542\n",
      "0.11301870835092008 0.3483703813541241\n",
      "SAVING PLOTS COMPLETE...\n",
      "SAVING PLOTS COMPLETE...\n",
      "SAVING PLOTS COMPLETE...\n",
      "SAVING PLOTS COMPLETE...\n",
      "SAVING PLOTS COMPLETE...\n",
      "SAVING PLOTS COMPLETE...\n"
     ]
    },
    {
     "name": "stderr",
     "output_type": "stream",
     "text": [
      "Epoch: [35]  [  0/180]  eta: 0:02:06  lr: 0.000727  loss: 0.5408 (0.5408)  loss_classifier: 0.1152 (0.1152)  loss_box_reg: 0.2273 (0.2273)  loss_objectness: 0.1149 (0.1149)  loss_rpn_box_reg: 0.0834 (0.0834)  time: 0.7039  data: 0.4725  max mem: 576\n",
      "Epoch: [35]  [100/180]  eta: 0:00:18  lr: 0.000719  loss: 0.5529 (0.5121)  loss_classifier: 0.1109 (0.1146)  loss_box_reg: 0.1814 (0.1852)  loss_objectness: 0.1459 (0.1273)  loss_rpn_box_reg: 0.0938 (0.0851)  time: 0.2202  data: 0.0037  max mem: 576\n",
      "Epoch: [35]  [179/180]  eta: 0:00:00  lr: 0.000713  loss: 0.5796 (0.5301)  loss_classifier: 0.1263 (0.1180)  loss_box_reg: 0.2012 (0.1906)  loss_objectness: 0.1425 (0.1313)  loss_rpn_box_reg: 0.0900 (0.0903)  time: 0.2205  data: 0.0036  max mem: 576\n",
      "Epoch: [35] Total time: 0:00:40 (0.2258 s / it)\n"
     ]
    },
    {
     "name": "stdout",
     "output_type": "stream",
     "text": [
      "creating index...\n",
      "index created!\n"
     ]
    },
    {
     "name": "stderr",
     "output_type": "stream",
     "text": [
      "Test:  [ 0/39]  eta: 0:00:22  model_time: 0.1333 (0.1333)  evaluator_time: 0.0149 (0.0149)  time: 0.5717  data: 0.4064  max mem: 576\n",
      "Test:  [38/39]  eta: 0:00:00  model_time: 0.1293 (0.1371)  evaluator_time: 0.0266 (0.0366)  time: 0.1835  data: 0.0032  max mem: 576\n",
      "Test: Total time: 0:00:07 (0.1937 s / it)\n"
     ]
    },
    {
     "name": "stdout",
     "output_type": "stream",
     "text": [
      "Averaged stats: model_time: 0.1293 (0.1371)  evaluator_time: 0.0266 (0.0366)\n",
      "Accumulating evaluation results...\n",
      "DONE (t=0.11s).\n",
      "IoU metric: bbox\n",
      " Average Precision  (AP) @[ IoU=0.50:0.95 | area=   all | maxDets=100 ] = 0.117\n",
      " Average Precision  (AP) @[ IoU=0.50      | area=   all | maxDets=100 ] = 0.349\n",
      " Average Precision  (AP) @[ IoU=0.75      | area=   all | maxDets=100 ] = 0.049\n",
      " Average Precision  (AP) @[ IoU=0.50:0.95 | area= small | maxDets=100 ] = 0.107\n",
      " Average Precision  (AP) @[ IoU=0.50:0.95 | area=medium | maxDets=100 ] = 0.156\n",
      " Average Precision  (AP) @[ IoU=0.50:0.95 | area= large | maxDets=100 ] = 0.214\n",
      " Average Recall     (AR) @[ IoU=0.50:0.95 | area=   all | maxDets=  1 ] = 0.062\n",
      " Average Recall     (AR) @[ IoU=0.50:0.95 | area=   all | maxDets= 10 ] = 0.212\n",
      " Average Recall     (AR) @[ IoU=0.50:0.95 | area=   all | maxDets=100 ] = 0.312\n",
      " Average Recall     (AR) @[ IoU=0.50:0.95 | area= small | maxDets=100 ] = 0.283\n",
      " Average Recall     (AR) @[ IoU=0.50:0.95 | area=medium | maxDets=100 ] = 0.395\n",
      " Average Recall     (AR) @[ IoU=0.50:0.95 | area= large | maxDets=100 ] = 0.563\n",
      "0.11703849393832984 0.3489711260546985\n",
      "SAVING PLOTS COMPLETE...\n",
      "SAVING PLOTS COMPLETE...\n",
      "SAVING PLOTS COMPLETE...\n",
      "SAVING PLOTS COMPLETE...\n",
      "SAVING PLOTS COMPLETE...\n",
      "SAVING PLOTS COMPLETE...\n"
     ]
    },
    {
     "name": "stderr",
     "output_type": "stream",
     "text": [
      "Epoch: [36]  [  0/180]  eta: 0:02:04  lr: 0.000713  loss: 0.2852 (0.2852)  loss_classifier: 0.0649 (0.0649)  loss_box_reg: 0.1020 (0.1020)  loss_objectness: 0.0818 (0.0818)  loss_rpn_box_reg: 0.0364 (0.0364)  time: 0.6916  data: 0.4544  max mem: 576\n",
      "Epoch: [36]  [100/180]  eta: 0:00:18  lr: 0.000705  loss: 0.5501 (0.5322)  loss_classifier: 0.1215 (0.1188)  loss_box_reg: 0.1961 (0.1929)  loss_objectness: 0.1484 (0.1283)  loss_rpn_box_reg: 0.0989 (0.0921)  time: 0.2237  data: 0.0038  max mem: 576\n",
      "Epoch: [36]  [179/180]  eta: 0:00:00  lr: 0.000699  loss: 0.5236 (0.5293)  loss_classifier: 0.1194 (0.1185)  loss_box_reg: 0.2031 (0.1916)  loss_objectness: 0.1355 (0.1294)  loss_rpn_box_reg: 0.0795 (0.0898)  time: 0.2199  data: 0.0037  max mem: 576\n",
      "Epoch: [36] Total time: 0:00:40 (0.2273 s / it)\n"
     ]
    },
    {
     "name": "stdout",
     "output_type": "stream",
     "text": [
      "creating index...\n",
      "index created!\n"
     ]
    },
    {
     "name": "stderr",
     "output_type": "stream",
     "text": [
      "Test:  [ 0/39]  eta: 0:00:26  model_time: 0.1393 (0.1393)  evaluator_time: 0.0166 (0.0166)  time: 0.6748  data: 0.5018  max mem: 576\n",
      "Test:  [38/39]  eta: 0:00:00  model_time: 0.1326 (0.1354)  evaluator_time: 0.0254 (0.0366)  time: 0.1761  data: 0.0033  max mem: 576\n",
      "Test: Total time: 0:00:07 (0.1943 s / it)\n"
     ]
    },
    {
     "name": "stdout",
     "output_type": "stream",
     "text": [
      "Averaged stats: model_time: 0.1326 (0.1354)  evaluator_time: 0.0254 (0.0366)\n",
      "Accumulating evaluation results...\n",
      "DONE (t=0.12s).\n",
      "IoU metric: bbox\n",
      " Average Precision  (AP) @[ IoU=0.50:0.95 | area=   all | maxDets=100 ] = 0.113\n",
      " Average Precision  (AP) @[ IoU=0.50      | area=   all | maxDets=100 ] = 0.353\n",
      " Average Precision  (AP) @[ IoU=0.75      | area=   all | maxDets=100 ] = 0.038\n",
      " Average Precision  (AP) @[ IoU=0.50:0.95 | area= small | maxDets=100 ] = 0.101\n",
      " Average Precision  (AP) @[ IoU=0.50:0.95 | area=medium | maxDets=100 ] = 0.157\n",
      " Average Precision  (AP) @[ IoU=0.50:0.95 | area= large | maxDets=100 ] = 0.185\n",
      " Average Recall     (AR) @[ IoU=0.50:0.95 | area=   all | maxDets=  1 ] = 0.063\n",
      " Average Recall     (AR) @[ IoU=0.50:0.95 | area=   all | maxDets= 10 ] = 0.210\n",
      " Average Recall     (AR) @[ IoU=0.50:0.95 | area=   all | maxDets=100 ] = 0.312\n",
      " Average Recall     (AR) @[ IoU=0.50:0.95 | area= small | maxDets=100 ] = 0.279\n",
      " Average Recall     (AR) @[ IoU=0.50:0.95 | area=medium | maxDets=100 ] = 0.410\n",
      " Average Recall     (AR) @[ IoU=0.50:0.95 | area= large | maxDets=100 ] = 0.505\n",
      "0.11308312536056973 0.3525407537508122\n",
      "SAVING PLOTS COMPLETE...\n",
      "SAVING PLOTS COMPLETE...\n",
      "SAVING PLOTS COMPLETE...\n",
      "SAVING PLOTS COMPLETE...\n",
      "SAVING PLOTS COMPLETE...\n",
      "SAVING PLOTS COMPLETE...\n"
     ]
    },
    {
     "name": "stderr",
     "output_type": "stream",
     "text": [
      "Epoch: [37]  [  0/180]  eta: 0:01:56  lr: 0.000699  loss: 0.3154 (0.3154)  loss_classifier: 0.0683 (0.0683)  loss_box_reg: 0.1188 (0.1188)  loss_objectness: 0.0807 (0.0807)  loss_rpn_box_reg: 0.0477 (0.0477)  time: 0.6457  data: 0.4107  max mem: 576\n",
      "Epoch: [37]  [100/180]  eta: 0:00:18  lr: 0.000691  loss: 0.4904 (0.5163)  loss_classifier: 0.1145 (0.1160)  loss_box_reg: 0.1864 (0.1861)  loss_objectness: 0.1287 (0.1276)  loss_rpn_box_reg: 0.0835 (0.0866)  time: 0.2233  data: 0.0037  max mem: 576\n",
      "Epoch: [37]  [179/180]  eta: 0:00:00  lr: 0.000684  loss: 0.4973 (0.5246)  loss_classifier: 0.1146 (0.1169)  loss_box_reg: 0.1850 (0.1893)  loss_objectness: 0.1158 (0.1286)  loss_rpn_box_reg: 0.0794 (0.0898)  time: 0.2224  data: 0.0039  max mem: 576\n",
      "Epoch: [37] Total time: 0:00:40 (0.2264 s / it)\n"
     ]
    },
    {
     "name": "stdout",
     "output_type": "stream",
     "text": [
      "creating index...\n",
      "index created!\n"
     ]
    },
    {
     "name": "stderr",
     "output_type": "stream",
     "text": [
      "Test:  [ 0/39]  eta: 0:00:23  model_time: 0.1302 (0.1302)  evaluator_time: 0.0131 (0.0131)  time: 0.6052  data: 0.4455  max mem: 576\n",
      "Test:  [38/39]  eta: 0:00:00  model_time: 0.1317 (0.1319)  evaluator_time: 0.0238 (0.0333)  time: 0.1711  data: 0.0033  max mem: 576\n",
      "Test: Total time: 0:00:07 (0.1866 s / it)\n"
     ]
    },
    {
     "name": "stdout",
     "output_type": "stream",
     "text": [
      "Averaged stats: model_time: 0.1317 (0.1319)  evaluator_time: 0.0238 (0.0333)\n",
      "Accumulating evaluation results...\n",
      "DONE (t=0.10s).\n",
      "IoU metric: bbox\n",
      " Average Precision  (AP) @[ IoU=0.50:0.95 | area=   all | maxDets=100 ] = 0.120\n",
      " Average Precision  (AP) @[ IoU=0.50      | area=   all | maxDets=100 ] = 0.344\n",
      " Average Precision  (AP) @[ IoU=0.75      | area=   all | maxDets=100 ] = 0.051\n",
      " Average Precision  (AP) @[ IoU=0.50:0.95 | area= small | maxDets=100 ] = 0.107\n",
      " Average Precision  (AP) @[ IoU=0.50:0.95 | area=medium | maxDets=100 ] = 0.168\n",
      " Average Precision  (AP) @[ IoU=0.50:0.95 | area= large | maxDets=100 ] = 0.208\n",
      " Average Recall     (AR) @[ IoU=0.50:0.95 | area=   all | maxDets=  1 ] = 0.061\n",
      " Average Recall     (AR) @[ IoU=0.50:0.95 | area=   all | maxDets= 10 ] = 0.217\n",
      " Average Recall     (AR) @[ IoU=0.50:0.95 | area=   all | maxDets=100 ] = 0.314\n",
      " Average Recall     (AR) @[ IoU=0.50:0.95 | area= small | maxDets=100 ] = 0.282\n",
      " Average Recall     (AR) @[ IoU=0.50:0.95 | area=medium | maxDets=100 ] = 0.408\n",
      " Average Recall     (AR) @[ IoU=0.50:0.95 | area= large | maxDets=100 ] = 0.568\n",
      "0.11963848083067112 0.3440724985222708\n",
      "SAVING PLOTS COMPLETE...\n",
      "SAVING PLOTS COMPLETE...\n",
      "SAVING PLOTS COMPLETE...\n",
      "SAVING PLOTS COMPLETE...\n",
      "SAVING PLOTS COMPLETE...\n",
      "SAVING PLOTS COMPLETE...\n"
     ]
    },
    {
     "name": "stderr",
     "output_type": "stream",
     "text": [
      "Epoch: [38]  [  0/180]  eta: 0:01:57  lr: 0.000684  loss: 0.5382 (0.5382)  loss_classifier: 0.1352 (0.1352)  loss_box_reg: 0.1937 (0.1937)  loss_objectness: 0.1287 (0.1287)  loss_rpn_box_reg: 0.0806 (0.0806)  time: 0.6533  data: 0.4079  max mem: 576\n",
      "Epoch: [38]  [100/180]  eta: 0:00:18  lr: 0.000676  loss: 0.5153 (0.5284)  loss_classifier: 0.1136 (0.1190)  loss_box_reg: 0.2064 (0.1935)  loss_objectness: 0.1111 (0.1254)  loss_rpn_box_reg: 0.0995 (0.0906)  time: 0.2234  data: 0.0038  max mem: 576\n",
      "Epoch: [38]  [179/180]  eta: 0:00:00  lr: 0.000669  loss: 0.4471 (0.5254)  loss_classifier: 0.1046 (0.1184)  loss_box_reg: 0.1605 (0.1910)  loss_objectness: 0.1067 (0.1268)  loss_rpn_box_reg: 0.0592 (0.0893)  time: 0.2212  data: 0.0037  max mem: 576\n",
      "Epoch: [38] Total time: 0:00:40 (0.2265 s / it)\n"
     ]
    },
    {
     "name": "stdout",
     "output_type": "stream",
     "text": [
      "creating index...\n",
      "index created!\n"
     ]
    },
    {
     "name": "stderr",
     "output_type": "stream",
     "text": [
      "Test:  [ 0/39]  eta: 0:00:26  model_time: 0.1379 (0.1379)  evaluator_time: 0.0157 (0.0157)  time: 0.6793  data: 0.5080  max mem: 576\n",
      "Test:  [38/39]  eta: 0:00:00  model_time: 0.1453 (0.1449)  evaluator_time: 0.0249 (0.0344)  time: 0.1861  data: 0.0033  max mem: 576\n",
      "Test: Total time: 0:00:07 (0.2021 s / it)\n"
     ]
    },
    {
     "name": "stdout",
     "output_type": "stream",
     "text": [
      "Averaged stats: model_time: 0.1453 (0.1449)  evaluator_time: 0.0249 (0.0344)\n",
      "Accumulating evaluation results...\n",
      "DONE (t=0.10s).\n",
      "IoU metric: bbox\n",
      " Average Precision  (AP) @[ IoU=0.50:0.95 | area=   all | maxDets=100 ] = 0.119\n",
      " Average Precision  (AP) @[ IoU=0.50      | area=   all | maxDets=100 ] = 0.360\n",
      " Average Precision  (AP) @[ IoU=0.75      | area=   all | maxDets=100 ] = 0.051\n",
      " Average Precision  (AP) @[ IoU=0.50:0.95 | area= small | maxDets=100 ] = 0.105\n",
      " Average Precision  (AP) @[ IoU=0.50:0.95 | area=medium | maxDets=100 ] = 0.161\n",
      " Average Precision  (AP) @[ IoU=0.50:0.95 | area= large | maxDets=100 ] = 0.224\n",
      " Average Recall     (AR) @[ IoU=0.50:0.95 | area=   all | maxDets=  1 ] = 0.066\n",
      " Average Recall     (AR) @[ IoU=0.50:0.95 | area=   all | maxDets= 10 ] = 0.216\n",
      " Average Recall     (AR) @[ IoU=0.50:0.95 | area=   all | maxDets=100 ] = 0.309\n",
      " Average Recall     (AR) @[ IoU=0.50:0.95 | area= small | maxDets=100 ] = 0.279\n",
      " Average Recall     (AR) @[ IoU=0.50:0.95 | area=medium | maxDets=100 ] = 0.396\n",
      " Average Recall     (AR) @[ IoU=0.50:0.95 | area= large | maxDets=100 ] = 0.537\n",
      "0.11905315713845244 0.359592047379527\n",
      "SAVING PLOTS COMPLETE...\n",
      "SAVING PLOTS COMPLETE...\n",
      "SAVING PLOTS COMPLETE...\n",
      "SAVING PLOTS COMPLETE...\n",
      "SAVING PLOTS COMPLETE...\n",
      "SAVING PLOTS COMPLETE...\n"
     ]
    },
    {
     "name": "stderr",
     "output_type": "stream",
     "text": [
      "Epoch: [39]  [  0/180]  eta: 0:01:55  lr: 0.000669  loss: 0.6265 (0.6265)  loss_classifier: 0.1587 (0.1587)  loss_box_reg: 0.2522 (0.2522)  loss_objectness: 0.1403 (0.1403)  loss_rpn_box_reg: 0.0755 (0.0755)  time: 0.6393  data: 0.4046  max mem: 576\n",
      "Epoch: [39]  [100/180]  eta: 0:00:18  lr: 0.000661  loss: 0.5003 (0.5022)  loss_classifier: 0.1107 (0.1124)  loss_box_reg: 0.1855 (0.1824)  loss_objectness: 0.1211 (0.1221)  loss_rpn_box_reg: 0.0768 (0.0854)  time: 0.2264  data: 0.0039  max mem: 576\n",
      "Epoch: [39]  [179/180]  eta: 0:00:00  lr: 0.000655  loss: 0.5351 (0.5214)  loss_classifier: 0.1175 (0.1169)  loss_box_reg: 0.1917 (0.1897)  loss_objectness: 0.1357 (0.1258)  loss_rpn_box_reg: 0.0951 (0.0890)  time: 0.2221  data: 0.0037  max mem: 576\n",
      "Epoch: [39] Total time: 0:00:40 (0.2274 s / it)\n"
     ]
    },
    {
     "name": "stdout",
     "output_type": "stream",
     "text": [
      "creating index...\n",
      "index created!\n"
     ]
    },
    {
     "name": "stderr",
     "output_type": "stream",
     "text": [
      "Test:  [ 0/39]  eta: 0:00:24  model_time: 0.1362 (0.1362)  evaluator_time: 0.0144 (0.0144)  time: 0.6216  data: 0.4546  max mem: 576\n",
      "Test:  [38/39]  eta: 0:00:00  model_time: 0.1310 (0.1346)  evaluator_time: 0.0243 (0.0336)  time: 0.1710  data: 0.0033  max mem: 576\n",
      "Test: Total time: 0:00:07 (0.1891 s / it)\n"
     ]
    },
    {
     "name": "stdout",
     "output_type": "stream",
     "text": [
      "Averaged stats: model_time: 0.1310 (0.1346)  evaluator_time: 0.0243 (0.0336)\n",
      "Accumulating evaluation results...\n",
      "DONE (t=0.10s).\n",
      "IoU metric: bbox\n",
      " Average Precision  (AP) @[ IoU=0.50:0.95 | area=   all | maxDets=100 ] = 0.112\n",
      " Average Precision  (AP) @[ IoU=0.50      | area=   all | maxDets=100 ] = 0.348\n",
      " Average Precision  (AP) @[ IoU=0.75      | area=   all | maxDets=100 ] = 0.045\n",
      " Average Precision  (AP) @[ IoU=0.50:0.95 | area= small | maxDets=100 ] = 0.101\n",
      " Average Precision  (AP) @[ IoU=0.50:0.95 | area=medium | maxDets=100 ] = 0.150\n",
      " Average Precision  (AP) @[ IoU=0.50:0.95 | area= large | maxDets=100 ] = 0.219\n",
      " Average Recall     (AR) @[ IoU=0.50:0.95 | area=   all | maxDets=  1 ] = 0.060\n",
      " Average Recall     (AR) @[ IoU=0.50:0.95 | area=   all | maxDets= 10 ] = 0.211\n",
      " Average Recall     (AR) @[ IoU=0.50:0.95 | area=   all | maxDets=100 ] = 0.307\n",
      " Average Recall     (AR) @[ IoU=0.50:0.95 | area= small | maxDets=100 ] = 0.277\n",
      " Average Recall     (AR) @[ IoU=0.50:0.95 | area=medium | maxDets=100 ] = 0.395\n",
      " Average Recall     (AR) @[ IoU=0.50:0.95 | area= large | maxDets=100 ] = 0.547\n",
      "0.11193160709435923 0.348332963084792\n",
      "SAVING PLOTS COMPLETE...\n",
      "SAVING PLOTS COMPLETE...\n",
      "SAVING PLOTS COMPLETE...\n",
      "SAVING PLOTS COMPLETE...\n",
      "SAVING PLOTS COMPLETE...\n",
      "SAVING PLOTS COMPLETE...\n"
     ]
    },
    {
     "name": "stderr",
     "output_type": "stream",
     "text": [
      "Epoch: [40]  [  0/180]  eta: 0:02:06  lr: 0.000655  loss: 0.5589 (0.5589)  loss_classifier: 0.1149 (0.1149)  loss_box_reg: 0.1988 (0.1988)  loss_objectness: 0.1346 (0.1346)  loss_rpn_box_reg: 0.1105 (0.1105)  time: 0.7004  data: 0.4571  max mem: 576\n",
      "Epoch: [40]  [100/180]  eta: 0:00:18  lr: 0.000646  loss: 0.4349 (0.5122)  loss_classifier: 0.0968 (0.1150)  loss_box_reg: 0.1645 (0.1894)  loss_objectness: 0.1092 (0.1206)  loss_rpn_box_reg: 0.0568 (0.0872)  time: 0.2266  data: 0.0039  max mem: 576\n",
      "Epoch: [40]  [179/180]  eta: 0:00:00  lr: 0.000640  loss: 0.4816 (0.5199)  loss_classifier: 0.1112 (0.1168)  loss_box_reg: 0.1804 (0.1898)  loss_objectness: 0.1158 (0.1250)  loss_rpn_box_reg: 0.0747 (0.0884)  time: 0.2215  data: 0.0038  max mem: 576\n",
      "Epoch: [40] Total time: 0:00:41 (0.2288 s / it)\n"
     ]
    },
    {
     "name": "stdout",
     "output_type": "stream",
     "text": [
      "creating index...\n",
      "index created!\n"
     ]
    },
    {
     "name": "stderr",
     "output_type": "stream",
     "text": [
      "Test:  [ 0/39]  eta: 0:00:26  model_time: 0.1334 (0.1334)  evaluator_time: 0.0134 (0.0134)  time: 0.6731  data: 0.5087  max mem: 576\n",
      "Test:  [38/39]  eta: 0:00:00  model_time: 0.1322 (0.1419)  evaluator_time: 0.0219 (0.0317)  time: 0.1794  data: 0.0033  max mem: 576\n",
      "Test: Total time: 0:00:07 (0.1964 s / it)\n"
     ]
    },
    {
     "name": "stdout",
     "output_type": "stream",
     "text": [
      "Averaged stats: model_time: 0.1322 (0.1419)  evaluator_time: 0.0219 (0.0317)\n",
      "Accumulating evaluation results...\n",
      "DONE (t=0.10s).\n",
      "IoU metric: bbox\n",
      " Average Precision  (AP) @[ IoU=0.50:0.95 | area=   all | maxDets=100 ] = 0.122\n",
      " Average Precision  (AP) @[ IoU=0.50      | area=   all | maxDets=100 ] = 0.355\n",
      " Average Precision  (AP) @[ IoU=0.75      | area=   all | maxDets=100 ] = 0.051\n",
      " Average Precision  (AP) @[ IoU=0.50:0.95 | area= small | maxDets=100 ] = 0.109\n",
      " Average Precision  (AP) @[ IoU=0.50:0.95 | area=medium | maxDets=100 ] = 0.160\n",
      " Average Precision  (AP) @[ IoU=0.50:0.95 | area= large | maxDets=100 ] = 0.198\n",
      " Average Recall     (AR) @[ IoU=0.50:0.95 | area=   all | maxDets=  1 ] = 0.064\n",
      " Average Recall     (AR) @[ IoU=0.50:0.95 | area=   all | maxDets= 10 ] = 0.214\n",
      " Average Recall     (AR) @[ IoU=0.50:0.95 | area=   all | maxDets=100 ] = 0.311\n",
      " Average Recall     (AR) @[ IoU=0.50:0.95 | area= small | maxDets=100 ] = 0.286\n",
      " Average Recall     (AR) @[ IoU=0.50:0.95 | area=medium | maxDets=100 ] = 0.381\n",
      " Average Recall     (AR) @[ IoU=0.50:0.95 | area= large | maxDets=100 ] = 0.553\n",
      "0.12237909258519797 0.35526753601768285\n",
      "SAVING PLOTS COMPLETE...\n",
      "SAVING PLOTS COMPLETE...\n",
      "SAVING PLOTS COMPLETE...\n",
      "SAVING PLOTS COMPLETE...\n",
      "SAVING PLOTS COMPLETE...\n",
      "SAVING PLOTS COMPLETE...\n"
     ]
    },
    {
     "name": "stderr",
     "output_type": "stream",
     "text": [
      "Epoch: [41]  [  0/180]  eta: 0:01:56  lr: 0.000639  loss: 0.6066 (0.6066)  loss_classifier: 0.1304 (0.1304)  loss_box_reg: 0.2184 (0.2184)  loss_objectness: 0.1747 (0.1747)  loss_rpn_box_reg: 0.0831 (0.0831)  time: 0.6470  data: 0.4119  max mem: 576\n",
      "Epoch: [41]  [100/180]  eta: 0:00:18  lr: 0.000631  loss: 0.4963 (0.5036)  loss_classifier: 0.1206 (0.1138)  loss_box_reg: 0.1661 (0.1861)  loss_objectness: 0.1122 (0.1182)  loss_rpn_box_reg: 0.0797 (0.0855)  time: 0.2256  data: 0.0037  max mem: 576\n",
      "Epoch: [41]  [179/180]  eta: 0:00:00  lr: 0.000624  loss: 0.5434 (0.5187)  loss_classifier: 0.1185 (0.1164)  loss_box_reg: 0.2085 (0.1911)  loss_objectness: 0.1318 (0.1224)  loss_rpn_box_reg: 0.0927 (0.0888)  time: 0.2217  data: 0.0037  max mem: 576\n",
      "Epoch: [41] Total time: 0:00:41 (0.2280 s / it)\n"
     ]
    },
    {
     "name": "stdout",
     "output_type": "stream",
     "text": [
      "creating index...\n",
      "index created!\n"
     ]
    },
    {
     "name": "stderr",
     "output_type": "stream",
     "text": [
      "Test:  [ 0/39]  eta: 0:00:22  model_time: 0.1349 (0.1349)  evaluator_time: 0.0146 (0.0146)  time: 0.5836  data: 0.4174  max mem: 576\n",
      "Test:  [38/39]  eta: 0:00:00  model_time: 0.1292 (0.1333)  evaluator_time: 0.0232 (0.0329)  time: 0.1730  data: 0.0033  max mem: 576\n",
      "Test: Total time: 0:00:07 (0.1867 s / it)\n"
     ]
    },
    {
     "name": "stdout",
     "output_type": "stream",
     "text": [
      "Averaged stats: model_time: 0.1292 (0.1333)  evaluator_time: 0.0232 (0.0329)\n",
      "Accumulating evaluation results...\n",
      "DONE (t=0.10s).\n",
      "IoU metric: bbox\n",
      " Average Precision  (AP) @[ IoU=0.50:0.95 | area=   all | maxDets=100 ] = 0.118\n",
      " Average Precision  (AP) @[ IoU=0.50      | area=   all | maxDets=100 ] = 0.349\n",
      " Average Precision  (AP) @[ IoU=0.75      | area=   all | maxDets=100 ] = 0.054\n",
      " Average Precision  (AP) @[ IoU=0.50:0.95 | area= small | maxDets=100 ] = 0.103\n",
      " Average Precision  (AP) @[ IoU=0.50:0.95 | area=medium | maxDets=100 ] = 0.162\n",
      " Average Precision  (AP) @[ IoU=0.50:0.95 | area= large | maxDets=100 ] = 0.210\n",
      " Average Recall     (AR) @[ IoU=0.50:0.95 | area=   all | maxDets=  1 ] = 0.062\n",
      " Average Recall     (AR) @[ IoU=0.50:0.95 | area=   all | maxDets= 10 ] = 0.210\n",
      " Average Recall     (AR) @[ IoU=0.50:0.95 | area=   all | maxDets=100 ] = 0.308\n",
      " Average Recall     (AR) @[ IoU=0.50:0.95 | area= small | maxDets=100 ] = 0.276\n",
      " Average Recall     (AR) @[ IoU=0.50:0.95 | area=medium | maxDets=100 ] = 0.403\n",
      " Average Recall     (AR) @[ IoU=0.50:0.95 | area= large | maxDets=100 ] = 0.526\n",
      "0.11799423574286255 0.34850300161219994\n",
      "SAVING PLOTS COMPLETE...\n",
      "SAVING PLOTS COMPLETE...\n",
      "SAVING PLOTS COMPLETE...\n",
      "SAVING PLOTS COMPLETE...\n",
      "SAVING PLOTS COMPLETE...\n",
      "SAVING PLOTS COMPLETE...\n"
     ]
    },
    {
     "name": "stderr",
     "output_type": "stream",
     "text": [
      "Epoch: [42]  [  0/180]  eta: 0:02:18  lr: 0.000624  loss: 0.7862 (0.7862)  loss_classifier: 0.1739 (0.1739)  loss_box_reg: 0.3069 (0.3069)  loss_objectness: 0.1601 (0.1601)  loss_rpn_box_reg: 0.1453 (0.1453)  time: 0.7695  data: 0.5219  max mem: 576\n",
      "Epoch: [42]  [100/180]  eta: 0:00:18  lr: 0.000616  loss: 0.5542 (0.5184)  loss_classifier: 0.1233 (0.1160)  loss_box_reg: 0.1874 (0.1902)  loss_objectness: 0.1343 (0.1226)  loss_rpn_box_reg: 0.0859 (0.0896)  time: 0.2226  data: 0.0038  max mem: 576\n",
      "Epoch: [42]  [179/180]  eta: 0:00:00  lr: 0.000609  loss: 0.5453 (0.5155)  loss_classifier: 0.1270 (0.1156)  loss_box_reg: 0.1996 (0.1894)  loss_objectness: 0.1336 (0.1221)  loss_rpn_box_reg: 0.0963 (0.0884)  time: 0.2222  data: 0.0035  max mem: 576\n",
      "Epoch: [42] Total time: 0:00:41 (0.2279 s / it)\n"
     ]
    },
    {
     "name": "stdout",
     "output_type": "stream",
     "text": [
      "creating index...\n",
      "index created!\n"
     ]
    },
    {
     "name": "stderr",
     "output_type": "stream",
     "text": [
      "Test:  [ 0/39]  eta: 0:00:24  model_time: 0.1332 (0.1332)  evaluator_time: 0.0134 (0.0134)  time: 0.6259  data: 0.4618  max mem: 576\n",
      "Test:  [38/39]  eta: 0:00:00  model_time: 0.1371 (0.1350)  evaluator_time: 0.0240 (0.0331)  time: 0.1754  data: 0.0033  max mem: 576\n",
      "Test: Total time: 0:00:07 (0.1897 s / it)\n"
     ]
    },
    {
     "name": "stdout",
     "output_type": "stream",
     "text": [
      "Averaged stats: model_time: 0.1371 (0.1350)  evaluator_time: 0.0240 (0.0331)\n",
      "Accumulating evaluation results...\n",
      "DONE (t=0.10s).\n",
      "IoU metric: bbox\n",
      " Average Precision  (AP) @[ IoU=0.50:0.95 | area=   all | maxDets=100 ] = 0.120\n",
      " Average Precision  (AP) @[ IoU=0.50      | area=   all | maxDets=100 ] = 0.360\n",
      " Average Precision  (AP) @[ IoU=0.75      | area=   all | maxDets=100 ] = 0.052\n",
      " Average Precision  (AP) @[ IoU=0.50:0.95 | area= small | maxDets=100 ] = 0.106\n",
      " Average Precision  (AP) @[ IoU=0.50:0.95 | area=medium | maxDets=100 ] = 0.166\n",
      " Average Precision  (AP) @[ IoU=0.50:0.95 | area= large | maxDets=100 ] = 0.261\n",
      " Average Recall     (AR) @[ IoU=0.50:0.95 | area=   all | maxDets=  1 ] = 0.063\n",
      " Average Recall     (AR) @[ IoU=0.50:0.95 | area=   all | maxDets= 10 ] = 0.218\n",
      " Average Recall     (AR) @[ IoU=0.50:0.95 | area=   all | maxDets=100 ] = 0.312\n",
      " Average Recall     (AR) @[ IoU=0.50:0.95 | area= small | maxDets=100 ] = 0.279\n",
      " Average Recall     (AR) @[ IoU=0.50:0.95 | area=medium | maxDets=100 ] = 0.408\n",
      " Average Recall     (AR) @[ IoU=0.50:0.95 | area= large | maxDets=100 ] = 0.579\n",
      "0.12049310231381384 0.35995851291872005\n",
      "SAVING PLOTS COMPLETE...\n",
      "SAVING PLOTS COMPLETE...\n",
      "SAVING PLOTS COMPLETE...\n",
      "SAVING PLOTS COMPLETE...\n",
      "SAVING PLOTS COMPLETE...\n",
      "SAVING PLOTS COMPLETE...\n"
     ]
    },
    {
     "name": "stderr",
     "output_type": "stream",
     "text": [
      "Epoch: [43]  [  0/180]  eta: 0:01:56  lr: 0.000609  loss: 0.5749 (0.5749)  loss_classifier: 0.1307 (0.1307)  loss_box_reg: 0.2273 (0.2273)  loss_objectness: 0.1094 (0.1094)  loss_rpn_box_reg: 0.1075 (0.1075)  time: 0.6446  data: 0.4085  max mem: 576\n",
      "Epoch: [43]  [100/180]  eta: 0:00:18  lr: 0.000601  loss: 0.5474 (0.5223)  loss_classifier: 0.1280 (0.1177)  loss_box_reg: 0.1856 (0.1946)  loss_objectness: 0.1241 (0.1223)  loss_rpn_box_reg: 0.0956 (0.0877)  time: 0.2220  data: 0.0038  max mem: 576\n",
      "Epoch: [43]  [179/180]  eta: 0:00:00  lr: 0.000594  loss: 0.4674 (0.5144)  loss_classifier: 0.1020 (0.1158)  loss_box_reg: 0.1574 (0.1894)  loss_objectness: 0.1242 (0.1221)  loss_rpn_box_reg: 0.0747 (0.0871)  time: 0.2247  data: 0.0038  max mem: 576\n",
      "Epoch: [43] Total time: 0:00:40 (0.2260 s / it)\n"
     ]
    },
    {
     "name": "stdout",
     "output_type": "stream",
     "text": [
      "creating index...\n",
      "index created!\n"
     ]
    },
    {
     "name": "stderr",
     "output_type": "stream",
     "text": [
      "Test:  [ 0/39]  eta: 0:00:26  model_time: 0.1409 (0.1409)  evaluator_time: 0.0149 (0.0149)  time: 0.6854  data: 0.5124  max mem: 576\n",
      "Test:  [38/39]  eta: 0:00:00  model_time: 0.1321 (0.1397)  evaluator_time: 0.0227 (0.0330)  time: 0.1876  data: 0.0033  max mem: 576\n",
      "Test: Total time: 0:00:07 (0.1955 s / it)\n"
     ]
    },
    {
     "name": "stdout",
     "output_type": "stream",
     "text": [
      "Averaged stats: model_time: 0.1321 (0.1397)  evaluator_time: 0.0227 (0.0330)\n",
      "Accumulating evaluation results...\n",
      "DONE (t=0.10s).\n",
      "IoU metric: bbox\n",
      " Average Precision  (AP) @[ IoU=0.50:0.95 | area=   all | maxDets=100 ] = 0.119\n",
      " Average Precision  (AP) @[ IoU=0.50      | area=   all | maxDets=100 ] = 0.360\n",
      " Average Precision  (AP) @[ IoU=0.75      | area=   all | maxDets=100 ] = 0.049\n",
      " Average Precision  (AP) @[ IoU=0.50:0.95 | area= small | maxDets=100 ] = 0.102\n",
      " Average Precision  (AP) @[ IoU=0.50:0.95 | area=medium | maxDets=100 ] = 0.168\n",
      " Average Precision  (AP) @[ IoU=0.50:0.95 | area= large | maxDets=100 ] = 0.218\n",
      " Average Recall     (AR) @[ IoU=0.50:0.95 | area=   all | maxDets=  1 ] = 0.064\n",
      " Average Recall     (AR) @[ IoU=0.50:0.95 | area=   all | maxDets= 10 ] = 0.213\n",
      " Average Recall     (AR) @[ IoU=0.50:0.95 | area=   all | maxDets=100 ] = 0.316\n",
      " Average Recall     (AR) @[ IoU=0.50:0.95 | area= small | maxDets=100 ] = 0.285\n",
      " Average Recall     (AR) @[ IoU=0.50:0.95 | area=medium | maxDets=100 ] = 0.407\n",
      " Average Recall     (AR) @[ IoU=0.50:0.95 | area= large | maxDets=100 ] = 0.532\n",
      "0.11946689264978383 0.3601050896263035\n",
      "SAVING PLOTS COMPLETE...\n",
      "SAVING PLOTS COMPLETE...\n",
      "SAVING PLOTS COMPLETE...\n",
      "SAVING PLOTS COMPLETE...\n",
      "SAVING PLOTS COMPLETE...\n",
      "SAVING PLOTS COMPLETE...\n"
     ]
    },
    {
     "name": "stderr",
     "output_type": "stream",
     "text": [
      "Epoch: [44]  [  0/180]  eta: 0:02:15  lr: 0.000594  loss: 0.6103 (0.6103)  loss_classifier: 0.1296 (0.1296)  loss_box_reg: 0.2571 (0.2571)  loss_objectness: 0.1392 (0.1392)  loss_rpn_box_reg: 0.0843 (0.0843)  time: 0.7517  data: 0.5156  max mem: 576\n",
      "Epoch: [44]  [100/180]  eta: 0:00:18  lr: 0.000585  loss: 0.4880 (0.5163)  loss_classifier: 0.1094 (0.1147)  loss_box_reg: 0.1757 (0.1889)  loss_objectness: 0.1145 (0.1219)  loss_rpn_box_reg: 0.0834 (0.0908)  time: 0.2234  data: 0.0038  max mem: 576\n",
      "Epoch: [44]  [179/180]  eta: 0:00:00  lr: 0.000578  loss: 0.5295 (0.5118)  loss_classifier: 0.1196 (0.1150)  loss_box_reg: 0.2111 (0.1895)  loss_objectness: 0.1202 (0.1202)  loss_rpn_box_reg: 0.0819 (0.0871)  time: 0.2208  data: 0.0036  max mem: 576\n",
      "Epoch: [44] Total time: 0:00:40 (0.2276 s / it)\n"
     ]
    },
    {
     "name": "stdout",
     "output_type": "stream",
     "text": [
      "creating index...\n",
      "index created!\n"
     ]
    },
    {
     "name": "stderr",
     "output_type": "stream",
     "text": [
      "Test:  [ 0/39]  eta: 0:00:26  model_time: 0.1407 (0.1407)  evaluator_time: 0.0152 (0.0152)  time: 0.6722  data: 0.4990  max mem: 576\n",
      "Test:  [38/39]  eta: 0:00:00  model_time: 0.1330 (0.1326)  evaluator_time: 0.0257 (0.0352)  time: 0.1742  data: 0.0033  max mem: 576\n",
      "Test: Total time: 0:00:07 (0.1902 s / it)\n"
     ]
    },
    {
     "name": "stdout",
     "output_type": "stream",
     "text": [
      "Averaged stats: model_time: 0.1330 (0.1326)  evaluator_time: 0.0257 (0.0352)\n",
      "Accumulating evaluation results...\n",
      "DONE (t=0.11s).\n",
      "IoU metric: bbox\n",
      " Average Precision  (AP) @[ IoU=0.50:0.95 | area=   all | maxDets=100 ] = 0.118\n",
      " Average Precision  (AP) @[ IoU=0.50      | area=   all | maxDets=100 ] = 0.361\n",
      " Average Precision  (AP) @[ IoU=0.75      | area=   all | maxDets=100 ] = 0.042\n",
      " Average Precision  (AP) @[ IoU=0.50:0.95 | area= small | maxDets=100 ] = 0.106\n",
      " Average Precision  (AP) @[ IoU=0.50:0.95 | area=medium | maxDets=100 ] = 0.166\n",
      " Average Precision  (AP) @[ IoU=0.50:0.95 | area= large | maxDets=100 ] = 0.188\n",
      " Average Recall     (AR) @[ IoU=0.50:0.95 | area=   all | maxDets=  1 ] = 0.062\n",
      " Average Recall     (AR) @[ IoU=0.50:0.95 | area=   all | maxDets= 10 ] = 0.214\n",
      " Average Recall     (AR) @[ IoU=0.50:0.95 | area=   all | maxDets=100 ] = 0.319\n",
      " Average Recall     (AR) @[ IoU=0.50:0.95 | area= small | maxDets=100 ] = 0.287\n",
      " Average Recall     (AR) @[ IoU=0.50:0.95 | area=medium | maxDets=100 ] = 0.414\n",
      " Average Recall     (AR) @[ IoU=0.50:0.95 | area= large | maxDets=100 ] = 0.516\n",
      "0.11801611308400656 0.36080833313386995\n",
      "SAVING PLOTS COMPLETE...\n",
      "SAVING PLOTS COMPLETE...\n",
      "SAVING PLOTS COMPLETE...\n",
      "SAVING PLOTS COMPLETE...\n",
      "SAVING PLOTS COMPLETE...\n",
      "SAVING PLOTS COMPLETE...\n"
     ]
    },
    {
     "name": "stderr",
     "output_type": "stream",
     "text": [
      "Epoch: [45]  [  0/180]  eta: 0:01:56  lr: 0.000578  loss: 0.4614 (0.4614)  loss_classifier: 0.1046 (0.1046)  loss_box_reg: 0.1631 (0.1631)  loss_objectness: 0.1117 (0.1117)  loss_rpn_box_reg: 0.0821 (0.0821)  time: 0.6490  data: 0.4131  max mem: 576\n",
      "Epoch: [45]  [100/180]  eta: 0:00:18  lr: 0.000570  loss: 0.4844 (0.5078)  loss_classifier: 0.1128 (0.1141)  loss_box_reg: 0.1798 (0.1880)  loss_objectness: 0.1092 (0.1203)  loss_rpn_box_reg: 0.0717 (0.0855)  time: 0.2226  data: 0.0037  max mem: 576\n",
      "Epoch: [45]  [179/180]  eta: 0:00:00  lr: 0.000563  loss: 0.5207 (0.5120)  loss_classifier: 0.1135 (0.1148)  loss_box_reg: 0.1898 (0.1909)  loss_objectness: 0.1222 (0.1198)  loss_rpn_box_reg: 0.0837 (0.0866)  time: 0.2186  data: 0.0037  max mem: 576\n",
      "Epoch: [45] Total time: 0:00:40 (0.2261 s / it)\n"
     ]
    },
    {
     "name": "stdout",
     "output_type": "stream",
     "text": [
      "creating index...\n",
      "index created!\n"
     ]
    },
    {
     "name": "stderr",
     "output_type": "stream",
     "text": [
      "Test:  [ 0/39]  eta: 0:00:26  model_time: 0.1375 (0.1375)  evaluator_time: 0.0156 (0.0156)  time: 0.6709  data: 0.5017  max mem: 576\n",
      "Test:  [38/39]  eta: 0:00:00  model_time: 0.1347 (0.1359)  evaluator_time: 0.0216 (0.0331)  time: 0.1799  data: 0.0034  max mem: 576\n",
      "Test: Total time: 0:00:07 (0.1916 s / it)\n"
     ]
    },
    {
     "name": "stdout",
     "output_type": "stream",
     "text": [
      "Averaged stats: model_time: 0.1347 (0.1359)  evaluator_time: 0.0216 (0.0331)\n",
      "Accumulating evaluation results...\n",
      "DONE (t=0.10s).\n",
      "IoU metric: bbox\n",
      " Average Precision  (AP) @[ IoU=0.50:0.95 | area=   all | maxDets=100 ] = 0.119\n",
      " Average Precision  (AP) @[ IoU=0.50      | area=   all | maxDets=100 ] = 0.360\n",
      " Average Precision  (AP) @[ IoU=0.75      | area=   all | maxDets=100 ] = 0.047\n",
      " Average Precision  (AP) @[ IoU=0.50:0.95 | area= small | maxDets=100 ] = 0.105\n",
      " Average Precision  (AP) @[ IoU=0.50:0.95 | area=medium | maxDets=100 ] = 0.163\n",
      " Average Precision  (AP) @[ IoU=0.50:0.95 | area= large | maxDets=100 ] = 0.233\n",
      " Average Recall     (AR) @[ IoU=0.50:0.95 | area=   all | maxDets=  1 ] = 0.063\n",
      " Average Recall     (AR) @[ IoU=0.50:0.95 | area=   all | maxDets= 10 ] = 0.211\n",
      " Average Recall     (AR) @[ IoU=0.50:0.95 | area=   all | maxDets=100 ] = 0.310\n",
      " Average Recall     (AR) @[ IoU=0.50:0.95 | area= small | maxDets=100 ] = 0.280\n",
      " Average Recall     (AR) @[ IoU=0.50:0.95 | area=medium | maxDets=100 ] = 0.400\n",
      " Average Recall     (AR) @[ IoU=0.50:0.95 | area= large | maxDets=100 ] = 0.468\n",
      "0.11938554062343057 0.36022919290124755\n",
      "SAVING PLOTS COMPLETE...\n",
      "SAVING PLOTS COMPLETE...\n",
      "SAVING PLOTS COMPLETE...\n",
      "SAVING PLOTS COMPLETE...\n",
      "SAVING PLOTS COMPLETE...\n",
      "SAVING PLOTS COMPLETE...\n"
     ]
    },
    {
     "name": "stderr",
     "output_type": "stream",
     "text": [
      "Epoch: [46]  [  0/180]  eta: 0:02:18  lr: 0.000563  loss: 0.5303 (0.5303)  loss_classifier: 0.1151 (0.1151)  loss_box_reg: 0.2055 (0.2055)  loss_objectness: 0.0964 (0.0964)  loss_rpn_box_reg: 0.1132 (0.1132)  time: 0.7690  data: 0.5160  max mem: 576\n",
      "Epoch: [46]  [100/180]  eta: 0:00:18  lr: 0.000554  loss: 0.4712 (0.5072)  loss_classifier: 0.1119 (0.1146)  loss_box_reg: 0.1705 (0.1888)  loss_objectness: 0.1089 (0.1177)  loss_rpn_box_reg: 0.0746 (0.0861)  time: 0.2225  data: 0.0040  max mem: 576\n",
      "Epoch: [46]  [179/180]  eta: 0:00:00  lr: 0.000547  loss: 0.4988 (0.5079)  loss_classifier: 0.1179 (0.1143)  loss_box_reg: 0.2066 (0.1888)  loss_objectness: 0.1181 (0.1183)  loss_rpn_box_reg: 0.0762 (0.0864)  time: 0.2158  data: 0.0036  max mem: 576\n",
      "Epoch: [46] Total time: 0:00:40 (0.2267 s / it)\n"
     ]
    },
    {
     "name": "stdout",
     "output_type": "stream",
     "text": [
      "creating index...\n",
      "index created!\n"
     ]
    },
    {
     "name": "stderr",
     "output_type": "stream",
     "text": [
      "Test:  [ 0/39]  eta: 0:00:24  model_time: 0.1324 (0.1324)  evaluator_time: 0.0144 (0.0144)  time: 0.6236  data: 0.4598  max mem: 576\n",
      "Test:  [38/39]  eta: 0:00:00  model_time: 0.1353 (0.1370)  evaluator_time: 0.0220 (0.0332)  time: 0.1762  data: 0.0034  max mem: 576\n",
      "Test: Total time: 0:00:07 (0.1918 s / it)\n"
     ]
    },
    {
     "name": "stdout",
     "output_type": "stream",
     "text": [
      "Averaged stats: model_time: 0.1353 (0.1370)  evaluator_time: 0.0220 (0.0332)\n",
      "Accumulating evaluation results...\n",
      "DONE (t=0.10s).\n",
      "IoU metric: bbox\n",
      " Average Precision  (AP) @[ IoU=0.50:0.95 | area=   all | maxDets=100 ] = 0.118\n",
      " Average Precision  (AP) @[ IoU=0.50      | area=   all | maxDets=100 ] = 0.353\n",
      " Average Precision  (AP) @[ IoU=0.75      | area=   all | maxDets=100 ] = 0.046\n",
      " Average Precision  (AP) @[ IoU=0.50:0.95 | area= small | maxDets=100 ] = 0.104\n",
      " Average Precision  (AP) @[ IoU=0.50:0.95 | area=medium | maxDets=100 ] = 0.164\n",
      " Average Precision  (AP) @[ IoU=0.50:0.95 | area= large | maxDets=100 ] = 0.207\n",
      " Average Recall     (AR) @[ IoU=0.50:0.95 | area=   all | maxDets=  1 ] = 0.064\n",
      " Average Recall     (AR) @[ IoU=0.50:0.95 | area=   all | maxDets= 10 ] = 0.208\n",
      " Average Recall     (AR) @[ IoU=0.50:0.95 | area=   all | maxDets=100 ] = 0.309\n",
      " Average Recall     (AR) @[ IoU=0.50:0.95 | area= small | maxDets=100 ] = 0.278\n",
      " Average Recall     (AR) @[ IoU=0.50:0.95 | area=medium | maxDets=100 ] = 0.403\n",
      " Average Recall     (AR) @[ IoU=0.50:0.95 | area= large | maxDets=100 ] = 0.453\n",
      "0.11779806295348984 0.3526846120809372\n",
      "SAVING PLOTS COMPLETE...\n",
      "SAVING PLOTS COMPLETE...\n",
      "SAVING PLOTS COMPLETE...\n",
      "SAVING PLOTS COMPLETE...\n",
      "SAVING PLOTS COMPLETE...\n",
      "SAVING PLOTS COMPLETE...\n"
     ]
    },
    {
     "name": "stderr",
     "output_type": "stream",
     "text": [
      "Epoch: [47]  [  0/180]  eta: 0:01:58  lr: 0.000547  loss: 0.4944 (0.4944)  loss_classifier: 0.1230 (0.1230)  loss_box_reg: 0.2116 (0.2116)  loss_objectness: 0.1093 (0.1093)  loss_rpn_box_reg: 0.0505 (0.0505)  time: 0.6596  data: 0.4150  max mem: 576\n",
      "Epoch: [47]  [100/180]  eta: 0:00:18  lr: 0.000538  loss: 0.4638 (0.5131)  loss_classifier: 0.1075 (0.1153)  loss_box_reg: 0.1700 (0.1916)  loss_objectness: 0.1202 (0.1181)  loss_rpn_box_reg: 0.0922 (0.0881)  time: 0.2251  data: 0.0037  max mem: 576\n",
      "Epoch: [47]  [179/180]  eta: 0:00:00  lr: 0.000531  loss: 0.4538 (0.5072)  loss_classifier: 0.1044 (0.1149)  loss_box_reg: 0.1592 (0.1886)  loss_objectness: 0.1159 (0.1173)  loss_rpn_box_reg: 0.0879 (0.0864)  time: 0.2228  data: 0.0036  max mem: 576\n",
      "Epoch: [47] Total time: 0:00:40 (0.2276 s / it)\n"
     ]
    },
    {
     "name": "stdout",
     "output_type": "stream",
     "text": [
      "creating index...\n",
      "index created!\n"
     ]
    },
    {
     "name": "stderr",
     "output_type": "stream",
     "text": [
      "Test:  [ 0/39]  eta: 0:00:24  model_time: 0.1341 (0.1341)  evaluator_time: 0.0140 (0.0140)  time: 0.6295  data: 0.4651  max mem: 576\n",
      "Test:  [38/39]  eta: 0:00:00  model_time: 0.1343 (0.1412)  evaluator_time: 0.0237 (0.0342)  time: 0.1838  data: 0.0033  max mem: 576\n",
      "Test: Total time: 0:00:07 (0.1967 s / it)\n"
     ]
    },
    {
     "name": "stdout",
     "output_type": "stream",
     "text": [
      "Averaged stats: model_time: 0.1343 (0.1412)  evaluator_time: 0.0237 (0.0342)\n",
      "Accumulating evaluation results...\n",
      "DONE (t=0.11s).\n",
      "IoU metric: bbox\n",
      " Average Precision  (AP) @[ IoU=0.50:0.95 | area=   all | maxDets=100 ] = 0.120\n",
      " Average Precision  (AP) @[ IoU=0.50      | area=   all | maxDets=100 ] = 0.359\n",
      " Average Precision  (AP) @[ IoU=0.75      | area=   all | maxDets=100 ] = 0.044\n",
      " Average Precision  (AP) @[ IoU=0.50:0.95 | area= small | maxDets=100 ] = 0.104\n",
      " Average Precision  (AP) @[ IoU=0.50:0.95 | area=medium | maxDets=100 ] = 0.174\n",
      " Average Precision  (AP) @[ IoU=0.50:0.95 | area= large | maxDets=100 ] = 0.236\n",
      " Average Recall     (AR) @[ IoU=0.50:0.95 | area=   all | maxDets=  1 ] = 0.066\n",
      " Average Recall     (AR) @[ IoU=0.50:0.95 | area=   all | maxDets= 10 ] = 0.214\n",
      " Average Recall     (AR) @[ IoU=0.50:0.95 | area=   all | maxDets=100 ] = 0.313\n",
      " Average Recall     (AR) @[ IoU=0.50:0.95 | area= small | maxDets=100 ] = 0.279\n",
      " Average Recall     (AR) @[ IoU=0.50:0.95 | area=medium | maxDets=100 ] = 0.413\n",
      " Average Recall     (AR) @[ IoU=0.50:0.95 | area= large | maxDets=100 ] = 0.500\n",
      "0.12048304784048314 0.3593808679385185\n",
      "SAVING PLOTS COMPLETE...\n",
      "SAVING PLOTS COMPLETE...\n",
      "SAVING PLOTS COMPLETE...\n",
      "SAVING PLOTS COMPLETE...\n",
      "SAVING PLOTS COMPLETE...\n",
      "SAVING PLOTS COMPLETE...\n"
     ]
    },
    {
     "name": "stderr",
     "output_type": "stream",
     "text": [
      "Epoch: [48]  [  0/180]  eta: 0:01:58  lr: 0.000531  loss: 0.5044 (0.5044)  loss_classifier: 0.1240 (0.1240)  loss_box_reg: 0.1877 (0.1877)  loss_objectness: 0.1346 (0.1346)  loss_rpn_box_reg: 0.0582 (0.0582)  time: 0.6577  data: 0.4173  max mem: 576\n",
      "Epoch: [48]  [100/180]  eta: 0:00:18  lr: 0.000523  loss: 0.4990 (0.4914)  loss_classifier: 0.1021 (0.1098)  loss_box_reg: 0.1711 (0.1825)  loss_objectness: 0.1088 (0.1138)  loss_rpn_box_reg: 0.0827 (0.0854)  time: 0.2269  data: 0.0040  max mem: 576\n",
      "Epoch: [48]  [179/180]  eta: 0:00:00  lr: 0.000516  loss: 0.4941 (0.5031)  loss_classifier: 0.1129 (0.1134)  loss_box_reg: 0.1897 (0.1885)  loss_objectness: 0.1020 (0.1153)  loss_rpn_box_reg: 0.0738 (0.0859)  time: 0.2203  data: 0.0038  max mem: 576\n",
      "Epoch: [48] Total time: 0:00:40 (0.2266 s / it)\n"
     ]
    },
    {
     "name": "stdout",
     "output_type": "stream",
     "text": [
      "creating index...\n",
      "index created!\n"
     ]
    },
    {
     "name": "stderr",
     "output_type": "stream",
     "text": [
      "Test:  [ 0/39]  eta: 0:00:22  model_time: 0.1402 (0.1402)  evaluator_time: 0.0149 (0.0149)  time: 0.5811  data: 0.4090  max mem: 576\n",
      "Test:  [38/39]  eta: 0:00:00  model_time: 0.1326 (0.1469)  evaluator_time: 0.0245 (0.0345)  time: 0.1882  data: 0.0033  max mem: 576\n",
      "Test: Total time: 0:00:07 (0.2015 s / it)\n"
     ]
    },
    {
     "name": "stdout",
     "output_type": "stream",
     "text": [
      "Averaged stats: model_time: 0.1326 (0.1469)  evaluator_time: 0.0245 (0.0345)\n",
      "Accumulating evaluation results...\n",
      "DONE (t=0.11s).\n",
      "IoU metric: bbox\n",
      " Average Precision  (AP) @[ IoU=0.50:0.95 | area=   all | maxDets=100 ] = 0.117\n",
      " Average Precision  (AP) @[ IoU=0.50      | area=   all | maxDets=100 ] = 0.360\n",
      " Average Precision  (AP) @[ IoU=0.75      | area=   all | maxDets=100 ] = 0.046\n",
      " Average Precision  (AP) @[ IoU=0.50:0.95 | area= small | maxDets=100 ] = 0.104\n",
      " Average Precision  (AP) @[ IoU=0.50:0.95 | area=medium | maxDets=100 ] = 0.158\n",
      " Average Precision  (AP) @[ IoU=0.50:0.95 | area= large | maxDets=100 ] = 0.211\n",
      " Average Recall     (AR) @[ IoU=0.50:0.95 | area=   all | maxDets=  1 ] = 0.062\n",
      " Average Recall     (AR) @[ IoU=0.50:0.95 | area=   all | maxDets= 10 ] = 0.212\n",
      " Average Recall     (AR) @[ IoU=0.50:0.95 | area=   all | maxDets=100 ] = 0.320\n",
      " Average Recall     (AR) @[ IoU=0.50:0.95 | area= small | maxDets=100 ] = 0.292\n",
      " Average Recall     (AR) @[ IoU=0.50:0.95 | area=medium | maxDets=100 ] = 0.402\n",
      " Average Recall     (AR) @[ IoU=0.50:0.95 | area= large | maxDets=100 ] = 0.547\n",
      "0.1174531542728549 0.3604727020930985\n",
      "SAVING PLOTS COMPLETE...\n",
      "SAVING PLOTS COMPLETE...\n",
      "SAVING PLOTS COMPLETE...\n",
      "SAVING PLOTS COMPLETE...\n",
      "SAVING PLOTS COMPLETE...\n",
      "SAVING PLOTS COMPLETE...\n"
     ]
    },
    {
     "name": "stderr",
     "output_type": "stream",
     "text": [
      "Epoch: [49]  [  0/180]  eta: 0:01:58  lr: 0.000516  loss: 0.3171 (0.3171)  loss_classifier: 0.0802 (0.0802)  loss_box_reg: 0.1470 (0.1470)  loss_objectness: 0.0518 (0.0518)  loss_rpn_box_reg: 0.0382 (0.0382)  time: 0.6576  data: 0.4128  max mem: 576\n",
      "Epoch: [49]  [100/180]  eta: 0:00:18  lr: 0.000507  loss: 0.4865 (0.4994)  loss_classifier: 0.1076 (0.1120)  loss_box_reg: 0.1819 (0.1855)  loss_objectness: 0.1131 (0.1167)  loss_rpn_box_reg: 0.0717 (0.0853)  time: 0.2257  data: 0.0040  max mem: 576\n",
      "Epoch: [49]  [179/180]  eta: 0:00:00  lr: 0.000500  loss: 0.5026 (0.5044)  loss_classifier: 0.1141 (0.1132)  loss_box_reg: 0.1852 (0.1878)  loss_objectness: 0.1220 (0.1173)  loss_rpn_box_reg: 0.0872 (0.0860)  time: 0.2236  data: 0.0037  max mem: 576\n",
      "Epoch: [49] Total time: 0:00:41 (0.2284 s / it)\n"
     ]
    },
    {
     "name": "stdout",
     "output_type": "stream",
     "text": [
      "creating index...\n",
      "index created!\n"
     ]
    },
    {
     "name": "stderr",
     "output_type": "stream",
     "text": [
      "Test:  [ 0/39]  eta: 0:00:22  model_time: 0.1325 (0.1325)  evaluator_time: 0.0146 (0.0146)  time: 0.5660  data: 0.4026  max mem: 576\n",
      "Test:  [38/39]  eta: 0:00:00  model_time: 0.1340 (0.1406)  evaluator_time: 0.0233 (0.0332)  time: 0.1887  data: 0.0033  max mem: 576\n",
      "Test: Total time: 0:00:07 (0.1935 s / it)\n"
     ]
    },
    {
     "name": "stdout",
     "output_type": "stream",
     "text": [
      "Averaged stats: model_time: 0.1340 (0.1406)  evaluator_time: 0.0233 (0.0332)\n",
      "Accumulating evaluation results...\n",
      "DONE (t=0.10s).\n",
      "IoU metric: bbox\n",
      " Average Precision  (AP) @[ IoU=0.50:0.95 | area=   all | maxDets=100 ] = 0.126\n",
      " Average Precision  (AP) @[ IoU=0.50      | area=   all | maxDets=100 ] = 0.365\n",
      " Average Precision  (AP) @[ IoU=0.75      | area=   all | maxDets=100 ] = 0.050\n",
      " Average Precision  (AP) @[ IoU=0.50:0.95 | area= small | maxDets=100 ] = 0.111\n",
      " Average Precision  (AP) @[ IoU=0.50:0.95 | area=medium | maxDets=100 ] = 0.171\n",
      " Average Precision  (AP) @[ IoU=0.50:0.95 | area= large | maxDets=100 ] = 0.219\n",
      " Average Recall     (AR) @[ IoU=0.50:0.95 | area=   all | maxDets=  1 ] = 0.067\n",
      " Average Recall     (AR) @[ IoU=0.50:0.95 | area=   all | maxDets= 10 ] = 0.218\n",
      " Average Recall     (AR) @[ IoU=0.50:0.95 | area=   all | maxDets=100 ] = 0.315\n",
      " Average Recall     (AR) @[ IoU=0.50:0.95 | area= small | maxDets=100 ] = 0.286\n",
      " Average Recall     (AR) @[ IoU=0.50:0.95 | area=medium | maxDets=100 ] = 0.401\n",
      " Average Recall     (AR) @[ IoU=0.50:0.95 | area= large | maxDets=100 ] = 0.484\n",
      "0.12609556604933206 0.36519147973037414\n",
      "SAVING PLOTS COMPLETE...\n",
      "SAVING PLOTS COMPLETE...\n",
      "SAVING PLOTS COMPLETE...\n",
      "SAVING PLOTS COMPLETE...\n",
      "SAVING PLOTS COMPLETE...\n",
      "SAVING PLOTS COMPLETE...\n"
     ]
    },
    {
     "name": "stderr",
     "output_type": "stream",
     "text": [
      "Epoch: [50]  [  0/180]  eta: 0:01:57  lr: 0.000500  loss: 0.3521 (0.3521)  loss_classifier: 0.0765 (0.0765)  loss_box_reg: 0.1388 (0.1388)  loss_objectness: 0.0997 (0.0997)  loss_rpn_box_reg: 0.0372 (0.0372)  time: 0.6519  data: 0.4157  max mem: 576\n",
      "Epoch: [50]  [100/180]  eta: 0:00:18  lr: 0.000491  loss: 0.4800 (0.5071)  loss_classifier: 0.1174 (0.1148)  loss_box_reg: 0.1939 (0.1883)  loss_objectness: 0.1176 (0.1176)  loss_rpn_box_reg: 0.0719 (0.0865)  time: 0.2230  data: 0.0040  max mem: 576\n",
      "Epoch: [50]  [179/180]  eta: 0:00:00  lr: 0.000484  loss: 0.4051 (0.5037)  loss_classifier: 0.0976 (0.1138)  loss_box_reg: 0.1548 (0.1882)  loss_objectness: 0.0899 (0.1162)  loss_rpn_box_reg: 0.0759 (0.0855)  time: 0.2231  data: 0.0038  max mem: 576\n",
      "Epoch: [50] Total time: 0:00:40 (0.2263 s / it)\n"
     ]
    },
    {
     "name": "stdout",
     "output_type": "stream",
     "text": [
      "creating index...\n",
      "index created!\n"
     ]
    },
    {
     "name": "stderr",
     "output_type": "stream",
     "text": [
      "Test:  [ 0/39]  eta: 0:00:24  model_time: 0.1383 (0.1383)  evaluator_time: 0.0146 (0.0146)  time: 0.6263  data: 0.4566  max mem: 576\n",
      "Test:  [38/39]  eta: 0:00:00  model_time: 0.1315 (0.1444)  evaluator_time: 0.0256 (0.0415)  time: 0.2004  data: 0.0033  max mem: 576\n",
      "Test: Total time: 0:00:08 (0.2082 s / it)\n"
     ]
    },
    {
     "name": "stdout",
     "output_type": "stream",
     "text": [
      "Averaged stats: model_time: 0.1315 (0.1444)  evaluator_time: 0.0256 (0.0415)\n",
      "Accumulating evaluation results...\n",
      "DONE (t=0.10s).\n",
      "IoU metric: bbox\n",
      " Average Precision  (AP) @[ IoU=0.50:0.95 | area=   all | maxDets=100 ] = 0.125\n",
      " Average Precision  (AP) @[ IoU=0.50      | area=   all | maxDets=100 ] = 0.366\n",
      " Average Precision  (AP) @[ IoU=0.75      | area=   all | maxDets=100 ] = 0.049\n",
      " Average Precision  (AP) @[ IoU=0.50:0.95 | area= small | maxDets=100 ] = 0.112\n",
      " Average Precision  (AP) @[ IoU=0.50:0.95 | area=medium | maxDets=100 ] = 0.171\n",
      " Average Precision  (AP) @[ IoU=0.50:0.95 | area= large | maxDets=100 ] = 0.213\n",
      " Average Recall     (AR) @[ IoU=0.50:0.95 | area=   all | maxDets=  1 ] = 0.069\n",
      " Average Recall     (AR) @[ IoU=0.50:0.95 | area=   all | maxDets= 10 ] = 0.222\n",
      " Average Recall     (AR) @[ IoU=0.50:0.95 | area=   all | maxDets=100 ] = 0.321\n",
      " Average Recall     (AR) @[ IoU=0.50:0.95 | area= small | maxDets=100 ] = 0.292\n",
      " Average Recall     (AR) @[ IoU=0.50:0.95 | area=medium | maxDets=100 ] = 0.411\n",
      " Average Recall     (AR) @[ IoU=0.50:0.95 | area= large | maxDets=100 ] = 0.489\n",
      "0.12454858514692563 0.3663982056293535\n",
      "SAVING PLOTS COMPLETE...\n",
      "SAVING PLOTS COMPLETE...\n",
      "SAVING PLOTS COMPLETE...\n",
      "SAVING PLOTS COMPLETE...\n",
      "SAVING PLOTS COMPLETE...\n",
      "SAVING PLOTS COMPLETE...\n"
     ]
    },
    {
     "name": "stderr",
     "output_type": "stream",
     "text": [
      "Epoch: [51]  [  0/180]  eta: 0:01:54  lr: 0.000484  loss: 0.6573 (0.6573)  loss_classifier: 0.1247 (0.1247)  loss_box_reg: 0.2533 (0.2533)  loss_objectness: 0.1426 (0.1426)  loss_rpn_box_reg: 0.1367 (0.1367)  time: 0.6377  data: 0.4124  max mem: 576\n",
      "Epoch: [51]  [100/180]  eta: 0:00:18  lr: 0.000476  loss: 0.4813 (0.4941)  loss_classifier: 0.1118 (0.1115)  loss_box_reg: 0.1812 (0.1858)  loss_objectness: 0.1115 (0.1123)  loss_rpn_box_reg: 0.0659 (0.0845)  time: 0.2230  data: 0.0038  max mem: 576\n",
      "Epoch: [51]  [179/180]  eta: 0:00:00  lr: 0.000469  loss: 0.4401 (0.4971)  loss_classifier: 0.1024 (0.1122)  loss_box_reg: 0.1801 (0.1872)  loss_objectness: 0.0978 (0.1131)  loss_rpn_box_reg: 0.0883 (0.0846)  time: 0.2185  data: 0.0035  max mem: 576\n",
      "Epoch: [51] Total time: 0:00:40 (0.2271 s / it)\n"
     ]
    },
    {
     "name": "stdout",
     "output_type": "stream",
     "text": [
      "creating index...\n",
      "index created!\n"
     ]
    },
    {
     "name": "stderr",
     "output_type": "stream",
     "text": [
      "Test:  [ 0/39]  eta: 0:00:21  model_time: 0.1311 (0.1311)  evaluator_time: 0.0139 (0.0139)  time: 0.5639  data: 0.4030  max mem: 576\n",
      "Test:  [38/39]  eta: 0:00:00  model_time: 0.1326 (0.1395)  evaluator_time: 0.0230 (0.0337)  time: 0.1870  data: 0.0033  max mem: 576\n",
      "Test: Total time: 0:00:07 (0.1930 s / it)\n"
     ]
    },
    {
     "name": "stdout",
     "output_type": "stream",
     "text": [
      "Averaged stats: model_time: 0.1326 (0.1395)  evaluator_time: 0.0230 (0.0337)\n",
      "Accumulating evaluation results...\n",
      "DONE (t=0.10s).\n",
      "IoU metric: bbox\n",
      " Average Precision  (AP) @[ IoU=0.50:0.95 | area=   all | maxDets=100 ] = 0.123\n",
      " Average Precision  (AP) @[ IoU=0.50      | area=   all | maxDets=100 ] = 0.356\n",
      " Average Precision  (AP) @[ IoU=0.75      | area=   all | maxDets=100 ] = 0.050\n",
      " Average Precision  (AP) @[ IoU=0.50:0.95 | area= small | maxDets=100 ] = 0.107\n",
      " Average Precision  (AP) @[ IoU=0.50:0.95 | area=medium | maxDets=100 ] = 0.173\n",
      " Average Precision  (AP) @[ IoU=0.50:0.95 | area= large | maxDets=100 ] = 0.211\n",
      " Average Recall     (AR) @[ IoU=0.50:0.95 | area=   all | maxDets=  1 ] = 0.066\n",
      " Average Recall     (AR) @[ IoU=0.50:0.95 | area=   all | maxDets= 10 ] = 0.214\n",
      " Average Recall     (AR) @[ IoU=0.50:0.95 | area=   all | maxDets=100 ] = 0.315\n",
      " Average Recall     (AR) @[ IoU=0.50:0.95 | area= small | maxDets=100 ] = 0.282\n",
      " Average Recall     (AR) @[ IoU=0.50:0.95 | area=medium | maxDets=100 ] = 0.416\n",
      " Average Recall     (AR) @[ IoU=0.50:0.95 | area= large | maxDets=100 ] = 0.447\n",
      "0.12300420581554887 0.35563771747807277\n",
      "SAVING PLOTS COMPLETE...\n",
      "SAVING PLOTS COMPLETE...\n",
      "SAVING PLOTS COMPLETE...\n",
      "SAVING PLOTS COMPLETE...\n",
      "SAVING PLOTS COMPLETE...\n",
      "SAVING PLOTS COMPLETE...\n"
     ]
    },
    {
     "name": "stderr",
     "output_type": "stream",
     "text": [
      "Epoch: [52]  [  0/180]  eta: 0:02:16  lr: 0.000469  loss: 0.4767 (0.4767)  loss_classifier: 0.1070 (0.1070)  loss_box_reg: 0.1829 (0.1829)  loss_objectness: 0.0981 (0.0981)  loss_rpn_box_reg: 0.0888 (0.0888)  time: 0.7600  data: 0.5176  max mem: 576\n",
      "Epoch: [52]  [100/180]  eta: 0:00:18  lr: 0.000460  loss: 0.4956 (0.4986)  loss_classifier: 0.1213 (0.1130)  loss_box_reg: 0.1870 (0.1891)  loss_objectness: 0.1063 (0.1128)  loss_rpn_box_reg: 0.0764 (0.0837)  time: 0.2240  data: 0.0038  max mem: 576\n",
      "Epoch: [52]  [179/180]  eta: 0:00:00  lr: 0.000453  loss: 0.4989 (0.4972)  loss_classifier: 0.1115 (0.1126)  loss_box_reg: 0.1845 (0.1880)  loss_objectness: 0.1122 (0.1118)  loss_rpn_box_reg: 0.0943 (0.0847)  time: 0.2200  data: 0.0036  max mem: 576\n",
      "Epoch: [52] Total time: 0:00:40 (0.2248 s / it)\n"
     ]
    },
    {
     "name": "stdout",
     "output_type": "stream",
     "text": [
      "creating index...\n",
      "index created!\n"
     ]
    },
    {
     "name": "stderr",
     "output_type": "stream",
     "text": [
      "Test:  [ 0/39]  eta: 0:00:21  model_time: 0.1351 (0.1351)  evaluator_time: 0.0146 (0.0146)  time: 0.5634  data: 0.3964  max mem: 576\n",
      "Test:  [38/39]  eta: 0:00:00  model_time: 0.1365 (0.1341)  evaluator_time: 0.0244 (0.0345)  time: 0.1775  data: 0.0033  max mem: 576\n",
      "Test: Total time: 0:00:07 (0.1885 s / it)\n"
     ]
    },
    {
     "name": "stdout",
     "output_type": "stream",
     "text": [
      "Averaged stats: model_time: 0.1365 (0.1341)  evaluator_time: 0.0244 (0.0345)\n",
      "Accumulating evaluation results...\n",
      "DONE (t=0.10s).\n",
      "IoU metric: bbox\n",
      " Average Precision  (AP) @[ IoU=0.50:0.95 | area=   all | maxDets=100 ] = 0.125\n",
      " Average Precision  (AP) @[ IoU=0.50      | area=   all | maxDets=100 ] = 0.366\n",
      " Average Precision  (AP) @[ IoU=0.75      | area=   all | maxDets=100 ] = 0.053\n",
      " Average Precision  (AP) @[ IoU=0.50:0.95 | area= small | maxDets=100 ] = 0.107\n",
      " Average Precision  (AP) @[ IoU=0.50:0.95 | area=medium | maxDets=100 ] = 0.177\n",
      " Average Precision  (AP) @[ IoU=0.50:0.95 | area= large | maxDets=100 ] = 0.219\n",
      " Average Recall     (AR) @[ IoU=0.50:0.95 | area=   all | maxDets=  1 ] = 0.067\n",
      " Average Recall     (AR) @[ IoU=0.50:0.95 | area=   all | maxDets= 10 ] = 0.214\n",
      " Average Recall     (AR) @[ IoU=0.50:0.95 | area=   all | maxDets=100 ] = 0.314\n",
      " Average Recall     (AR) @[ IoU=0.50:0.95 | area= small | maxDets=100 ] = 0.286\n",
      " Average Recall     (AR) @[ IoU=0.50:0.95 | area=medium | maxDets=100 ] = 0.402\n",
      " Average Recall     (AR) @[ IoU=0.50:0.95 | area= large | maxDets=100 ] = 0.426\n",
      "0.12500886254521532 0.3661142498138498\n",
      "SAVING PLOTS COMPLETE...\n",
      "SAVING PLOTS COMPLETE...\n",
      "SAVING PLOTS COMPLETE...\n",
      "SAVING PLOTS COMPLETE...\n",
      "SAVING PLOTS COMPLETE...\n",
      "SAVING PLOTS COMPLETE...\n"
     ]
    },
    {
     "name": "stderr",
     "output_type": "stream",
     "text": [
      "Epoch: [53]  [  0/180]  eta: 0:02:15  lr: 0.000453  loss: 0.4977 (0.4977)  loss_classifier: 0.1068 (0.1068)  loss_box_reg: 0.1877 (0.1877)  loss_objectness: 0.1144 (0.1144)  loss_rpn_box_reg: 0.0888 (0.0888)  time: 0.7518  data: 0.5111  max mem: 576\n",
      "Epoch: [53]  [100/180]  eta: 0:00:18  lr: 0.000444  loss: 0.5001 (0.4904)  loss_classifier: 0.1129 (0.1115)  loss_box_reg: 0.1885 (0.1866)  loss_objectness: 0.1086 (0.1108)  loss_rpn_box_reg: 0.0717 (0.0816)  time: 0.2207  data: 0.0038  max mem: 576\n",
      "Epoch: [53]  [179/180]  eta: 0:00:00  lr: 0.000437  loss: 0.5205 (0.4978)  loss_classifier: 0.1209 (0.1123)  loss_box_reg: 0.1860 (0.1895)  loss_objectness: 0.1157 (0.1119)  loss_rpn_box_reg: 0.0896 (0.0841)  time: 0.2192  data: 0.0036  max mem: 576\n",
      "Epoch: [53] Total time: 0:00:40 (0.2264 s / it)\n"
     ]
    },
    {
     "name": "stdout",
     "output_type": "stream",
     "text": [
      "creating index...\n",
      "index created!\n"
     ]
    },
    {
     "name": "stderr",
     "output_type": "stream",
     "text": [
      "Test:  [ 0/39]  eta: 0:00:40  model_time: 0.1278 (0.1278)  evaluator_time: 0.0131 (0.0131)  time: 1.0287  data: 0.8721  max mem: 576\n",
      "Test:  [38/39]  eta: 0:00:00  model_time: 0.1352 (0.1464)  evaluator_time: 0.0244 (0.0344)  time: 0.1912  data: 0.0032  max mem: 576\n",
      "Test: Total time: 0:00:08 (0.2126 s / it)\n"
     ]
    },
    {
     "name": "stdout",
     "output_type": "stream",
     "text": [
      "Averaged stats: model_time: 0.1352 (0.1464)  evaluator_time: 0.0244 (0.0344)\n",
      "Accumulating evaluation results...\n",
      "DONE (t=0.10s).\n",
      "IoU metric: bbox\n",
      " Average Precision  (AP) @[ IoU=0.50:0.95 | area=   all | maxDets=100 ] = 0.122\n",
      " Average Precision  (AP) @[ IoU=0.50      | area=   all | maxDets=100 ] = 0.364\n",
      " Average Precision  (AP) @[ IoU=0.75      | area=   all | maxDets=100 ] = 0.052\n",
      " Average Precision  (AP) @[ IoU=0.50:0.95 | area= small | maxDets=100 ] = 0.107\n",
      " Average Precision  (AP) @[ IoU=0.50:0.95 | area=medium | maxDets=100 ] = 0.174\n",
      " Average Precision  (AP) @[ IoU=0.50:0.95 | area= large | maxDets=100 ] = 0.212\n",
      " Average Recall     (AR) @[ IoU=0.50:0.95 | area=   all | maxDets=  1 ] = 0.067\n",
      " Average Recall     (AR) @[ IoU=0.50:0.95 | area=   all | maxDets= 10 ] = 0.219\n",
      " Average Recall     (AR) @[ IoU=0.50:0.95 | area=   all | maxDets=100 ] = 0.317\n",
      " Average Recall     (AR) @[ IoU=0.50:0.95 | area= small | maxDets=100 ] = 0.285\n",
      " Average Recall     (AR) @[ IoU=0.50:0.95 | area=medium | maxDets=100 ] = 0.411\n",
      " Average Recall     (AR) @[ IoU=0.50:0.95 | area= large | maxDets=100 ] = 0.547\n",
      "0.12241367384855649 0.36377170007629034\n",
      "SAVING PLOTS COMPLETE...\n",
      "SAVING PLOTS COMPLETE...\n",
      "SAVING PLOTS COMPLETE...\n",
      "SAVING PLOTS COMPLETE...\n",
      "SAVING PLOTS COMPLETE...\n",
      "SAVING PLOTS COMPLETE...\n"
     ]
    },
    {
     "name": "stderr",
     "output_type": "stream",
     "text": [
      "Epoch: [54]  [  0/180]  eta: 0:02:16  lr: 0.000437  loss: 0.7019 (0.7019)  loss_classifier: 0.1537 (0.1537)  loss_box_reg: 0.2491 (0.2491)  loss_objectness: 0.1611 (0.1611)  loss_rpn_box_reg: 0.1380 (0.1380)  time: 0.7575  data: 0.5114  max mem: 576\n"
     ]
    }
   ],
   "source": [
    "best_map = -np.inf\n",
    "best_map_05 = -np.inf\n",
    "patience = 10\n",
    "ct = 0\n",
    "\n",
    "\n",
    "for epoch in range(start_epochs, NUM_EPOCHS):\n",
    "            \n",
    "    train_loss_hist.reset()\n",
    "\n",
    "    _, batch_loss_list, \\\n",
    "            batch_loss_cls_list, \\\n",
    "            batch_loss_box_reg_list, \\\n",
    "            batch_loss_objectness_list, \\\n",
    "            batch_loss_rpn_list = train_one_epoch(\n",
    "            model, \n",
    "            optimizer, \n",
    "            train_loader, \n",
    "            DEVICE, \n",
    "            epoch, \n",
    "            train_loss_hist,\n",
    "            print_freq=100,\n",
    "                \n",
    "            scheduler=scheduler,\n",
    "            scaler=SCALER\n",
    "        )\n",
    "\n",
    "    stats, val_pred_image = evaluate(\n",
    "            model, \n",
    "            valid_loader, \n",
    "            device=DEVICE,\n",
    "            save_valid_preds=SAVE_VALID_PREDICTIONS,\n",
    "            out_dir=OUT_DIR,\n",
    "            classes=CLASSES,\n",
    "            colors=COLORS\n",
    "        )\n",
    "\n",
    "    # Append the current epoch's batch-wise losses to the `train_loss_list`.\n",
    "    train_loss_list.extend(batch_loss_list)\n",
    "    loss_cls_list.append(np.mean(np.array(batch_loss_cls_list,)))\n",
    "    loss_box_reg_list.append(np.mean(np.array(batch_loss_box_reg_list)))\n",
    "    loss_objectness_list.append(np.mean(np.array(batch_loss_objectness_list)))\n",
    "    loss_rpn_list.append(np.mean(np.array(batch_loss_rpn_list)))\n",
    "\n",
    "    # Append curent epoch's average loss to `train_loss_list_epoch`.\n",
    "    train_loss_list_epoch.append(train_loss_hist.value)\n",
    "    val_map_05.append(stats[1])\n",
    "    val_map.append(stats[0])\n",
    "\n",
    "    print(stats[0],stats[1] )\n",
    "\n",
    "    if stats[0] > best_map:\n",
    "        best_map = stats[0]\n",
    "        ct = 0\n",
    "        torch.save({\n",
    "                'epoch': 1,\n",
    "                'model_state_dict': model.state_dict(),\n",
    "                'data':  data_configs,\n",
    "                'model_name': args['model'],\n",
    "                }, f\"{OUT_DIR}/best_model.pth\")\n",
    "    elif stats[1] > best_map_05:\n",
    "        best_map_05 = stats[1]\n",
    "        ct = 0\n",
    "        torch.save({\n",
    "                'epoch': 1,\n",
    "                'model_state_dict': model.state_dict(),\n",
    "                'data':  data_configs,\n",
    "                'model_name': args['model'],\n",
    "                }, f\"{OUT_DIR}/best_model.pth\")\n",
    "    else: \n",
    "        ct += 1\n",
    "        if ct > patience: \n",
    "            print('End: best val_map and best_map_05', best_map, best_map_05)\n",
    "            break\n",
    "            \n",
    "\n",
    "        # Save loss plot for batch-wise list.\n",
    "    save_loss_plot(OUT_DIR, train_loss_list)\n",
    "    save_loss_plot( OUT_DIR,   train_loss_list_epoch,'epochs', 'train loss', save_name='train_loss_epoch')\n",
    "    save_loss_plot(OUT_DIR, loss_cls_list, 'epochs',  'loss cls',save_name='train_loss_cls')\n",
    "    save_loss_plot( OUT_DIR, loss_box_reg_list,  'epochs',  'loss bbox reg',save_name='train_loss_bbox_reg')\n",
    "    save_loss_plot( OUT_DIR, loss_objectness_list, 'epochs', 'loss obj',save_name='train_loss_obj' )\n",
    "    save_loss_plot( OUT_DIR,  loss_rpn_list, 'epochs','loss rpn bbox', save_name='train_loss_rpn_bbox')\n",
    "    save_mAP(OUT_DIR, val_map_05, val_map)\n",
    "\n",
    "    tensorboard_loss_log( 'Train loss',   np.array(train_loss_list_epoch),  writer,  epoch )\n",
    "    tensorboard_map_log( name='mAP',  val_map_05=np.array(val_map_05), val_map=np.array(val_map), writer=writer,epoch=epoch)\n",
    "\n",
    "    coco_log(OUT_DIR, stats)\n",
    "    csv_log(OUT_DIR,  stats,  epoch, train_loss_list,loss_cls_list, loss_box_reg_list, loss_objectness_list, loss_rpn_list )\n"
   ]
  },
  {
   "cell_type": "code",
   "execution_count": null,
   "id": "122e6db3-6f8c-4c4b-bde4-c6c37b886d11",
   "metadata": {},
   "outputs": [],
   "source": []
  },
  {
   "cell_type": "code",
   "execution_count": null,
   "id": "fd4ca196-9495-4a5b-94a3-c8f7c6bbbbb0",
   "metadata": {},
   "outputs": [],
   "source": []
  },
  {
   "cell_type": "code",
   "execution_count": 10,
   "id": "24c847df-25a1-407f-880d-1245f7dc04d8",
   "metadata": {},
   "outputs": [
    {
     "name": "stdout",
     "output_type": "stream",
     "text": [
      "building models from outputs/training/land4sensor_training/best_model.pth\n",
      "current model setting: base_from_mae\n",
      "Checking Labels and images...\n",
      "100%|█████████████████████████████████████| 309/309 [00:00<00:00, 254075.66it/s]\n",
      "creating index...\n",
      "index created!\n",
      "Averaged stats: model_time: 0.1159 (0.1405)  evaluator_time: 0.0249 (0.0356)\n",
      "Accumulating evaluation results...\n",
      "DONE (t=0.10s).\n",
      "IoU metric: bbox\n",
      " Average Precision  (AP) @[ IoU=0.50:0.95 | area=   all | maxDets=100 ] = 0.127\n",
      " Average Precision  (AP) @[ IoU=0.50      | area=   all | maxDets=100 ] = 0.364\n",
      " Average Precision  (AP) @[ IoU=0.75      | area=   all | maxDets=100 ] = 0.052\n",
      " Average Precision  (AP) @[ IoU=0.50:0.95 | area= small | maxDets=100 ] = 0.112\n",
      " Average Precision  (AP) @[ IoU=0.50:0.95 | area=medium | maxDets=100 ] = 0.175\n",
      " Average Precision  (AP) @[ IoU=0.50:0.95 | area= large | maxDets=100 ] = 0.180\n",
      " Average Recall     (AR) @[ IoU=0.50:0.95 | area=   all | maxDets=  1 ] = 0.064\n",
      " Average Recall     (AR) @[ IoU=0.50:0.95 | area=   all | maxDets= 10 ] = 0.219\n",
      " Average Recall     (AR) @[ IoU=0.50:0.95 | area=   all | maxDets=100 ] = 0.322\n",
      " Average Recall     (AR) @[ IoU=0.50:0.95 | area= small | maxDets=100 ] = 0.289\n",
      " Average Recall     (AR) @[ IoU=0.50:0.95 | area=medium | maxDets=100 ] = 0.423\n",
      " Average Recall     (AR) @[ IoU=0.50:0.95 | area= large | maxDets=100 ] = 0.521\n",
      "[0.12665915 0.3637272  0.05189053 0.11234706 0.17533623 0.18005768\n",
      " 0.06390135 0.21935725 0.32242152 0.28888889 0.42284768 0.52105263]\n",
      "\n",
      "\n",
      "array([0.12665915, 0.3637272 , 0.05189053, 0.11234706, 0.17533623,\n",
      "       0.18005768, 0.06390135, 0.21935725, 0.32242152, 0.28888889,\n",
      "       0.42284768, 0.52105263])\n"
     ]
    }
   ],
   "source": [
    "!python eval.py --data data_configs/land4sensor.yaml --weights outputs/training/land4sensor_training/best_model.pth --imgsz 224 --device cuda:0  --model fasterrcnn_swin"
   ]
  },
  {
   "cell_type": "code",
   "execution_count": null,
   "id": "9ad3fde8-b77a-4c71-8558-8704b5c7847a",
   "metadata": {},
   "outputs": [],
   "source": []
  },
  {
   "cell_type": "code",
   "execution_count": 10,
   "id": "4b71c487-fb78-4fd6-9127-da3a4737e2c5",
   "metadata": {},
   "outputs": [
    {
     "name": "stdout",
     "output_type": "stream",
     "text": [
      "Building from model name arguments...\n",
      "current model setting: base_from_mae\n",
      "Test instances: 309\n",
      "Image 1 done...\n",
      "--------------------------------------------------\n",
      "Image 2 done...\n",
      "--------------------------------------------------\n",
      "Image 3 done...\n",
      "--------------------------------------------------\n",
      "Image 4 done...\n",
      "--------------------------------------------------\n",
      "Image 5 done...\n",
      "--------------------------------------------------\n",
      "Image 6 done...\n",
      "--------------------------------------------------\n",
      "Image 7 done...\n",
      "--------------------------------------------------\n",
      "Image 8 done...\n",
      "--------------------------------------------------\n",
      "Image 9 done...\n",
      "--------------------------------------------------\n",
      "Image 10 done...\n",
      "--------------------------------------------------\n",
      "Image 11 done...\n",
      "--------------------------------------------------\n",
      "Image 12 done...\n",
      "--------------------------------------------------\n",
      "Image 13 done...\n",
      "--------------------------------------------------\n",
      "Image 14 done...\n",
      "--------------------------------------------------\n",
      "Image 15 done...\n",
      "--------------------------------------------------\n",
      "Image 16 done...\n",
      "--------------------------------------------------\n",
      "Image 17 done...\n",
      "--------------------------------------------------\n",
      "Image 18 done...\n",
      "--------------------------------------------------\n",
      "Image 19 done...\n",
      "--------------------------------------------------\n",
      "Image 20 done...\n",
      "--------------------------------------------------\n",
      "Image 21 done...\n",
      "--------------------------------------------------\n",
      "Image 22 done...\n",
      "--------------------------------------------------\n",
      "Image 23 done...\n",
      "--------------------------------------------------\n",
      "Image 24 done...\n",
      "--------------------------------------------------\n",
      "Image 25 done...\n",
      "--------------------------------------------------\n",
      "Image 26 done...\n",
      "--------------------------------------------------\n",
      "Image 27 done...\n",
      "--------------------------------------------------\n",
      "Image 28 done...\n",
      "--------------------------------------------------\n",
      "Image 29 done...\n",
      "--------------------------------------------------\n",
      "Image 30 done...\n",
      "--------------------------------------------------\n",
      "Image 31 done...\n",
      "--------------------------------------------------\n",
      "Image 32 done...\n",
      "--------------------------------------------------\n",
      "Image 33 done...\n",
      "--------------------------------------------------\n",
      "Image 34 done...\n",
      "--------------------------------------------------\n",
      "Image 35 done...\n",
      "--------------------------------------------------\n",
      "Image 36 done...\n",
      "--------------------------------------------------\n",
      "Image 37 done...\n",
      "--------------------------------------------------\n",
      "Image 38 done...\n",
      "--------------------------------------------------\n",
      "Image 39 done...\n",
      "--------------------------------------------------\n",
      "Image 40 done...\n",
      "--------------------------------------------------\n",
      "Image 41 done...\n",
      "--------------------------------------------------\n",
      "Image 42 done...\n",
      "--------------------------------------------------\n",
      "Image 43 done...\n",
      "--------------------------------------------------\n",
      "Image 44 done...\n",
      "--------------------------------------------------\n",
      "Image 45 done...\n",
      "--------------------------------------------------\n",
      "Image 46 done...\n",
      "--------------------------------------------------\n",
      "Image 47 done...\n",
      "--------------------------------------------------\n",
      "Image 48 done...\n",
      "--------------------------------------------------\n",
      "Image 49 done...\n",
      "--------------------------------------------------\n",
      "Image 50 done...\n",
      "--------------------------------------------------\n",
      "Image 51 done...\n",
      "--------------------------------------------------\n",
      "Image 52 done...\n",
      "--------------------------------------------------\n",
      "Image 53 done...\n",
      "--------------------------------------------------\n",
      "Image 54 done...\n",
      "--------------------------------------------------\n",
      "Image 55 done...\n",
      "--------------------------------------------------\n",
      "Image 56 done...\n",
      "--------------------------------------------------\n",
      "Image 57 done...\n",
      "--------------------------------------------------\n",
      "Image 58 done...\n",
      "--------------------------------------------------\n",
      "Image 59 done...\n",
      "--------------------------------------------------\n",
      "Image 60 done...\n",
      "--------------------------------------------------\n",
      "Image 61 done...\n",
      "--------------------------------------------------\n",
      "Image 62 done...\n",
      "--------------------------------------------------\n",
      "Image 63 done...\n",
      "--------------------------------------------------\n",
      "Image 64 done...\n",
      "--------------------------------------------------\n",
      "Image 65 done...\n",
      "--------------------------------------------------\n",
      "Image 66 done...\n",
      "--------------------------------------------------\n",
      "Image 67 done...\n",
      "--------------------------------------------------\n",
      "Image 68 done...\n",
      "--------------------------------------------------\n",
      "Image 69 done...\n",
      "--------------------------------------------------\n",
      "Image 70 done...\n",
      "--------------------------------------------------\n",
      "Image 71 done...\n",
      "--------------------------------------------------\n",
      "Image 72 done...\n",
      "--------------------------------------------------\n",
      "Image 73 done...\n",
      "--------------------------------------------------\n",
      "Image 74 done...\n",
      "--------------------------------------------------\n",
      "Image 75 done...\n",
      "--------------------------------------------------\n",
      "Image 76 done...\n",
      "--------------------------------------------------\n",
      "Image 77 done...\n",
      "--------------------------------------------------\n",
      "Image 78 done...\n",
      "--------------------------------------------------\n",
      "Image 79 done...\n",
      "--------------------------------------------------\n",
      "Image 80 done...\n",
      "--------------------------------------------------\n",
      "Image 81 done...\n",
      "--------------------------------------------------\n",
      "Image 82 done...\n",
      "--------------------------------------------------\n",
      "Image 83 done...\n",
      "--------------------------------------------------\n",
      "Image 84 done...\n",
      "--------------------------------------------------\n",
      "Image 85 done...\n",
      "--------------------------------------------------\n",
      "Image 86 done...\n",
      "--------------------------------------------------\n",
      "Image 87 done...\n",
      "--------------------------------------------------\n",
      "Image 88 done...\n",
      "--------------------------------------------------\n",
      "Image 89 done...\n",
      "--------------------------------------------------\n",
      "Image 90 done...\n",
      "--------------------------------------------------\n",
      "Image 91 done...\n",
      "--------------------------------------------------\n",
      "Image 92 done...\n",
      "--------------------------------------------------\n",
      "Image 93 done...\n",
      "--------------------------------------------------\n",
      "Image 94 done...\n",
      "--------------------------------------------------\n",
      "Image 95 done...\n",
      "--------------------------------------------------\n",
      "Image 96 done...\n",
      "--------------------------------------------------\n",
      "Image 97 done...\n",
      "--------------------------------------------------\n",
      "Image 98 done...\n",
      "--------------------------------------------------\n",
      "Image 99 done...\n",
      "--------------------------------------------------\n",
      "Image 100 done...\n",
      "--------------------------------------------------\n",
      "Image 101 done...\n",
      "--------------------------------------------------\n",
      "Image 102 done...\n",
      "--------------------------------------------------\n",
      "Image 103 done...\n",
      "--------------------------------------------------\n",
      "Image 104 done...\n",
      "--------------------------------------------------\n",
      "Image 105 done...\n",
      "--------------------------------------------------\n",
      "Image 106 done...\n",
      "--------------------------------------------------\n",
      "Image 107 done...\n",
      "--------------------------------------------------\n",
      "Image 108 done...\n",
      "--------------------------------------------------\n",
      "Image 109 done...\n",
      "--------------------------------------------------\n",
      "Image 110 done...\n",
      "--------------------------------------------------\n",
      "Image 111 done...\n",
      "--------------------------------------------------\n",
      "Image 112 done...\n",
      "--------------------------------------------------\n",
      "Image 113 done...\n",
      "--------------------------------------------------\n",
      "Image 114 done...\n",
      "--------------------------------------------------\n",
      "Image 115 done...\n",
      "--------------------------------------------------\n",
      "Image 116 done...\n",
      "--------------------------------------------------\n",
      "Image 117 done...\n",
      "--------------------------------------------------\n",
      "Image 118 done...\n",
      "--------------------------------------------------\n",
      "Image 119 done...\n",
      "--------------------------------------------------\n",
      "Image 120 done...\n",
      "--------------------------------------------------\n",
      "Image 121 done...\n",
      "--------------------------------------------------\n",
      "Image 122 done...\n",
      "--------------------------------------------------\n",
      "Image 123 done...\n",
      "--------------------------------------------------\n",
      "Image 124 done...\n",
      "--------------------------------------------------\n",
      "Image 125 done...\n",
      "--------------------------------------------------\n",
      "Image 126 done...\n",
      "--------------------------------------------------\n",
      "Image 127 done...\n",
      "--------------------------------------------------\n",
      "Image 128 done...\n",
      "--------------------------------------------------\n",
      "Image 129 done...\n",
      "--------------------------------------------------\n",
      "Image 130 done...\n",
      "--------------------------------------------------\n",
      "Image 131 done...\n",
      "--------------------------------------------------\n",
      "Image 132 done...\n",
      "--------------------------------------------------\n",
      "Image 133 done...\n",
      "--------------------------------------------------\n",
      "Image 134 done...\n",
      "--------------------------------------------------\n",
      "Image 135 done...\n",
      "--------------------------------------------------\n",
      "Image 136 done...\n",
      "--------------------------------------------------\n",
      "Image 137 done...\n",
      "--------------------------------------------------\n",
      "Image 138 done...\n",
      "--------------------------------------------------\n",
      "Image 139 done...\n",
      "--------------------------------------------------\n",
      "Image 140 done...\n",
      "--------------------------------------------------\n",
      "Image 141 done...\n",
      "--------------------------------------------------\n",
      "Image 142 done...\n",
      "--------------------------------------------------\n",
      "Image 143 done...\n",
      "--------------------------------------------------\n",
      "Image 144 done...\n",
      "--------------------------------------------------\n",
      "Image 145 done...\n",
      "--------------------------------------------------\n",
      "Image 146 done...\n",
      "--------------------------------------------------\n",
      "Image 147 done...\n",
      "--------------------------------------------------\n",
      "Image 148 done...\n",
      "--------------------------------------------------\n",
      "Image 149 done...\n",
      "--------------------------------------------------\n",
      "Image 150 done...\n",
      "--------------------------------------------------\n",
      "Image 151 done...\n",
      "--------------------------------------------------\n",
      "Image 152 done...\n",
      "--------------------------------------------------\n",
      "Image 153 done...\n",
      "--------------------------------------------------\n",
      "Image 154 done...\n",
      "--------------------------------------------------\n",
      "Image 155 done...\n",
      "--------------------------------------------------\n",
      "Image 156 done...\n",
      "--------------------------------------------------\n",
      "Image 157 done...\n",
      "--------------------------------------------------\n",
      "Image 158 done...\n",
      "--------------------------------------------------\n",
      "Image 159 done...\n",
      "--------------------------------------------------\n",
      "Image 160 done...\n",
      "--------------------------------------------------\n",
      "Image 161 done...\n",
      "--------------------------------------------------\n",
      "Image 162 done...\n",
      "--------------------------------------------------\n",
      "Image 163 done...\n",
      "--------------------------------------------------\n",
      "Image 164 done...\n",
      "--------------------------------------------------\n",
      "Image 165 done...\n",
      "--------------------------------------------------\n",
      "Image 166 done...\n",
      "--------------------------------------------------\n",
      "Image 167 done...\n",
      "--------------------------------------------------\n",
      "Image 168 done...\n",
      "--------------------------------------------------\n",
      "Image 169 done...\n",
      "--------------------------------------------------\n",
      "Image 170 done...\n",
      "--------------------------------------------------\n",
      "Image 171 done...\n",
      "--------------------------------------------------\n",
      "Image 172 done...\n",
      "--------------------------------------------------\n",
      "Image 173 done...\n",
      "--------------------------------------------------\n",
      "Image 174 done...\n",
      "--------------------------------------------------\n",
      "Image 175 done...\n",
      "--------------------------------------------------\n",
      "Image 176 done...\n",
      "--------------------------------------------------\n",
      "Image 177 done...\n",
      "--------------------------------------------------\n",
      "Image 178 done...\n",
      "--------------------------------------------------\n",
      "Image 179 done...\n",
      "--------------------------------------------------\n",
      "Image 180 done...\n",
      "--------------------------------------------------\n",
      "Image 181 done...\n",
      "--------------------------------------------------\n",
      "Image 182 done...\n",
      "--------------------------------------------------\n",
      "Image 183 done...\n",
      "--------------------------------------------------\n",
      "Image 184 done...\n",
      "--------------------------------------------------\n",
      "Image 185 done...\n",
      "--------------------------------------------------\n",
      "Image 186 done...\n",
      "--------------------------------------------------\n",
      "Image 187 done...\n",
      "--------------------------------------------------\n",
      "Image 188 done...\n",
      "--------------------------------------------------\n",
      "Image 189 done...\n",
      "--------------------------------------------------\n",
      "Image 190 done...\n",
      "--------------------------------------------------\n",
      "Image 191 done...\n",
      "--------------------------------------------------\n",
      "Image 192 done...\n",
      "--------------------------------------------------\n",
      "Image 193 done...\n",
      "--------------------------------------------------\n",
      "Image 194 done...\n",
      "--------------------------------------------------\n",
      "Image 195 done...\n",
      "--------------------------------------------------\n",
      "Image 196 done...\n",
      "--------------------------------------------------\n",
      "Image 197 done...\n",
      "--------------------------------------------------\n",
      "Image 198 done...\n",
      "--------------------------------------------------\n",
      "Image 199 done...\n",
      "--------------------------------------------------\n",
      "Image 200 done...\n",
      "--------------------------------------------------\n",
      "Image 201 done...\n",
      "--------------------------------------------------\n",
      "Image 202 done...\n",
      "--------------------------------------------------\n",
      "Image 203 done...\n",
      "--------------------------------------------------\n",
      "Image 204 done...\n",
      "--------------------------------------------------\n",
      "Image 205 done...\n",
      "--------------------------------------------------\n",
      "Image 206 done...\n",
      "--------------------------------------------------\n",
      "Image 207 done...\n",
      "--------------------------------------------------\n",
      "Image 208 done...\n",
      "--------------------------------------------------\n",
      "Image 209 done...\n",
      "--------------------------------------------------\n",
      "Image 210 done...\n",
      "--------------------------------------------------\n",
      "Image 211 done...\n",
      "--------------------------------------------------\n",
      "Image 212 done...\n",
      "--------------------------------------------------\n",
      "Image 213 done...\n",
      "--------------------------------------------------\n",
      "Image 214 done...\n",
      "--------------------------------------------------\n",
      "Image 215 done...\n",
      "--------------------------------------------------\n",
      "Image 216 done...\n",
      "--------------------------------------------------\n",
      "Image 217 done...\n",
      "--------------------------------------------------\n",
      "Image 218 done...\n",
      "--------------------------------------------------\n",
      "Image 219 done...\n",
      "--------------------------------------------------\n",
      "Image 220 done...\n",
      "--------------------------------------------------\n",
      "Image 221 done...\n",
      "--------------------------------------------------\n",
      "Image 222 done...\n",
      "--------------------------------------------------\n",
      "Image 223 done...\n",
      "--------------------------------------------------\n",
      "Image 224 done...\n",
      "--------------------------------------------------\n",
      "Image 225 done...\n",
      "--------------------------------------------------\n",
      "Image 226 done...\n",
      "--------------------------------------------------\n",
      "Image 227 done...\n",
      "--------------------------------------------------\n",
      "Image 228 done...\n",
      "--------------------------------------------------\n",
      "Image 229 done...\n",
      "--------------------------------------------------\n",
      "Image 230 done...\n",
      "--------------------------------------------------\n",
      "Image 231 done...\n",
      "--------------------------------------------------\n",
      "Image 232 done...\n",
      "--------------------------------------------------\n",
      "Image 233 done...\n",
      "--------------------------------------------------\n",
      "Image 234 done...\n",
      "--------------------------------------------------\n",
      "Image 235 done...\n",
      "--------------------------------------------------\n",
      "Image 236 done...\n",
      "--------------------------------------------------\n",
      "Image 237 done...\n",
      "--------------------------------------------------\n",
      "Image 238 done...\n",
      "--------------------------------------------------\n",
      "Image 239 done...\n",
      "--------------------------------------------------\n",
      "Image 240 done...\n",
      "--------------------------------------------------\n",
      "Image 241 done...\n",
      "--------------------------------------------------\n",
      "Image 242 done...\n",
      "--------------------------------------------------\n",
      "Image 243 done...\n",
      "--------------------------------------------------\n",
      "Image 244 done...\n",
      "--------------------------------------------------\n",
      "Image 245 done...\n",
      "--------------------------------------------------\n",
      "Image 246 done...\n",
      "--------------------------------------------------\n",
      "Image 247 done...\n",
      "--------------------------------------------------\n",
      "Image 248 done...\n",
      "--------------------------------------------------\n",
      "Image 249 done...\n",
      "--------------------------------------------------\n",
      "Image 250 done...\n",
      "--------------------------------------------------\n",
      "Image 251 done...\n",
      "--------------------------------------------------\n",
      "Image 252 done...\n",
      "--------------------------------------------------\n",
      "Image 253 done...\n",
      "--------------------------------------------------\n",
      "Image 254 done...\n",
      "--------------------------------------------------\n",
      "Image 255 done...\n",
      "--------------------------------------------------\n",
      "Image 256 done...\n",
      "--------------------------------------------------\n",
      "Image 257 done...\n",
      "--------------------------------------------------\n",
      "Image 258 done...\n",
      "--------------------------------------------------\n",
      "Image 259 done...\n",
      "--------------------------------------------------\n",
      "Image 260 done...\n",
      "--------------------------------------------------\n",
      "Image 261 done...\n",
      "--------------------------------------------------\n",
      "Image 262 done...\n",
      "--------------------------------------------------\n",
      "Image 263 done...\n",
      "--------------------------------------------------\n",
      "Image 264 done...\n",
      "--------------------------------------------------\n",
      "Image 265 done...\n",
      "--------------------------------------------------\n",
      "Image 266 done...\n",
      "--------------------------------------------------\n",
      "Image 267 done...\n",
      "--------------------------------------------------\n",
      "Image 268 done...\n",
      "--------------------------------------------------\n",
      "Image 269 done...\n",
      "--------------------------------------------------\n",
      "Image 270 done...\n",
      "--------------------------------------------------\n",
      "Image 271 done...\n",
      "--------------------------------------------------\n",
      "Image 272 done...\n",
      "--------------------------------------------------\n",
      "Image 273 done...\n",
      "--------------------------------------------------\n",
      "Image 274 done...\n",
      "--------------------------------------------------\n",
      "Image 275 done...\n",
      "--------------------------------------------------\n",
      "Image 276 done...\n",
      "--------------------------------------------------\n",
      "Image 277 done...\n",
      "--------------------------------------------------\n",
      "Image 278 done...\n",
      "--------------------------------------------------\n",
      "Image 279 done...\n",
      "--------------------------------------------------\n",
      "Image 280 done...\n",
      "--------------------------------------------------\n",
      "Image 281 done...\n",
      "--------------------------------------------------\n",
      "Image 282 done...\n",
      "--------------------------------------------------\n",
      "Image 283 done...\n",
      "--------------------------------------------------\n",
      "Image 284 done...\n",
      "--------------------------------------------------\n",
      "Image 285 done...\n",
      "--------------------------------------------------\n",
      "Image 286 done...\n",
      "--------------------------------------------------\n",
      "Image 287 done...\n",
      "--------------------------------------------------\n",
      "Image 288 done...\n",
      "--------------------------------------------------\n",
      "Image 289 done...\n",
      "--------------------------------------------------\n",
      "Image 290 done...\n",
      "--------------------------------------------------\n",
      "Image 291 done...\n",
      "--------------------------------------------------\n",
      "Image 292 done...\n",
      "--------------------------------------------------\n",
      "Image 293 done...\n",
      "--------------------------------------------------\n",
      "Image 294 done...\n",
      "--------------------------------------------------\n",
      "Image 295 done...\n",
      "--------------------------------------------------\n",
      "Image 296 done...\n",
      "--------------------------------------------------\n",
      "Image 297 done...\n",
      "--------------------------------------------------\n",
      "Image 298 done...\n",
      "--------------------------------------------------\n",
      "Image 299 done...\n",
      "--------------------------------------------------\n",
      "Image 300 done...\n",
      "--------------------------------------------------\n",
      "Image 301 done...\n",
      "--------------------------------------------------\n",
      "Image 302 done...\n",
      "--------------------------------------------------\n",
      "Image 303 done...\n",
      "--------------------------------------------------\n",
      "Image 304 done...\n",
      "--------------------------------------------------\n",
      "Image 305 done...\n",
      "--------------------------------------------------\n",
      "Image 306 done...\n",
      "--------------------------------------------------\n",
      "Image 307 done...\n",
      "--------------------------------------------------\n",
      "Image 308 done...\n",
      "--------------------------------------------------\n",
      "Image 309 done...\n",
      "--------------------------------------------------\n",
      "TEST PREDICTIONS COMPLETE\n",
      "Average FPS: 26.587\n"
     ]
    }
   ],
   "source": [
    "!python inference.py --input /hdd/yuchen/pipeline/training_pipeline/data_land4sensor/valid --data data_configs/land4sensor.yaml --weights outputs/training/land4sensor_training/best_model.pth --imgsz 224 --device cuda:0 --threshold 0.8 --model fasterrcnn_swin --save_img True "
   ]
  },
  {
   "cell_type": "code",
   "execution_count": null,
   "id": "51530eb2-a0a3-4b22-badc-d7d90d0f0d2b",
   "metadata": {},
   "outputs": [],
   "source": []
  },
  {
   "cell_type": "code",
   "execution_count": null,
   "id": "9fb4e1ba-89ab-45b0-87cc-65bd751298ba",
   "metadata": {},
   "outputs": [],
   "source": []
  },
  {
   "cell_type": "code",
   "execution_count": null,
   "id": "605df499-a2a3-46f2-a7f2-03aa2632d860",
   "metadata": {},
   "outputs": [],
   "source": []
  }
 ],
 "metadata": {
  "kernelspec": {
   "display_name": "Python 3 (ipykernel)",
   "language": "python",
   "name": "python3"
  },
  "language_info": {
   "codemirror_mode": {
    "name": "ipython",
    "version": 3
   },
   "file_extension": ".py",
   "mimetype": "text/x-python",
   "name": "python",
   "nbconvert_exporter": "python",
   "pygments_lexer": "ipython3",
   "version": "3.10.13"
  }
 },
 "nbformat": 4,
 "nbformat_minor": 5
}
