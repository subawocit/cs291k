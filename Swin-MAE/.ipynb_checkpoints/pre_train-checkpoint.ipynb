{
 "cells": [
  {
   "cell_type": "code",
   "execution_count": 1,
   "id": "e25eed94-0b93-4117-b482-272a8c5a43ad",
   "metadata": {},
   "outputs": [],
   "source": [
    "import argparse\n",
    "import json\n",
    "import numpy as np\n",
    "import os\n",
    "from pathlib import Path\n",
    "\n",
    "import torch\n",
    "import torch.backends.cudnn as cudnn\n",
    "import torch.utils.data\n",
    "from torch.utils.tensorboard import SummaryWriter\n",
    "import torchvision.transforms as transforms\n",
    "import torchvision.datasets as datasets\n",
    "\n",
    "import utils.misc as misc\n",
    "from utils.misc import NativeScalerWithGradNormCount as NativeScaler\n",
    "import swin_mae\n",
    "from utils.engine_pretrain import train_one_epoch\n"
   ]
  },
  {
   "cell_type": "code",
   "execution_count": 2,
   "id": "ab95c3da-6ddc-4067-95bb-8ee32e71dfc7",
   "metadata": {},
   "outputs": [],
   "source": [
    "class get_args_parser():\n",
    "    batch_size = 96\n",
    "    epochs = 400\n",
    "    save_freq = 400\n",
    "    checkpoint_encoder = ''\n",
    "    checkpoint_decoder = ''\n",
    "    data_path = ''\n",
    "    mask_ratio = 0.75\n",
    "\n",
    "    model = 'swin_mae'\n",
    "    input_size = 224\n",
    "    norm_pix_loss = False  # Use (per-patch) normalized pixels as targets for computing loss\n",
    "    \n",
    "    accum_iter = 1\n",
    "    weight_decay = 0.05\n",
    "    lr = 1e-3\n",
    "    min_lr = 0\n",
    "    warmup_epochs = 10\n",
    "\n",
    "    output_dir = './output_dir/200epochs'\n",
    "    log_dir = './output_dir/200epochs'\n",
    "    device = 'cuda'\n",
    "    seed = 42\n",
    "    start_epoch = 0\n",
    "    num_workers = 1\n",
    "    pin_mem = True  # Pin CPU memory in DataLoader for more efficient (sometimes) transfer to GPU.\n",
    "\n",
    "args = get_args_parser"
   ]
  },
  {
   "cell_type": "code",
   "execution_count": 3,
   "id": "182fb036-1d9b-451b-8d04-ad158aa7f14a",
   "metadata": {},
   "outputs": [],
   "source": [
    "args.data_path = '/home/yuchen/Swin-MAE/land4sensor/image_pretrain'\n",
    "args.batch_size = 48\n",
    "args.epochs = 200\n",
    "args.save_freq = 50\n",
    "args.lr = 1e-2\n",
    "\n",
    "# args.mask_ratio = 0.6"
   ]
  },
  {
   "cell_type": "code",
   "execution_count": 4,
   "id": "c7c09713-1ab5-424b-ae74-e70f7d6474f0",
   "metadata": {},
   "outputs": [],
   "source": [
    "# Fixed random seeds\n",
    "seed = args.seed\n",
    "torch.manual_seed(seed)\n",
    "np.random.seed(seed)\n",
    "\n",
    "# Set up training equipment\n",
    "device = torch.device(args.device)\n",
    "cudnn.benchmark = True\n",
    "\n",
    "# Defining data augmentation\n",
    "transform_train = transforms.Compose([\n",
    "        transforms.Resize((args.input_size, args.input_size)),\n",
    "        transforms.RandomHorizontalFlip(),\n",
    "        transforms.ToTensor()\n",
    "])\n",
    "\n",
    "# Set dataset\n",
    "dataset_train = datasets.ImageFolder(args.data_path, transform=transform_train)\n",
    "sampler_train = torch.utils.data.RandomSampler(dataset_train)\n",
    "data_loader_train = torch.utils.data.DataLoader(\n",
    "        dataset_train, sampler=sampler_train,\n",
    "        batch_size=args.batch_size,\n",
    "        num_workers=args.num_workers,\n",
    "        pin_memory=args.pin_mem,\n",
    "        drop_last=True\n",
    ")\n"
   ]
  },
  {
   "cell_type": "code",
   "execution_count": 5,
   "id": "a5705bb4-7a81-438c-a2ab-f39e402ac495",
   "metadata": {},
   "outputs": [
    {
     "name": "stdout",
     "output_type": "stream",
     "text": [
      "torch.Size([48, 3, 224, 224])\n",
      "torch.Size([48])\n"
     ]
    }
   ],
   "source": [
    "for batch in data_loader_train:\n",
    "    break\n",
    "\n",
    "print(batch[0].shape)\n",
    "print(batch[1].shape)"
   ]
  },
  {
   "cell_type": "code",
   "execution_count": 6,
   "id": "11b50389-3ec0-46d4-a703-1ff77991d85b",
   "metadata": {},
   "outputs": [],
   "source": [
    "# Log output\n",
    "if args.log_dir is not None:\n",
    "    os.makedirs(args.log_dir, exist_ok=True)\n",
    "    log_writer = SummaryWriter()\n",
    "else: log_writer = None\n",
    "\n",
    "# Set model\n",
    "model = swin_mae.__dict__[args.model](norm_pix_loss=args.norm_pix_loss, mask_ratio=args.mask_ratio)\n",
    "model.to(device)\n",
    "model_without_ddp = model\n",
    "\n",
    "# Set optimizer\n",
    "param_groups = [p for p in model_without_ddp.parameters() if p.requires_grad]\n",
    "optimizer = torch.optim.AdamW(param_groups, lr=args.lr, weight_decay=5e-2, betas=(0.9, 0.95))  # 原来是5E-2\n",
    "loss_scaler = NativeScaler()\n",
    "\n",
    "# Create model\n",
    "misc.load_model(args=args, model_without_ddp=model_without_ddp)"
   ]
  },
  {
   "cell_type": "code",
   "execution_count": null,
   "id": "d30b13ab-b43a-4d69-a62f-c473334d1257",
   "metadata": {
    "scrolled": true
   },
   "outputs": [
    {
     "name": "stdout",
     "output_type": "stream",
     "text": [
      "Start training for 200 epochs\n",
      "log_dir: runs/Mar09_19-28-57_my-beloved-pc\n"
     ]
    }
   ],
   "source": [
    "model_save_dir = f'/home/yuchen/Swin-MAE/output_dir/{args.epochs}epochs_01lr/'\n",
    "\n",
    "if not os.path.exists(model_save_dir):\n",
    "    os.makedirs(model_save_dir)\n",
    "\n",
    "print(f\"Start training for {args.epochs} epochs\")\n",
    "for epoch in range(args.start_epoch, args.epochs):\n",
    "    train_stats = train_one_epoch(\n",
    "        model, data_loader_train,\n",
    "        optimizer, device, epoch, loss_scaler,\n",
    "        log_writer=log_writer,\n",
    "        args=args\n",
    "    )\n",
    "    \n",
    "    if args.output_dir and ((epoch + 1) % args.save_freq == 0 or epoch + 1 == args.epochs):\n",
    "        torch.save(model_without_ddp.state_dict(), f'{model_save_dir}swinmae{str(epoch+1)}.pth')\n",
    "        \n",
    "        # misc.save_model(\n",
    "        #     args=args, model=model, model_without_ddp=model_without_ddp, optimizer=optimizer,\n",
    "        #     loss_scaler=loss_scaler, epoch=epoch + 1)\n",
    "\n",
    "    log_stats = {**{f'train_{k}': v for k, v in train_stats.items()},\n",
    "                     'epoch': epoch, }\n",
    "\n",
    "    if args.output_dir and misc.is_main_process():\n",
    "        if log_writer is not None:\n",
    "            log_writer.flush()\n",
    "        with open(os.path.join(args.output_dir, \"log.txt\"), mode=\"a\", encoding=\"utf-8\") as f:\n",
    "            f.write(json.dumps(log_stats) + \"\\n\")"
   ]
  },
  {
   "cell_type": "code",
   "execution_count": null,
   "id": "66fae733-96d5-4466-8a94-5d99f97762a5",
   "metadata": {},
   "outputs": [],
   "source": []
  },
  {
   "cell_type": "code",
   "execution_count": null,
   "id": "40302914-9e89-45c2-bdaf-a2aa9d64a330",
   "metadata": {},
   "outputs": [],
   "source": []
  },
  {
   "cell_type": "code",
   "execution_count": null,
   "id": "0c06bd17-e07e-4cdf-bc90-63a8e2fa2e45",
   "metadata": {},
   "outputs": [],
   "source": []
  },
  {
   "cell_type": "code",
   "execution_count": 4,
   "id": "efb96ee3-6d21-46c8-8f34-4acfd13c1157",
   "metadata": {
    "scrolled": true
   },
   "outputs": [],
   "source": [
    "# import os\n",
    "# import shutil\n",
    "\n",
    "# # Define the source and target directories\n",
    "# source_dir = '/home/yuchen/Swin-MAE/land4sensor/resplit_data'\n",
    "# target_dir = '/home/yuchen/Swin-MAE/land4sensor/image_pretrain/landslides'\n",
    "\n",
    "# # Check if target directory exists, create if it doesn't\n",
    "# if not os.path.exists(target_dir):\n",
    "#     os.makedirs(target_dir)\n",
    "\n",
    "# # Walk through the source directory\n",
    "# for dirpath, dirnames, filenames in os.walk(source_dir):\n",
    "#     for file in filenames:\n",
    "#         # Check if the file is a JPG image\n",
    "#         if file.lower().endswith('.jpg'):\n",
    "#             # Construct full file paths\n",
    "#             src_file_path = os.path.join(dirpath, file)\n",
    "#             dst_file_path = os.path.join(target_dir, file)\n",
    "            \n",
    "#             # Copy the file to the target directory\n",
    "#             shutil.copy2(src_file_path, dst_file_path)\n",
    "#             print(f\"Copied: {src_file_path} to {dst_file_path}\")\n",
    "\n"
   ]
  },
  {
   "cell_type": "code",
   "execution_count": 9,
   "id": "f5543d92-e3be-4400-96a6-079d0d06b918",
   "metadata": {},
   "outputs": [
    {
     "name": "stdout",
     "output_type": "stream",
     "text": [
      "2324\n"
     ]
    }
   ],
   "source": [
    "import glob\n",
    "file = glob.glob('/home/yuchen/Swin-MAE/land4sensor/image_pretrain/landslides/*.jpg')\n",
    "print(len(file))"
   ]
  }
 ],
 "metadata": {
  "kernelspec": {
   "display_name": "Python 3 (ipykernel)",
   "language": "python",
   "name": "python3"
  },
  "language_info": {
   "codemirror_mode": {
    "name": "ipython",
    "version": 3
   },
   "file_extension": ".py",
   "mimetype": "text/x-python",
   "name": "python",
   "nbconvert_exporter": "python",
   "pygments_lexer": "ipython3",
   "version": "3.10.13"
  }
 },
 "nbformat": 4,
 "nbformat_minor": 5
}
