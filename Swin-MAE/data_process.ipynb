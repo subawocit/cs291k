{
 "cells": [
  {
   "cell_type": "code",
   "execution_count": 1,
   "id": "b21edcb6-afe4-4d84-ac1b-5406f9ac304f",
   "metadata": {},
   "outputs": [],
   "source": [
    "import json\n",
    "import os\n",
    "from pathlib import Path\n",
    "from matplotlib import pyplot as plt\n",
    "from PIL import Image\n",
    "import random\n",
    "import shutil\n",
    "import numpy as np\n",
    "import glob\n",
    "import h5py\n",
    "from scipy import ndimage\n",
    "from pathlib import Path"
   ]
  },
  {
   "cell_type": "code",
   "execution_count": 2,
   "id": "ab7b203a-2b3c-4e7d-a895-9f3edfa77efb",
   "metadata": {},
   "outputs": [],
   "source": [
    "class Args():\n",
    "    resize = (224,224)\n",
    "args = Args()"
   ]
  },
  {
   "cell_type": "code",
   "execution_count": 8,
   "id": "663286eb-9d94-41e1-861e-766d874eaa3c",
   "metadata": {},
   "outputs": [],
   "source": [
    "datafiles = '/home/yuchen/Swin-MAE/land4sensor/ValidData'\n",
    "output_image_path = '/home/yuchen/Swin-MAE/land4sensor/resplit_data/'\n",
    "\n",
    "files = glob.glob(datafiles + '/img/*')\n",
    "\n",
    "mean_ = [-0.4914, -0.3074, -0.1277, -0.0625, 0.0439, 0.0803, 0.0644, 0.0802, 0.3000, 0.4082, 0.0823, 0.0516, 0.3338, 0.7819]\n",
    "std_ = [0.9325, 0.8775, 0.8860, 0.8869, 0.8857, 0.8418, 0.8354, 0.8491, 0.9061, 1.6072, 0.8848, 0.9232, 0.9018, 1.2913]\n",
    "\n",
    "files = glob.glob(datafiles + '/img/*')\n",
    "\n",
    "img_lst = []\n",
    "label_lst = []\n",
    "bbox_lst = []\n",
    "final_img_lst = []\n",
    "id_idx = []\n",
    "mask_lst = []\n",
    "\n",
    "num_image = len(files)\n",
    "\n",
    "for idx in range(num_image):\n",
    "    \n",
    "    id = files[idx].split('_')[1].split('.')[0]\n",
    "    id_idx.append(id)\n",
    "    mask_file_name = f'{datafiles}/mask/mask_{id}.h5'\n",
    "    \n",
    "    with h5py.File(files[idx], 'r') as hf:\n",
    "        image = hf['img'][:]\n",
    "        image = np.asarray(image, np.float32)\n",
    "        image = image.transpose((-1, 0, 1))\n",
    "        for i in range(len(mean_)):\n",
    "            image[i,:,:] -= mean_[i]\n",
    "            image[i,:,:] /= std_[i]\n",
    "        img_lst.append(image)\n",
    "        \n",
    "img_lst = np.array(img_lst)\n",
    "\n",
    "for channel_idx in range(img_lst.shape[1]):\n",
    "    for img_idx in range(img_lst.shape[0]):\n",
    "        channel = img_lst[img_idx,channel_idx]\n",
    "        min_val = np.nanmin(channel)\n",
    "        max_val = np.nanmax(channel)\n",
    "        if max_val!=min_val:\n",
    "            img_lst[img_idx, channel_idx] = (img_lst[img_idx, channel_idx] - min_val) / (max_val - min_val)\n",
    "\n",
    "for i in range(num_image):\n",
    "    img = img_lst[i][np.array([3,2,1])]\n",
    "    original_h, original_w = img.shape[1], img.shape[2]\n",
    "    resize_h, resize_w = args.resize\n",
    "    \n",
    "    image = Image.fromarray(np.transpose(np.array((img.transpose((2,1,0))*255), dtype=np.uint8),(1,0,2)), 'RGB')\n",
    "    \n",
    "    if args.resize != None:\n",
    "        image = image.resize(args.resize)\n",
    "\n",
    "    filename = str(id_idx[i])\n",
    "    image.save(output_image_path+str(filename)+'.jpg', 'JPEG')\n"
   ]
  },
  {
   "cell_type": "code",
   "execution_count": 9,
   "id": "2ce76e5c-b557-4219-9390-1ac82c4d5a26",
   "metadata": {},
   "outputs": [
    {
     "data": {
      "text/plain": [
       "245"
      ]
     },
     "execution_count": 9,
     "metadata": {},
     "output_type": "execute_result"
    }
   ],
   "source": [
    "num_image"
   ]
  },
  {
   "cell_type": "code",
   "execution_count": null,
   "id": "2f602d5a-804a-40fb-8652-8157cd26bcc8",
   "metadata": {},
   "outputs": [],
   "source": []
  }
 ],
 "metadata": {
  "kernelspec": {
   "display_name": "Python 3 (ipykernel)",
   "language": "python",
   "name": "python3"
  },
  "language_info": {
   "codemirror_mode": {
    "name": "ipython",
    "version": 3
   },
   "file_extension": ".py",
   "mimetype": "text/x-python",
   "name": "python",
   "nbconvert_exporter": "python",
   "pygments_lexer": "ipython3",
   "version": "3.10.13"
  }
 },
 "nbformat": 4,
 "nbformat_minor": 5
}
