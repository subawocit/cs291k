{
 "cells": [
  {
   "cell_type": "code",
   "execution_count": 1,
   "id": "c7019978-68a4-4d9e-99ce-471b7a91537d",
   "metadata": {},
   "outputs": [
    {
     "name": "stdout",
     "output_type": "stream",
     "text": [
      "/hdd/yuchen/pipeline/training_pipeline\n"
     ]
    }
   ],
   "source": [
    "%cd /hdd/yuchen/pipeline/training_pipeline"
   ]
  },
  {
   "cell_type": "code",
   "execution_count": 2,
   "id": "051c61e4-9859-449f-88c9-d0ae5d777261",
   "metadata": {},
   "outputs": [],
   "source": [
    "from torch_utils.engine import ( train_one_epoch, evaluate, utils)\n",
    "from torch.utils.data import ( distributed, RandomSampler, SequentialSampler)\n",
    "from datasets import (\n",
    "    create_train_dataset, create_valid_dataset, \n",
    "    create_train_loader, create_valid_loader)\n",
    "from models.create_fasterrcnn_model import create_model\n",
    "from utils.general import (\n",
    "    set_training_dir, Averager, \n",
    "    save_model, save_loss_plot,\n",
    "    show_tranformed_image,\n",
    "    save_mAP, save_model_state, SaveBestModel,\n",
    "    yaml_save, init_seeds)\n",
    "from utils.logging import (\n",
    "    set_log, coco_log,set_summary_writer, tensorboard_loss_log,  tensorboard_map_log,\n",
    "    csv_log, wandb_log,  wandb_save_model, wandb_init)\n",
    "\n",
    "import torch\n",
    "import argparse\n",
    "import yaml\n",
    "import numpy as np\n",
    "import torchinfo\n",
    "import os"
   ]
  },
  {
   "cell_type": "code",
   "execution_count": 3,
   "id": "a5faf4da-98c8-4cd7-8804-25f713273f57",
   "metadata": {},
   "outputs": [],
   "source": [
    "parse_opt = {\n",
    "    'model' : 'fasterrcnn_resnet50_fpn_v2',\n",
    "    'data' : '',\n",
    "    'device' : 'cuda:0',\n",
    "    'epochs' : 5,\n",
    "    'workers' : 4,\n",
    "    'batch' : 2,\n",
    "    'lr' : 0.001,\n",
    "    'imgsz' : 224,\n",
    "    'name' : '',\n",
    "    'vis_transformed' : False,\n",
    "    'mosaic' : 0.0,\n",
    "    'use_train_aug' : False,\n",
    "    'cosine_annealing' : True,  # use cosine annealing warm restarts\n",
    "    'weights' : None,  # load weights directly from files\n",
    "    'resume_training' : False,\n",
    "    'square_training' : True,  # 'Resize images to square shape\n",
    "    'sync_bn' : True,  # sync batch norm\n",
    "    'amp' : True,  # use automatic mixed precision\n",
    "    'seed' : 42,\n",
    "    'project_dir' : None\n",
    "}\n",
    "args = parse_opt"
   ]
  },
  {
   "cell_type": "code",
   "execution_count": 4,
   "id": "a2a32ce9-30ba-4ac7-aabb-7ad7074178d0",
   "metadata": {},
   "outputs": [],
   "source": [
    "args['epochs'] = 90\n",
    "args['imgsz'] = 224\n",
    "args['device'] = 'cuda:1'\n",
    "args['model'] = 'fasterrcnn_swin'\n",
    "\n",
    "args['name'] = 'land4sensor_training'\n",
    "args['batch'] = 8\n",
    "args['data'] = 'data_configs/land4sensor.yaml'"
   ]
  },
  {
   "cell_type": "code",
   "execution_count": 5,
   "id": "6d655da4-7158-4493-9785-ff14450d6264",
   "metadata": {},
   "outputs": [
    {
     "name": "stdout",
     "output_type": "stream",
     "text": [
      "device cuda:1\n"
     ]
    }
   ],
   "source": [
    "torch.multiprocessing.set_sharing_strategy('file_system')\n",
    "\n",
    "RANK = int(os.getenv('RANK', -1))\n",
    "\n",
    "# For same annotation colors each time.\n",
    "np.random.seed(42)\n",
    "\n",
    "with open(args['data']) as file:\n",
    "    data_configs = yaml.safe_load(file)\n",
    "\n",
    "init_seeds(args['seed'] + 1 + RANK, deterministic=True)\n",
    "    \n",
    "    # Settings/parameters/constants.\n",
    "TRAIN_DIR_IMAGES = os.path.normpath(data_configs['TRAIN_DIR_IMAGES'])\n",
    "TRAIN_DIR_LABELS = os.path.normpath(data_configs['TRAIN_DIR_LABELS'])\n",
    "VALID_DIR_IMAGES = os.path.normpath(data_configs['VALID_DIR_IMAGES'])\n",
    "VALID_DIR_LABELS = os.path.normpath(data_configs['VALID_DIR_LABELS'])\n",
    "CLASSES = data_configs['CLASSES']\n",
    "NUM_CLASSES = data_configs['NC']\n",
    "NUM_WORKERS = args['workers']\n",
    "DEVICE = torch.device(args['device'])\n",
    "print(\"device\",DEVICE)\n",
    "NUM_EPOCHS = args['epochs']\n",
    "SAVE_VALID_PREDICTIONS = data_configs['SAVE_VALID_PREDICTION_IMAGES']\n",
    "BATCH_SIZE = args['batch']\n",
    "VISUALIZE_TRANSFORMED_IMAGES = args['vis_transformed']\n",
    "OUT_DIR = set_training_dir(args['name'], args['project_dir'])\n",
    "COLORS = np.random.uniform(0, 1, size=(len(CLASSES), 3))\n",
    "SCALER = torch.cuda.amp.GradScaler() if args['amp'] else None"
   ]
  },
  {
   "cell_type": "code",
   "execution_count": 6,
   "id": "2c09cf67-0876-43aa-bfa9-d6b20886d94d",
   "metadata": {},
   "outputs": [
    {
     "name": "stdout",
     "output_type": "stream",
     "text": [
      "Checking Labels and images...\n"
     ]
    },
    {
     "data": {
      "application/vnd.jupyter.widget-view+json": {
       "model_id": "9298ef26a2e6488aa569083b138cb336",
       "version_major": 2,
       "version_minor": 0
      },
      "text/plain": [
       "  0%|          | 0/1440 [00:00<?, ?it/s]"
      ]
     },
     "metadata": {},
     "output_type": "display_data"
    },
    {
     "name": "stdout",
     "output_type": "stream",
     "text": [
      "Checking Labels and images...\n"
     ]
    },
    {
     "data": {
      "application/vnd.jupyter.widget-view+json": {
       "model_id": "2809248b9f174c19b65ed2045243f217",
       "version_major": 2,
       "version_minor": 0
      },
      "text/plain": [
       "  0%|          | 0/309 [00:00<?, ?it/s]"
      ]
     },
     "metadata": {},
     "output_type": "display_data"
    }
   ],
   "source": [
    "set_log(OUT_DIR)\n",
    "writer = set_summary_writer(OUT_DIR)\n",
    "\n",
    "yaml_save(file_path=os.path.join(OUT_DIR, 'opt.yaml'), data=args)\n",
    "\n",
    "    # Model configurations\n",
    "IMAGE_SIZE = args['imgsz']\n",
    "    \n",
    "train_dataset = create_train_dataset(\n",
    "        TRAIN_DIR_IMAGES, \n",
    "        TRAIN_DIR_LABELS,\n",
    "        IMAGE_SIZE, \n",
    "        CLASSES,\n",
    "        use_train_aug=args['use_train_aug'],\n",
    "        mosaic=args['mosaic'],\n",
    "        square_training=args['square_training']\n",
    "    )\n",
    "valid_dataset = create_valid_dataset(\n",
    "        VALID_DIR_IMAGES, \n",
    "        VALID_DIR_LABELS, \n",
    "        IMAGE_SIZE, \n",
    "        CLASSES,\n",
    "        square_training=args['square_training']\n",
    "    )\n",
    "\n",
    "train_sampler = RandomSampler(train_dataset)\n",
    "valid_sampler = SequentialSampler(valid_dataset)\n",
    "\n",
    "train_loader = create_train_loader(train_dataset, BATCH_SIZE, NUM_WORKERS, batch_sampler=train_sampler)\n",
    "valid_loader = create_valid_loader(valid_dataset, BATCH_SIZE, NUM_WORKERS)"
   ]
  },
  {
   "cell_type": "code",
   "execution_count": 7,
   "id": "66afdfe3-7325-4235-8ec9-b55155fee0ee",
   "metadata": {
    "scrolled": true
   },
   "outputs": [
    {
     "name": "stdout",
     "output_type": "stream",
     "text": [
      "Building model from scratch or load weights from files\n",
      "current model setting: base_from_mae\n"
     ]
    },
    {
     "name": "stderr",
     "output_type": "stream",
     "text": [
      "/hdd/yuchen/anaconda3/envs/291k/lib/python3.10/site-packages/torch/optim/lr_scheduler.py:28: UserWarning: The verbose parameter is deprecated. Please use get_last_lr() to access the learning rate.\n",
      "  warnings.warn(\"The verbose parameter is deprecated. Please use get_last_lr() \"\n"
     ]
    }
   ],
   "source": [
    "train_loss_hist = Averager()\n",
    "train_loss_list = []\n",
    "loss_cls_list = []\n",
    "loss_box_reg_list = []\n",
    "loss_objectness_list = []\n",
    "loss_rpn_list = []\n",
    "train_loss_list_epoch = []\n",
    "val_map_05 = []\n",
    "val_map = []\n",
    "start_epochs = 0\n",
    "\n",
    "if args['weights'] is None:\n",
    "    print('Building model from scratch or load weights from files')\n",
    "    build_model = create_model[args['model']]\n",
    "    model = build_model(num_classes=NUM_CLASSES, pretrained=True)\n",
    "\n",
    "    model.transform.min_size = (args['imgsz'], )\n",
    "    model = model.to(DEVICE)\n",
    "\n",
    "    # print(model)\n",
    "\n",
    "total_params = sum(p.numel() for p in model.parameters())\n",
    "total_trainable_params = sum(p.numel() for p in model.parameters() if p.requires_grad)\n",
    "params = [p for p in model.parameters() if p.requires_grad]\n",
    "optimizer = torch.optim.SGD(params, lr=args['lr'], momentum=0.9, nesterov=True)\n",
    "# optimizer = torch.optim.AdamW(params, lr=0.0001, weight_decay=0.0005)\n",
    "\n",
    "if args['cosine_annealing']:\n",
    "    # LR will be zero as we approach `steps` number of epochs each time.\n",
    "    # If `steps = 5`, LR will slowly reduce to zero every 5 epochs.\n",
    "    steps = NUM_EPOCHS + 10\n",
    "    scheduler = torch.optim.lr_scheduler.CosineAnnealingWarmRestarts(\n",
    "        optimizer, \n",
    "        T_0=steps,\n",
    "        T_mult=1,\n",
    "        verbose=False\n",
    "    )\n",
    "else:\n",
    "    scheduler = None\n",
    "\n",
    "save_best_model = SaveBestModel()"
   ]
  },
  {
   "cell_type": "code",
   "execution_count": null,
   "id": "6a2868bb-6869-4921-864b-a19581c63126",
   "metadata": {
    "scrolled": true
   },
   "outputs": [
    {
     "name": "stderr",
     "output_type": "stream",
     "text": [
      "Epoch: [0]  [  0/180]  eta: 0:12:28  lr: 0.000007  loss: 1.8263 (1.8263)  loss_classifier: 0.7132 (0.7132)  loss_box_reg: 0.0478 (0.0478)  loss_objectness: 0.7206 (0.7206)  loss_rpn_box_reg: 0.3448 (0.3448)  time: 4.1605  data: 0.7174  max mem: 576\n",
      "Epoch: [0]  [100/180]  eta: 0:00:19  lr: 0.001010  loss: 0.7241 (0.8885)  loss_classifier: 0.1384 (0.1711)  loss_box_reg: 0.1230 (0.1096)  loss_objectness: 0.3089 (0.4352)  loss_rpn_box_reg: 0.1380 (0.1725)  time: 0.2066  data: 0.0034  max mem: 576\n",
      "Epoch: [0]  [179/180]  eta: 0:00:00  lr: 0.001000  loss: 0.7316 (0.8310)  loss_classifier: 0.1594 (0.1656)  loss_box_reg: 0.1494 (0.1258)  loss_objectness: 0.2876 (0.3780)  loss_rpn_box_reg: 0.1291 (0.1617)  time: 0.2103  data: 0.0038  max mem: 576\n",
      "Epoch: [0] Total time: 0:00:41 (0.2305 s / it)\n"
     ]
    },
    {
     "name": "stdout",
     "output_type": "stream",
     "text": [
      "creating index...\n",
      "index created!\n"
     ]
    },
    {
     "name": "stderr",
     "output_type": "stream",
     "text": [
      "Test:  [ 0/39]  eta: 0:00:21  model_time: 0.1959 (0.1959)  evaluator_time: 0.0405 (0.0405)  time: 0.5544  data: 0.3034  max mem: 576\n",
      "Test:  [38/39]  eta: 0:00:00  model_time: 0.1226 (0.1250)  evaluator_time: 0.0465 (0.0661)  time: 0.1907  data: 0.0032  max mem: 576\n",
      "Test: Total time: 0:00:08 (0.2071 s / it)\n"
     ]
    },
    {
     "name": "stdout",
     "output_type": "stream",
     "text": [
      "Averaged stats: model_time: 0.1226 (0.1250)  evaluator_time: 0.0465 (0.0661)\n",
      "Accumulating evaluation results...\n",
      "DONE (t=0.22s).\n",
      "IoU metric: bbox\n",
      " Average Precision  (AP) @[ IoU=0.50:0.95 | area=   all | maxDets=100 ] = 0.002\n",
      " Average Precision  (AP) @[ IoU=0.50      | area=   all | maxDets=100 ] = 0.010\n",
      " Average Precision  (AP) @[ IoU=0.75      | area=   all | maxDets=100 ] = 0.000\n",
      " Average Precision  (AP) @[ IoU=0.50:0.95 | area= small | maxDets=100 ] = 0.002\n",
      " Average Precision  (AP) @[ IoU=0.50:0.95 | area=medium | maxDets=100 ] = 0.016\n",
      " Average Precision  (AP) @[ IoU=0.50:0.95 | area= large | maxDets=100 ] = 0.010\n",
      " Average Recall     (AR) @[ IoU=0.50:0.95 | area=   all | maxDets=  1 ] = 0.006\n",
      " Average Recall     (AR) @[ IoU=0.50:0.95 | area=   all | maxDets= 10 ] = 0.026\n",
      " Average Recall     (AR) @[ IoU=0.50:0.95 | area=   all | maxDets=100 ] = 0.106\n",
      " Average Recall     (AR) @[ IoU=0.50:0.95 | area= small | maxDets=100 ] = 0.096\n",
      " Average Recall     (AR) @[ IoU=0.50:0.95 | area=medium | maxDets=100 ] = 0.134\n",
      " Average Recall     (AR) @[ IoU=0.50:0.95 | area= large | maxDets=100 ] = 0.189\n",
      "0.0024719250654564903 0.010385834326616016\n",
      "SAVING PLOTS COMPLETE...\n",
      "SAVING PLOTS COMPLETE...\n",
      "SAVING PLOTS COMPLETE...\n",
      "SAVING PLOTS COMPLETE...\n",
      "SAVING PLOTS COMPLETE...\n",
      "SAVING PLOTS COMPLETE...\n"
     ]
    },
    {
     "name": "stderr",
     "output_type": "stream",
     "text": [
      "Epoch: [1]  [  0/180]  eta: 0:01:36  lr: 0.001000  loss: 0.7638 (0.7638)  loss_classifier: 0.1744 (0.1744)  loss_box_reg: 0.1826 (0.1826)  loss_objectness: 0.2946 (0.2946)  loss_rpn_box_reg: 0.1122 (0.1122)  time: 0.5335  data: 0.3066  max mem: 576\n",
      "Epoch: [1]  [100/180]  eta: 0:00:16  lr: 0.000999  loss: 0.7163 (0.7412)  loss_classifier: 0.1536 (0.1635)  loss_box_reg: 0.1629 (0.1673)  loss_objectness: 0.2620 (0.2691)  loss_rpn_box_reg: 0.1399 (0.1413)  time: 0.2050  data: 0.0035  max mem: 576\n",
      "Epoch: [1]  [179/180]  eta: 0:00:00  lr: 0.000999  loss: 0.6475 (0.7276)  loss_classifier: 0.1483 (0.1615)  loss_box_reg: 0.1768 (0.1699)  loss_objectness: 0.2286 (0.2590)  loss_rpn_box_reg: 0.1010 (0.1373)  time: 0.2059  data: 0.0035  max mem: 576\n",
      "Epoch: [1] Total time: 0:00:37 (0.2086 s / it)\n"
     ]
    },
    {
     "name": "stdout",
     "output_type": "stream",
     "text": [
      "creating index...\n",
      "index created!\n"
     ]
    },
    {
     "name": "stderr",
     "output_type": "stream",
     "text": [
      "Test:  [ 0/39]  eta: 0:00:18  model_time: 0.1291 (0.1291)  evaluator_time: 0.0311 (0.0311)  time: 0.4797  data: 0.3059  max mem: 576\n",
      "Test:  [38/39]  eta: 0:00:00  model_time: 0.1247 (0.1236)  evaluator_time: 0.0457 (0.0606)  time: 0.1974  data: 0.0033  max mem: 576\n",
      "Test: Total time: 0:00:07 (0.2003 s / it)\n"
     ]
    },
    {
     "name": "stdout",
     "output_type": "stream",
     "text": [
      "Averaged stats: model_time: 0.1247 (0.1236)  evaluator_time: 0.0457 (0.0606)\n",
      "Accumulating evaluation results...\n",
      "DONE (t=0.22s).\n",
      "IoU metric: bbox\n",
      " Average Precision  (AP) @[ IoU=0.50:0.95 | area=   all | maxDets=100 ] = 0.011\n",
      " Average Precision  (AP) @[ IoU=0.50      | area=   all | maxDets=100 ] = 0.050\n",
      " Average Precision  (AP) @[ IoU=0.75      | area=   all | maxDets=100 ] = 0.001\n",
      " Average Precision  (AP) @[ IoU=0.50:0.95 | area= small | maxDets=100 ] = 0.011\n",
      " Average Precision  (AP) @[ IoU=0.50:0.95 | area=medium | maxDets=100 ] = 0.026\n",
      " Average Precision  (AP) @[ IoU=0.50:0.95 | area= large | maxDets=100 ] = 0.016\n",
      " Average Recall     (AR) @[ IoU=0.50:0.95 | area=   all | maxDets=  1 ] = 0.015\n",
      " Average Recall     (AR) @[ IoU=0.50:0.95 | area=   all | maxDets= 10 ] = 0.057\n",
      " Average Recall     (AR) @[ IoU=0.50:0.95 | area=   all | maxDets=100 ] = 0.154\n",
      " Average Recall     (AR) @[ IoU=0.50:0.95 | area= small | maxDets=100 ] = 0.148\n",
      " Average Recall     (AR) @[ IoU=0.50:0.95 | area=medium | maxDets=100 ] = 0.168\n",
      " Average Recall     (AR) @[ IoU=0.50:0.95 | area= large | maxDets=100 ] = 0.300\n",
      "0.01084612602460618 0.05026045175256336\n",
      "SAVING PLOTS COMPLETE...\n",
      "SAVING PLOTS COMPLETE...\n",
      "SAVING PLOTS COMPLETE...\n",
      "SAVING PLOTS COMPLETE...\n",
      "SAVING PLOTS COMPLETE...\n",
      "SAVING PLOTS COMPLETE...\n"
     ]
    },
    {
     "name": "stderr",
     "output_type": "stream",
     "text": [
      "Epoch: [2]  [  0/180]  eta: 0:01:38  lr: 0.000999  loss: 0.5633 (0.5633)  loss_classifier: 0.1296 (0.1296)  loss_box_reg: 0.1483 (0.1483)  loss_objectness: 0.1823 (0.1823)  loss_rpn_box_reg: 0.1031 (0.1031)  time: 0.5463  data: 0.3144  max mem: 576\n",
      "Epoch: [2]  [100/180]  eta: 0:00:17  lr: 0.000998  loss: 0.7079 (0.6976)  loss_classifier: 0.1483 (0.1562)  loss_box_reg: 0.1805 (0.1793)  loss_objectness: 0.2173 (0.2332)  loss_rpn_box_reg: 0.1351 (0.1290)  time: 0.2105  data: 0.0037  max mem: 576\n",
      "Epoch: [2]  [179/180]  eta: 0:00:00  lr: 0.000998  loss: 0.7158 (0.6978)  loss_classifier: 0.1517 (0.1548)  loss_box_reg: 0.1709 (0.1786)  loss_objectness: 0.2564 (0.2335)  loss_rpn_box_reg: 0.1400 (0.1308)  time: 0.2145  data: 0.0037  max mem: 576\n",
      "Epoch: [2] Total time: 0:00:38 (0.2139 s / it)\n"
     ]
    },
    {
     "name": "stdout",
     "output_type": "stream",
     "text": [
      "creating index...\n",
      "index created!\n"
     ]
    },
    {
     "name": "stderr",
     "output_type": "stream",
     "text": [
      "Test:  [ 0/39]  eta: 0:00:19  model_time: 0.1334 (0.1334)  evaluator_time: 0.0299 (0.0299)  time: 0.4877  data: 0.3098  max mem: 576\n",
      "Test:  [38/39]  eta: 0:00:00  model_time: 0.1259 (0.1251)  evaluator_time: 0.0440 (0.0551)  time: 0.1868  data: 0.0033  max mem: 576\n",
      "Test: Total time: 0:00:07 (0.1971 s / it)\n"
     ]
    },
    {
     "name": "stdout",
     "output_type": "stream",
     "text": [
      "Averaged stats: model_time: 0.1259 (0.1251)  evaluator_time: 0.0440 (0.0551)\n",
      "Accumulating evaluation results...\n",
      "DONE (t=0.19s).\n",
      "IoU metric: bbox\n",
      " Average Precision  (AP) @[ IoU=0.50:0.95 | area=   all | maxDets=100 ] = 0.019\n",
      " Average Precision  (AP) @[ IoU=0.50      | area=   all | maxDets=100 ] = 0.090\n",
      " Average Precision  (AP) @[ IoU=0.75      | area=   all | maxDets=100 ] = 0.001\n",
      " Average Precision  (AP) @[ IoU=0.50:0.95 | area= small | maxDets=100 ] = 0.019\n",
      " Average Precision  (AP) @[ IoU=0.50:0.95 | area=medium | maxDets=100 ] = 0.023\n",
      " Average Precision  (AP) @[ IoU=0.50:0.95 | area= large | maxDets=100 ] = 0.054\n",
      " Average Recall     (AR) @[ IoU=0.50:0.95 | area=   all | maxDets=  1 ] = 0.020\n",
      " Average Recall     (AR) @[ IoU=0.50:0.95 | area=   all | maxDets= 10 ] = 0.079\n",
      " Average Recall     (AR) @[ IoU=0.50:0.95 | area=   all | maxDets=100 ] = 0.184\n",
      " Average Recall     (AR) @[ IoU=0.50:0.95 | area= small | maxDets=100 ] = 0.170\n",
      " Average Recall     (AR) @[ IoU=0.50:0.95 | area=medium | maxDets=100 ] = 0.219\n",
      " Average Recall     (AR) @[ IoU=0.50:0.95 | area= large | maxDets=100 ] = 0.342\n",
      "0.018853868558315483 0.08976416148018182\n",
      "SAVING PLOTS COMPLETE...\n",
      "SAVING PLOTS COMPLETE...\n",
      "SAVING PLOTS COMPLETE...\n",
      "SAVING PLOTS COMPLETE...\n",
      "SAVING PLOTS COMPLETE...\n",
      "SAVING PLOTS COMPLETE...\n"
     ]
    },
    {
     "name": "stderr",
     "output_type": "stream",
     "text": [
      "Epoch: [3]  [  0/180]  eta: 0:01:40  lr: 0.000998  loss: 0.6787 (0.6787)  loss_classifier: 0.1381 (0.1381)  loss_box_reg: 0.1665 (0.1665)  loss_objectness: 0.2341 (0.2341)  loss_rpn_box_reg: 0.1400 (0.1400)  time: 0.5581  data: 0.3265  max mem: 576\n",
      "Epoch: [3]  [100/180]  eta: 0:00:17  lr: 0.000997  loss: 0.6123 (0.6762)  loss_classifier: 0.1275 (0.1487)  loss_box_reg: 0.1627 (0.1800)  loss_objectness: 0.2105 (0.2226)  loss_rpn_box_reg: 0.1147 (0.1250)  time: 0.2187  data: 0.0038  max mem: 576\n",
      "Epoch: [3]  [179/180]  eta: 0:00:00  lr: 0.000996  loss: 0.6693 (0.6703)  loss_classifier: 0.1434 (0.1466)  loss_box_reg: 0.1661 (0.1780)  loss_objectness: 0.2175 (0.2214)  loss_rpn_box_reg: 0.1140 (0.1243)  time: 0.2129  data: 0.0035  max mem: 576\n",
      "Epoch: [3] Total time: 0:00:39 (0.2201 s / it)\n"
     ]
    },
    {
     "name": "stdout",
     "output_type": "stream",
     "text": [
      "creating index...\n",
      "index created!\n"
     ]
    },
    {
     "name": "stderr",
     "output_type": "stream",
     "text": [
      "Test:  [ 0/39]  eta: 0:00:27  model_time: 0.1323 (0.1323)  evaluator_time: 0.2487 (0.2487)  time: 0.6973  data: 0.3010  max mem: 576\n",
      "Test:  [38/39]  eta: 0:00:00  model_time: 0.1288 (0.1276)  evaluator_time: 0.0404 (0.0577)  time: 0.1865  data: 0.0032  max mem: 576\n",
      "Test: Total time: 0:00:07 (0.2016 s / it)\n"
     ]
    },
    {
     "name": "stdout",
     "output_type": "stream",
     "text": [
      "Averaged stats: model_time: 0.1288 (0.1276)  evaluator_time: 0.0404 (0.0577)\n",
      "Accumulating evaluation results...\n",
      "DONE (t=0.17s).\n",
      "IoU metric: bbox\n",
      " Average Precision  (AP) @[ IoU=0.50:0.95 | area=   all | maxDets=100 ] = 0.027\n",
      " Average Precision  (AP) @[ IoU=0.50      | area=   all | maxDets=100 ] = 0.115\n",
      " Average Precision  (AP) @[ IoU=0.75      | area=   all | maxDets=100 ] = 0.002\n",
      " Average Precision  (AP) @[ IoU=0.50:0.95 | area= small | maxDets=100 ] = 0.027\n",
      " Average Precision  (AP) @[ IoU=0.50:0.95 | area=medium | maxDets=100 ] = 0.031\n",
      " Average Precision  (AP) @[ IoU=0.50:0.95 | area= large | maxDets=100 ] = 0.069\n",
      " Average Recall     (AR) @[ IoU=0.50:0.95 | area=   all | maxDets=  1 ] = 0.022\n",
      " Average Recall     (AR) @[ IoU=0.50:0.95 | area=   all | maxDets= 10 ] = 0.102\n",
      " Average Recall     (AR) @[ IoU=0.50:0.95 | area=   all | maxDets=100 ] = 0.207\n",
      " Average Recall     (AR) @[ IoU=0.50:0.95 | area= small | maxDets=100 ] = 0.194\n",
      " Average Recall     (AR) @[ IoU=0.50:0.95 | area=medium | maxDets=100 ] = 0.243\n",
      " Average Recall     (AR) @[ IoU=0.50:0.95 | area= large | maxDets=100 ] = 0.374\n",
      "0.027177373276787917 0.11539011556676723\n",
      "SAVING PLOTS COMPLETE...\n",
      "SAVING PLOTS COMPLETE...\n",
      "SAVING PLOTS COMPLETE...\n",
      "SAVING PLOTS COMPLETE...\n",
      "SAVING PLOTS COMPLETE...\n",
      "SAVING PLOTS COMPLETE...\n"
     ]
    },
    {
     "name": "stderr",
     "output_type": "stream",
     "text": [
      "Epoch: [4]  [  0/180]  eta: 0:01:38  lr: 0.000996  loss: 0.5627 (0.5627)  loss_classifier: 0.1334 (0.1334)  loss_box_reg: 0.1483 (0.1483)  loss_objectness: 0.1899 (0.1899)  loss_rpn_box_reg: 0.0911 (0.0911)  time: 0.5451  data: 0.3053  max mem: 576\n",
      "Epoch: [4]  [100/180]  eta: 0:00:17  lr: 0.000995  loss: 0.6242 (0.6413)  loss_classifier: 0.1357 (0.1386)  loss_box_reg: 0.1661 (0.1729)  loss_objectness: 0.2118 (0.2125)  loss_rpn_box_reg: 0.1225 (0.1173)  time: 0.2208  data: 0.0038  max mem: 576\n",
      "Epoch: [4]  [179/180]  eta: 0:00:00  lr: 0.000994  loss: 0.6121 (0.6517)  loss_classifier: 0.1457 (0.1413)  loss_box_reg: 0.1836 (0.1780)  loss_objectness: 0.2077 (0.2128)  loss_rpn_box_reg: 0.1198 (0.1196)  time: 0.2207  data: 0.0038  max mem: 576\n",
      "Epoch: [4] Total time: 0:00:39 (0.2217 s / it)\n"
     ]
    },
    {
     "name": "stdout",
     "output_type": "stream",
     "text": [
      "creating index...\n",
      "index created!\n"
     ]
    },
    {
     "name": "stderr",
     "output_type": "stream",
     "text": [
      "Test:  [ 0/39]  eta: 0:00:18  model_time: 0.1328 (0.1328)  evaluator_time: 0.0246 (0.0246)  time: 0.4807  data: 0.3078  max mem: 576\n",
      "Test:  [38/39]  eta: 0:00:00  model_time: 0.1300 (0.1292)  evaluator_time: 0.0372 (0.0491)  time: 0.1850  data: 0.0033  max mem: 576\n",
      "Test: Total time: 0:00:07 (0.1947 s / it)\n"
     ]
    },
    {
     "name": "stdout",
     "output_type": "stream",
     "text": [
      "Averaged stats: model_time: 0.1300 (0.1292)  evaluator_time: 0.0372 (0.0491)\n",
      "Accumulating evaluation results...\n",
      "DONE (t=0.17s).\n",
      "IoU metric: bbox\n",
      " Average Precision  (AP) @[ IoU=0.50:0.95 | area=   all | maxDets=100 ] = 0.035\n",
      " Average Precision  (AP) @[ IoU=0.50      | area=   all | maxDets=100 ] = 0.149\n",
      " Average Precision  (AP) @[ IoU=0.75      | area=   all | maxDets=100 ] = 0.004\n",
      " Average Precision  (AP) @[ IoU=0.50:0.95 | area= small | maxDets=100 ] = 0.033\n",
      " Average Precision  (AP) @[ IoU=0.50:0.95 | area=medium | maxDets=100 ] = 0.042\n",
      " Average Precision  (AP) @[ IoU=0.50:0.95 | area= large | maxDets=100 ] = 0.076\n",
      " Average Recall     (AR) @[ IoU=0.50:0.95 | area=   all | maxDets=  1 ] = 0.028\n",
      " Average Recall     (AR) @[ IoU=0.50:0.95 | area=   all | maxDets= 10 ] = 0.116\n",
      " Average Recall     (AR) @[ IoU=0.50:0.95 | area=   all | maxDets=100 ] = 0.218\n",
      " Average Recall     (AR) @[ IoU=0.50:0.95 | area= small | maxDets=100 ] = 0.200\n",
      " Average Recall     (AR) @[ IoU=0.50:0.95 | area=medium | maxDets=100 ] = 0.266\n",
      " Average Recall     (AR) @[ IoU=0.50:0.95 | area= large | maxDets=100 ] = 0.426\n",
      "0.03475137592036983 0.14917745758697024\n",
      "SAVING PLOTS COMPLETE...\n",
      "SAVING PLOTS COMPLETE...\n",
      "SAVING PLOTS COMPLETE...\n",
      "SAVING PLOTS COMPLETE...\n",
      "SAVING PLOTS COMPLETE...\n",
      "SAVING PLOTS COMPLETE...\n"
     ]
    },
    {
     "name": "stderr",
     "output_type": "stream",
     "text": [
      "Epoch: [5]  [  0/180]  eta: 0:01:38  lr: 0.000994  loss: 0.7940 (0.7940)  loss_classifier: 0.1834 (0.1834)  loss_box_reg: 0.2784 (0.2784)  loss_objectness: 0.2094 (0.2094)  loss_rpn_box_reg: 0.1228 (0.1228)  time: 0.5476  data: 0.3181  max mem: 576\n",
      "Epoch: [5]  [100/180]  eta: 0:00:17  lr: 0.000992  loss: 0.6062 (0.6530)  loss_classifier: 0.1288 (0.1426)  loss_box_reg: 0.1773 (0.1852)  loss_objectness: 0.1924 (0.2074)  loss_rpn_box_reg: 0.1078 (0.1178)  time: 0.2230  data: 0.0038  max mem: 576\n",
      "Epoch: [5]  [179/180]  eta: 0:00:00  lr: 0.000991  loss: 0.5569 (0.6391)  loss_classifier: 0.1212 (0.1384)  loss_box_reg: 0.1547 (0.1795)  loss_objectness: 0.1773 (0.2052)  loss_rpn_box_reg: 0.0979 (0.1160)  time: 0.2172  data: 0.0036  max mem: 576\n",
      "Epoch: [5] Total time: 0:00:40 (0.2223 s / it)\n"
     ]
    },
    {
     "name": "stdout",
     "output_type": "stream",
     "text": [
      "creating index...\n",
      "index created!\n"
     ]
    },
    {
     "name": "stderr",
     "output_type": "stream",
     "text": [
      "Test:  [ 0/39]  eta: 0:00:18  model_time: 0.1371 (0.1371)  evaluator_time: 0.0246 (0.0246)  time: 0.4862  data: 0.3080  max mem: 576\n",
      "Test:  [38/39]  eta: 0:00:00  model_time: 0.1298 (0.1301)  evaluator_time: 0.0360 (0.0461)  time: 0.1816  data: 0.0033  max mem: 576\n",
      "Test: Total time: 0:00:07 (0.1921 s / it)\n"
     ]
    },
    {
     "name": "stdout",
     "output_type": "stream",
     "text": [
      "Averaged stats: model_time: 0.1298 (0.1301)  evaluator_time: 0.0360 (0.0461)\n",
      "Accumulating evaluation results...\n",
      "DONE (t=0.14s).\n",
      "IoU metric: bbox\n",
      " Average Precision  (AP) @[ IoU=0.50:0.95 | area=   all | maxDets=100 ] = 0.042\n",
      " Average Precision  (AP) @[ IoU=0.50      | area=   all | maxDets=100 ] = 0.178\n",
      " Average Precision  (AP) @[ IoU=0.75      | area=   all | maxDets=100 ] = 0.005\n",
      " Average Precision  (AP) @[ IoU=0.50:0.95 | area= small | maxDets=100 ] = 0.039\n",
      " Average Precision  (AP) @[ IoU=0.50:0.95 | area=medium | maxDets=100 ] = 0.058\n",
      " Average Precision  (AP) @[ IoU=0.50:0.95 | area= large | maxDets=100 ] = 0.083\n",
      " Average Recall     (AR) @[ IoU=0.50:0.95 | area=   all | maxDets=  1 ] = 0.033\n",
      " Average Recall     (AR) @[ IoU=0.50:0.95 | area=   all | maxDets= 10 ] = 0.125\n",
      " Average Recall     (AR) @[ IoU=0.50:0.95 | area=   all | maxDets=100 ] = 0.227\n",
      " Average Recall     (AR) @[ IoU=0.50:0.95 | area= small | maxDets=100 ] = 0.205\n",
      " Average Recall     (AR) @[ IoU=0.50:0.95 | area=medium | maxDets=100 ] = 0.288\n",
      " Average Recall     (AR) @[ IoU=0.50:0.95 | area= large | maxDets=100 ] = 0.426\n",
      "0.04249480075614829 0.1778419732693479\n",
      "SAVING PLOTS COMPLETE...\n",
      "SAVING PLOTS COMPLETE...\n",
      "SAVING PLOTS COMPLETE...\n",
      "SAVING PLOTS COMPLETE...\n",
      "SAVING PLOTS COMPLETE...\n",
      "SAVING PLOTS COMPLETE...\n"
     ]
    },
    {
     "name": "stderr",
     "output_type": "stream",
     "text": [
      "Epoch: [6]  [  0/180]  eta: 0:01:39  lr: 0.000991  loss: 0.6581 (0.6581)  loss_classifier: 0.1232 (0.1232)  loss_box_reg: 0.1827 (0.1827)  loss_objectness: 0.2173 (0.2173)  loss_rpn_box_reg: 0.1348 (0.1348)  time: 0.5542  data: 0.3071  max mem: 576\n",
      "Epoch: [6]  [100/180]  eta: 0:00:17  lr: 0.000989  loss: 0.5869 (0.6344)  loss_classifier: 0.1234 (0.1366)  loss_box_reg: 0.1551 (0.1811)  loss_objectness: 0.1918 (0.2000)  loss_rpn_box_reg: 0.0992 (0.1166)  time: 0.2211  data: 0.0036  max mem: 576\n",
      "Epoch: [6]  [179/180]  eta: 0:00:00  lr: 0.000988  loss: 0.5808 (0.6291)  loss_classifier: 0.1225 (0.1353)  loss_box_reg: 0.1661 (0.1804)  loss_objectness: 0.1880 (0.1988)  loss_rpn_box_reg: 0.1076 (0.1146)  time: 0.2177  data: 0.0037  max mem: 576\n",
      "Epoch: [6] Total time: 0:00:39 (0.2207 s / it)\n"
     ]
    },
    {
     "name": "stdout",
     "output_type": "stream",
     "text": [
      "creating index...\n",
      "index created!\n"
     ]
    },
    {
     "name": "stderr",
     "output_type": "stream",
     "text": [
      "Test:  [ 0/39]  eta: 0:00:18  model_time: 0.1329 (0.1329)  evaluator_time: 0.0252 (0.0252)  time: 0.4800  data: 0.3062  max mem: 576\n",
      "Test:  [38/39]  eta: 0:00:00  model_time: 0.1308 (0.1304)  evaluator_time: 0.0370 (0.0478)  time: 0.1831  data: 0.0033  max mem: 576\n",
      "Test: Total time: 0:00:07 (0.1944 s / it)\n"
     ]
    },
    {
     "name": "stdout",
     "output_type": "stream",
     "text": [
      "Averaged stats: model_time: 0.1308 (0.1304)  evaluator_time: 0.0370 (0.0478)\n",
      "Accumulating evaluation results...\n",
      "DONE (t=0.18s).\n",
      "IoU metric: bbox\n",
      " Average Precision  (AP) @[ IoU=0.50:0.95 | area=   all | maxDets=100 ] = 0.053\n",
      " Average Precision  (AP) @[ IoU=0.50      | area=   all | maxDets=100 ] = 0.200\n",
      " Average Precision  (AP) @[ IoU=0.75      | area=   all | maxDets=100 ] = 0.008\n",
      " Average Precision  (AP) @[ IoU=0.50:0.95 | area= small | maxDets=100 ] = 0.050\n",
      " Average Precision  (AP) @[ IoU=0.50:0.95 | area=medium | maxDets=100 ] = 0.065\n",
      " Average Precision  (AP) @[ IoU=0.50:0.95 | area= large | maxDets=100 ] = 0.126\n",
      " Average Recall     (AR) @[ IoU=0.50:0.95 | area=   all | maxDets=  1 ] = 0.040\n",
      " Average Recall     (AR) @[ IoU=0.50:0.95 | area=   all | maxDets= 10 ] = 0.145\n",
      " Average Recall     (AR) @[ IoU=0.50:0.95 | area=   all | maxDets=100 ] = 0.252\n",
      " Average Recall     (AR) @[ IoU=0.50:0.95 | area= small | maxDets=100 ] = 0.233\n",
      " Average Recall     (AR) @[ IoU=0.50:0.95 | area=medium | maxDets=100 ] = 0.302\n",
      " Average Recall     (AR) @[ IoU=0.50:0.95 | area= large | maxDets=100 ] = 0.463\n",
      "0.052834727201440966 0.20009257831783242\n",
      "SAVING PLOTS COMPLETE...\n",
      "SAVING PLOTS COMPLETE...\n",
      "SAVING PLOTS COMPLETE...\n",
      "SAVING PLOTS COMPLETE...\n",
      "SAVING PLOTS COMPLETE...\n",
      "SAVING PLOTS COMPLETE...\n"
     ]
    },
    {
     "name": "stderr",
     "output_type": "stream",
     "text": [
      "Epoch: [7]  [  0/180]  eta: 0:01:37  lr: 0.000988  loss: 0.3799 (0.3799)  loss_classifier: 0.0832 (0.0832)  loss_box_reg: 0.1148 (0.1148)  loss_objectness: 0.1179 (0.1179)  loss_rpn_box_reg: 0.0639 (0.0639)  time: 0.5401  data: 0.3051  max mem: 576\n",
      "Epoch: [7]  [100/180]  eta: 0:00:17  lr: 0.000986  loss: 0.6004 (0.6170)  loss_classifier: 0.1236 (0.1319)  loss_box_reg: 0.1621 (0.1813)  loss_objectness: 0.1900 (0.1902)  loss_rpn_box_reg: 0.1206 (0.1136)  time: 0.2214  data: 0.0038  max mem: 576\n",
      "Epoch: [7]  [179/180]  eta: 0:00:00  lr: 0.000984  loss: 0.5882 (0.6179)  loss_classifier: 0.1209 (0.1334)  loss_box_reg: 0.1524 (0.1817)  loss_objectness: 0.1822 (0.1910)  loss_rpn_box_reg: 0.1085 (0.1118)  time: 0.2183  data: 0.0036  max mem: 576\n",
      "Epoch: [7] Total time: 0:00:40 (0.2233 s / it)\n"
     ]
    },
    {
     "name": "stdout",
     "output_type": "stream",
     "text": [
      "creating index...\n",
      "index created!\n"
     ]
    },
    {
     "name": "stderr",
     "output_type": "stream",
     "text": [
      "Test:  [ 0/39]  eta: 0:00:18  model_time: 0.1330 (0.1330)  evaluator_time: 0.0230 (0.0230)  time: 0.4782  data: 0.3066  max mem: 576\n",
      "Test:  [38/39]  eta: 0:00:00  model_time: 0.1318 (0.1320)  evaluator_time: 0.0368 (0.0471)  time: 0.1870  data: 0.0033  max mem: 576\n",
      "Test: Total time: 0:00:07 (0.1950 s / it)\n"
     ]
    },
    {
     "name": "stdout",
     "output_type": "stream",
     "text": [
      "Averaged stats: model_time: 0.1318 (0.1320)  evaluator_time: 0.0368 (0.0471)\n",
      "Accumulating evaluation results...\n",
      "DONE (t=0.16s).\n",
      "IoU metric: bbox\n",
      " Average Precision  (AP) @[ IoU=0.50:0.95 | area=   all | maxDets=100 ] = 0.061\n",
      " Average Precision  (AP) @[ IoU=0.50      | area=   all | maxDets=100 ] = 0.224\n",
      " Average Precision  (AP) @[ IoU=0.75      | area=   all | maxDets=100 ] = 0.011\n",
      " Average Precision  (AP) @[ IoU=0.50:0.95 | area= small | maxDets=100 ] = 0.056\n",
      " Average Precision  (AP) @[ IoU=0.50:0.95 | area=medium | maxDets=100 ] = 0.082\n",
      " Average Precision  (AP) @[ IoU=0.50:0.95 | area= large | maxDets=100 ] = 0.069\n",
      " Average Recall     (AR) @[ IoU=0.50:0.95 | area=   all | maxDets=  1 ] = 0.043\n",
      " Average Recall     (AR) @[ IoU=0.50:0.95 | area=   all | maxDets= 10 ] = 0.152\n",
      " Average Recall     (AR) @[ IoU=0.50:0.95 | area=   all | maxDets=100 ] = 0.261\n",
      " Average Recall     (AR) @[ IoU=0.50:0.95 | area= small | maxDets=100 ] = 0.238\n",
      " Average Recall     (AR) @[ IoU=0.50:0.95 | area=medium | maxDets=100 ] = 0.326\n",
      " Average Recall     (AR) @[ IoU=0.50:0.95 | area= large | maxDets=100 ] = 0.432\n",
      "0.06064113700830578 0.22357014497743705\n",
      "SAVING PLOTS COMPLETE...\n",
      "SAVING PLOTS COMPLETE...\n",
      "SAVING PLOTS COMPLETE...\n",
      "SAVING PLOTS COMPLETE...\n",
      "SAVING PLOTS COMPLETE...\n",
      "SAVING PLOTS COMPLETE...\n"
     ]
    },
    {
     "name": "stderr",
     "output_type": "stream",
     "text": [
      "Epoch: [8]  [  0/180]  eta: 0:01:40  lr: 0.000984  loss: 0.6470 (0.6470)  loss_classifier: 0.1286 (0.1286)  loss_box_reg: 0.1640 (0.1640)  loss_objectness: 0.2311 (0.2311)  loss_rpn_box_reg: 0.1233 (0.1233)  time: 0.5569  data: 0.3143  max mem: 576\n",
      "Epoch: [8]  [100/180]  eta: 0:00:17  lr: 0.000982  loss: 0.5563 (0.6143)  loss_classifier: 0.1131 (0.1302)  loss_box_reg: 0.1602 (0.1826)  loss_objectness: 0.1698 (0.1884)  loss_rpn_box_reg: 0.1108 (0.1131)  time: 0.2224  data: 0.0036  max mem: 576\n",
      "Epoch: [8]  [179/180]  eta: 0:00:00  lr: 0.000980  loss: 0.5595 (0.6141)  loss_classifier: 0.1212 (0.1328)  loss_box_reg: 0.1793 (0.1850)  loss_objectness: 0.1809 (0.1860)  loss_rpn_box_reg: 0.0899 (0.1103)  time: 0.2186  data: 0.0035  max mem: 576\n",
      "Epoch: [8] Total time: 0:00:40 (0.2232 s / it)\n"
     ]
    },
    {
     "name": "stdout",
     "output_type": "stream",
     "text": [
      "creating index...\n",
      "index created!\n"
     ]
    },
    {
     "name": "stderr",
     "output_type": "stream",
     "text": [
      "Test:  [ 0/39]  eta: 0:00:18  model_time: 0.1349 (0.1349)  evaluator_time: 0.0185 (0.0185)  time: 0.4808  data: 0.3125  max mem: 576\n",
      "Test:  [38/39]  eta: 0:00:00  model_time: 0.1317 (0.1300)  evaluator_time: 0.0319 (0.0393)  time: 0.1764  data: 0.0033  max mem: 576\n",
      "Test: Total time: 0:00:07 (0.1860 s / it)\n"
     ]
    },
    {
     "name": "stdout",
     "output_type": "stream",
     "text": [
      "Averaged stats: model_time: 0.1317 (0.1300)  evaluator_time: 0.0319 (0.0393)\n",
      "Accumulating evaluation results...\n",
      "DONE (t=0.13s).\n",
      "IoU metric: bbox\n",
      " Average Precision  (AP) @[ IoU=0.50:0.95 | area=   all | maxDets=100 ] = 0.067\n",
      " Average Precision  (AP) @[ IoU=0.50      | area=   all | maxDets=100 ] = 0.233\n",
      " Average Precision  (AP) @[ IoU=0.75      | area=   all | maxDets=100 ] = 0.018\n",
      " Average Precision  (AP) @[ IoU=0.50:0.95 | area= small | maxDets=100 ] = 0.060\n",
      " Average Precision  (AP) @[ IoU=0.50:0.95 | area=medium | maxDets=100 ] = 0.095\n",
      " Average Precision  (AP) @[ IoU=0.50:0.95 | area= large | maxDets=100 ] = 0.133\n",
      " Average Recall     (AR) @[ IoU=0.50:0.95 | area=   all | maxDets=  1 ] = 0.045\n",
      " Average Recall     (AR) @[ IoU=0.50:0.95 | area=   all | maxDets= 10 ] = 0.160\n",
      " Average Recall     (AR) @[ IoU=0.50:0.95 | area=   all | maxDets=100 ] = 0.268\n",
      " Average Recall     (AR) @[ IoU=0.50:0.95 | area= small | maxDets=100 ] = 0.241\n",
      " Average Recall     (AR) @[ IoU=0.50:0.95 | area=medium | maxDets=100 ] = 0.347\n",
      " Average Recall     (AR) @[ IoU=0.50:0.95 | area= large | maxDets=100 ] = 0.447\n",
      "0.0667744450137996 0.23276281605893995\n",
      "SAVING PLOTS COMPLETE...\n",
      "SAVING PLOTS COMPLETE...\n",
      "SAVING PLOTS COMPLETE...\n",
      "SAVING PLOTS COMPLETE...\n",
      "SAVING PLOTS COMPLETE...\n",
      "SAVING PLOTS COMPLETE...\n"
     ]
    },
    {
     "name": "stderr",
     "output_type": "stream",
     "text": [
      "Epoch: [9]  [  0/180]  eta: 0:01:41  lr: 0.000980  loss: 0.7343 (0.7343)  loss_classifier: 0.1464 (0.1464)  loss_box_reg: 0.1637 (0.1637)  loss_objectness: 0.2956 (0.2956)  loss_rpn_box_reg: 0.1285 (0.1285)  time: 0.5643  data: 0.3256  max mem: 576\n",
      "Epoch: [9]  [100/180]  eta: 0:00:18  lr: 0.000978  loss: 0.6213 (0.6109)  loss_classifier: 0.1350 (0.1312)  loss_box_reg: 0.1900 (0.1862)  loss_objectness: 0.1820 (0.1828)  loss_rpn_box_reg: 0.1143 (0.1107)  time: 0.2234  data: 0.0036  max mem: 576\n",
      "Epoch: [9]  [179/180]  eta: 0:00:00  lr: 0.000976  loss: 0.6030 (0.6032)  loss_classifier: 0.1345 (0.1303)  loss_box_reg: 0.1756 (0.1832)  loss_objectness: 0.1787 (0.1814)  loss_rpn_box_reg: 0.0985 (0.1083)  time: 0.2185  data: 0.0036  max mem: 576\n",
      "Epoch: [9] Total time: 0:00:40 (0.2247 s / it)\n"
     ]
    },
    {
     "name": "stdout",
     "output_type": "stream",
     "text": [
      "creating index...\n",
      "index created!\n"
     ]
    },
    {
     "name": "stderr",
     "output_type": "stream",
     "text": [
      "Test:  [ 0/39]  eta: 0:00:18  model_time: 0.1342 (0.1342)  evaluator_time: 0.0218 (0.0218)  time: 0.4852  data: 0.3132  max mem: 576\n",
      "Test:  [38/39]  eta: 0:00:00  model_time: 0.1305 (0.1341)  evaluator_time: 0.0350 (0.0462)  time: 0.1887  data: 0.0033  max mem: 576\n",
      "Test: Total time: 0:00:07 (0.1972 s / it)\n"
     ]
    },
    {
     "name": "stdout",
     "output_type": "stream",
     "text": [
      "Averaged stats: model_time: 0.1305 (0.1341)  evaluator_time: 0.0350 (0.0462)\n",
      "Accumulating evaluation results...\n",
      "DONE (t=0.16s).\n",
      "IoU metric: bbox\n",
      " Average Precision  (AP) @[ IoU=0.50:0.95 | area=   all | maxDets=100 ] = 0.069\n",
      " Average Precision  (AP) @[ IoU=0.50      | area=   all | maxDets=100 ] = 0.243\n",
      " Average Precision  (AP) @[ IoU=0.75      | area=   all | maxDets=100 ] = 0.017\n",
      " Average Precision  (AP) @[ IoU=0.50:0.95 | area= small | maxDets=100 ] = 0.063\n",
      " Average Precision  (AP) @[ IoU=0.50:0.95 | area=medium | maxDets=100 ] = 0.091\n",
      " Average Precision  (AP) @[ IoU=0.50:0.95 | area= large | maxDets=100 ] = 0.107\n",
      " Average Recall     (AR) @[ IoU=0.50:0.95 | area=   all | maxDets=  1 ] = 0.045\n",
      " Average Recall     (AR) @[ IoU=0.50:0.95 | area=   all | maxDets= 10 ] = 0.164\n",
      " Average Recall     (AR) @[ IoU=0.50:0.95 | area=   all | maxDets=100 ] = 0.270\n",
      " Average Recall     (AR) @[ IoU=0.50:0.95 | area= small | maxDets=100 ] = 0.246\n",
      " Average Recall     (AR) @[ IoU=0.50:0.95 | area=medium | maxDets=100 ] = 0.339\n",
      " Average Recall     (AR) @[ IoU=0.50:0.95 | area= large | maxDets=100 ] = 0.442\n",
      "0.0689979607673509 0.24251808925919185\n",
      "SAVING PLOTS COMPLETE...\n",
      "SAVING PLOTS COMPLETE...\n",
      "SAVING PLOTS COMPLETE...\n",
      "SAVING PLOTS COMPLETE...\n",
      "SAVING PLOTS COMPLETE...\n",
      "SAVING PLOTS COMPLETE...\n"
     ]
    },
    {
     "name": "stderr",
     "output_type": "stream",
     "text": [
      "Epoch: [10]  [  0/180]  eta: 0:01:38  lr: 0.000976  loss: 0.6054 (0.6054)  loss_classifier: 0.0934 (0.0934)  loss_box_reg: 0.1424 (0.1424)  loss_objectness: 0.1943 (0.1943)  loss_rpn_box_reg: 0.1752 (0.1752)  time: 0.5460  data: 0.3137  max mem: 576\n",
      "Epoch: [10]  [100/180]  eta: 0:00:17  lr: 0.000973  loss: 0.5747 (0.6022)  loss_classifier: 0.1283 (0.1307)  loss_box_reg: 0.1717 (0.1854)  loss_objectness: 0.1812 (0.1799)  loss_rpn_box_reg: 0.1025 (0.1062)  time: 0.2202  data: 0.0036  max mem: 576\n",
      "Epoch: [10]  [179/180]  eta: 0:00:00  lr: 0.000970  loss: 0.5636 (0.5999)  loss_classifier: 0.1151 (0.1303)  loss_box_reg: 0.1678 (0.1847)  loss_objectness: 0.1659 (0.1784)  loss_rpn_box_reg: 0.0882 (0.1065)  time: 0.2202  data: 0.0035  max mem: 576\n",
      "Epoch: [10] Total time: 0:00:40 (0.2232 s / it)\n"
     ]
    },
    {
     "name": "stdout",
     "output_type": "stream",
     "text": [
      "creating index...\n",
      "index created!\n"
     ]
    },
    {
     "name": "stderr",
     "output_type": "stream",
     "text": [
      "Test:  [ 0/39]  eta: 0:00:18  model_time: 0.1357 (0.1357)  evaluator_time: 0.0211 (0.0211)  time: 0.4842  data: 0.3116  max mem: 576\n",
      "Test:  [38/39]  eta: 0:00:00  model_time: 0.1333 (0.1311)  evaluator_time: 0.0341 (0.0445)  time: 0.1817  data: 0.0033  max mem: 576\n",
      "Test: Total time: 0:00:07 (0.1921 s / it)\n"
     ]
    },
    {
     "name": "stdout",
     "output_type": "stream",
     "text": [
      "Averaged stats: model_time: 0.1333 (0.1311)  evaluator_time: 0.0341 (0.0445)\n",
      "Accumulating evaluation results...\n",
      "DONE (t=0.15s).\n",
      "IoU metric: bbox\n",
      " Average Precision  (AP) @[ IoU=0.50:0.95 | area=   all | maxDets=100 ] = 0.069\n",
      " Average Precision  (AP) @[ IoU=0.50      | area=   all | maxDets=100 ] = 0.245\n",
      " Average Precision  (AP) @[ IoU=0.75      | area=   all | maxDets=100 ] = 0.016\n",
      " Average Precision  (AP) @[ IoU=0.50:0.95 | area= small | maxDets=100 ] = 0.062\n",
      " Average Precision  (AP) @[ IoU=0.50:0.95 | area=medium | maxDets=100 ] = 0.099\n",
      " Average Precision  (AP) @[ IoU=0.50:0.95 | area= large | maxDets=100 ] = 0.094\n",
      " Average Recall     (AR) @[ IoU=0.50:0.95 | area=   all | maxDets=  1 ] = 0.042\n",
      " Average Recall     (AR) @[ IoU=0.50:0.95 | area=   all | maxDets= 10 ] = 0.162\n",
      " Average Recall     (AR) @[ IoU=0.50:0.95 | area=   all | maxDets=100 ] = 0.264\n",
      " Average Recall     (AR) @[ IoU=0.50:0.95 | area= small | maxDets=100 ] = 0.238\n",
      " Average Recall     (AR) @[ IoU=0.50:0.95 | area=medium | maxDets=100 ] = 0.336\n",
      " Average Recall     (AR) @[ IoU=0.50:0.95 | area= large | maxDets=100 ] = 0.495\n",
      "0.06948157450215792 0.24528446261575962\n",
      "SAVING PLOTS COMPLETE...\n",
      "SAVING PLOTS COMPLETE...\n",
      "SAVING PLOTS COMPLETE...\n",
      "SAVING PLOTS COMPLETE...\n",
      "SAVING PLOTS COMPLETE...\n",
      "SAVING PLOTS COMPLETE...\n"
     ]
    },
    {
     "name": "stderr",
     "output_type": "stream",
     "text": [
      "Epoch: [11]  [  0/180]  eta: 0:01:39  lr: 0.000970  loss: 0.4970 (0.4970)  loss_classifier: 0.1253 (0.1253)  loss_box_reg: 0.1888 (0.1888)  loss_objectness: 0.1362 (0.1362)  loss_rpn_box_reg: 0.0468 (0.0468)  time: 0.5531  data: 0.3172  max mem: 576\n",
      "Epoch: [11]  [100/180]  eta: 0:00:17  lr: 0.000967  loss: 0.6063 (0.5964)  loss_classifier: 0.1344 (0.1302)  loss_box_reg: 0.1753 (0.1870)  loss_objectness: 0.1851 (0.1757)  loss_rpn_box_reg: 0.0985 (0.1035)  time: 0.2161  data: 0.0037  max mem: 576\n",
      "Epoch: [11]  [179/180]  eta: 0:00:00  lr: 0.000965  loss: 0.5115 (0.5968)  loss_classifier: 0.1138 (0.1292)  loss_box_reg: 0.1574 (0.1863)  loss_objectness: 0.1540 (0.1756)  loss_rpn_box_reg: 0.0865 (0.1057)  time: 0.2227  data: 0.0036  max mem: 576\n",
      "Epoch: [11] Total time: 0:00:40 (0.2230 s / it)\n"
     ]
    },
    {
     "name": "stdout",
     "output_type": "stream",
     "text": [
      "creating index...\n",
      "index created!\n"
     ]
    },
    {
     "name": "stderr",
     "output_type": "stream",
     "text": [
      "Test:  [ 0/39]  eta: 0:00:18  model_time: 0.1354 (0.1354)  evaluator_time: 0.0221 (0.0221)  time: 0.4843  data: 0.3102  max mem: 576\n",
      "Test:  [38/39]  eta: 0:00:00  model_time: 0.1304 (0.1340)  evaluator_time: 0.0345 (0.0454)  time: 0.1880  data: 0.0033  max mem: 576\n",
      "Test: Total time: 0:00:07 (0.1959 s / it)\n"
     ]
    },
    {
     "name": "stdout",
     "output_type": "stream",
     "text": [
      "Averaged stats: model_time: 0.1304 (0.1340)  evaluator_time: 0.0345 (0.0454)\n",
      "Accumulating evaluation results...\n",
      "DONE (t=0.14s).\n",
      "IoU metric: bbox\n",
      " Average Precision  (AP) @[ IoU=0.50:0.95 | area=   all | maxDets=100 ] = 0.081\n",
      " Average Precision  (AP) @[ IoU=0.50      | area=   all | maxDets=100 ] = 0.271\n",
      " Average Precision  (AP) @[ IoU=0.75      | area=   all | maxDets=100 ] = 0.021\n",
      " Average Precision  (AP) @[ IoU=0.50:0.95 | area= small | maxDets=100 ] = 0.074\n",
      " Average Precision  (AP) @[ IoU=0.50:0.95 | area=medium | maxDets=100 ] = 0.106\n",
      " Average Precision  (AP) @[ IoU=0.50:0.95 | area= large | maxDets=100 ] = 0.106\n",
      " Average Recall     (AR) @[ IoU=0.50:0.95 | area=   all | maxDets=  1 ] = 0.052\n",
      " Average Recall     (AR) @[ IoU=0.50:0.95 | area=   all | maxDets= 10 ] = 0.176\n",
      " Average Recall     (AR) @[ IoU=0.50:0.95 | area=   all | maxDets=100 ] = 0.286\n",
      " Average Recall     (AR) @[ IoU=0.50:0.95 | area= small | maxDets=100 ] = 0.263\n",
      " Average Recall     (AR) @[ IoU=0.50:0.95 | area=medium | maxDets=100 ] = 0.352\n",
      " Average Recall     (AR) @[ IoU=0.50:0.95 | area= large | maxDets=100 ] = 0.511\n",
      "0.08070653991609425 0.27098718117422477\n",
      "SAVING PLOTS COMPLETE...\n",
      "SAVING PLOTS COMPLETE...\n",
      "SAVING PLOTS COMPLETE...\n",
      "SAVING PLOTS COMPLETE...\n",
      "SAVING PLOTS COMPLETE...\n",
      "SAVING PLOTS COMPLETE...\n"
     ]
    },
    {
     "name": "stderr",
     "output_type": "stream",
     "text": [
      "Epoch: [12]  [  0/180]  eta: 0:01:37  lr: 0.000965  loss: 0.6115 (0.6115)  loss_classifier: 0.1129 (0.1129)  loss_box_reg: 0.1881 (0.1881)  loss_objectness: 0.1905 (0.1905)  loss_rpn_box_reg: 0.1199 (0.1199)  time: 0.5425  data: 0.3075  max mem: 576\n",
      "Epoch: [12]  [100/180]  eta: 0:00:18  lr: 0.000962  loss: 0.5482 (0.6113)  loss_classifier: 0.1092 (0.1312)  loss_box_reg: 0.1570 (0.1918)  loss_objectness: 0.1702 (0.1793)  loss_rpn_box_reg: 0.0971 (0.1090)  time: 0.2239  data: 0.0037  max mem: 576\n",
      "Epoch: [12]  [179/180]  eta: 0:00:00  lr: 0.000959  loss: 0.5515 (0.5901)  loss_classifier: 0.1211 (0.1276)  loss_box_reg: 0.1752 (0.1854)  loss_objectness: 0.1744 (0.1727)  loss_rpn_box_reg: 0.1091 (0.1045)  time: 0.2238  data: 0.0037  max mem: 576\n",
      "Epoch: [12] Total time: 0:00:40 (0.2253 s / it)\n"
     ]
    },
    {
     "name": "stdout",
     "output_type": "stream",
     "text": [
      "creating index...\n",
      "index created!\n"
     ]
    },
    {
     "name": "stderr",
     "output_type": "stream",
     "text": [
      "Test:  [ 0/39]  eta: 0:00:18  model_time: 0.1353 (0.1353)  evaluator_time: 0.0182 (0.0182)  time: 0.4733  data: 0.3036  max mem: 576\n",
      "Test:  [38/39]  eta: 0:00:00  model_time: 0.1338 (0.1334)  evaluator_time: 0.0323 (0.0425)  time: 0.1804  data: 0.0033  max mem: 576\n",
      "Test: Total time: 0:00:07 (0.1919 s / it)\n"
     ]
    },
    {
     "name": "stdout",
     "output_type": "stream",
     "text": [
      "Averaged stats: model_time: 0.1338 (0.1334)  evaluator_time: 0.0323 (0.0425)\n",
      "Accumulating evaluation results...\n",
      "DONE (t=0.14s).\n",
      "IoU metric: bbox\n",
      " Average Precision  (AP) @[ IoU=0.50:0.95 | area=   all | maxDets=100 ] = 0.080\n",
      " Average Precision  (AP) @[ IoU=0.50      | area=   all | maxDets=100 ] = 0.266\n",
      " Average Precision  (AP) @[ IoU=0.75      | area=   all | maxDets=100 ] = 0.023\n",
      " Average Precision  (AP) @[ IoU=0.50:0.95 | area= small | maxDets=100 ] = 0.074\n",
      " Average Precision  (AP) @[ IoU=0.50:0.95 | area=medium | maxDets=100 ] = 0.106\n",
      " Average Precision  (AP) @[ IoU=0.50:0.95 | area= large | maxDets=100 ] = 0.111\n",
      " Average Recall     (AR) @[ IoU=0.50:0.95 | area=   all | maxDets=  1 ] = 0.049\n",
      " Average Recall     (AR) @[ IoU=0.50:0.95 | area=   all | maxDets= 10 ] = 0.176\n",
      " Average Recall     (AR) @[ IoU=0.50:0.95 | area=   all | maxDets=100 ] = 0.280\n",
      " Average Recall     (AR) @[ IoU=0.50:0.95 | area= small | maxDets=100 ] = 0.253\n",
      " Average Recall     (AR) @[ IoU=0.50:0.95 | area=medium | maxDets=100 ] = 0.359\n",
      " Average Recall     (AR) @[ IoU=0.50:0.95 | area= large | maxDets=100 ] = 0.505\n",
      "0.08010712050979342 0.26633836029222485\n",
      "SAVING PLOTS COMPLETE...\n",
      "SAVING PLOTS COMPLETE...\n",
      "SAVING PLOTS COMPLETE...\n",
      "SAVING PLOTS COMPLETE...\n",
      "SAVING PLOTS COMPLETE...\n",
      "SAVING PLOTS COMPLETE...\n"
     ]
    },
    {
     "name": "stderr",
     "output_type": "stream",
     "text": [
      "Epoch: [13]  [  0/180]  eta: 0:01:40  lr: 0.000959  loss: 0.6397 (0.6397)  loss_classifier: 0.1322 (0.1322)  loss_box_reg: 0.2045 (0.2045)  loss_objectness: 0.1822 (0.1822)  loss_rpn_box_reg: 0.1208 (0.1208)  time: 0.5569  data: 0.3189  max mem: 576\n",
      "Epoch: [13]  [100/180]  eta: 0:00:18  lr: 0.000955  loss: 0.5928 (0.6057)  loss_classifier: 0.1261 (0.1314)  loss_box_reg: 0.1813 (0.1917)  loss_objectness: 0.1569 (0.1757)  loss_rpn_box_reg: 0.1002 (0.1069)  time: 0.2228  data: 0.0038  max mem: 576\n",
      "Epoch: [13]  [179/180]  eta: 0:00:00  lr: 0.000952  loss: 0.5706 (0.5869)  loss_classifier: 0.1216 (0.1275)  loss_box_reg: 0.1822 (0.1874)  loss_objectness: 0.1469 (0.1692)  loss_rpn_box_reg: 0.0904 (0.1029)  time: 0.2218  data: 0.0037  max mem: 576\n",
      "Epoch: [13] Total time: 0:00:40 (0.2250 s / it)\n"
     ]
    },
    {
     "name": "stdout",
     "output_type": "stream",
     "text": [
      "creating index...\n",
      "index created!\n"
     ]
    },
    {
     "name": "stderr",
     "output_type": "stream",
     "text": [
      "Test:  [ 0/39]  eta: 0:00:18  model_time: 0.1340 (0.1340)  evaluator_time: 0.0165 (0.0165)  time: 0.4676  data: 0.3014  max mem: 576\n",
      "Test:  [38/39]  eta: 0:00:00  model_time: 0.1318 (0.1307)  evaluator_time: 0.0327 (0.0462)  time: 0.1778  data: 0.0032  max mem: 576\n",
      "Test: Total time: 0:00:07 (0.1932 s / it)\n"
     ]
    },
    {
     "name": "stdout",
     "output_type": "stream",
     "text": [
      "Averaged stats: model_time: 0.1318 (0.1307)  evaluator_time: 0.0327 (0.0462)\n",
      "Accumulating evaluation results...\n",
      "DONE (t=0.12s).\n",
      "IoU metric: bbox\n",
      " Average Precision  (AP) @[ IoU=0.50:0.95 | area=   all | maxDets=100 ] = 0.088\n",
      " Average Precision  (AP) @[ IoU=0.50      | area=   all | maxDets=100 ] = 0.286\n",
      " Average Precision  (AP) @[ IoU=0.75      | area=   all | maxDets=100 ] = 0.025\n",
      " Average Precision  (AP) @[ IoU=0.50:0.95 | area= small | maxDets=100 ] = 0.079\n",
      " Average Precision  (AP) @[ IoU=0.50:0.95 | area=medium | maxDets=100 ] = 0.123\n",
      " Average Precision  (AP) @[ IoU=0.50:0.95 | area= large | maxDets=100 ] = 0.148\n",
      " Average Recall     (AR) @[ IoU=0.50:0.95 | area=   all | maxDets=  1 ] = 0.054\n",
      " Average Recall     (AR) @[ IoU=0.50:0.95 | area=   all | maxDets= 10 ] = 0.182\n",
      " Average Recall     (AR) @[ IoU=0.50:0.95 | area=   all | maxDets=100 ] = 0.283\n",
      " Average Recall     (AR) @[ IoU=0.50:0.95 | area= small | maxDets=100 ] = 0.254\n",
      " Average Recall     (AR) @[ IoU=0.50:0.95 | area=medium | maxDets=100 ] = 0.367\n",
      " Average Recall     (AR) @[ IoU=0.50:0.95 | area= large | maxDets=100 ] = 0.532\n",
      "0.08793740549325771 0.2864257816198901\n",
      "SAVING PLOTS COMPLETE...\n",
      "SAVING PLOTS COMPLETE...\n",
      "SAVING PLOTS COMPLETE...\n",
      "SAVING PLOTS COMPLETE...\n",
      "SAVING PLOTS COMPLETE...\n",
      "SAVING PLOTS COMPLETE...\n"
     ]
    },
    {
     "name": "stderr",
     "output_type": "stream",
     "text": [
      "Epoch: [14]  [  0/180]  eta: 0:01:40  lr: 0.000952  loss: 0.5229 (0.5229)  loss_classifier: 0.1198 (0.1198)  loss_box_reg: 0.1806 (0.1806)  loss_objectness: 0.1331 (0.1331)  loss_rpn_box_reg: 0.0894 (0.0894)  time: 0.5566  data: 0.3154  max mem: 576\n",
      "Epoch: [14]  [100/180]  eta: 0:00:18  lr: 0.000949  loss: 0.5818 (0.5954)  loss_classifier: 0.1303 (0.1296)  loss_box_reg: 0.1885 (0.1907)  loss_objectness: 0.1643 (0.1707)  loss_rpn_box_reg: 0.0955 (0.1043)  time: 0.2239  data: 0.0038  max mem: 576\n",
      "Epoch: [14]  [179/180]  eta: 0:00:00  lr: 0.000946  loss: 0.5405 (0.5851)  loss_classifier: 0.1115 (0.1271)  loss_box_reg: 0.1671 (0.1878)  loss_objectness: 0.1584 (0.1678)  loss_rpn_box_reg: 0.0946 (0.1024)  time: 0.2184  data: 0.0038  max mem: 576\n",
      "Epoch: [14] Total time: 0:00:40 (0.2251 s / it)\n"
     ]
    },
    {
     "name": "stdout",
     "output_type": "stream",
     "text": [
      "creating index...\n",
      "index created!\n"
     ]
    },
    {
     "name": "stderr",
     "output_type": "stream",
     "text": [
      "Test:  [ 0/39]  eta: 0:00:18  model_time: 0.1333 (0.1333)  evaluator_time: 0.0163 (0.0163)  time: 0.4800  data: 0.3149  max mem: 576\n",
      "Test:  [38/39]  eta: 0:00:00  model_time: 0.1342 (0.1472)  evaluator_time: 0.0313 (0.0396)  time: 0.1874  data: 0.0032  max mem: 576\n",
      "Test: Total time: 0:00:07 (0.2028 s / it)\n"
     ]
    },
    {
     "name": "stdout",
     "output_type": "stream",
     "text": [
      "Averaged stats: model_time: 0.1342 (0.1472)  evaluator_time: 0.0313 (0.0396)\n",
      "Accumulating evaluation results...\n",
      "DONE (t=0.12s).\n",
      "IoU metric: bbox\n",
      " Average Precision  (AP) @[ IoU=0.50:0.95 | area=   all | maxDets=100 ] = 0.087\n",
      " Average Precision  (AP) @[ IoU=0.50      | area=   all | maxDets=100 ] = 0.287\n",
      " Average Precision  (AP) @[ IoU=0.75      | area=   all | maxDets=100 ] = 0.023\n",
      " Average Precision  (AP) @[ IoU=0.50:0.95 | area= small | maxDets=100 ] = 0.078\n",
      " Average Precision  (AP) @[ IoU=0.50:0.95 | area=medium | maxDets=100 ] = 0.117\n",
      " Average Precision  (AP) @[ IoU=0.50:0.95 | area= large | maxDets=100 ] = 0.145\n",
      " Average Recall     (AR) @[ IoU=0.50:0.95 | area=   all | maxDets=  1 ] = 0.052\n",
      " Average Recall     (AR) @[ IoU=0.50:0.95 | area=   all | maxDets= 10 ] = 0.181\n",
      " Average Recall     (AR) @[ IoU=0.50:0.95 | area=   all | maxDets=100 ] = 0.287\n",
      " Average Recall     (AR) @[ IoU=0.50:0.95 | area= small | maxDets=100 ] = 0.261\n",
      " Average Recall     (AR) @[ IoU=0.50:0.95 | area=medium | maxDets=100 ] = 0.363\n",
      " Average Recall     (AR) @[ IoU=0.50:0.95 | area= large | maxDets=100 ] = 0.453\n",
      "0.08659397563993838 0.286572543905301\n",
      "SAVING PLOTS COMPLETE...\n",
      "SAVING PLOTS COMPLETE...\n",
      "SAVING PLOTS COMPLETE...\n",
      "SAVING PLOTS COMPLETE...\n",
      "SAVING PLOTS COMPLETE...\n",
      "SAVING PLOTS COMPLETE...\n"
     ]
    },
    {
     "name": "stderr",
     "output_type": "stream",
     "text": [
      "Epoch: [15]  [  0/180]  eta: 0:01:39  lr: 0.000946  loss: 0.7405 (0.7405)  loss_classifier: 0.1515 (0.1515)  loss_box_reg: 0.2445 (0.2445)  loss_objectness: 0.2102 (0.2102)  loss_rpn_box_reg: 0.1342 (0.1342)  time: 0.5508  data: 0.3127  max mem: 576\n",
      "Epoch: [15]  [100/180]  eta: 0:00:18  lr: 0.000941  loss: 0.5967 (0.5660)  loss_classifier: 0.1304 (0.1222)  loss_box_reg: 0.1804 (0.1821)  loss_objectness: 0.1818 (0.1630)  loss_rpn_box_reg: 0.1084 (0.0986)  time: 0.2230  data: 0.0037  max mem: 576\n",
      "Epoch: [15]  [179/180]  eta: 0:00:00  lr: 0.000938  loss: 0.6169 (0.5771)  loss_classifier: 0.1290 (0.1244)  loss_box_reg: 0.2034 (0.1855)  loss_objectness: 0.1657 (0.1656)  loss_rpn_box_reg: 0.1135 (0.1016)  time: 0.2231  data: 0.0036  max mem: 576\n",
      "Epoch: [15] Total time: 0:00:40 (0.2248 s / it)\n"
     ]
    },
    {
     "name": "stdout",
     "output_type": "stream",
     "text": [
      "creating index...\n",
      "index created!\n"
     ]
    },
    {
     "name": "stderr",
     "output_type": "stream",
     "text": [
      "Test:  [ 0/39]  eta: 0:00:19  model_time: 0.1387 (0.1387)  evaluator_time: 0.0169 (0.0169)  time: 0.4876  data: 0.3158  max mem: 576\n",
      "Test:  [38/39]  eta: 0:00:00  model_time: 0.1332 (0.1353)  evaluator_time: 0.0299 (0.0460)  time: 0.1962  data: 0.0033  max mem: 576\n",
      "Test: Total time: 0:00:07 (0.1986 s / it)\n"
     ]
    },
    {
     "name": "stdout",
     "output_type": "stream",
     "text": [
      "Averaged stats: model_time: 0.1332 (0.1353)  evaluator_time: 0.0299 (0.0460)\n",
      "Accumulating evaluation results...\n",
      "DONE (t=0.13s).\n",
      "IoU metric: bbox\n",
      " Average Precision  (AP) @[ IoU=0.50:0.95 | area=   all | maxDets=100 ] = 0.094\n",
      " Average Precision  (AP) @[ IoU=0.50      | area=   all | maxDets=100 ] = 0.310\n",
      " Average Precision  (AP) @[ IoU=0.75      | area=   all | maxDets=100 ] = 0.031\n",
      " Average Precision  (AP) @[ IoU=0.50:0.95 | area= small | maxDets=100 ] = 0.087\n",
      " Average Precision  (AP) @[ IoU=0.50:0.95 | area=medium | maxDets=100 ] = 0.120\n",
      " Average Precision  (AP) @[ IoU=0.50:0.95 | area= large | maxDets=100 ] = 0.163\n",
      " Average Recall     (AR) @[ IoU=0.50:0.95 | area=   all | maxDets=  1 ] = 0.055\n",
      " Average Recall     (AR) @[ IoU=0.50:0.95 | area=   all | maxDets= 10 ] = 0.187\n",
      " Average Recall     (AR) @[ IoU=0.50:0.95 | area=   all | maxDets=100 ] = 0.291\n",
      " Average Recall     (AR) @[ IoU=0.50:0.95 | area= small | maxDets=100 ] = 0.266\n",
      " Average Recall     (AR) @[ IoU=0.50:0.95 | area=medium | maxDets=100 ] = 0.361\n",
      " Average Recall     (AR) @[ IoU=0.50:0.95 | area= large | maxDets=100 ] = 0.505\n",
      "0.09408539161676607 0.3104080353574911\n",
      "SAVING PLOTS COMPLETE...\n",
      "SAVING PLOTS COMPLETE...\n",
      "SAVING PLOTS COMPLETE...\n",
      "SAVING PLOTS COMPLETE...\n",
      "SAVING PLOTS COMPLETE...\n",
      "SAVING PLOTS COMPLETE...\n"
     ]
    },
    {
     "name": "stderr",
     "output_type": "stream",
     "text": [
      "Epoch: [16]  [  0/180]  eta: 0:01:39  lr: 0.000938  loss: 0.4259 (0.4259)  loss_classifier: 0.0863 (0.0863)  loss_box_reg: 0.1311 (0.1311)  loss_objectness: 0.1253 (0.1253)  loss_rpn_box_reg: 0.0832 (0.0832)  time: 0.5542  data: 0.3121  max mem: 576\n",
      "Epoch: [16]  [100/180]  eta: 0:00:18  lr: 0.000934  loss: 0.5921 (0.5826)  loss_classifier: 0.1332 (0.1272)  loss_box_reg: 0.1819 (0.1907)  loss_objectness: 0.1522 (0.1627)  loss_rpn_box_reg: 0.0892 (0.1019)  time: 0.2255  data: 0.0038  max mem: 576\n",
      "Epoch: [16]  [179/180]  eta: 0:00:00  lr: 0.000930  loss: 0.5364 (0.5755)  loss_classifier: 0.1163 (0.1250)  loss_box_reg: 0.1832 (0.1875)  loss_objectness: 0.1523 (0.1623)  loss_rpn_box_reg: 0.0931 (0.1006)  time: 0.2248  data: 0.0036  max mem: 576\n",
      "Epoch: [16] Total time: 0:00:41 (0.2281 s / it)\n"
     ]
    },
    {
     "name": "stdout",
     "output_type": "stream",
     "text": [
      "creating index...\n",
      "index created!\n"
     ]
    },
    {
     "name": "stderr",
     "output_type": "stream",
     "text": [
      "Test:  [ 0/39]  eta: 0:00:18  model_time: 0.1373 (0.1373)  evaluator_time: 0.0169 (0.0169)  time: 0.4712  data: 0.3013  max mem: 576\n",
      "Test:  [38/39]  eta: 0:00:00  model_time: 0.1317 (0.1358)  evaluator_time: 0.0276 (0.0382)  time: 0.1832  data: 0.0034  max mem: 576\n",
      "Test: Total time: 0:00:07 (0.1904 s / it)\n"
     ]
    },
    {
     "name": "stdout",
     "output_type": "stream",
     "text": [
      "Averaged stats: model_time: 0.1317 (0.1358)  evaluator_time: 0.0276 (0.0382)\n",
      "Accumulating evaluation results...\n",
      "DONE (t=0.12s).\n",
      "IoU metric: bbox\n",
      " Average Precision  (AP) @[ IoU=0.50:0.95 | area=   all | maxDets=100 ] = 0.097\n",
      " Average Precision  (AP) @[ IoU=0.50      | area=   all | maxDets=100 ] = 0.305\n",
      " Average Precision  (AP) @[ IoU=0.75      | area=   all | maxDets=100 ] = 0.032\n",
      " Average Precision  (AP) @[ IoU=0.50:0.95 | area= small | maxDets=100 ] = 0.090\n",
      " Average Precision  (AP) @[ IoU=0.50:0.95 | area=medium | maxDets=100 ] = 0.127\n",
      " Average Precision  (AP) @[ IoU=0.50:0.95 | area= large | maxDets=100 ] = 0.144\n",
      " Average Recall     (AR) @[ IoU=0.50:0.95 | area=   all | maxDets=  1 ] = 0.057\n",
      " Average Recall     (AR) @[ IoU=0.50:0.95 | area=   all | maxDets= 10 ] = 0.186\n",
      " Average Recall     (AR) @[ IoU=0.50:0.95 | area=   all | maxDets=100 ] = 0.293\n",
      " Average Recall     (AR) @[ IoU=0.50:0.95 | area= small | maxDets=100 ] = 0.266\n",
      " Average Recall     (AR) @[ IoU=0.50:0.95 | area=medium | maxDets=100 ] = 0.370\n",
      " Average Recall     (AR) @[ IoU=0.50:0.95 | area= large | maxDets=100 ] = 0.526\n",
      "0.09701703077069163 0.30500319297717454\n",
      "SAVING PLOTS COMPLETE...\n",
      "SAVING PLOTS COMPLETE...\n",
      "SAVING PLOTS COMPLETE...\n",
      "SAVING PLOTS COMPLETE...\n",
      "SAVING PLOTS COMPLETE...\n",
      "SAVING PLOTS COMPLETE...\n"
     ]
    },
    {
     "name": "stderr",
     "output_type": "stream",
     "text": [
      "Epoch: [17]  [  0/180]  eta: 0:01:39  lr: 0.000930  loss: 0.3932 (0.3932)  loss_classifier: 0.0960 (0.0960)  loss_box_reg: 0.1360 (0.1360)  loss_objectness: 0.1067 (0.1067)  loss_rpn_box_reg: 0.0545 (0.0545)  time: 0.5522  data: 0.3143  max mem: 576\n",
      "Epoch: [17]  [100/180]  eta: 0:00:18  lr: 0.000926  loss: 0.5581 (0.5725)  loss_classifier: 0.1165 (0.1241)  loss_box_reg: 0.1934 (0.1873)  loss_objectness: 0.1571 (0.1603)  loss_rpn_box_reg: 0.0879 (0.1009)  time: 0.2294  data: 0.0040  max mem: 576\n",
      "Epoch: [17]  [179/180]  eta: 0:00:00  lr: 0.000922  loss: 0.5768 (0.5718)  loss_classifier: 0.1150 (0.1242)  loss_box_reg: 0.1777 (0.1882)  loss_objectness: 0.1628 (0.1592)  loss_rpn_box_reg: 0.0975 (0.1002)  time: 0.2200  data: 0.0037  max mem: 576\n",
      "Epoch: [17] Total time: 0:00:41 (0.2278 s / it)\n"
     ]
    },
    {
     "name": "stdout",
     "output_type": "stream",
     "text": [
      "creating index...\n",
      "index created!\n"
     ]
    },
    {
     "name": "stderr",
     "output_type": "stream",
     "text": [
      "Test:  [ 0/39]  eta: 0:00:18  model_time: 0.1331 (0.1331)  evaluator_time: 0.0149 (0.0149)  time: 0.4738  data: 0.3104  max mem: 576\n",
      "Test:  [38/39]  eta: 0:00:00  model_time: 0.1326 (0.1384)  evaluator_time: 0.0275 (0.0371)  time: 0.1830  data: 0.0033  max mem: 576\n",
      "Test: Total time: 0:00:07 (0.1919 s / it)\n"
     ]
    },
    {
     "name": "stdout",
     "output_type": "stream",
     "text": [
      "Averaged stats: model_time: 0.1326 (0.1384)  evaluator_time: 0.0275 (0.0371)\n",
      "Accumulating evaluation results...\n",
      "DONE (t=0.12s).\n",
      "IoU metric: bbox\n",
      " Average Precision  (AP) @[ IoU=0.50:0.95 | area=   all | maxDets=100 ] = 0.099\n",
      " Average Precision  (AP) @[ IoU=0.50      | area=   all | maxDets=100 ] = 0.313\n",
      " Average Precision  (AP) @[ IoU=0.75      | area=   all | maxDets=100 ] = 0.036\n",
      " Average Precision  (AP) @[ IoU=0.50:0.95 | area= small | maxDets=100 ] = 0.092\n",
      " Average Precision  (AP) @[ IoU=0.50:0.95 | area=medium | maxDets=100 ] = 0.128\n",
      " Average Precision  (AP) @[ IoU=0.50:0.95 | area= large | maxDets=100 ] = 0.121\n",
      " Average Recall     (AR) @[ IoU=0.50:0.95 | area=   all | maxDets=  1 ] = 0.058\n",
      " Average Recall     (AR) @[ IoU=0.50:0.95 | area=   all | maxDets= 10 ] = 0.193\n",
      " Average Recall     (AR) @[ IoU=0.50:0.95 | area=   all | maxDets=100 ] = 0.297\n",
      " Average Recall     (AR) @[ IoU=0.50:0.95 | area= small | maxDets=100 ] = 0.271\n",
      " Average Recall     (AR) @[ IoU=0.50:0.95 | area=medium | maxDets=100 ] = 0.375\n",
      " Average Recall     (AR) @[ IoU=0.50:0.95 | area= large | maxDets=100 ] = 0.474\n",
      "0.09855444516686818 0.312656994978097\n",
      "SAVING PLOTS COMPLETE...\n",
      "SAVING PLOTS COMPLETE...\n",
      "SAVING PLOTS COMPLETE...\n",
      "SAVING PLOTS COMPLETE...\n",
      "SAVING PLOTS COMPLETE...\n",
      "SAVING PLOTS COMPLETE...\n"
     ]
    },
    {
     "name": "stderr",
     "output_type": "stream",
     "text": [
      "Epoch: [18]  [  0/180]  eta: 0:01:40  lr: 0.000922  loss: 0.3971 (0.3971)  loss_classifier: 0.0816 (0.0816)  loss_box_reg: 0.1012 (0.1012)  loss_objectness: 0.1196 (0.1196)  loss_rpn_box_reg: 0.0946 (0.0946)  time: 0.5558  data: 0.3098  max mem: 576\n",
      "Epoch: [18]  [100/180]  eta: 0:00:18  lr: 0.000917  loss: 0.5424 (0.5661)  loss_classifier: 0.1214 (0.1229)  loss_box_reg: 0.1888 (0.1875)  loss_objectness: 0.1445 (0.1561)  loss_rpn_box_reg: 0.0886 (0.0995)  time: 0.2266  data: 0.0039  max mem: 576\n",
      "Epoch: [18]  [179/180]  eta: 0:00:00  lr: 0.000914  loss: 0.5988 (0.5708)  loss_classifier: 0.1365 (0.1239)  loss_box_reg: 0.2048 (0.1883)  loss_objectness: 0.1608 (0.1590)  loss_rpn_box_reg: 0.0956 (0.0996)  time: 0.2194  data: 0.0036  max mem: 576\n",
      "Epoch: [18] Total time: 0:00:40 (0.2257 s / it)\n"
     ]
    },
    {
     "name": "stdout",
     "output_type": "stream",
     "text": [
      "creating index...\n",
      "index created!\n"
     ]
    },
    {
     "name": "stderr",
     "output_type": "stream",
     "text": [
      "Test:  [ 0/39]  eta: 0:00:18  model_time: 0.1397 (0.1397)  evaluator_time: 0.0173 (0.0173)  time: 0.4738  data: 0.3011  max mem: 576\n",
      "Test:  [38/39]  eta: 0:00:00  model_time: 0.1373 (0.1349)  evaluator_time: 0.0324 (0.0404)  time: 0.1836  data: 0.0032  max mem: 576\n",
      "Test: Total time: 0:00:07 (0.1917 s / it)\n"
     ]
    },
    {
     "name": "stdout",
     "output_type": "stream",
     "text": [
      "Averaged stats: model_time: 0.1373 (0.1349)  evaluator_time: 0.0324 (0.0404)\n",
      "Accumulating evaluation results...\n",
      "DONE (t=0.12s).\n",
      "IoU metric: bbox\n",
      " Average Precision  (AP) @[ IoU=0.50:0.95 | area=   all | maxDets=100 ] = 0.101\n",
      " Average Precision  (AP) @[ IoU=0.50      | area=   all | maxDets=100 ] = 0.321\n",
      " Average Precision  (AP) @[ IoU=0.75      | area=   all | maxDets=100 ] = 0.034\n",
      " Average Precision  (AP) @[ IoU=0.50:0.95 | area= small | maxDets=100 ] = 0.090\n",
      " Average Precision  (AP) @[ IoU=0.50:0.95 | area=medium | maxDets=100 ] = 0.138\n",
      " Average Precision  (AP) @[ IoU=0.50:0.95 | area= large | maxDets=100 ] = 0.198\n",
      " Average Recall     (AR) @[ IoU=0.50:0.95 | area=   all | maxDets=  1 ] = 0.059\n",
      " Average Recall     (AR) @[ IoU=0.50:0.95 | area=   all | maxDets= 10 ] = 0.194\n",
      " Average Recall     (AR) @[ IoU=0.50:0.95 | area=   all | maxDets=100 ] = 0.304\n",
      " Average Recall     (AR) @[ IoU=0.50:0.95 | area= small | maxDets=100 ] = 0.273\n",
      " Average Recall     (AR) @[ IoU=0.50:0.95 | area=medium | maxDets=100 ] = 0.392\n",
      " Average Recall     (AR) @[ IoU=0.50:0.95 | area= large | maxDets=100 ] = 0.526\n",
      "0.10138543096034022 0.3214870778547741\n",
      "SAVING PLOTS COMPLETE...\n",
      "SAVING PLOTS COMPLETE...\n",
      "SAVING PLOTS COMPLETE...\n",
      "SAVING PLOTS COMPLETE...\n",
      "SAVING PLOTS COMPLETE...\n",
      "SAVING PLOTS COMPLETE...\n"
     ]
    },
    {
     "name": "stderr",
     "output_type": "stream",
     "text": [
      "Epoch: [19]  [  0/180]  eta: 0:01:40  lr: 0.000914  loss: 0.6149 (0.6149)  loss_classifier: 0.1296 (0.1296)  loss_box_reg: 0.1917 (0.1917)  loss_objectness: 0.1521 (0.1521)  loss_rpn_box_reg: 0.1414 (0.1414)  time: 0.5601  data: 0.3182  max mem: 576\n",
      "Epoch: [19]  [100/180]  eta: 0:00:18  lr: 0.000909  loss: 0.5961 (0.5678)  loss_classifier: 0.1167 (0.1235)  loss_box_reg: 0.1871 (0.1891)  loss_objectness: 0.1650 (0.1568)  loss_rpn_box_reg: 0.0905 (0.0985)  time: 0.2238  data: 0.0036  max mem: 576\n",
      "Epoch: [19]  [179/180]  eta: 0:00:00  lr: 0.000905  loss: 0.5385 (0.5656)  loss_classifier: 0.1102 (0.1230)  loss_box_reg: 0.1797 (0.1879)  loss_objectness: 0.1472 (0.1565)  loss_rpn_box_reg: 0.0889 (0.0982)  time: 0.2168  data: 0.0035  max mem: 576\n",
      "Epoch: [19] Total time: 0:00:40 (0.2251 s / it)\n"
     ]
    },
    {
     "name": "stdout",
     "output_type": "stream",
     "text": [
      "creating index...\n",
      "index created!\n"
     ]
    },
    {
     "name": "stderr",
     "output_type": "stream",
     "text": [
      "Test:  [ 0/39]  eta: 0:00:18  model_time: 0.1390 (0.1390)  evaluator_time: 0.0151 (0.0151)  time: 0.4808  data: 0.3109  max mem: 576\n",
      "Test:  [38/39]  eta: 0:00:00  model_time: 0.1343 (0.1369)  evaluator_time: 0.0286 (0.0383)  time: 0.1791  data: 0.0033  max mem: 576\n",
      "Test: Total time: 0:00:07 (0.1914 s / it)\n"
     ]
    },
    {
     "name": "stdout",
     "output_type": "stream",
     "text": [
      "Averaged stats: model_time: 0.1343 (0.1369)  evaluator_time: 0.0286 (0.0383)\n",
      "Accumulating evaluation results...\n",
      "DONE (t=0.12s).\n",
      "IoU metric: bbox\n",
      " Average Precision  (AP) @[ IoU=0.50:0.95 | area=   all | maxDets=100 ] = 0.093\n",
      " Average Precision  (AP) @[ IoU=0.50      | area=   all | maxDets=100 ] = 0.309\n",
      " Average Precision  (AP) @[ IoU=0.75      | area=   all | maxDets=100 ] = 0.027\n",
      " Average Precision  (AP) @[ IoU=0.50:0.95 | area= small | maxDets=100 ] = 0.081\n",
      " Average Precision  (AP) @[ IoU=0.50:0.95 | area=medium | maxDets=100 ] = 0.137\n",
      " Average Precision  (AP) @[ IoU=0.50:0.95 | area= large | maxDets=100 ] = 0.157\n",
      " Average Recall     (AR) @[ IoU=0.50:0.95 | area=   all | maxDets=  1 ] = 0.053\n",
      " Average Recall     (AR) @[ IoU=0.50:0.95 | area=   all | maxDets= 10 ] = 0.189\n",
      " Average Recall     (AR) @[ IoU=0.50:0.95 | area=   all | maxDets=100 ] = 0.291\n",
      " Average Recall     (AR) @[ IoU=0.50:0.95 | area= small | maxDets=100 ] = 0.262\n",
      " Average Recall     (AR) @[ IoU=0.50:0.95 | area=medium | maxDets=100 ] = 0.374\n",
      " Average Recall     (AR) @[ IoU=0.50:0.95 | area= large | maxDets=100 ] = 0.511\n",
      "0.09317038257826658 0.30936671345916517\n",
      "SAVING PLOTS COMPLETE...\n",
      "SAVING PLOTS COMPLETE...\n",
      "SAVING PLOTS COMPLETE...\n",
      "SAVING PLOTS COMPLETE...\n",
      "SAVING PLOTS COMPLETE...\n",
      "SAVING PLOTS COMPLETE...\n"
     ]
    },
    {
     "name": "stderr",
     "output_type": "stream",
     "text": [
      "Epoch: [20]  [  0/180]  eta: 0:01:39  lr: 0.000905  loss: 0.6031 (0.6031)  loss_classifier: 0.1204 (0.1204)  loss_box_reg: 0.1881 (0.1881)  loss_objectness: 0.2001 (0.2001)  loss_rpn_box_reg: 0.0945 (0.0945)  time: 0.5530  data: 0.3161  max mem: 576\n",
      "Epoch: [20]  [100/180]  eta: 0:00:18  lr: 0.000899  loss: 0.5285 (0.5598)  loss_classifier: 0.1177 (0.1228)  loss_box_reg: 0.1799 (0.1872)  loss_objectness: 0.1538 (0.1521)  loss_rpn_box_reg: 0.0842 (0.0977)  time: 0.2248  data: 0.0037  max mem: 576\n",
      "Epoch: [20]  [179/180]  eta: 0:00:00  lr: 0.000895  loss: 0.6051 (0.5624)  loss_classifier: 0.1237 (0.1233)  loss_box_reg: 0.2061 (0.1875)  loss_objectness: 0.1538 (0.1539)  loss_rpn_box_reg: 0.0999 (0.0978)  time: 0.2229  data: 0.0038  max mem: 576\n",
      "Epoch: [20] Total time: 0:00:41 (0.2290 s / it)\n"
     ]
    },
    {
     "name": "stdout",
     "output_type": "stream",
     "text": [
      "creating index...\n",
      "index created!\n"
     ]
    },
    {
     "name": "stderr",
     "output_type": "stream",
     "text": [
      "Test:  [ 0/39]  eta: 0:00:18  model_time: 0.1331 (0.1331)  evaluator_time: 0.0165 (0.0165)  time: 0.4757  data: 0.3102  max mem: 576\n",
      "Test:  [38/39]  eta: 0:00:00  model_time: 0.1302 (0.1521)  evaluator_time: 0.0314 (0.0395)  time: 0.2069  data: 0.0033  max mem: 576\n",
      "Test: Total time: 0:00:08 (0.2077 s / it)\n"
     ]
    },
    {
     "name": "stdout",
     "output_type": "stream",
     "text": [
      "Averaged stats: model_time: 0.1302 (0.1521)  evaluator_time: 0.0314 (0.0395)\n",
      "Accumulating evaluation results...\n",
      "DONE (t=0.12s).\n",
      "IoU metric: bbox\n",
      " Average Precision  (AP) @[ IoU=0.50:0.95 | area=   all | maxDets=100 ] = 0.101\n",
      " Average Precision  (AP) @[ IoU=0.50      | area=   all | maxDets=100 ] = 0.333\n",
      " Average Precision  (AP) @[ IoU=0.75      | area=   all | maxDets=100 ] = 0.035\n",
      " Average Precision  (AP) @[ IoU=0.50:0.95 | area= small | maxDets=100 ] = 0.088\n",
      " Average Precision  (AP) @[ IoU=0.50:0.95 | area=medium | maxDets=100 ] = 0.143\n",
      " Average Precision  (AP) @[ IoU=0.50:0.95 | area= large | maxDets=100 ] = 0.177\n",
      " Average Recall     (AR) @[ IoU=0.50:0.95 | area=   all | maxDets=  1 ] = 0.055\n",
      " Average Recall     (AR) @[ IoU=0.50:0.95 | area=   all | maxDets= 10 ] = 0.193\n",
      " Average Recall     (AR) @[ IoU=0.50:0.95 | area=   all | maxDets=100 ] = 0.299\n",
      " Average Recall     (AR) @[ IoU=0.50:0.95 | area= small | maxDets=100 ] = 0.269\n",
      " Average Recall     (AR) @[ IoU=0.50:0.95 | area=medium | maxDets=100 ] = 0.388\n",
      " Average Recall     (AR) @[ IoU=0.50:0.95 | area= large | maxDets=100 ] = 0.516\n",
      "0.10085945809584888 0.33269198654000276\n",
      "SAVING PLOTS COMPLETE...\n",
      "SAVING PLOTS COMPLETE...\n",
      "SAVING PLOTS COMPLETE...\n",
      "SAVING PLOTS COMPLETE...\n",
      "SAVING PLOTS COMPLETE...\n",
      "SAVING PLOTS COMPLETE...\n"
     ]
    },
    {
     "name": "stderr",
     "output_type": "stream",
     "text": [
      "Epoch: [21]  [  0/180]  eta: 0:01:42  lr: 0.000895  loss: 0.7947 (0.7947)  loss_classifier: 0.1720 (0.1720)  loss_box_reg: 0.2495 (0.2495)  loss_objectness: 0.1854 (0.1854)  loss_rpn_box_reg: 0.1878 (0.1878)  time: 0.5670  data: 0.3211  max mem: 576\n",
      "Epoch: [21]  [100/180]  eta: 0:00:18  lr: 0.000890  loss: 0.5355 (0.5521)  loss_classifier: 0.1193 (0.1209)  loss_box_reg: 0.1974 (0.1870)  loss_objectness: 0.1433 (0.1494)  loss_rpn_box_reg: 0.0914 (0.0947)  time: 0.2241  data: 0.0040  max mem: 576\n",
      "Epoch: [21]  [179/180]  eta: 0:00:00  lr: 0.000885  loss: 0.5811 (0.5605)  loss_classifier: 0.1144 (0.1221)  loss_box_reg: 0.1938 (0.1887)  loss_objectness: 0.1595 (0.1522)  loss_rpn_box_reg: 0.1071 (0.0975)  time: 0.2293  data: 0.0039  max mem: 576\n",
      "Epoch: [21] Total time: 0:00:41 (0.2279 s / it)\n"
     ]
    },
    {
     "name": "stdout",
     "output_type": "stream",
     "text": [
      "creating index...\n",
      "index created!\n"
     ]
    },
    {
     "name": "stderr",
     "output_type": "stream",
     "text": [
      "Test:  [ 0/39]  eta: 0:00:18  model_time: 0.1346 (0.1346)  evaluator_time: 0.0163 (0.0163)  time: 0.4851  data: 0.3183  max mem: 576\n",
      "Test:  [38/39]  eta: 0:00:00  model_time: 0.1332 (0.1385)  evaluator_time: 0.0299 (0.0393)  time: 0.1886  data: 0.0032  max mem: 576\n",
      "Test: Total time: 0:00:07 (0.1945 s / it)\n"
     ]
    },
    {
     "name": "stdout",
     "output_type": "stream",
     "text": [
      "Averaged stats: model_time: 0.1332 (0.1385)  evaluator_time: 0.0299 (0.0393)\n",
      "Accumulating evaluation results...\n",
      "DONE (t=0.13s).\n",
      "IoU metric: bbox\n",
      " Average Precision  (AP) @[ IoU=0.50:0.95 | area=   all | maxDets=100 ] = 0.102\n",
      " Average Precision  (AP) @[ IoU=0.50      | area=   all | maxDets=100 ] = 0.328\n",
      " Average Precision  (AP) @[ IoU=0.75      | area=   all | maxDets=100 ] = 0.035\n",
      " Average Precision  (AP) @[ IoU=0.50:0.95 | area= small | maxDets=100 ] = 0.091\n",
      " Average Precision  (AP) @[ IoU=0.50:0.95 | area=medium | maxDets=100 ] = 0.143\n",
      " Average Precision  (AP) @[ IoU=0.50:0.95 | area= large | maxDets=100 ] = 0.151\n",
      " Average Recall     (AR) @[ IoU=0.50:0.95 | area=   all | maxDets=  1 ] = 0.055\n",
      " Average Recall     (AR) @[ IoU=0.50:0.95 | area=   all | maxDets= 10 ] = 0.201\n",
      " Average Recall     (AR) @[ IoU=0.50:0.95 | area=   all | maxDets=100 ] = 0.298\n",
      " Average Recall     (AR) @[ IoU=0.50:0.95 | area= small | maxDets=100 ] = 0.269\n",
      " Average Recall     (AR) @[ IoU=0.50:0.95 | area=medium | maxDets=100 ] = 0.387\n",
      " Average Recall     (AR) @[ IoU=0.50:0.95 | area= large | maxDets=100 ] = 0.474\n",
      "0.10166948768282363 0.3284203418628364\n",
      "SAVING PLOTS COMPLETE...\n",
      "SAVING PLOTS COMPLETE...\n",
      "SAVING PLOTS COMPLETE...\n",
      "SAVING PLOTS COMPLETE...\n",
      "SAVING PLOTS COMPLETE...\n",
      "SAVING PLOTS COMPLETE...\n"
     ]
    },
    {
     "name": "stderr",
     "output_type": "stream",
     "text": [
      "Epoch: [22]  [  0/180]  eta: 0:01:38  lr: 0.000885  loss: 0.4220 (0.4220)  loss_classifier: 0.0891 (0.0891)  loss_box_reg: 0.1361 (0.1361)  loss_objectness: 0.1080 (0.1080)  loss_rpn_box_reg: 0.0888 (0.0888)  time: 0.5468  data: 0.3168  max mem: 576\n",
      "Epoch: [22]  [100/180]  eta: 0:00:18  lr: 0.000880  loss: 0.5431 (0.5504)  loss_classifier: 0.1212 (0.1200)  loss_box_reg: 0.1829 (0.1858)  loss_objectness: 0.1503 (0.1476)  loss_rpn_box_reg: 0.0771 (0.0970)  time: 0.2195  data: 0.0037  max mem: 576\n",
      "Epoch: [22]  [179/180]  eta: 0:00:00  lr: 0.000875  loss: 0.5239 (0.5556)  loss_classifier: 0.1205 (0.1210)  loss_box_reg: 0.1930 (0.1873)  loss_objectness: 0.1317 (0.1496)  loss_rpn_box_reg: 0.0872 (0.0976)  time: 0.2149  data: 0.0038  max mem: 576\n",
      "Epoch: [22] Total time: 0:00:40 (0.2270 s / it)\n"
     ]
    },
    {
     "name": "stdout",
     "output_type": "stream",
     "text": [
      "creating index...\n",
      "index created!\n"
     ]
    },
    {
     "name": "stderr",
     "output_type": "stream",
     "text": [
      "Test:  [ 0/39]  eta: 0:00:19  model_time: 0.1344 (0.1344)  evaluator_time: 0.0169 (0.0169)  time: 0.4970  data: 0.3284  max mem: 576\n",
      "Test:  [38/39]  eta: 0:00:00  model_time: 0.1359 (0.1410)  evaluator_time: 0.0282 (0.0422)  time: 0.1923  data: 0.0032  max mem: 576\n",
      "Test: Total time: 0:00:07 (0.2000 s / it)\n"
     ]
    },
    {
     "name": "stdout",
     "output_type": "stream",
     "text": [
      "Averaged stats: model_time: 0.1359 (0.1410)  evaluator_time: 0.0282 (0.0422)\n",
      "Accumulating evaluation results...\n",
      "DONE (t=0.11s).\n",
      "IoU metric: bbox\n",
      " Average Precision  (AP) @[ IoU=0.50:0.95 | area=   all | maxDets=100 ] = 0.105\n",
      " Average Precision  (AP) @[ IoU=0.50      | area=   all | maxDets=100 ] = 0.329\n",
      " Average Precision  (AP) @[ IoU=0.75      | area=   all | maxDets=100 ] = 0.038\n",
      " Average Precision  (AP) @[ IoU=0.50:0.95 | area= small | maxDets=100 ] = 0.094\n",
      " Average Precision  (AP) @[ IoU=0.50:0.95 | area=medium | maxDets=100 ] = 0.146\n",
      " Average Precision  (AP) @[ IoU=0.50:0.95 | area= large | maxDets=100 ] = 0.181\n",
      " Average Recall     (AR) @[ IoU=0.50:0.95 | area=   all | maxDets=  1 ] = 0.061\n",
      " Average Recall     (AR) @[ IoU=0.50:0.95 | area=   all | maxDets= 10 ] = 0.207\n",
      " Average Recall     (AR) @[ IoU=0.50:0.95 | area=   all | maxDets=100 ] = 0.307\n",
      " Average Recall     (AR) @[ IoU=0.50:0.95 | area= small | maxDets=100 ] = 0.278\n",
      " Average Recall     (AR) @[ IoU=0.50:0.95 | area=medium | maxDets=100 ] = 0.389\n",
      " Average Recall     (AR) @[ IoU=0.50:0.95 | area= large | maxDets=100 ] = 0.537\n",
      "0.10504309724608481 0.3285487495021182\n",
      "SAVING PLOTS COMPLETE...\n",
      "SAVING PLOTS COMPLETE...\n",
      "SAVING PLOTS COMPLETE...\n",
      "SAVING PLOTS COMPLETE...\n",
      "SAVING PLOTS COMPLETE...\n",
      "SAVING PLOTS COMPLETE...\n"
     ]
    },
    {
     "name": "stderr",
     "output_type": "stream",
     "text": [
      "Epoch: [23]  [  0/180]  eta: 0:01:39  lr: 0.000875  loss: 0.6305 (0.6305)  loss_classifier: 0.1383 (0.1383)  loss_box_reg: 0.1996 (0.1996)  loss_objectness: 0.1792 (0.1792)  loss_rpn_box_reg: 0.1133 (0.1133)  time: 0.5537  data: 0.3214  max mem: 576\n",
      "Epoch: [23]  [100/180]  eta: 0:00:18  lr: 0.000869  loss: 0.5634 (0.5534)  loss_classifier: 0.1253 (0.1210)  loss_box_reg: 0.1921 (0.1870)  loss_objectness: 0.1438 (0.1496)  loss_rpn_box_reg: 0.1000 (0.0958)  time: 0.2258  data: 0.0039  max mem: 576\n",
      "Epoch: [23]  [179/180]  eta: 0:00:00  lr: 0.000865  loss: 0.5676 (0.5528)  loss_classifier: 0.1252 (0.1208)  loss_box_reg: 0.1811 (0.1873)  loss_objectness: 0.1510 (0.1486)  loss_rpn_box_reg: 0.0829 (0.0961)  time: 0.2198  data: 0.0037  max mem: 576\n",
      "Epoch: [23] Total time: 0:00:40 (0.2260 s / it)\n"
     ]
    },
    {
     "name": "stdout",
     "output_type": "stream",
     "text": [
      "creating index...\n",
      "index created!\n"
     ]
    },
    {
     "name": "stderr",
     "output_type": "stream",
     "text": [
      "Test:  [ 0/39]  eta: 0:00:18  model_time: 0.1323 (0.1323)  evaluator_time: 0.0160 (0.0160)  time: 0.4785  data: 0.3144  max mem: 576\n",
      "Test:  [38/39]  eta: 0:00:00  model_time: 0.1350 (0.1411)  evaluator_time: 0.0270 (0.0384)  time: 0.1875  data: 0.0032  max mem: 576\n",
      "Test: Total time: 0:00:07 (0.1961 s / it)\n"
     ]
    },
    {
     "name": "stdout",
     "output_type": "stream",
     "text": [
      "Averaged stats: model_time: 0.1350 (0.1411)  evaluator_time: 0.0270 (0.0384)\n",
      "Accumulating evaluation results...\n",
      "DONE (t=0.12s).\n",
      "IoU metric: bbox\n",
      " Average Precision  (AP) @[ IoU=0.50:0.95 | area=   all | maxDets=100 ] = 0.107\n",
      " Average Precision  (AP) @[ IoU=0.50      | area=   all | maxDets=100 ] = 0.335\n",
      " Average Precision  (AP) @[ IoU=0.75      | area=   all | maxDets=100 ] = 0.034\n",
      " Average Precision  (AP) @[ IoU=0.50:0.95 | area= small | maxDets=100 ] = 0.094\n",
      " Average Precision  (AP) @[ IoU=0.50:0.95 | area=medium | maxDets=100 ] = 0.152\n",
      " Average Precision  (AP) @[ IoU=0.50:0.95 | area= large | maxDets=100 ] = 0.185\n",
      " Average Recall     (AR) @[ IoU=0.50:0.95 | area=   all | maxDets=  1 ] = 0.058\n",
      " Average Recall     (AR) @[ IoU=0.50:0.95 | area=   all | maxDets= 10 ] = 0.206\n",
      " Average Recall     (AR) @[ IoU=0.50:0.95 | area=   all | maxDets=100 ] = 0.305\n",
      " Average Recall     (AR) @[ IoU=0.50:0.95 | area= small | maxDets=100 ] = 0.276\n",
      " Average Recall     (AR) @[ IoU=0.50:0.95 | area=medium | maxDets=100 ] = 0.387\n",
      " Average Recall     (AR) @[ IoU=0.50:0.95 | area= large | maxDets=100 ] = 0.526\n",
      "0.1072154023386052 0.334645105195107\n",
      "SAVING PLOTS COMPLETE...\n",
      "SAVING PLOTS COMPLETE...\n",
      "SAVING PLOTS COMPLETE...\n",
      "SAVING PLOTS COMPLETE...\n",
      "SAVING PLOTS COMPLETE...\n",
      "SAVING PLOTS COMPLETE...\n"
     ]
    },
    {
     "name": "stderr",
     "output_type": "stream",
     "text": [
      "Epoch: [24]  [  0/180]  eta: 0:01:42  lr: 0.000864  loss: 0.6059 (0.6059)  loss_classifier: 0.1311 (0.1311)  loss_box_reg: 0.2124 (0.2124)  loss_objectness: 0.1509 (0.1509)  loss_rpn_box_reg: 0.1115 (0.1115)  time: 0.5667  data: 0.3243  max mem: 576\n",
      "Epoch: [24]  [100/180]  eta: 0:00:18  lr: 0.000858  loss: 0.5861 (0.5610)  loss_classifier: 0.1240 (0.1226)  loss_box_reg: 0.1967 (0.1925)  loss_objectness: 0.1472 (0.1485)  loss_rpn_box_reg: 0.0987 (0.0974)  time: 0.2237  data: 0.0037  max mem: 576\n",
      "Epoch: [24]  [179/180]  eta: 0:00:00  lr: 0.000854  loss: 0.5441 (0.5515)  loss_classifier: 0.1088 (0.1210)  loss_box_reg: 0.1731 (0.1892)  loss_objectness: 0.1452 (0.1458)  loss_rpn_box_reg: 0.0934 (0.0955)  time: 0.2226  data: 0.0038  max mem: 576\n",
      "Epoch: [24] Total time: 0:00:40 (0.2270 s / it)\n"
     ]
    },
    {
     "name": "stdout",
     "output_type": "stream",
     "text": [
      "creating index...\n",
      "index created!\n"
     ]
    },
    {
     "name": "stderr",
     "output_type": "stream",
     "text": [
      "Test:  [ 0/39]  eta: 0:00:18  model_time: 0.1420 (0.1420)  evaluator_time: 0.0180 (0.0180)  time: 0.4812  data: 0.3051  max mem: 576\n",
      "Test:  [38/39]  eta: 0:00:00  model_time: 0.1411 (0.1466)  evaluator_time: 0.0320 (0.0402)  time: 0.1951  data: 0.0034  max mem: 576\n",
      "Test: Total time: 0:00:07 (0.2037 s / it)\n"
     ]
    },
    {
     "name": "stdout",
     "output_type": "stream",
     "text": [
      "Averaged stats: model_time: 0.1411 (0.1466)  evaluator_time: 0.0320 (0.0402)\n",
      "Accumulating evaluation results...\n",
      "DONE (t=0.13s).\n",
      "IoU metric: bbox\n",
      " Average Precision  (AP) @[ IoU=0.50:0.95 | area=   all | maxDets=100 ] = 0.110\n",
      " Average Precision  (AP) @[ IoU=0.50      | area=   all | maxDets=100 ] = 0.342\n",
      " Average Precision  (AP) @[ IoU=0.75      | area=   all | maxDets=100 ] = 0.038\n",
      " Average Precision  (AP) @[ IoU=0.50:0.95 | area= small | maxDets=100 ] = 0.097\n",
      " Average Precision  (AP) @[ IoU=0.50:0.95 | area=medium | maxDets=100 ] = 0.156\n",
      " Average Precision  (AP) @[ IoU=0.50:0.95 | area= large | maxDets=100 ] = 0.153\n",
      " Average Recall     (AR) @[ IoU=0.50:0.95 | area=   all | maxDets=  1 ] = 0.060\n",
      " Average Recall     (AR) @[ IoU=0.50:0.95 | area=   all | maxDets= 10 ] = 0.207\n",
      " Average Recall     (AR) @[ IoU=0.50:0.95 | area=   all | maxDets=100 ] = 0.311\n",
      " Average Recall     (AR) @[ IoU=0.50:0.95 | area= small | maxDets=100 ] = 0.287\n",
      " Average Recall     (AR) @[ IoU=0.50:0.95 | area=medium | maxDets=100 ] = 0.385\n",
      " Average Recall     (AR) @[ IoU=0.50:0.95 | area= large | maxDets=100 ] = 0.437\n",
      "0.10998577270493669 0.3415650062153402\n",
      "SAVING PLOTS COMPLETE...\n",
      "SAVING PLOTS COMPLETE...\n",
      "SAVING PLOTS COMPLETE...\n",
      "SAVING PLOTS COMPLETE...\n",
      "SAVING PLOTS COMPLETE...\n",
      "SAVING PLOTS COMPLETE...\n"
     ]
    },
    {
     "name": "stderr",
     "output_type": "stream",
     "text": [
      "Epoch: [25]  [  0/180]  eta: 0:01:39  lr: 0.000854  loss: 0.2355 (0.2355)  loss_classifier: 0.0541 (0.0541)  loss_box_reg: 0.0561 (0.0561)  loss_objectness: 0.0941 (0.0941)  loss_rpn_box_reg: 0.0312 (0.0312)  time: 0.5534  data: 0.3167  max mem: 576\n",
      "Epoch: [25]  [100/180]  eta: 0:00:18  lr: 0.000847  loss: 0.4968 (0.5518)  loss_classifier: 0.1102 (0.1203)  loss_box_reg: 0.1764 (0.1903)  loss_objectness: 0.1294 (0.1432)  loss_rpn_box_reg: 0.0887 (0.0980)  time: 0.2218  data: 0.0038  max mem: 576\n",
      "Epoch: [25]  [179/180]  eta: 0:00:00  lr: 0.000842  loss: 0.5715 (0.5489)  loss_classifier: 0.1379 (0.1211)  loss_box_reg: 0.1968 (0.1896)  loss_objectness: 0.1342 (0.1433)  loss_rpn_box_reg: 0.0983 (0.0950)  time: 0.2220  data: 0.0037  max mem: 576\n",
      "Epoch: [25] Total time: 0:00:40 (0.2271 s / it)\n"
     ]
    },
    {
     "name": "stdout",
     "output_type": "stream",
     "text": [
      "creating index...\n",
      "index created!\n"
     ]
    },
    {
     "name": "stderr",
     "output_type": "stream",
     "text": [
      "Test:  [ 0/39]  eta: 0:00:18  model_time: 0.1356 (0.1356)  evaluator_time: 0.0171 (0.0171)  time: 0.4735  data: 0.3049  max mem: 576\n",
      "Test:  [38/39]  eta: 0:00:00  model_time: 0.1341 (0.1403)  evaluator_time: 0.0283 (0.0376)  time: 0.1844  data: 0.0031  max mem: 576\n",
      "Test: Total time: 0:00:07 (0.1945 s / it)\n"
     ]
    },
    {
     "name": "stdout",
     "output_type": "stream",
     "text": [
      "Averaged stats: model_time: 0.1341 (0.1403)  evaluator_time: 0.0283 (0.0376)\n",
      "Accumulating evaluation results...\n",
      "DONE (t=0.12s).\n",
      "IoU metric: bbox\n",
      " Average Precision  (AP) @[ IoU=0.50:0.95 | area=   all | maxDets=100 ] = 0.110\n",
      " Average Precision  (AP) @[ IoU=0.50      | area=   all | maxDets=100 ] = 0.342\n",
      " Average Precision  (AP) @[ IoU=0.75      | area=   all | maxDets=100 ] = 0.044\n",
      " Average Precision  (AP) @[ IoU=0.50:0.95 | area= small | maxDets=100 ] = 0.100\n",
      " Average Precision  (AP) @[ IoU=0.50:0.95 | area=medium | maxDets=100 ] = 0.146\n",
      " Average Precision  (AP) @[ IoU=0.50:0.95 | area= large | maxDets=100 ] = 0.225\n",
      " Average Recall     (AR) @[ IoU=0.50:0.95 | area=   all | maxDets=  1 ] = 0.065\n",
      " Average Recall     (AR) @[ IoU=0.50:0.95 | area=   all | maxDets= 10 ] = 0.209\n",
      " Average Recall     (AR) @[ IoU=0.50:0.95 | area=   all | maxDets=100 ] = 0.311\n",
      " Average Recall     (AR) @[ IoU=0.50:0.95 | area= small | maxDets=100 ] = 0.283\n",
      " Average Recall     (AR) @[ IoU=0.50:0.95 | area=medium | maxDets=100 ] = 0.391\n",
      " Average Recall     (AR) @[ IoU=0.50:0.95 | area= large | maxDets=100 ] = 0.547\n",
      "0.10964246193174482 0.34233692833254326\n",
      "SAVING PLOTS COMPLETE...\n",
      "SAVING PLOTS COMPLETE...\n",
      "SAVING PLOTS COMPLETE...\n",
      "SAVING PLOTS COMPLETE...\n",
      "SAVING PLOTS COMPLETE...\n",
      "SAVING PLOTS COMPLETE...\n"
     ]
    },
    {
     "name": "stderr",
     "output_type": "stream",
     "text": [
      "Epoch: [26]  [  0/180]  eta: 0:01:38  lr: 0.000842  loss: 0.4494 (0.4494)  loss_classifier: 0.1061 (0.1061)  loss_box_reg: 0.1494 (0.1494)  loss_objectness: 0.1080 (0.1080)  loss_rpn_box_reg: 0.0858 (0.0858)  time: 0.5460  data: 0.3215  max mem: 576\n",
      "Epoch: [26]  [100/180]  eta: 0:00:18  lr: 0.000836  loss: 0.5063 (0.5615)  loss_classifier: 0.1126 (0.1234)  loss_box_reg: 0.1839 (0.1930)  loss_objectness: 0.1356 (0.1481)  loss_rpn_box_reg: 0.0808 (0.0970)  time: 0.2227  data: 0.0037  max mem: 576\n",
      "Epoch: [26]  [179/180]  eta: 0:00:00  lr: 0.000831  loss: 0.4986 (0.5502)  loss_classifier: 0.1095 (0.1214)  loss_box_reg: 0.1734 (0.1892)  loss_objectness: 0.1326 (0.1453)  loss_rpn_box_reg: 0.0878 (0.0943)  time: 0.2176  data: 0.0036  max mem: 576\n",
      "Epoch: [26] Total time: 0:00:40 (0.2251 s / it)\n"
     ]
    },
    {
     "name": "stdout",
     "output_type": "stream",
     "text": [
      "creating index...\n",
      "index created!\n"
     ]
    },
    {
     "name": "stderr",
     "output_type": "stream",
     "text": [
      "Test:  [ 0/39]  eta: 0:00:18  model_time: 0.1438 (0.1438)  evaluator_time: 0.0150 (0.0150)  time: 0.4786  data: 0.3013  max mem: 576\n",
      "Test:  [38/39]  eta: 0:00:00  model_time: 0.1396 (0.1401)  evaluator_time: 0.0260 (0.0366)  time: 0.1815  data: 0.0034  max mem: 576\n",
      "Test: Total time: 0:00:07 (0.1934 s / it)\n"
     ]
    },
    {
     "name": "stdout",
     "output_type": "stream",
     "text": [
      "Averaged stats: model_time: 0.1396 (0.1401)  evaluator_time: 0.0260 (0.0366)\n",
      "Accumulating evaluation results...\n",
      "DONE (t=0.11s).\n",
      "IoU metric: bbox\n",
      " Average Precision  (AP) @[ IoU=0.50:0.95 | area=   all | maxDets=100 ] = 0.109\n",
      " Average Precision  (AP) @[ IoU=0.50      | area=   all | maxDets=100 ] = 0.334\n",
      " Average Precision  (AP) @[ IoU=0.75      | area=   all | maxDets=100 ] = 0.044\n",
      " Average Precision  (AP) @[ IoU=0.50:0.95 | area= small | maxDets=100 ] = 0.098\n",
      " Average Precision  (AP) @[ IoU=0.50:0.95 | area=medium | maxDets=100 ] = 0.153\n",
      " Average Precision  (AP) @[ IoU=0.50:0.95 | area= large | maxDets=100 ] = 0.165\n",
      " Average Recall     (AR) @[ IoU=0.50:0.95 | area=   all | maxDets=  1 ] = 0.061\n",
      " Average Recall     (AR) @[ IoU=0.50:0.95 | area=   all | maxDets= 10 ] = 0.209\n",
      " Average Recall     (AR) @[ IoU=0.50:0.95 | area=   all | maxDets=100 ] = 0.304\n",
      " Average Recall     (AR) @[ IoU=0.50:0.95 | area= small | maxDets=100 ] = 0.274\n",
      " Average Recall     (AR) @[ IoU=0.50:0.95 | area=medium | maxDets=100 ] = 0.395\n",
      " Average Recall     (AR) @[ IoU=0.50:0.95 | area= large | maxDets=100 ] = 0.489\n",
      "0.10937153997076395 0.33402323065027256\n",
      "SAVING PLOTS COMPLETE...\n",
      "SAVING PLOTS COMPLETE...\n",
      "SAVING PLOTS COMPLETE...\n",
      "SAVING PLOTS COMPLETE...\n",
      "SAVING PLOTS COMPLETE...\n",
      "SAVING PLOTS COMPLETE...\n"
     ]
    },
    {
     "name": "stderr",
     "output_type": "stream",
     "text": [
      "Epoch: [27]  [  0/180]  eta: 0:01:42  lr: 0.000831  loss: 0.4751 (0.4751)  loss_classifier: 0.1018 (0.1018)  loss_box_reg: 0.1361 (0.1361)  loss_objectness: 0.1472 (0.1472)  loss_rpn_box_reg: 0.0899 (0.0899)  time: 0.5671  data: 0.3301  max mem: 576\n",
      "Epoch: [27]  [100/180]  eta: 0:00:18  lr: 0.000824  loss: 0.5416 (0.5362)  loss_classifier: 0.1160 (0.1180)  loss_box_reg: 0.1853 (0.1861)  loss_objectness: 0.1285 (0.1408)  loss_rpn_box_reg: 0.0891 (0.0912)  time: 0.2252  data: 0.0037  max mem: 576\n",
      "Epoch: [27]  [179/180]  eta: 0:00:00  lr: 0.000819  loss: 0.5716 (0.5440)  loss_classifier: 0.1239 (0.1202)  loss_box_reg: 0.1924 (0.1897)  loss_objectness: 0.1482 (0.1408)  loss_rpn_box_reg: 0.0953 (0.0932)  time: 0.2217  data: 0.0036  max mem: 576\n",
      "Epoch: [27] Total time: 0:00:41 (0.2286 s / it)\n"
     ]
    },
    {
     "name": "stdout",
     "output_type": "stream",
     "text": [
      "creating index...\n",
      "index created!\n"
     ]
    },
    {
     "name": "stderr",
     "output_type": "stream",
     "text": [
      "Test:  [ 0/39]  eta: 0:00:18  model_time: 0.1381 (0.1381)  evaluator_time: 0.0165 (0.0165)  time: 0.4822  data: 0.3117  max mem: 576\n",
      "Test:  [38/39]  eta: 0:00:00  model_time: 0.1333 (0.1479)  evaluator_time: 0.0285 (0.0439)  time: 0.1764  data: 0.0033  max mem: 576\n",
      "Test: Total time: 0:00:08 (0.2090 s / it)\n"
     ]
    },
    {
     "name": "stdout",
     "output_type": "stream",
     "text": [
      "Averaged stats: model_time: 0.1333 (0.1479)  evaluator_time: 0.0285 (0.0439)\n",
      "Accumulating evaluation results...\n",
      "DONE (t=0.14s).\n",
      "IoU metric: bbox\n",
      " Average Precision  (AP) @[ IoU=0.50:0.95 | area=   all | maxDets=100 ] = 0.114\n",
      " Average Precision  (AP) @[ IoU=0.50      | area=   all | maxDets=100 ] = 0.348\n",
      " Average Precision  (AP) @[ IoU=0.75      | area=   all | maxDets=100 ] = 0.046\n",
      " Average Precision  (AP) @[ IoU=0.50:0.95 | area= small | maxDets=100 ] = 0.099\n",
      " Average Precision  (AP) @[ IoU=0.50:0.95 | area=medium | maxDets=100 ] = 0.165\n",
      " Average Precision  (AP) @[ IoU=0.50:0.95 | area= large | maxDets=100 ] = 0.230\n",
      " Average Recall     (AR) @[ IoU=0.50:0.95 | area=   all | maxDets=  1 ] = 0.060\n",
      " Average Recall     (AR) @[ IoU=0.50:0.95 | area=   all | maxDets= 10 ] = 0.205\n",
      " Average Recall     (AR) @[ IoU=0.50:0.95 | area=   all | maxDets=100 ] = 0.311\n",
      " Average Recall     (AR) @[ IoU=0.50:0.95 | area= small | maxDets=100 ] = 0.277\n",
      " Average Recall     (AR) @[ IoU=0.50:0.95 | area=medium | maxDets=100 ] = 0.409\n",
      " Average Recall     (AR) @[ IoU=0.50:0.95 | area= large | maxDets=100 ] = 0.568\n",
      "0.11402845149917785 0.3478965040884632\n",
      "SAVING PLOTS COMPLETE...\n",
      "SAVING PLOTS COMPLETE...\n",
      "SAVING PLOTS COMPLETE...\n",
      "SAVING PLOTS COMPLETE...\n",
      "SAVING PLOTS COMPLETE...\n",
      "SAVING PLOTS COMPLETE...\n"
     ]
    },
    {
     "name": "stderr",
     "output_type": "stream",
     "text": [
      "Epoch: [28]  [  0/180]  eta: 0:01:39  lr: 0.000819  loss: 0.5456 (0.5456)  loss_classifier: 0.1151 (0.1151)  loss_box_reg: 0.1944 (0.1944)  loss_objectness: 0.1226 (0.1226)  loss_rpn_box_reg: 0.1134 (0.1134)  time: 0.5538  data: 0.3178  max mem: 576\n",
      "Epoch: [28]  [100/180]  eta: 0:00:18  lr: 0.000812  loss: 0.5021 (0.5379)  loss_classifier: 0.1061 (0.1210)  loss_box_reg: 0.1868 (0.1921)  loss_objectness: 0.1334 (0.1348)  loss_rpn_box_reg: 0.0816 (0.0900)  time: 0.2233  data: 0.0041  max mem: 576\n",
      "Epoch: [28]  [179/180]  eta: 0:00:00  lr: 0.000807  loss: 0.6250 (0.5425)  loss_classifier: 0.1327 (0.1198)  loss_box_reg: 0.2234 (0.1899)  loss_objectness: 0.1535 (0.1393)  loss_rpn_box_reg: 0.1149 (0.0934)  time: 0.2251  data: 0.0038  max mem: 576\n",
      "Epoch: [28] Total time: 0:00:41 (0.2287 s / it)\n"
     ]
    },
    {
     "name": "stdout",
     "output_type": "stream",
     "text": [
      "creating index...\n",
      "index created!\n"
     ]
    },
    {
     "name": "stderr",
     "output_type": "stream",
     "text": [
      "Test:  [ 0/39]  eta: 0:00:18  model_time: 0.1384 (0.1384)  evaluator_time: 0.0159 (0.0159)  time: 0.4787  data: 0.3087  max mem: 576\n",
      "Test:  [38/39]  eta: 0:00:00  model_time: 0.1364 (0.1420)  evaluator_time: 0.0289 (0.0383)  time: 0.1894  data: 0.0033  max mem: 576\n",
      "Test: Total time: 0:00:07 (0.1968 s / it)\n"
     ]
    },
    {
     "name": "stdout",
     "output_type": "stream",
     "text": [
      "Averaged stats: model_time: 0.1364 (0.1420)  evaluator_time: 0.0289 (0.0383)\n",
      "Accumulating evaluation results...\n",
      "DONE (t=0.12s).\n",
      "IoU metric: bbox\n",
      " Average Precision  (AP) @[ IoU=0.50:0.95 | area=   all | maxDets=100 ] = 0.112\n",
      " Average Precision  (AP) @[ IoU=0.50      | area=   all | maxDets=100 ] = 0.343\n",
      " Average Precision  (AP) @[ IoU=0.75      | area=   all | maxDets=100 ] = 0.043\n",
      " Average Precision  (AP) @[ IoU=0.50:0.95 | area= small | maxDets=100 ] = 0.095\n",
      " Average Precision  (AP) @[ IoU=0.50:0.95 | area=medium | maxDets=100 ] = 0.167\n",
      " Average Precision  (AP) @[ IoU=0.50:0.95 | area= large | maxDets=100 ] = 0.251\n",
      " Average Recall     (AR) @[ IoU=0.50:0.95 | area=   all | maxDets=  1 ] = 0.061\n",
      " Average Recall     (AR) @[ IoU=0.50:0.95 | area=   all | maxDets= 10 ] = 0.213\n",
      " Average Recall     (AR) @[ IoU=0.50:0.95 | area=   all | maxDets=100 ] = 0.312\n",
      " Average Recall     (AR) @[ IoU=0.50:0.95 | area= small | maxDets=100 ] = 0.283\n",
      " Average Recall     (AR) @[ IoU=0.50:0.95 | area=medium | maxDets=100 ] = 0.395\n",
      " Average Recall     (AR) @[ IoU=0.50:0.95 | area= large | maxDets=100 ] = 0.547\n",
      "0.11219324812136204 0.34250014484203023\n",
      "SAVING PLOTS COMPLETE...\n",
      "SAVING PLOTS COMPLETE...\n",
      "SAVING PLOTS COMPLETE...\n",
      "SAVING PLOTS COMPLETE...\n",
      "SAVING PLOTS COMPLETE...\n",
      "SAVING PLOTS COMPLETE...\n"
     ]
    },
    {
     "name": "stderr",
     "output_type": "stream",
     "text": [
      "Epoch: [29]  [  0/180]  eta: 0:01:39  lr: 0.000806  loss: 0.4275 (0.4275)  loss_classifier: 0.1025 (0.1025)  loss_box_reg: 0.1785 (0.1785)  loss_objectness: 0.0985 (0.0985)  loss_rpn_box_reg: 0.0480 (0.0480)  time: 0.5544  data: 0.3163  max mem: 576\n",
      "Epoch: [29]  [100/180]  eta: 0:00:18  lr: 0.000800  loss: 0.5051 (0.5506)  loss_classifier: 0.1146 (0.1211)  loss_box_reg: 0.1683 (0.1931)  loss_objectness: 0.1428 (0.1418)  loss_rpn_box_reg: 0.0921 (0.0946)  time: 0.2261  data: 0.0039  max mem: 576\n",
      "Epoch: [29]  [179/180]  eta: 0:00:00  lr: 0.000794  loss: 0.5117 (0.5417)  loss_classifier: 0.1134 (0.1195)  loss_box_reg: 0.1712 (0.1894)  loss_objectness: 0.1392 (0.1401)  loss_rpn_box_reg: 0.0823 (0.0927)  time: 0.2275  data: 0.0039  max mem: 576\n",
      "Epoch: [29] Total time: 0:00:41 (0.2292 s / it)\n"
     ]
    },
    {
     "name": "stdout",
     "output_type": "stream",
     "text": [
      "creating index...\n",
      "index created!\n"
     ]
    },
    {
     "name": "stderr",
     "output_type": "stream",
     "text": [
      "Test:  [ 0/39]  eta: 0:00:18  model_time: 0.1368 (0.1368)  evaluator_time: 0.0155 (0.0155)  time: 0.4827  data: 0.3152  max mem: 576\n",
      "Test:  [38/39]  eta: 0:00:00  model_time: 0.1299 (0.1404)  evaluator_time: 0.0264 (0.0350)  time: 0.1895  data: 0.0034  max mem: 576\n",
      "Test: Total time: 0:00:07 (0.1920 s / it)\n"
     ]
    },
    {
     "name": "stdout",
     "output_type": "stream",
     "text": [
      "Averaged stats: model_time: 0.1299 (0.1404)  evaluator_time: 0.0264 (0.0350)\n",
      "Accumulating evaluation results...\n",
      "DONE (t=0.12s).\n",
      "IoU metric: bbox\n",
      " Average Precision  (AP) @[ IoU=0.50:0.95 | area=   all | maxDets=100 ] = 0.116\n",
      " Average Precision  (AP) @[ IoU=0.50      | area=   all | maxDets=100 ] = 0.343\n",
      " Average Precision  (AP) @[ IoU=0.75      | area=   all | maxDets=100 ] = 0.046\n",
      " Average Precision  (AP) @[ IoU=0.50:0.95 | area= small | maxDets=100 ] = 0.101\n",
      " Average Precision  (AP) @[ IoU=0.50:0.95 | area=medium | maxDets=100 ] = 0.164\n",
      " Average Precision  (AP) @[ IoU=0.50:0.95 | area= large | maxDets=100 ] = 0.219\n",
      " Average Recall     (AR) @[ IoU=0.50:0.95 | area=   all | maxDets=  1 ] = 0.065\n",
      " Average Recall     (AR) @[ IoU=0.50:0.95 | area=   all | maxDets= 10 ] = 0.211\n",
      " Average Recall     (AR) @[ IoU=0.50:0.95 | area=   all | maxDets=100 ] = 0.317\n",
      " Average Recall     (AR) @[ IoU=0.50:0.95 | area= small | maxDets=100 ] = 0.287\n",
      " Average Recall     (AR) @[ IoU=0.50:0.95 | area=medium | maxDets=100 ] = 0.403\n",
      " Average Recall     (AR) @[ IoU=0.50:0.95 | area= large | maxDets=100 ] = 0.537\n",
      "0.11559682142700912 0.3428998687825881\n",
      "SAVING PLOTS COMPLETE...\n",
      "SAVING PLOTS COMPLETE...\n",
      "SAVING PLOTS COMPLETE...\n",
      "SAVING PLOTS COMPLETE...\n",
      "SAVING PLOTS COMPLETE...\n",
      "SAVING PLOTS COMPLETE...\n"
     ]
    },
    {
     "name": "stderr",
     "output_type": "stream",
     "text": [
      "Epoch: [30]  [  0/180]  eta: 0:01:40  lr: 0.000794  loss: 0.3791 (0.3791)  loss_classifier: 0.0924 (0.0924)  loss_box_reg: 0.1234 (0.1234)  loss_objectness: 0.1124 (0.1124)  loss_rpn_box_reg: 0.0509 (0.0509)  time: 0.5570  data: 0.3189  max mem: 576\n",
      "Epoch: [30]  [100/180]  eta: 0:00:18  lr: 0.000787  loss: 0.4894 (0.5384)  loss_classifier: 0.1096 (0.1181)  loss_box_reg: 0.1609 (0.1884)  loss_objectness: 0.1372 (0.1386)  loss_rpn_box_reg: 0.0748 (0.0933)  time: 0.2295  data: 0.0039  max mem: 576\n",
      "Epoch: [30]  [179/180]  eta: 0:00:00  lr: 0.000781  loss: 0.5315 (0.5400)  loss_classifier: 0.1155 (0.1189)  loss_box_reg: 0.1811 (0.1901)  loss_objectness: 0.1363 (0.1387)  loss_rpn_box_reg: 0.0989 (0.0922)  time: 0.2271  data: 0.0041  max mem: 576\n",
      "Epoch: [30] Total time: 0:00:41 (0.2315 s / it)\n"
     ]
    },
    {
     "name": "stdout",
     "output_type": "stream",
     "text": [
      "creating index...\n",
      "index created!\n"
     ]
    },
    {
     "name": "stderr",
     "output_type": "stream",
     "text": [
      "Test:  [ 0/39]  eta: 0:00:19  model_time: 0.1382 (0.1382)  evaluator_time: 0.0158 (0.0158)  time: 0.4914  data: 0.3210  max mem: 576\n",
      "Test:  [38/39]  eta: 0:00:00  model_time: 0.1362 (0.1342)  evaluator_time: 0.0258 (0.0347)  time: 0.1766  data: 0.0035  max mem: 576\n",
      "Test: Total time: 0:00:07 (0.1859 s / it)\n"
     ]
    },
    {
     "name": "stdout",
     "output_type": "stream",
     "text": [
      "Averaged stats: model_time: 0.1362 (0.1342)  evaluator_time: 0.0258 (0.0347)\n",
      "Accumulating evaluation results...\n",
      "DONE (t=0.11s).\n",
      "IoU metric: bbox\n",
      " Average Precision  (AP) @[ IoU=0.50:0.95 | area=   all | maxDets=100 ] = 0.108\n",
      " Average Precision  (AP) @[ IoU=0.50      | area=   all | maxDets=100 ] = 0.341\n",
      " Average Precision  (AP) @[ IoU=0.75      | area=   all | maxDets=100 ] = 0.038\n",
      " Average Precision  (AP) @[ IoU=0.50:0.95 | area= small | maxDets=100 ] = 0.095\n",
      " Average Precision  (AP) @[ IoU=0.50:0.95 | area=medium | maxDets=100 ] = 0.157\n",
      " Average Precision  (AP) @[ IoU=0.50:0.95 | area= large | maxDets=100 ] = 0.186\n",
      " Average Recall     (AR) @[ IoU=0.50:0.95 | area=   all | maxDets=  1 ] = 0.059\n",
      " Average Recall     (AR) @[ IoU=0.50:0.95 | area=   all | maxDets= 10 ] = 0.205\n",
      " Average Recall     (AR) @[ IoU=0.50:0.95 | area=   all | maxDets=100 ] = 0.301\n",
      " Average Recall     (AR) @[ IoU=0.50:0.95 | area= small | maxDets=100 ] = 0.269\n",
      " Average Recall     (AR) @[ IoU=0.50:0.95 | area=medium | maxDets=100 ] = 0.397\n",
      " Average Recall     (AR) @[ IoU=0.50:0.95 | area= large | maxDets=100 ] = 0.537\n",
      "0.10849958061767298 0.34108178978300807\n",
      "SAVING PLOTS COMPLETE...\n",
      "SAVING PLOTS COMPLETE...\n",
      "SAVING PLOTS COMPLETE...\n",
      "SAVING PLOTS COMPLETE...\n",
      "SAVING PLOTS COMPLETE...\n",
      "SAVING PLOTS COMPLETE...\n"
     ]
    },
    {
     "name": "stderr",
     "output_type": "stream",
     "text": [
      "Epoch: [31]  [  0/180]  eta: 0:01:39  lr: 0.000781  loss: 0.4360 (0.4360)  loss_classifier: 0.0956 (0.0956)  loss_box_reg: 0.1421 (0.1421)  loss_objectness: 0.1123 (0.1123)  loss_rpn_box_reg: 0.0861 (0.0861)  time: 0.5554  data: 0.3127  max mem: 576\n",
      "Epoch: [31]  [100/180]  eta: 0:00:18  lr: 0.000774  loss: 0.4839 (0.5315)  loss_classifier: 0.1095 (0.1189)  loss_box_reg: 0.1631 (0.1892)  loss_objectness: 0.1165 (0.1333)  loss_rpn_box_reg: 0.0851 (0.0902)  time: 0.2238  data: 0.0037  max mem: 576\n",
      "Epoch: [31]  [179/180]  eta: 0:00:00  lr: 0.000768  loss: 0.4909 (0.5378)  loss_classifier: 0.1084 (0.1191)  loss_box_reg: 0.1803 (0.1906)  loss_objectness: 0.1346 (0.1358)  loss_rpn_box_reg: 0.0800 (0.0923)  time: 0.2212  data: 0.0037  max mem: 576\n",
      "Epoch: [31] Total time: 0:00:40 (0.2265 s / it)\n"
     ]
    },
    {
     "name": "stdout",
     "output_type": "stream",
     "text": [
      "creating index...\n",
      "index created!\n"
     ]
    },
    {
     "name": "stderr",
     "output_type": "stream",
     "text": [
      "Test:  [ 0/39]  eta: 0:00:18  model_time: 0.1332 (0.1332)  evaluator_time: 0.0151 (0.0151)  time: 0.4793  data: 0.3151  max mem: 576\n",
      "Test:  [38/39]  eta: 0:00:00  model_time: 0.1308 (0.1388)  evaluator_time: 0.0262 (0.0340)  time: 0.1854  data: 0.0034  max mem: 576\n",
      "Test: Total time: 0:00:07 (0.1896 s / it)\n"
     ]
    },
    {
     "name": "stdout",
     "output_type": "stream",
     "text": [
      "Averaged stats: model_time: 0.1308 (0.1388)  evaluator_time: 0.0262 (0.0340)\n",
      "Accumulating evaluation results...\n",
      "DONE (t=0.11s).\n",
      "IoU metric: bbox\n",
      " Average Precision  (AP) @[ IoU=0.50:0.95 | area=   all | maxDets=100 ] = 0.113\n",
      " Average Precision  (AP) @[ IoU=0.50      | area=   all | maxDets=100 ] = 0.344\n",
      " Average Precision  (AP) @[ IoU=0.75      | area=   all | maxDets=100 ] = 0.041\n",
      " Average Precision  (AP) @[ IoU=0.50:0.95 | area= small | maxDets=100 ] = 0.104\n",
      " Average Precision  (AP) @[ IoU=0.50:0.95 | area=medium | maxDets=100 ] = 0.150\n",
      " Average Precision  (AP) @[ IoU=0.50:0.95 | area= large | maxDets=100 ] = 0.187\n",
      " Average Recall     (AR) @[ IoU=0.50:0.95 | area=   all | maxDets=  1 ] = 0.063\n",
      " Average Recall     (AR) @[ IoU=0.50:0.95 | area=   all | maxDets= 10 ] = 0.210\n",
      " Average Recall     (AR) @[ IoU=0.50:0.95 | area=   all | maxDets=100 ] = 0.308\n",
      " Average Recall     (AR) @[ IoU=0.50:0.95 | area= small | maxDets=100 ] = 0.280\n",
      " Average Recall     (AR) @[ IoU=0.50:0.95 | area=medium | maxDets=100 ] = 0.386\n",
      " Average Recall     (AR) @[ IoU=0.50:0.95 | area= large | maxDets=100 ] = 0.511\n",
      "0.11282281393062972 0.3436247536138814\n",
      "SAVING PLOTS COMPLETE...\n",
      "SAVING PLOTS COMPLETE...\n",
      "SAVING PLOTS COMPLETE...\n",
      "SAVING PLOTS COMPLETE...\n",
      "SAVING PLOTS COMPLETE...\n",
      "SAVING PLOTS COMPLETE...\n"
     ]
    },
    {
     "name": "stderr",
     "output_type": "stream",
     "text": [
      "Epoch: [32]  [  0/180]  eta: 0:01:39  lr: 0.000768  loss: 0.5417 (0.5417)  loss_classifier: 0.1217 (0.1217)  loss_box_reg: 0.1837 (0.1837)  loss_objectness: 0.1581 (0.1581)  loss_rpn_box_reg: 0.0782 (0.0782)  time: 0.5555  data: 0.3185  max mem: 576\n",
      "Epoch: [32]  [100/180]  eta: 0:00:18  lr: 0.000761  loss: 0.5269 (0.5282)  loss_classifier: 0.1122 (0.1173)  loss_box_reg: 0.1727 (0.1870)  loss_objectness: 0.1490 (0.1326)  loss_rpn_box_reg: 0.0882 (0.0914)  time: 0.2226  data: 0.0038  max mem: 576\n",
      "Epoch: [32]  [179/180]  eta: 0:00:00  lr: 0.000755  loss: 0.4495 (0.5348)  loss_classifier: 0.1031 (0.1187)  loss_box_reg: 0.1659 (0.1897)  loss_objectness: 0.1189 (0.1346)  loss_rpn_box_reg: 0.0713 (0.0917)  time: 0.2189  data: 0.0037  max mem: 576\n",
      "Epoch: [32] Total time: 0:00:40 (0.2261 s / it)\n"
     ]
    },
    {
     "name": "stdout",
     "output_type": "stream",
     "text": [
      "creating index...\n",
      "index created!\n"
     ]
    },
    {
     "name": "stderr",
     "output_type": "stream",
     "text": [
      "Test:  [ 0/39]  eta: 0:00:18  model_time: 0.1344 (0.1344)  evaluator_time: 0.0165 (0.0165)  time: 0.4842  data: 0.3165  max mem: 576\n",
      "Test:  [38/39]  eta: 0:00:00  model_time: 0.1340 (0.1338)  evaluator_time: 0.0276 (0.0354)  time: 0.1746  data: 0.0034  max mem: 576\n",
      "Test: Total time: 0:00:07 (0.1860 s / it)\n"
     ]
    },
    {
     "name": "stdout",
     "output_type": "stream",
     "text": [
      "Averaged stats: model_time: 0.1340 (0.1338)  evaluator_time: 0.0276 (0.0354)\n",
      "Accumulating evaluation results...\n",
      "DONE (t=0.12s).\n",
      "IoU metric: bbox\n",
      " Average Precision  (AP) @[ IoU=0.50:0.95 | area=   all | maxDets=100 ] = 0.120\n",
      " Average Precision  (AP) @[ IoU=0.50      | area=   all | maxDets=100 ] = 0.360\n",
      " Average Precision  (AP) @[ IoU=0.75      | area=   all | maxDets=100 ] = 0.047\n",
      " Average Precision  (AP) @[ IoU=0.50:0.95 | area= small | maxDets=100 ] = 0.105\n",
      " Average Precision  (AP) @[ IoU=0.50:0.95 | area=medium | maxDets=100 ] = 0.173\n",
      " Average Precision  (AP) @[ IoU=0.50:0.95 | area= large | maxDets=100 ] = 0.237\n",
      " Average Recall     (AR) @[ IoU=0.50:0.95 | area=   all | maxDets=  1 ] = 0.064\n",
      " Average Recall     (AR) @[ IoU=0.50:0.95 | area=   all | maxDets= 10 ] = 0.214\n",
      " Average Recall     (AR) @[ IoU=0.50:0.95 | area=   all | maxDets=100 ] = 0.319\n",
      " Average Recall     (AR) @[ IoU=0.50:0.95 | area= small | maxDets=100 ] = 0.289\n",
      " Average Recall     (AR) @[ IoU=0.50:0.95 | area=medium | maxDets=100 ] = 0.404\n",
      " Average Recall     (AR) @[ IoU=0.50:0.95 | area= large | maxDets=100 ] = 0.584\n",
      "0.11999465097437854 0.3597447667922126\n",
      "SAVING PLOTS COMPLETE...\n",
      "SAVING PLOTS COMPLETE...\n",
      "SAVING PLOTS COMPLETE...\n",
      "SAVING PLOTS COMPLETE...\n",
      "SAVING PLOTS COMPLETE...\n",
      "SAVING PLOTS COMPLETE...\n"
     ]
    },
    {
     "name": "stderr",
     "output_type": "stream",
     "text": [
      "Epoch: [33]  [  0/180]  eta: 0:01:39  lr: 0.000755  loss: 0.5208 (0.5208)  loss_classifier: 0.1165 (0.1165)  loss_box_reg: 0.1548 (0.1548)  loss_objectness: 0.1467 (0.1467)  loss_rpn_box_reg: 0.1029 (0.1029)  time: 0.5511  data: 0.3166  max mem: 576\n",
      "Epoch: [33]  [100/180]  eta: 0:00:18  lr: 0.000747  loss: 0.4767 (0.5349)  loss_classifier: 0.1118 (0.1192)  loss_box_reg: 0.1721 (0.1899)  loss_objectness: 0.1181 (0.1359)  loss_rpn_box_reg: 0.0670 (0.0899)  time: 0.2245  data: 0.0038  max mem: 576\n",
      "Epoch: [33]  [179/180]  eta: 0:00:00  lr: 0.000741  loss: 0.5194 (0.5318)  loss_classifier: 0.1189 (0.1178)  loss_box_reg: 0.1984 (0.1891)  loss_objectness: 0.1317 (0.1340)  loss_rpn_box_reg: 0.0951 (0.0909)  time: 0.2213  data: 0.0037  max mem: 576\n",
      "Epoch: [33] Total time: 0:00:40 (0.2260 s / it)\n"
     ]
    },
    {
     "name": "stdout",
     "output_type": "stream",
     "text": [
      "creating index...\n",
      "index created!\n"
     ]
    },
    {
     "name": "stderr",
     "output_type": "stream",
     "text": [
      "Test:  [ 0/39]  eta: 0:00:18  model_time: 0.1318 (0.1318)  evaluator_time: 0.0136 (0.0136)  time: 0.4736  data: 0.3124  max mem: 576\n",
      "Test:  [38/39]  eta: 0:00:00  model_time: 0.1321 (0.1464)  evaluator_time: 0.0249 (0.0350)  time: 0.1908  data: 0.0033  max mem: 576\n",
      "Test: Total time: 0:00:07 (0.1980 s / it)\n"
     ]
    },
    {
     "name": "stdout",
     "output_type": "stream",
     "text": [
      "Averaged stats: model_time: 0.1321 (0.1464)  evaluator_time: 0.0249 (0.0350)\n",
      "Accumulating evaluation results...\n",
      "DONE (t=0.12s).\n",
      "IoU metric: bbox\n",
      " Average Precision  (AP) @[ IoU=0.50:0.95 | area=   all | maxDets=100 ] = 0.111\n",
      " Average Precision  (AP) @[ IoU=0.50      | area=   all | maxDets=100 ] = 0.341\n",
      " Average Precision  (AP) @[ IoU=0.75      | area=   all | maxDets=100 ] = 0.039\n",
      " Average Precision  (AP) @[ IoU=0.50:0.95 | area= small | maxDets=100 ] = 0.096\n",
      " Average Precision  (AP) @[ IoU=0.50:0.95 | area=medium | maxDets=100 ] = 0.164\n",
      " Average Precision  (AP) @[ IoU=0.50:0.95 | area= large | maxDets=100 ] = 0.184\n",
      " Average Recall     (AR) @[ IoU=0.50:0.95 | area=   all | maxDets=  1 ] = 0.061\n",
      " Average Recall     (AR) @[ IoU=0.50:0.95 | area=   all | maxDets= 10 ] = 0.210\n",
      " Average Recall     (AR) @[ IoU=0.50:0.95 | area=   all | maxDets=100 ] = 0.309\n",
      " Average Recall     (AR) @[ IoU=0.50:0.95 | area= small | maxDets=100 ] = 0.281\n",
      " Average Recall     (AR) @[ IoU=0.50:0.95 | area=medium | maxDets=100 ] = 0.391\n",
      " Average Recall     (AR) @[ IoU=0.50:0.95 | area= large | maxDets=100 ] = 0.500\n",
      "0.11127040349025039 0.3410247670794612\n",
      "SAVING PLOTS COMPLETE...\n",
      "SAVING PLOTS COMPLETE...\n",
      "SAVING PLOTS COMPLETE...\n",
      "SAVING PLOTS COMPLETE...\n",
      "SAVING PLOTS COMPLETE...\n",
      "SAVING PLOTS COMPLETE...\n"
     ]
    },
    {
     "name": "stderr",
     "output_type": "stream",
     "text": [
      "Epoch: [34]  [  0/180]  eta: 0:01:43  lr: 0.000741  loss: 0.3878 (0.3878)  loss_classifier: 0.0787 (0.0787)  loss_box_reg: 0.1237 (0.1237)  loss_objectness: 0.1095 (0.1095)  loss_rpn_box_reg: 0.0759 (0.0759)  time: 0.5725  data: 0.3212  max mem: 576\n",
      "Epoch: [34]  [100/180]  eta: 0:00:18  lr: 0.000733  loss: 0.4831 (0.5297)  loss_classifier: 0.1100 (0.1178)  loss_box_reg: 0.1832 (0.1893)  loss_objectness: 0.1139 (0.1322)  loss_rpn_box_reg: 0.0811 (0.0905)  time: 0.2248  data: 0.0037  max mem: 576\n",
      "Epoch: [34]  [179/180]  eta: 0:00:00  lr: 0.000727  loss: 0.4919 (0.5304)  loss_classifier: 0.1157 (0.1179)  loss_box_reg: 0.1914 (0.1902)  loss_objectness: 0.1299 (0.1318)  loss_rpn_box_reg: 0.0868 (0.0905)  time: 0.2206  data: 0.0035  max mem: 576\n",
      "Epoch: [34] Total time: 0:00:40 (0.2271 s / it)\n"
     ]
    },
    {
     "name": "stdout",
     "output_type": "stream",
     "text": [
      "creating index...\n",
      "index created!\n"
     ]
    },
    {
     "name": "stderr",
     "output_type": "stream",
     "text": [
      "Test:  [ 0/39]  eta: 0:00:18  model_time: 0.1369 (0.1369)  evaluator_time: 0.0131 (0.0131)  time: 0.4733  data: 0.3070  max mem: 576\n",
      "Test:  [38/39]  eta: 0:00:00  model_time: 0.1339 (0.1461)  evaluator_time: 0.0217 (0.0328)  time: 0.1825  data: 0.0032  max mem: 576\n",
      "Test: Total time: 0:00:07 (0.1953 s / it)\n"
     ]
    },
    {
     "name": "stdout",
     "output_type": "stream",
     "text": [
      "Averaged stats: model_time: 0.1339 (0.1461)  evaluator_time: 0.0217 (0.0328)\n",
      "Accumulating evaluation results...\n",
      "DONE (t=0.11s).\n",
      "IoU metric: bbox\n",
      " Average Precision  (AP) @[ IoU=0.50:0.95 | area=   all | maxDets=100 ] = 0.116\n",
      " Average Precision  (AP) @[ IoU=0.50      | area=   all | maxDets=100 ] = 0.353\n",
      " Average Precision  (AP) @[ IoU=0.75      | area=   all | maxDets=100 ] = 0.039\n",
      " Average Precision  (AP) @[ IoU=0.50:0.95 | area= small | maxDets=100 ] = 0.102\n",
      " Average Precision  (AP) @[ IoU=0.50:0.95 | area=medium | maxDets=100 ] = 0.162\n",
      " Average Precision  (AP) @[ IoU=0.50:0.95 | area= large | maxDets=100 ] = 0.223\n",
      " Average Recall     (AR) @[ IoU=0.50:0.95 | area=   all | maxDets=  1 ] = 0.066\n",
      " Average Recall     (AR) @[ IoU=0.50:0.95 | area=   all | maxDets= 10 ] = 0.211\n",
      " Average Recall     (AR) @[ IoU=0.50:0.95 | area=   all | maxDets=100 ] = 0.307\n",
      " Average Recall     (AR) @[ IoU=0.50:0.95 | area= small | maxDets=100 ] = 0.281\n",
      " Average Recall     (AR) @[ IoU=0.50:0.95 | area=medium | maxDets=100 ] = 0.382\n",
      " Average Recall     (AR) @[ IoU=0.50:0.95 | area= large | maxDets=100 ] = 0.537\n",
      "0.11550213607995001 0.3534136785483753\n",
      "SAVING PLOTS COMPLETE...\n",
      "SAVING PLOTS COMPLETE...\n",
      "SAVING PLOTS COMPLETE...\n",
      "SAVING PLOTS COMPLETE...\n",
      "SAVING PLOTS COMPLETE...\n",
      "SAVING PLOTS COMPLETE...\n"
     ]
    },
    {
     "name": "stderr",
     "output_type": "stream",
     "text": [
      "Epoch: [35]  [  0/180]  eta: 0:01:40  lr: 0.000727  loss: 0.5352 (0.5352)  loss_classifier: 0.1154 (0.1154)  loss_box_reg: 0.2059 (0.2059)  loss_objectness: 0.1320 (0.1320)  loss_rpn_box_reg: 0.0818 (0.0818)  time: 0.5592  data: 0.3220  max mem: 576\n",
      "Epoch: [35]  [100/180]  eta: 0:00:18  lr: 0.000719  loss: 0.5276 (0.5047)  loss_classifier: 0.1026 (0.1123)  loss_box_reg: 0.1921 (0.1829)  loss_objectness: 0.1270 (0.1243)  loss_rpn_box_reg: 0.0949 (0.0852)  time: 0.2272  data: 0.0041  max mem: 576\n",
      "Epoch: [35]  [179/180]  eta: 0:00:00  lr: 0.000713  loss: 0.5694 (0.5255)  loss_classifier: 0.1321 (0.1166)  loss_box_reg: 0.1975 (0.1891)  loss_objectness: 0.1490 (0.1294)  loss_rpn_box_reg: 0.0917 (0.0903)  time: 0.2228  data: 0.0038  max mem: 576\n",
      "Epoch: [35] Total time: 0:00:41 (0.2285 s / it)\n"
     ]
    },
    {
     "name": "stdout",
     "output_type": "stream",
     "text": [
      "creating index...\n",
      "index created!\n"
     ]
    },
    {
     "name": "stderr",
     "output_type": "stream",
     "text": [
      "Test:  [ 0/39]  eta: 0:00:18  model_time: 0.1321 (0.1321)  evaluator_time: 0.0156 (0.0156)  time: 0.4777  data: 0.3133  max mem: 576\n",
      "Test:  [38/39]  eta: 0:00:00  model_time: 0.1281 (0.1376)  evaluator_time: 0.0242 (0.0402)  time: 0.1769  data: 0.0033  max mem: 576\n",
      "Test: Total time: 0:00:07 (0.1942 s / it)\n"
     ]
    },
    {
     "name": "stdout",
     "output_type": "stream",
     "text": [
      "Averaged stats: model_time: 0.1281 (0.1376)  evaluator_time: 0.0242 (0.0402)\n",
      "Accumulating evaluation results...\n",
      "DONE (t=0.11s).\n",
      "IoU metric: bbox\n",
      " Average Precision  (AP) @[ IoU=0.50:0.95 | area=   all | maxDets=100 ] = 0.114\n",
      " Average Precision  (AP) @[ IoU=0.50      | area=   all | maxDets=100 ] = 0.347\n",
      " Average Precision  (AP) @[ IoU=0.75      | area=   all | maxDets=100 ] = 0.042\n",
      " Average Precision  (AP) @[ IoU=0.50:0.95 | area= small | maxDets=100 ] = 0.101\n",
      " Average Precision  (AP) @[ IoU=0.50:0.95 | area=medium | maxDets=100 ] = 0.165\n",
      " Average Precision  (AP) @[ IoU=0.50:0.95 | area= large | maxDets=100 ] = 0.180\n",
      " Average Recall     (AR) @[ IoU=0.50:0.95 | area=   all | maxDets=  1 ] = 0.064\n",
      " Average Recall     (AR) @[ IoU=0.50:0.95 | area=   all | maxDets= 10 ] = 0.212\n",
      " Average Recall     (AR) @[ IoU=0.50:0.95 | area=   all | maxDets=100 ] = 0.311\n",
      " Average Recall     (AR) @[ IoU=0.50:0.95 | area= small | maxDets=100 ] = 0.282\n",
      " Average Recall     (AR) @[ IoU=0.50:0.95 | area=medium | maxDets=100 ] = 0.397\n",
      " Average Recall     (AR) @[ IoU=0.50:0.95 | area= large | maxDets=100 ] = 0.495\n",
      "0.11389290786641375 0.34737022112172283\n",
      "SAVING PLOTS COMPLETE...\n",
      "SAVING PLOTS COMPLETE...\n",
      "SAVING PLOTS COMPLETE...\n",
      "SAVING PLOTS COMPLETE...\n",
      "SAVING PLOTS COMPLETE...\n",
      "SAVING PLOTS COMPLETE...\n"
     ]
    },
    {
     "name": "stderr",
     "output_type": "stream",
     "text": [
      "Epoch: [36]  [  0/180]  eta: 0:01:39  lr: 0.000713  loss: 0.2788 (0.2788)  loss_classifier: 0.0687 (0.0687)  loss_box_reg: 0.1066 (0.1066)  loss_objectness: 0.0635 (0.0635)  loss_rpn_box_reg: 0.0400 (0.0400)  time: 0.5522  data: 0.3140  max mem: 576\n",
      "Epoch: [36]  [100/180]  eta: 0:00:18  lr: 0.000705  loss: 0.5681 (0.5248)  loss_classifier: 0.1180 (0.1169)  loss_box_reg: 0.1880 (0.1907)  loss_objectness: 0.1447 (0.1259)  loss_rpn_box_reg: 0.0984 (0.0914)  time: 0.2234  data: 0.0038  max mem: 576\n",
      "Epoch: [36]  [179/180]  eta: 0:00:00  lr: 0.000699  loss: 0.5378 (0.5240)  loss_classifier: 0.1213 (0.1170)  loss_box_reg: 0.2052 (0.1899)  loss_objectness: 0.1279 (0.1271)  loss_rpn_box_reg: 0.0802 (0.0901)  time: 0.2207  data: 0.0037  max mem: 576\n",
      "Epoch: [36] Total time: 0:00:40 (0.2272 s / it)\n"
     ]
    },
    {
     "name": "stdout",
     "output_type": "stream",
     "text": [
      "creating index...\n",
      "index created!\n"
     ]
    },
    {
     "name": "stderr",
     "output_type": "stream",
     "text": [
      "Test:  [ 0/39]  eta: 0:00:18  model_time: 0.1309 (0.1309)  evaluator_time: 0.0155 (0.0155)  time: 0.4756  data: 0.3129  max mem: 576\n",
      "Test:  [38/39]  eta: 0:00:00  model_time: 0.1339 (0.1422)  evaluator_time: 0.0266 (0.0345)  time: 0.1879  data: 0.0032  max mem: 576\n",
      "Test: Total time: 0:00:07 (0.1935 s / it)\n"
     ]
    },
    {
     "name": "stdout",
     "output_type": "stream",
     "text": [
      "Averaged stats: model_time: 0.1339 (0.1422)  evaluator_time: 0.0266 (0.0345)\n",
      "Accumulating evaluation results...\n",
      "DONE (t=0.11s).\n",
      "IoU metric: bbox\n",
      " Average Precision  (AP) @[ IoU=0.50:0.95 | area=   all | maxDets=100 ] = 0.117\n",
      " Average Precision  (AP) @[ IoU=0.50      | area=   all | maxDets=100 ] = 0.350\n",
      " Average Precision  (AP) @[ IoU=0.75      | area=   all | maxDets=100 ] = 0.047\n",
      " Average Precision  (AP) @[ IoU=0.50:0.95 | area= small | maxDets=100 ] = 0.104\n",
      " Average Precision  (AP) @[ IoU=0.50:0.95 | area=medium | maxDets=100 ] = 0.166\n",
      " Average Precision  (AP) @[ IoU=0.50:0.95 | area= large | maxDets=100 ] = 0.211\n",
      " Average Recall     (AR) @[ IoU=0.50:0.95 | area=   all | maxDets=  1 ] = 0.067\n",
      " Average Recall     (AR) @[ IoU=0.50:0.95 | area=   all | maxDets= 10 ] = 0.214\n",
      " Average Recall     (AR) @[ IoU=0.50:0.95 | area=   all | maxDets=100 ] = 0.317\n",
      " Average Recall     (AR) @[ IoU=0.50:0.95 | area= small | maxDets=100 ] = 0.286\n",
      " Average Recall     (AR) @[ IoU=0.50:0.95 | area=medium | maxDets=100 ] = 0.405\n",
      " Average Recall     (AR) @[ IoU=0.50:0.95 | area= large | maxDets=100 ] = 0.563\n",
      "0.11672750663267416 0.35028342739429286\n",
      "SAVING PLOTS COMPLETE...\n",
      "SAVING PLOTS COMPLETE...\n",
      "SAVING PLOTS COMPLETE...\n",
      "SAVING PLOTS COMPLETE...\n",
      "SAVING PLOTS COMPLETE...\n",
      "SAVING PLOTS COMPLETE...\n"
     ]
    },
    {
     "name": "stderr",
     "output_type": "stream",
     "text": [
      "Epoch: [37]  [  0/180]  eta: 0:01:40  lr: 0.000699  loss: 0.3303 (0.3303)  loss_classifier: 0.0740 (0.0740)  loss_box_reg: 0.1192 (0.1192)  loss_objectness: 0.0889 (0.0889)  loss_rpn_box_reg: 0.0481 (0.0481)  time: 0.5574  data: 0.3199  max mem: 576\n",
      "Epoch: [37]  [100/180]  eta: 0:00:18  lr: 0.000691  loss: 0.4948 (0.5150)  loss_classifier: 0.1177 (0.1153)  loss_box_reg: 0.1839 (0.1868)  loss_objectness: 0.1210 (0.1265)  loss_rpn_box_reg: 0.0858 (0.0864)  time: 0.2258  data: 0.0038  max mem: 576\n",
      "Epoch: [37]  [179/180]  eta: 0:00:00  lr: 0.000684  loss: 0.5024 (0.5229)  loss_classifier: 0.1200 (0.1168)  loss_box_reg: 0.1785 (0.1893)  loss_objectness: 0.1153 (0.1272)  loss_rpn_box_reg: 0.0776 (0.0896)  time: 0.2274  data: 0.0039  max mem: 576\n",
      "Epoch: [37] Total time: 0:00:41 (0.2287 s / it)\n"
     ]
    },
    {
     "name": "stdout",
     "output_type": "stream",
     "text": [
      "creating index...\n",
      "index created!\n"
     ]
    },
    {
     "name": "stderr",
     "output_type": "stream",
     "text": [
      "Test:  [ 0/39]  eta: 0:00:18  model_time: 0.1355 (0.1355)  evaluator_time: 0.0138 (0.0138)  time: 0.4797  data: 0.3142  max mem: 576\n",
      "Test:  [38/39]  eta: 0:00:00  model_time: 0.1339 (0.1326)  evaluator_time: 0.0230 (0.0322)  time: 0.1712  data: 0.0033  max mem: 576\n",
      "Test: Total time: 0:00:07 (0.1814 s / it)\n"
     ]
    },
    {
     "name": "stdout",
     "output_type": "stream",
     "text": [
      "Averaged stats: model_time: 0.1339 (0.1326)  evaluator_time: 0.0230 (0.0322)\n",
      "Accumulating evaluation results...\n",
      "DONE (t=0.10s).\n",
      "IoU metric: bbox\n",
      " Average Precision  (AP) @[ IoU=0.50:0.95 | area=   all | maxDets=100 ] = 0.117\n",
      " Average Precision  (AP) @[ IoU=0.50      | area=   all | maxDets=100 ] = 0.351\n",
      " Average Precision  (AP) @[ IoU=0.75      | area=   all | maxDets=100 ] = 0.046\n",
      " Average Precision  (AP) @[ IoU=0.50:0.95 | area= small | maxDets=100 ] = 0.102\n",
      " Average Precision  (AP) @[ IoU=0.50:0.95 | area=medium | maxDets=100 ] = 0.170\n",
      " Average Precision  (AP) @[ IoU=0.50:0.95 | area= large | maxDets=100 ] = 0.215\n",
      " Average Recall     (AR) @[ IoU=0.50:0.95 | area=   all | maxDets=  1 ] = 0.064\n",
      " Average Recall     (AR) @[ IoU=0.50:0.95 | area=   all | maxDets= 10 ] = 0.216\n",
      " Average Recall     (AR) @[ IoU=0.50:0.95 | area=   all | maxDets=100 ] = 0.310\n",
      " Average Recall     (AR) @[ IoU=0.50:0.95 | area= small | maxDets=100 ] = 0.280\n",
      " Average Recall     (AR) @[ IoU=0.50:0.95 | area=medium | maxDets=100 ] = 0.398\n",
      " Average Recall     (AR) @[ IoU=0.50:0.95 | area= large | maxDets=100 ] = 0.568\n",
      "0.11654758619422571 0.3511569163809158\n",
      "SAVING PLOTS COMPLETE...\n",
      "SAVING PLOTS COMPLETE...\n",
      "SAVING PLOTS COMPLETE...\n",
      "SAVING PLOTS COMPLETE...\n",
      "SAVING PLOTS COMPLETE...\n",
      "SAVING PLOTS COMPLETE...\n"
     ]
    },
    {
     "name": "stderr",
     "output_type": "stream",
     "text": [
      "Epoch: [38]  [  0/180]  eta: 0:01:41  lr: 0.000684  loss: 0.5442 (0.5442)  loss_classifier: 0.1239 (0.1239)  loss_box_reg: 0.1976 (0.1976)  loss_objectness: 0.1415 (0.1415)  loss_rpn_box_reg: 0.0813 (0.0813)  time: 0.5616  data: 0.3199  max mem: 576\n",
      "Epoch: [38]  [100/180]  eta: 0:00:18  lr: 0.000676  loss: 0.5065 (0.5255)  loss_classifier: 0.1070 (0.1166)  loss_box_reg: 0.1945 (0.1928)  loss_objectness: 0.1147 (0.1256)  loss_rpn_box_reg: 0.0992 (0.0905)  time: 0.2280  data: 0.0041  max mem: 576\n",
      "Epoch: [38]  [179/180]  eta: 0:00:00  lr: 0.000669  loss: 0.4199 (0.5229)  loss_classifier: 0.1057 (0.1165)  loss_box_reg: 0.1731 (0.1914)  loss_objectness: 0.1050 (0.1260)  loss_rpn_box_reg: 0.0595 (0.0890)  time: 0.2199  data: 0.0035  max mem: 576\n",
      "Epoch: [38] Total time: 0:00:41 (0.2282 s / it)\n"
     ]
    },
    {
     "name": "stdout",
     "output_type": "stream",
     "text": [
      "creating index...\n",
      "index created!\n"
     ]
    },
    {
     "name": "stderr",
     "output_type": "stream",
     "text": [
      "Test:  [ 0/39]  eta: 0:00:18  model_time: 0.1345 (0.1345)  evaluator_time: 0.0148 (0.0148)  time: 0.4864  data: 0.3212  max mem: 576\n",
      "Test:  [38/39]  eta: 0:00:00  model_time: 0.1331 (0.1473)  evaluator_time: 0.0231 (0.0387)  time: 0.1982  data: 0.0033  max mem: 576\n",
      "Test: Total time: 0:00:07 (0.2028 s / it)\n"
     ]
    },
    {
     "name": "stdout",
     "output_type": "stream",
     "text": [
      "Averaged stats: model_time: 0.1331 (0.1473)  evaluator_time: 0.0231 (0.0387)\n",
      "Accumulating evaluation results...\n",
      "DONE (t=0.11s).\n",
      "IoU metric: bbox\n",
      " Average Precision  (AP) @[ IoU=0.50:0.95 | area=   all | maxDets=100 ] = 0.120\n",
      " Average Precision  (AP) @[ IoU=0.50      | area=   all | maxDets=100 ] = 0.357\n",
      " Average Precision  (AP) @[ IoU=0.75      | area=   all | maxDets=100 ] = 0.050\n",
      " Average Precision  (AP) @[ IoU=0.50:0.95 | area= small | maxDets=100 ] = 0.104\n",
      " Average Precision  (AP) @[ IoU=0.50:0.95 | area=medium | maxDets=100 ] = 0.173\n",
      " Average Precision  (AP) @[ IoU=0.50:0.95 | area= large | maxDets=100 ] = 0.205\n",
      " Average Recall     (AR) @[ IoU=0.50:0.95 | area=   all | maxDets=  1 ] = 0.068\n",
      " Average Recall     (AR) @[ IoU=0.50:0.95 | area=   all | maxDets= 10 ] = 0.217\n",
      " Average Recall     (AR) @[ IoU=0.50:0.95 | area=   all | maxDets=100 ] = 0.313\n",
      " Average Recall     (AR) @[ IoU=0.50:0.95 | area= small | maxDets=100 ] = 0.283\n",
      " Average Recall     (AR) @[ IoU=0.50:0.95 | area=medium | maxDets=100 ] = 0.402\n",
      " Average Recall     (AR) @[ IoU=0.50:0.95 | area= large | maxDets=100 ] = 0.511\n",
      "0.1202822792225091 0.3566685858774292\n",
      "SAVING PLOTS COMPLETE...\n",
      "SAVING PLOTS COMPLETE...\n",
      "SAVING PLOTS COMPLETE...\n",
      "SAVING PLOTS COMPLETE...\n",
      "SAVING PLOTS COMPLETE...\n",
      "SAVING PLOTS COMPLETE...\n"
     ]
    },
    {
     "name": "stderr",
     "output_type": "stream",
     "text": [
      "Epoch: [39]  [  0/180]  eta: 0:01:39  lr: 0.000669  loss: 0.6111 (0.6111)  loss_classifier: 0.1502 (0.1502)  loss_box_reg: 0.2566 (0.2566)  loss_objectness: 0.1333 (0.1333)  loss_rpn_box_reg: 0.0712 (0.0712)  time: 0.5523  data: 0.3170  max mem: 576\n",
      "Epoch: [39]  [100/180]  eta: 0:00:18  lr: 0.000661  loss: 0.4848 (0.4988)  loss_classifier: 0.1077 (0.1115)  loss_box_reg: 0.1796 (0.1817)  loss_objectness: 0.1117 (0.1211)  loss_rpn_box_reg: 0.0796 (0.0845)  time: 0.2254  data: 0.0037  max mem: 576\n",
      "Epoch: [39]  [179/180]  eta: 0:00:00  lr: 0.000655  loss: 0.5442 (0.5192)  loss_classifier: 0.1175 (0.1161)  loss_box_reg: 0.1958 (0.1896)  loss_objectness: 0.1304 (0.1257)  loss_rpn_box_reg: 0.0970 (0.0879)  time: 0.2245  data: 0.0037  max mem: 576\n",
      "Epoch: [39] Total time: 0:00:41 (0.2284 s / it)\n"
     ]
    },
    {
     "name": "stdout",
     "output_type": "stream",
     "text": [
      "creating index...\n",
      "index created!\n"
     ]
    },
    {
     "name": "stderr",
     "output_type": "stream",
     "text": [
      "Test:  [ 0/39]  eta: 0:00:18  model_time: 0.1366 (0.1366)  evaluator_time: 0.0135 (0.0135)  time: 0.4835  data: 0.3179  max mem: 576\n",
      "Test:  [38/39]  eta: 0:00:00  model_time: 0.1416 (0.1417)  evaluator_time: 0.0210 (0.0306)  time: 0.1791  data: 0.0033  max mem: 576\n",
      "Test: Total time: 0:00:07 (0.1892 s / it)\n"
     ]
    },
    {
     "name": "stdout",
     "output_type": "stream",
     "text": [
      "Averaged stats: model_time: 0.1416 (0.1417)  evaluator_time: 0.0210 (0.0306)\n",
      "Accumulating evaluation results...\n",
      "DONE (t=0.10s).\n",
      "IoU metric: bbox\n",
      " Average Precision  (AP) @[ IoU=0.50:0.95 | area=   all | maxDets=100 ] = 0.122\n",
      " Average Precision  (AP) @[ IoU=0.50      | area=   all | maxDets=100 ] = 0.363\n",
      " Average Precision  (AP) @[ IoU=0.75      | area=   all | maxDets=100 ] = 0.053\n",
      " Average Precision  (AP) @[ IoU=0.50:0.95 | area= small | maxDets=100 ] = 0.110\n",
      " Average Precision  (AP) @[ IoU=0.50:0.95 | area=medium | maxDets=100 ] = 0.168\n",
      " Average Precision  (AP) @[ IoU=0.50:0.95 | area= large | maxDets=100 ] = 0.229\n",
      " Average Recall     (AR) @[ IoU=0.50:0.95 | area=   all | maxDets=  1 ] = 0.070\n",
      " Average Recall     (AR) @[ IoU=0.50:0.95 | area=   all | maxDets= 10 ] = 0.220\n",
      " Average Recall     (AR) @[ IoU=0.50:0.95 | area=   all | maxDets=100 ] = 0.313\n",
      " Average Recall     (AR) @[ IoU=0.50:0.95 | area= small | maxDets=100 ] = 0.285\n",
      " Average Recall     (AR) @[ IoU=0.50:0.95 | area=medium | maxDets=100 ] = 0.393\n",
      " Average Recall     (AR) @[ IoU=0.50:0.95 | area= large | maxDets=100 ] = 0.521\n",
      "0.12195448541889936 0.362675882661498\n",
      "SAVING PLOTS COMPLETE...\n",
      "SAVING PLOTS COMPLETE...\n",
      "SAVING PLOTS COMPLETE...\n",
      "SAVING PLOTS COMPLETE...\n",
      "SAVING PLOTS COMPLETE...\n",
      "SAVING PLOTS COMPLETE...\n"
     ]
    },
    {
     "name": "stderr",
     "output_type": "stream",
     "text": [
      "Epoch: [40]  [  0/180]  eta: 0:01:39  lr: 0.000655  loss: 0.5709 (0.5709)  loss_classifier: 0.1218 (0.1218)  loss_box_reg: 0.1969 (0.1969)  loss_objectness: 0.1431 (0.1431)  loss_rpn_box_reg: 0.1091 (0.1091)  time: 0.5522  data: 0.3193  max mem: 576\n",
      "Epoch: [40]  [100/180]  eta: 0:00:18  lr: 0.000646  loss: 0.4472 (0.5117)  loss_classifier: 0.1044 (0.1145)  loss_box_reg: 0.1635 (0.1885)  loss_objectness: 0.1063 (0.1210)  loss_rpn_box_reg: 0.0575 (0.0876)  time: 0.2237  data: 0.0036  max mem: 576\n",
      "Epoch: [40]  [179/180]  eta: 0:00:00  lr: 0.000640  loss: 0.4815 (0.5175)  loss_classifier: 0.1093 (0.1161)  loss_box_reg: 0.1783 (0.1895)  loss_objectness: 0.1149 (0.1236)  loss_rpn_box_reg: 0.0778 (0.0882)  time: 0.2218  data: 0.0037  max mem: 576\n",
      "Epoch: [40] Total time: 0:00:41 (0.2290 s / it)\n"
     ]
    },
    {
     "name": "stdout",
     "output_type": "stream",
     "text": [
      "creating index...\n",
      "index created!\n"
     ]
    },
    {
     "name": "stderr",
     "output_type": "stream",
     "text": [
      "Test:  [ 0/39]  eta: 0:00:18  model_time: 0.1298 (0.1298)  evaluator_time: 0.0142 (0.0142)  time: 0.4780  data: 0.3178  max mem: 576\n",
      "Test:  [38/39]  eta: 0:00:00  model_time: 0.1329 (0.1527)  evaluator_time: 0.0237 (0.0328)  time: 0.1867  data: 0.0032  max mem: 576\n",
      "Test: Total time: 0:00:07 (0.2020 s / it)\n"
     ]
    },
    {
     "name": "stdout",
     "output_type": "stream",
     "text": [
      "Averaged stats: model_time: 0.1329 (0.1527)  evaluator_time: 0.0237 (0.0328)\n",
      "Accumulating evaluation results...\n",
      "DONE (t=0.11s).\n",
      "IoU metric: bbox\n",
      " Average Precision  (AP) @[ IoU=0.50:0.95 | area=   all | maxDets=100 ] = 0.122\n",
      " Average Precision  (AP) @[ IoU=0.50      | area=   all | maxDets=100 ] = 0.356\n",
      " Average Precision  (AP) @[ IoU=0.75      | area=   all | maxDets=100 ] = 0.051\n",
      " Average Precision  (AP) @[ IoU=0.50:0.95 | area= small | maxDets=100 ] = 0.103\n",
      " Average Precision  (AP) @[ IoU=0.50:0.95 | area=medium | maxDets=100 ] = 0.180\n",
      " Average Precision  (AP) @[ IoU=0.50:0.95 | area= large | maxDets=100 ] = 0.200\n",
      " Average Recall     (AR) @[ IoU=0.50:0.95 | area=   all | maxDets=  1 ] = 0.062\n",
      " Average Recall     (AR) @[ IoU=0.50:0.95 | area=   all | maxDets= 10 ] = 0.217\n",
      " Average Recall     (AR) @[ IoU=0.50:0.95 | area=   all | maxDets=100 ] = 0.315\n",
      " Average Recall     (AR) @[ IoU=0.50:0.95 | area= small | maxDets=100 ] = 0.287\n",
      " Average Recall     (AR) @[ IoU=0.50:0.95 | area=medium | maxDets=100 ] = 0.398\n",
      " Average Recall     (AR) @[ IoU=0.50:0.95 | area= large | maxDets=100 ] = 0.500\n",
      "0.12166270363288592 0.3556079240738804\n",
      "SAVING PLOTS COMPLETE...\n",
      "SAVING PLOTS COMPLETE...\n",
      "SAVING PLOTS COMPLETE...\n",
      "SAVING PLOTS COMPLETE...\n",
      "SAVING PLOTS COMPLETE...\n",
      "SAVING PLOTS COMPLETE...\n"
     ]
    },
    {
     "name": "stderr",
     "output_type": "stream",
     "text": [
      "Epoch: [41]  [  0/180]  eta: 0:01:40  lr: 0.000639  loss: 0.6049 (0.6049)  loss_classifier: 0.1310 (0.1310)  loss_box_reg: 0.2246 (0.2246)  loss_objectness: 0.1670 (0.1670)  loss_rpn_box_reg: 0.0823 (0.0823)  time: 0.5578  data: 0.3202  max mem: 576\n",
      "Epoch: [41]  [100/180]  eta: 0:00:18  lr: 0.000631  loss: 0.4825 (0.5023)  loss_classifier: 0.1119 (0.1131)  loss_box_reg: 0.1629 (0.1847)  loss_objectness: 0.1141 (0.1195)  loss_rpn_box_reg: 0.0742 (0.0850)  time: 0.2238  data: 0.0037  max mem: 576\n",
      "Epoch: [41]  [179/180]  eta: 0:00:00  lr: 0.000624  loss: 0.5286 (0.5168)  loss_classifier: 0.1192 (0.1154)  loss_box_reg: 0.1884 (0.1896)  loss_objectness: 0.1346 (0.1234)  loss_rpn_box_reg: 0.0961 (0.0884)  time: 0.2243  data: 0.0037  max mem: 576\n",
      "Epoch: [41] Total time: 0:00:40 (0.2262 s / it)\n"
     ]
    },
    {
     "name": "stdout",
     "output_type": "stream",
     "text": [
      "creating index...\n",
      "index created!\n"
     ]
    },
    {
     "name": "stderr",
     "output_type": "stream",
     "text": [
      "Test:  [ 0/39]  eta: 0:00:18  model_time: 0.1389 (0.1389)  evaluator_time: 0.0151 (0.0151)  time: 0.4838  data: 0.3140  max mem: 576\n",
      "Test:  [38/39]  eta: 0:00:00  model_time: 0.1329 (0.1514)  evaluator_time: 0.0245 (0.0392)  time: 0.2047  data: 0.0032  max mem: 576\n",
      "Test: Total time: 0:00:08 (0.2071 s / it)\n"
     ]
    },
    {
     "name": "stdout",
     "output_type": "stream",
     "text": [
      "Averaged stats: model_time: 0.1329 (0.1514)  evaluator_time: 0.0245 (0.0392)\n",
      "Accumulating evaluation results...\n",
      "DONE (t=0.10s).\n",
      "IoU metric: bbox\n",
      " Average Precision  (AP) @[ IoU=0.50:0.95 | area=   all | maxDets=100 ] = 0.123\n",
      " Average Precision  (AP) @[ IoU=0.50      | area=   all | maxDets=100 ] = 0.356\n",
      " Average Precision  (AP) @[ IoU=0.75      | area=   all | maxDets=100 ] = 0.051\n",
      " Average Precision  (AP) @[ IoU=0.50:0.95 | area= small | maxDets=100 ] = 0.101\n",
      " Average Precision  (AP) @[ IoU=0.50:0.95 | area=medium | maxDets=100 ] = 0.187\n",
      " Average Precision  (AP) @[ IoU=0.50:0.95 | area= large | maxDets=100 ] = 0.196\n",
      " Average Recall     (AR) @[ IoU=0.50:0.95 | area=   all | maxDets=  1 ] = 0.067\n",
      " Average Recall     (AR) @[ IoU=0.50:0.95 | area=   all | maxDets= 10 ] = 0.214\n",
      " Average Recall     (AR) @[ IoU=0.50:0.95 | area=   all | maxDets=100 ] = 0.311\n",
      " Average Recall     (AR) @[ IoU=0.50:0.95 | area= small | maxDets=100 ] = 0.280\n",
      " Average Recall     (AR) @[ IoU=0.50:0.95 | area=medium | maxDets=100 ] = 0.406\n",
      " Average Recall     (AR) @[ IoU=0.50:0.95 | area= large | maxDets=100 ] = 0.463\n",
      "0.1225053599852926 0.35562727472287725\n",
      "SAVING PLOTS COMPLETE...\n",
      "SAVING PLOTS COMPLETE...\n",
      "SAVING PLOTS COMPLETE...\n",
      "SAVING PLOTS COMPLETE...\n",
      "SAVING PLOTS COMPLETE...\n",
      "SAVING PLOTS COMPLETE...\n"
     ]
    },
    {
     "name": "stderr",
     "output_type": "stream",
     "text": [
      "Epoch: [42]  [  0/180]  eta: 0:01:38  lr: 0.000624  loss: 0.7414 (0.7414)  loss_classifier: 0.1580 (0.1580)  loss_box_reg: 0.2791 (0.2791)  loss_objectness: 0.1824 (0.1824)  loss_rpn_box_reg: 0.1220 (0.1220)  time: 0.5464  data: 0.3153  max mem: 576\n",
      "Epoch: [42]  [100/180]  eta: 0:00:18  lr: 0.000616  loss: 0.5098 (0.5175)  loss_classifier: 0.1182 (0.1155)  loss_box_reg: 0.1834 (0.1919)  loss_objectness: 0.1283 (0.1225)  loss_rpn_box_reg: 0.0820 (0.0876)  time: 0.2254  data: 0.0036  max mem: 576\n",
      "Epoch: [42]  [179/180]  eta: 0:00:00  lr: 0.000609  loss: 0.5311 (0.5119)  loss_classifier: 0.1171 (0.1143)  loss_box_reg: 0.1902 (0.1891)  loss_objectness: 0.1265 (0.1212)  loss_rpn_box_reg: 0.0952 (0.0873)  time: 0.2338  data: 0.0038  max mem: 576\n",
      "Epoch: [42] Total time: 0:00:41 (0.2282 s / it)\n"
     ]
    },
    {
     "name": "stdout",
     "output_type": "stream",
     "text": [
      "creating index...\n",
      "index created!\n"
     ]
    },
    {
     "name": "stderr",
     "output_type": "stream",
     "text": [
      "Test:  [ 0/39]  eta: 0:00:18  model_time: 0.1340 (0.1340)  evaluator_time: 0.0137 (0.0137)  time: 0.4793  data: 0.3164  max mem: 576\n",
      "Test:  [38/39]  eta: 0:00:00  model_time: 0.1415 (0.1438)  evaluator_time: 0.0247 (0.0333)  time: 0.1958  data: 0.0032  max mem: 576\n",
      "Test: Total time: 0:00:07 (0.1936 s / it)\n"
     ]
    },
    {
     "name": "stdout",
     "output_type": "stream",
     "text": [
      "Averaged stats: model_time: 0.1415 (0.1438)  evaluator_time: 0.0247 (0.0333)\n",
      "Accumulating evaluation results...\n",
      "DONE (t=0.12s).\n",
      "IoU metric: bbox\n",
      " Average Precision  (AP) @[ IoU=0.50:0.95 | area=   all | maxDets=100 ] = 0.121\n",
      " Average Precision  (AP) @[ IoU=0.50      | area=   all | maxDets=100 ] = 0.363\n",
      " Average Precision  (AP) @[ IoU=0.75      | area=   all | maxDets=100 ] = 0.045\n",
      " Average Precision  (AP) @[ IoU=0.50:0.95 | area= small | maxDets=100 ] = 0.102\n",
      " Average Precision  (AP) @[ IoU=0.50:0.95 | area=medium | maxDets=100 ] = 0.180\n",
      " Average Precision  (AP) @[ IoU=0.50:0.95 | area= large | maxDets=100 ] = 0.221\n",
      " Average Recall     (AR) @[ IoU=0.50:0.95 | area=   all | maxDets=  1 ] = 0.065\n",
      " Average Recall     (AR) @[ IoU=0.50:0.95 | area=   all | maxDets= 10 ] = 0.219\n",
      " Average Recall     (AR) @[ IoU=0.50:0.95 | area=   all | maxDets=100 ] = 0.320\n",
      " Average Recall     (AR) @[ IoU=0.50:0.95 | area= small | maxDets=100 ] = 0.291\n",
      " Average Recall     (AR) @[ IoU=0.50:0.95 | area=medium | maxDets=100 ] = 0.404\n",
      " Average Recall     (AR) @[ IoU=0.50:0.95 | area= large | maxDets=100 ] = 0.532\n",
      "0.12089728499638969 0.36326706954081195\n",
      "SAVING PLOTS COMPLETE...\n",
      "SAVING PLOTS COMPLETE...\n",
      "SAVING PLOTS COMPLETE...\n",
      "SAVING PLOTS COMPLETE...\n",
      "SAVING PLOTS COMPLETE...\n",
      "SAVING PLOTS COMPLETE...\n"
     ]
    },
    {
     "name": "stderr",
     "output_type": "stream",
     "text": [
      "Epoch: [43]  [  0/180]  eta: 0:01:40  lr: 0.000609  loss: 0.5687 (0.5687)  loss_classifier: 0.1247 (0.1247)  loss_box_reg: 0.2259 (0.2259)  loss_objectness: 0.1101 (0.1101)  loss_rpn_box_reg: 0.1081 (0.1081)  time: 0.5579  data: 0.3227  max mem: 576\n",
      "Epoch: [43]  [100/180]  eta: 0:00:18  lr: 0.000601  loss: 0.5210 (0.5157)  loss_classifier: 0.1260 (0.1161)  loss_box_reg: 0.1990 (0.1911)  loss_objectness: 0.1134 (0.1207)  loss_rpn_box_reg: 0.0938 (0.0878)  time: 0.2230  data: 0.0037  max mem: 576\n",
      "Epoch: [43]  [179/180]  eta: 0:00:00  lr: 0.000594  loss: 0.4899 (0.5126)  loss_classifier: 0.1045 (0.1154)  loss_box_reg: 0.1705 (0.1887)  loss_objectness: 0.1170 (0.1216)  loss_rpn_box_reg: 0.0791 (0.0869)  time: 0.2224  data: 0.0038  max mem: 576\n",
      "Epoch: [43] Total time: 0:00:40 (0.2262 s / it)\n"
     ]
    },
    {
     "name": "stdout",
     "output_type": "stream",
     "text": [
      "creating index...\n",
      "index created!\n"
     ]
    },
    {
     "name": "stderr",
     "output_type": "stream",
     "text": [
      "Test:  [ 0/39]  eta: 0:00:18  model_time: 0.1365 (0.1365)  evaluator_time: 0.0120 (0.0120)  time: 0.4853  data: 0.3214  max mem: 576\n",
      "Test:  [38/39]  eta: 0:00:00  model_time: 0.1323 (0.1565)  evaluator_time: 0.0204 (0.0305)  time: 0.1994  data: 0.0032  max mem: 576\n",
      "Test: Total time: 0:00:07 (0.2034 s / it)\n"
     ]
    },
    {
     "name": "stdout",
     "output_type": "stream",
     "text": [
      "Averaged stats: model_time: 0.1323 (0.1565)  evaluator_time: 0.0204 (0.0305)\n",
      "Accumulating evaluation results...\n",
      "DONE (t=0.11s).\n",
      "IoU metric: bbox\n",
      " Average Precision  (AP) @[ IoU=0.50:0.95 | area=   all | maxDets=100 ] = 0.119\n",
      " Average Precision  (AP) @[ IoU=0.50      | area=   all | maxDets=100 ] = 0.351\n",
      " Average Precision  (AP) @[ IoU=0.75      | area=   all | maxDets=100 ] = 0.047\n",
      " Average Precision  (AP) @[ IoU=0.50:0.95 | area= small | maxDets=100 ] = 0.101\n",
      " Average Precision  (AP) @[ IoU=0.50:0.95 | area=medium | maxDets=100 ] = 0.178\n",
      " Average Precision  (AP) @[ IoU=0.50:0.95 | area= large | maxDets=100 ] = 0.198\n",
      " Average Recall     (AR) @[ IoU=0.50:0.95 | area=   all | maxDets=  1 ] = 0.063\n",
      " Average Recall     (AR) @[ IoU=0.50:0.95 | area=   all | maxDets= 10 ] = 0.210\n",
      " Average Recall     (AR) @[ IoU=0.50:0.95 | area=   all | maxDets=100 ] = 0.310\n",
      " Average Recall     (AR) @[ IoU=0.50:0.95 | area= small | maxDets=100 ] = 0.279\n",
      " Average Recall     (AR) @[ IoU=0.50:0.95 | area=medium | maxDets=100 ] = 0.404\n",
      " Average Recall     (AR) @[ IoU=0.50:0.95 | area= large | maxDets=100 ] = 0.495\n",
      "0.11930416208976279 0.3509939073221715\n",
      "SAVING PLOTS COMPLETE...\n",
      "SAVING PLOTS COMPLETE...\n",
      "SAVING PLOTS COMPLETE...\n",
      "SAVING PLOTS COMPLETE...\n",
      "SAVING PLOTS COMPLETE...\n",
      "SAVING PLOTS COMPLETE...\n"
     ]
    },
    {
     "name": "stderr",
     "output_type": "stream",
     "text": [
      "Epoch: [44]  [  0/180]  eta: 0:01:41  lr: 0.000594  loss: 0.6181 (0.6181)  loss_classifier: 0.1294 (0.1294)  loss_box_reg: 0.2511 (0.2511)  loss_objectness: 0.1576 (0.1576)  loss_rpn_box_reg: 0.0801 (0.0801)  time: 0.5639  data: 0.3268  max mem: 576\n",
      "Epoch: [44]  [100/180]  eta: 0:00:18  lr: 0.000585  loss: 0.5127 (0.5138)  loss_classifier: 0.1107 (0.1142)  loss_box_reg: 0.1718 (0.1867)  loss_objectness: 0.1250 (0.1222)  loss_rpn_box_reg: 0.0830 (0.0906)  time: 0.2256  data: 0.0037  max mem: 576\n",
      "Epoch: [44]  [179/180]  eta: 0:00:00  lr: 0.000578  loss: 0.5394 (0.5105)  loss_classifier: 0.1165 (0.1139)  loss_box_reg: 0.1995 (0.1883)  loss_objectness: 0.1234 (0.1212)  loss_rpn_box_reg: 0.0769 (0.0872)  time: 0.2278  data: 0.0038  max mem: 576\n",
      "Epoch: [44] Total time: 0:00:41 (0.2280 s / it)\n"
     ]
    },
    {
     "name": "stdout",
     "output_type": "stream",
     "text": [
      "creating index...\n",
      "index created!\n"
     ]
    },
    {
     "name": "stderr",
     "output_type": "stream",
     "text": [
      "Test:  [ 0/39]  eta: 0:00:18  model_time: 0.1337 (0.1337)  evaluator_time: 0.0141 (0.0141)  time: 0.4860  data: 0.3225  max mem: 576\n",
      "Test:  [38/39]  eta: 0:00:00  model_time: 0.1352 (0.1383)  evaluator_time: 0.0249 (0.0341)  time: 0.1787  data: 0.0032  max mem: 576\n",
      "Test: Total time: 0:00:07 (0.1891 s / it)\n"
     ]
    },
    {
     "name": "stdout",
     "output_type": "stream",
     "text": [
      "Averaged stats: model_time: 0.1352 (0.1383)  evaluator_time: 0.0249 (0.0341)\n",
      "Accumulating evaluation results...\n",
      "DONE (t=0.11s).\n",
      "IoU metric: bbox\n",
      " Average Precision  (AP) @[ IoU=0.50:0.95 | area=   all | maxDets=100 ] = 0.129\n",
      " Average Precision  (AP) @[ IoU=0.50      | area=   all | maxDets=100 ] = 0.373\n",
      " Average Precision  (AP) @[ IoU=0.75      | area=   all | maxDets=100 ] = 0.055\n",
      " Average Precision  (AP) @[ IoU=0.50:0.95 | area= small | maxDets=100 ] = 0.110\n",
      " Average Precision  (AP) @[ IoU=0.50:0.95 | area=medium | maxDets=100 ] = 0.186\n",
      " Average Precision  (AP) @[ IoU=0.50:0.95 | area= large | maxDets=100 ] = 0.198\n",
      " Average Recall     (AR) @[ IoU=0.50:0.95 | area=   all | maxDets=  1 ] = 0.066\n",
      " Average Recall     (AR) @[ IoU=0.50:0.95 | area=   all | maxDets= 10 ] = 0.223\n",
      " Average Recall     (AR) @[ IoU=0.50:0.95 | area=   all | maxDets=100 ] = 0.328\n",
      " Average Recall     (AR) @[ IoU=0.50:0.95 | area= small | maxDets=100 ] = 0.300\n",
      " Average Recall     (AR) @[ IoU=0.50:0.95 | area=medium | maxDets=100 ] = 0.412\n",
      " Average Recall     (AR) @[ IoU=0.50:0.95 | area= large | maxDets=100 ] = 0.542\n",
      "0.12854553420816145 0.3732953573747463\n",
      "SAVING PLOTS COMPLETE...\n",
      "SAVING PLOTS COMPLETE...\n",
      "SAVING PLOTS COMPLETE...\n",
      "SAVING PLOTS COMPLETE...\n",
      "SAVING PLOTS COMPLETE...\n",
      "SAVING PLOTS COMPLETE...\n"
     ]
    },
    {
     "name": "stderr",
     "output_type": "stream",
     "text": [
      "Epoch: [45]  [  0/180]  eta: 0:01:39  lr: 0.000578  loss: 0.4852 (0.4852)  loss_classifier: 0.1139 (0.1139)  loss_box_reg: 0.1669 (0.1669)  loss_objectness: 0.1260 (0.1260)  loss_rpn_box_reg: 0.0784 (0.0784)  time: 0.5540  data: 0.3202  max mem: 576\n",
      "Epoch: [45]  [100/180]  eta: 0:00:18  lr: 0.000570  loss: 0.5135 (0.5046)  loss_classifier: 0.1110 (0.1135)  loss_box_reg: 0.1712 (0.1867)  loss_objectness: 0.1150 (0.1195)  loss_rpn_box_reg: 0.0707 (0.0849)  time: 0.2187  data: 0.0037  max mem: 576\n",
      "Epoch: [45]  [179/180]  eta: 0:00:00  lr: 0.000563  loss: 0.5094 (0.5089)  loss_classifier: 0.1112 (0.1143)  loss_box_reg: 0.1885 (0.1896)  loss_objectness: 0.1186 (0.1188)  loss_rpn_box_reg: 0.0863 (0.0863)  time: 0.2227  data: 0.0036  max mem: 576\n",
      "Epoch: [45] Total time: 0:00:40 (0.2248 s / it)\n"
     ]
    },
    {
     "name": "stdout",
     "output_type": "stream",
     "text": [
      "creating index...\n",
      "index created!\n"
     ]
    },
    {
     "name": "stderr",
     "output_type": "stream",
     "text": [
      "Test:  [ 0/39]  eta: 0:00:18  model_time: 0.1353 (0.1353)  evaluator_time: 0.0146 (0.0146)  time: 0.4778  data: 0.3115  max mem: 576\n",
      "Test:  [38/39]  eta: 0:00:00  model_time: 0.1357 (0.1501)  evaluator_time: 0.0222 (0.0323)  time: 0.2009  data: 0.0032  max mem: 576\n",
      "Test: Total time: 0:00:07 (0.1996 s / it)\n"
     ]
    },
    {
     "name": "stdout",
     "output_type": "stream",
     "text": [
      "Averaged stats: model_time: 0.1357 (0.1501)  evaluator_time: 0.0222 (0.0323)\n",
      "Accumulating evaluation results...\n",
      "DONE (t=0.10s).\n",
      "IoU metric: bbox\n",
      " Average Precision  (AP) @[ IoU=0.50:0.95 | area=   all | maxDets=100 ] = 0.121\n",
      " Average Precision  (AP) @[ IoU=0.50      | area=   all | maxDets=100 ] = 0.361\n",
      " Average Precision  (AP) @[ IoU=0.75      | area=   all | maxDets=100 ] = 0.047\n",
      " Average Precision  (AP) @[ IoU=0.50:0.95 | area= small | maxDets=100 ] = 0.105\n",
      " Average Precision  (AP) @[ IoU=0.50:0.95 | area=medium | maxDets=100 ] = 0.172\n",
      " Average Precision  (AP) @[ IoU=0.50:0.95 | area= large | maxDets=100 ] = 0.253\n",
      " Average Recall     (AR) @[ IoU=0.50:0.95 | area=   all | maxDets=  1 ] = 0.068\n",
      " Average Recall     (AR) @[ IoU=0.50:0.95 | area=   all | maxDets= 10 ] = 0.218\n",
      " Average Recall     (AR) @[ IoU=0.50:0.95 | area=   all | maxDets=100 ] = 0.316\n",
      " Average Recall     (AR) @[ IoU=0.50:0.95 | area= small | maxDets=100 ] = 0.289\n",
      " Average Recall     (AR) @[ IoU=0.50:0.95 | area=medium | maxDets=100 ] = 0.395\n",
      " Average Recall     (AR) @[ IoU=0.50:0.95 | area= large | maxDets=100 ] = 0.521\n",
      "0.1214885186562499 0.3607066361945002\n",
      "SAVING PLOTS COMPLETE...\n",
      "SAVING PLOTS COMPLETE...\n",
      "SAVING PLOTS COMPLETE...\n",
      "SAVING PLOTS COMPLETE...\n",
      "SAVING PLOTS COMPLETE...\n",
      "SAVING PLOTS COMPLETE...\n"
     ]
    },
    {
     "name": "stderr",
     "output_type": "stream",
     "text": [
      "Epoch: [46]  [  0/180]  eta: 0:01:40  lr: 0.000563  loss: 0.5907 (0.5907)  loss_classifier: 0.1084 (0.1084)  loss_box_reg: 0.2134 (0.2134)  loss_objectness: 0.1526 (0.1526)  loss_rpn_box_reg: 0.1163 (0.1163)  time: 0.5572  data: 0.3286  max mem: 576\n",
      "Epoch: [46]  [100/180]  eta: 0:00:18  lr: 0.000554  loss: 0.4584 (0.5072)  loss_classifier: 0.1104 (0.1151)  loss_box_reg: 0.1637 (0.1874)  loss_objectness: 0.1079 (0.1193)  loss_rpn_box_reg: 0.0798 (0.0854)  time: 0.2232  data: 0.0038  max mem: 576\n",
      "Epoch: [46]  [179/180]  eta: 0:00:00  lr: 0.000547  loss: 0.4828 (0.5066)  loss_classifier: 0.1141 (0.1142)  loss_box_reg: 0.2101 (0.1877)  loss_objectness: 0.1064 (0.1187)  loss_rpn_box_reg: 0.0723 (0.0861)  time: 0.2208  data: 0.0037  max mem: 576\n",
      "Epoch: [46] Total time: 0:00:40 (0.2243 s / it)\n"
     ]
    },
    {
     "name": "stdout",
     "output_type": "stream",
     "text": [
      "creating index...\n",
      "index created!\n"
     ]
    },
    {
     "name": "stderr",
     "output_type": "stream",
     "text": [
      "Test:  [ 0/39]  eta: 0:00:18  model_time: 0.1378 (0.1378)  evaluator_time: 0.0132 (0.0132)  time: 0.4842  data: 0.3175  max mem: 576\n",
      "Test:  [38/39]  eta: 0:00:00  model_time: 0.1288 (0.1396)  evaluator_time: 0.0216 (0.0325)  time: 0.1848  data: 0.0032  max mem: 576\n",
      "Test: Total time: 0:00:07 (0.1888 s / it)\n"
     ]
    },
    {
     "name": "stdout",
     "output_type": "stream",
     "text": [
      "Averaged stats: model_time: 0.1288 (0.1396)  evaluator_time: 0.0216 (0.0325)\n",
      "Accumulating evaluation results...\n",
      "DONE (t=0.10s).\n",
      "IoU metric: bbox\n",
      " Average Precision  (AP) @[ IoU=0.50:0.95 | area=   all | maxDets=100 ] = 0.121\n",
      " Average Precision  (AP) @[ IoU=0.50      | area=   all | maxDets=100 ] = 0.357\n",
      " Average Precision  (AP) @[ IoU=0.75      | area=   all | maxDets=100 ] = 0.048\n",
      " Average Precision  (AP) @[ IoU=0.50:0.95 | area= small | maxDets=100 ] = 0.106\n",
      " Average Precision  (AP) @[ IoU=0.50:0.95 | area=medium | maxDets=100 ] = 0.171\n",
      " Average Precision  (AP) @[ IoU=0.50:0.95 | area= large | maxDets=100 ] = 0.174\n",
      " Average Recall     (AR) @[ IoU=0.50:0.95 | area=   all | maxDets=  1 ] = 0.066\n",
      " Average Recall     (AR) @[ IoU=0.50:0.95 | area=   all | maxDets= 10 ] = 0.220\n",
      " Average Recall     (AR) @[ IoU=0.50:0.95 | area=   all | maxDets=100 ] = 0.318\n",
      " Average Recall     (AR) @[ IoU=0.50:0.95 | area= small | maxDets=100 ] = 0.288\n",
      " Average Recall     (AR) @[ IoU=0.50:0.95 | area=medium | maxDets=100 ] = 0.405\n",
      " Average Recall     (AR) @[ IoU=0.50:0.95 | area= large | maxDets=100 ] = 0.500\n",
      "0.12105320285256678 0.35745867091555794\n",
      "SAVING PLOTS COMPLETE...\n",
      "SAVING PLOTS COMPLETE...\n",
      "SAVING PLOTS COMPLETE...\n",
      "SAVING PLOTS COMPLETE...\n",
      "SAVING PLOTS COMPLETE...\n",
      "SAVING PLOTS COMPLETE...\n"
     ]
    },
    {
     "name": "stderr",
     "output_type": "stream",
     "text": [
      "Epoch: [47]  [  0/180]  eta: 0:01:40  lr: 0.000547  loss: 0.4622 (0.4622)  loss_classifier: 0.1276 (0.1276)  loss_box_reg: 0.1952 (0.1952)  loss_objectness: 0.0882 (0.0882)  loss_rpn_box_reg: 0.0512 (0.0512)  time: 0.5607  data: 0.3241  max mem: 576\n",
      "Epoch: [47]  [100/180]  eta: 0:00:18  lr: 0.000538  loss: 0.4758 (0.5071)  loss_classifier: 0.1024 (0.1144)  loss_box_reg: 0.1714 (0.1895)  loss_objectness: 0.1141 (0.1161)  loss_rpn_box_reg: 0.0869 (0.0871)  time: 0.2225  data: 0.0037  max mem: 576\n",
      "Epoch: [47]  [179/180]  eta: 0:00:00  lr: 0.000531  loss: 0.4514 (0.5041)  loss_classifier: 0.1027 (0.1144)  loss_box_reg: 0.1591 (0.1884)  loss_objectness: 0.1103 (0.1156)  loss_rpn_box_reg: 0.0836 (0.0857)  time: 0.2190  data: 0.0036  max mem: 576\n",
      "Epoch: [47] Total time: 0:00:40 (0.2259 s / it)\n"
     ]
    },
    {
     "name": "stdout",
     "output_type": "stream",
     "text": [
      "creating index...\n",
      "index created!\n"
     ]
    },
    {
     "name": "stderr",
     "output_type": "stream",
     "text": [
      "Test:  [ 0/39]  eta: 0:00:18  model_time: 0.1345 (0.1345)  evaluator_time: 0.0131 (0.0131)  time: 0.4834  data: 0.3198  max mem: 576\n",
      "Test:  [38/39]  eta: 0:00:00  model_time: 0.1347 (0.1430)  evaluator_time: 0.0219 (0.0327)  time: 0.1819  data: 0.0033  max mem: 576\n",
      "Test: Total time: 0:00:07 (0.1921 s / it)\n"
     ]
    },
    {
     "name": "stdout",
     "output_type": "stream",
     "text": [
      "Averaged stats: model_time: 0.1347 (0.1430)  evaluator_time: 0.0219 (0.0327)\n",
      "Accumulating evaluation results...\n",
      "DONE (t=0.10s).\n",
      "IoU metric: bbox\n",
      " Average Precision  (AP) @[ IoU=0.50:0.95 | area=   all | maxDets=100 ] = 0.124\n",
      " Average Precision  (AP) @[ IoU=0.50      | area=   all | maxDets=100 ] = 0.361\n",
      " Average Precision  (AP) @[ IoU=0.75      | area=   all | maxDets=100 ] = 0.053\n",
      " Average Precision  (AP) @[ IoU=0.50:0.95 | area= small | maxDets=100 ] = 0.107\n",
      " Average Precision  (AP) @[ IoU=0.50:0.95 | area=medium | maxDets=100 ] = 0.180\n",
      " Average Precision  (AP) @[ IoU=0.50:0.95 | area= large | maxDets=100 ] = 0.231\n",
      " Average Recall     (AR) @[ IoU=0.50:0.95 | area=   all | maxDets=  1 ] = 0.067\n",
      " Average Recall     (AR) @[ IoU=0.50:0.95 | area=   all | maxDets= 10 ] = 0.216\n",
      " Average Recall     (AR) @[ IoU=0.50:0.95 | area=   all | maxDets=100 ] = 0.318\n",
      " Average Recall     (AR) @[ IoU=0.50:0.95 | area= small | maxDets=100 ] = 0.293\n",
      " Average Recall     (AR) @[ IoU=0.50:0.95 | area=medium | maxDets=100 ] = 0.391\n",
      " Average Recall     (AR) @[ IoU=0.50:0.95 | area= large | maxDets=100 ] = 0.463\n",
      "0.12369443130828991 0.36137196074223127\n",
      "SAVING PLOTS COMPLETE...\n",
      "SAVING PLOTS COMPLETE...\n",
      "SAVING PLOTS COMPLETE...\n",
      "SAVING PLOTS COMPLETE...\n",
      "SAVING PLOTS COMPLETE...\n",
      "SAVING PLOTS COMPLETE...\n"
     ]
    },
    {
     "name": "stderr",
     "output_type": "stream",
     "text": [
      "Epoch: [48]  [  0/180]  eta: 0:01:41  lr: 0.000531  loss: 0.4933 (0.4933)  loss_classifier: 0.1165 (0.1165)  loss_box_reg: 0.1886 (0.1886)  loss_objectness: 0.1291 (0.1291)  loss_rpn_box_reg: 0.0591 (0.0591)  time: 0.5614  data: 0.3249  max mem: 576\n",
      "Epoch: [48]  [100/180]  eta: 0:00:18  lr: 0.000523  loss: 0.4918 (0.4924)  loss_classifier: 0.1021 (0.1097)  loss_box_reg: 0.1749 (0.1835)  loss_objectness: 0.1082 (0.1142)  loss_rpn_box_reg: 0.0830 (0.0851)  time: 0.2219  data: 0.0037  max mem: 576\n",
      "Epoch: [48]  [179/180]  eta: 0:00:00  lr: 0.000516  loss: 0.4988 (0.5022)  loss_classifier: 0.1153 (0.1127)  loss_box_reg: 0.1821 (0.1874)  loss_objectness: 0.1090 (0.1166)  loss_rpn_box_reg: 0.0730 (0.0854)  time: 0.2165  data: 0.0034  max mem: 576\n",
      "Epoch: [48] Total time: 0:00:40 (0.2255 s / it)\n"
     ]
    },
    {
     "name": "stdout",
     "output_type": "stream",
     "text": [
      "creating index...\n",
      "index created!\n"
     ]
    },
    {
     "name": "stderr",
     "output_type": "stream",
     "text": [
      "Test:  [ 0/39]  eta: 0:00:19  model_time: 0.1394 (0.1394)  evaluator_time: 0.0150 (0.0150)  time: 0.4875  data: 0.3164  max mem: 576\n",
      "Test:  [38/39]  eta: 0:00:00  model_time: 0.1376 (0.1502)  evaluator_time: 0.0219 (0.0327)  time: 0.1956  data: 0.0032  max mem: 576\n",
      "Test: Total time: 0:00:07 (0.1993 s / it)\n"
     ]
    },
    {
     "name": "stdout",
     "output_type": "stream",
     "text": [
      "Averaged stats: model_time: 0.1376 (0.1502)  evaluator_time: 0.0219 (0.0327)\n",
      "Accumulating evaluation results...\n",
      "DONE (t=0.11s).\n",
      "IoU metric: bbox\n",
      " Average Precision  (AP) @[ IoU=0.50:0.95 | area=   all | maxDets=100 ] = 0.120\n",
      " Average Precision  (AP) @[ IoU=0.50      | area=   all | maxDets=100 ] = 0.362\n",
      " Average Precision  (AP) @[ IoU=0.75      | area=   all | maxDets=100 ] = 0.047\n",
      " Average Precision  (AP) @[ IoU=0.50:0.95 | area= small | maxDets=100 ] = 0.100\n",
      " Average Precision  (AP) @[ IoU=0.50:0.95 | area=medium | maxDets=100 ] = 0.173\n",
      " Average Precision  (AP) @[ IoU=0.50:0.95 | area= large | maxDets=100 ] = 0.235\n",
      " Average Recall     (AR) @[ IoU=0.50:0.95 | area=   all | maxDets=  1 ] = 0.063\n",
      " Average Recall     (AR) @[ IoU=0.50:0.95 | area=   all | maxDets= 10 ] = 0.212\n",
      " Average Recall     (AR) @[ IoU=0.50:0.95 | area=   all | maxDets=100 ] = 0.310\n",
      " Average Recall     (AR) @[ IoU=0.50:0.95 | area= small | maxDets=100 ] = 0.283\n",
      " Average Recall     (AR) @[ IoU=0.50:0.95 | area=medium | maxDets=100 ] = 0.388\n",
      " Average Recall     (AR) @[ IoU=0.50:0.95 | area= large | maxDets=100 ] = 0.521\n",
      "0.12020369580279143 0.36213754933589176\n",
      "SAVING PLOTS COMPLETE...\n",
      "SAVING PLOTS COMPLETE...\n",
      "SAVING PLOTS COMPLETE...\n",
      "SAVING PLOTS COMPLETE...\n",
      "SAVING PLOTS COMPLETE...\n",
      "SAVING PLOTS COMPLETE...\n"
     ]
    },
    {
     "name": "stderr",
     "output_type": "stream",
     "text": [
      "Epoch: [49]  [  0/180]  eta: 0:01:39  lr: 0.000516  loss: 0.3597 (0.3597)  loss_classifier: 0.0986 (0.0986)  loss_box_reg: 0.1650 (0.1650)  loss_objectness: 0.0589 (0.0589)  loss_rpn_box_reg: 0.0372 (0.0372)  time: 0.5520  data: 0.3187  max mem: 576\n",
      "Epoch: [49]  [100/180]  eta: 0:00:18  lr: 0.000507  loss: 0.4885 (0.4995)  loss_classifier: 0.1037 (0.1125)  loss_box_reg: 0.1808 (0.1874)  loss_objectness: 0.1095 (0.1151)  loss_rpn_box_reg: 0.0730 (0.0845)  time: 0.2203  data: 0.0037  max mem: 576\n",
      "Epoch: [49]  [179/180]  eta: 0:00:00  lr: 0.000500  loss: 0.4875 (0.5016)  loss_classifier: 0.1081 (0.1130)  loss_box_reg: 0.1912 (0.1883)  loss_objectness: 0.1196 (0.1147)  loss_rpn_box_reg: 0.0923 (0.0855)  time: 0.2217  data: 0.0035  max mem: 576\n",
      "Epoch: [49] Total time: 0:00:40 (0.2251 s / it)\n"
     ]
    },
    {
     "name": "stdout",
     "output_type": "stream",
     "text": [
      "creating index...\n",
      "index created!\n"
     ]
    },
    {
     "name": "stderr",
     "output_type": "stream",
     "text": [
      "Test:  [ 0/39]  eta: 0:00:18  model_time: 0.1346 (0.1346)  evaluator_time: 0.0147 (0.0147)  time: 0.4762  data: 0.3108  max mem: 576\n",
      "Test:  [38/39]  eta: 0:00:00  model_time: 0.1352 (0.1364)  evaluator_time: 0.0259 (0.0346)  time: 0.1810  data: 0.0033  max mem: 576\n",
      "Test: Total time: 0:00:07 (0.1875 s / it)\n"
     ]
    },
    {
     "name": "stdout",
     "output_type": "stream",
     "text": [
      "Averaged stats: model_time: 0.1352 (0.1364)  evaluator_time: 0.0259 (0.0346)\n",
      "Accumulating evaluation results...\n",
      "DONE (t=0.12s).\n",
      "IoU metric: bbox\n",
      " Average Precision  (AP) @[ IoU=0.50:0.95 | area=   all | maxDets=100 ] = 0.120\n",
      " Average Precision  (AP) @[ IoU=0.50      | area=   all | maxDets=100 ] = 0.362\n",
      " Average Precision  (AP) @[ IoU=0.75      | area=   all | maxDets=100 ] = 0.049\n",
      " Average Precision  (AP) @[ IoU=0.50:0.95 | area= small | maxDets=100 ] = 0.104\n",
      " Average Precision  (AP) @[ IoU=0.50:0.95 | area=medium | maxDets=100 ] = 0.168\n",
      " Average Precision  (AP) @[ IoU=0.50:0.95 | area= large | maxDets=100 ] = 0.219\n",
      " Average Recall     (AR) @[ IoU=0.50:0.95 | area=   all | maxDets=  1 ] = 0.066\n",
      " Average Recall     (AR) @[ IoU=0.50:0.95 | area=   all | maxDets= 10 ] = 0.217\n",
      " Average Recall     (AR) @[ IoU=0.50:0.95 | area=   all | maxDets=100 ] = 0.315\n",
      " Average Recall     (AR) @[ IoU=0.50:0.95 | area= small | maxDets=100 ] = 0.289\n",
      " Average Recall     (AR) @[ IoU=0.50:0.95 | area=medium | maxDets=100 ] = 0.394\n",
      " Average Recall     (AR) @[ IoU=0.50:0.95 | area= large | maxDets=100 ] = 0.437\n",
      "0.12034505296846054 0.36232379775437185\n",
      "SAVING PLOTS COMPLETE...\n",
      "SAVING PLOTS COMPLETE...\n",
      "SAVING PLOTS COMPLETE...\n",
      "SAVING PLOTS COMPLETE...\n",
      "SAVING PLOTS COMPLETE...\n",
      "SAVING PLOTS COMPLETE...\n"
     ]
    },
    {
     "name": "stderr",
     "output_type": "stream",
     "text": [
      "Epoch: [50]  [  0/180]  eta: 0:01:41  lr: 0.000500  loss: 0.3557 (0.3557)  loss_classifier: 0.0826 (0.0826)  loss_box_reg: 0.1426 (0.1426)  loss_objectness: 0.0964 (0.0964)  loss_rpn_box_reg: 0.0341 (0.0341)  time: 0.5635  data: 0.3194  max mem: 576\n",
      "Epoch: [50]  [100/180]  eta: 0:00:18  lr: 0.000491  loss: 0.4984 (0.5025)  loss_classifier: 0.1127 (0.1133)  loss_box_reg: 0.1818 (0.1887)  loss_objectness: 0.1223 (0.1155)  loss_rpn_box_reg: 0.0736 (0.0850)  time: 0.2221  data: 0.0039  max mem: 576\n",
      "Epoch: [50]  [179/180]  eta: 0:00:00  lr: 0.000484  loss: 0.4136 (0.4996)  loss_classifier: 0.1046 (0.1129)  loss_box_reg: 0.1585 (0.1887)  loss_objectness: 0.0902 (0.1136)  loss_rpn_box_reg: 0.0764 (0.0844)  time: 0.2212  data: 0.0037  max mem: 576\n",
      "Epoch: [50] Total time: 0:00:40 (0.2263 s / it)\n"
     ]
    },
    {
     "name": "stdout",
     "output_type": "stream",
     "text": [
      "creating index...\n",
      "index created!\n"
     ]
    },
    {
     "name": "stderr",
     "output_type": "stream",
     "text": [
      "Test:  [ 0/39]  eta: 0:00:19  model_time: 0.1328 (0.1328)  evaluator_time: 0.0147 (0.0147)  time: 0.4893  data: 0.3257  max mem: 576\n",
      "Test:  [38/39]  eta: 0:00:00  model_time: 0.1333 (0.1434)  evaluator_time: 0.0234 (0.0387)  time: 0.2008  data: 0.0033  max mem: 576\n",
      "Test: Total time: 0:00:07 (0.1997 s / it)\n"
     ]
    },
    {
     "name": "stdout",
     "output_type": "stream",
     "text": [
      "Averaged stats: model_time: 0.1333 (0.1434)  evaluator_time: 0.0234 (0.0387)\n",
      "Accumulating evaluation results...\n",
      "DONE (t=0.10s).\n",
      "IoU metric: bbox\n",
      " Average Precision  (AP) @[ IoU=0.50:0.95 | area=   all | maxDets=100 ] = 0.129\n",
      " Average Precision  (AP) @[ IoU=0.50      | area=   all | maxDets=100 ] = 0.370\n",
      " Average Precision  (AP) @[ IoU=0.75      | area=   all | maxDets=100 ] = 0.051\n",
      " Average Precision  (AP) @[ IoU=0.50:0.95 | area= small | maxDets=100 ] = 0.108\n",
      " Average Precision  (AP) @[ IoU=0.50:0.95 | area=medium | maxDets=100 ] = 0.181\n",
      " Average Precision  (AP) @[ IoU=0.50:0.95 | area= large | maxDets=100 ] = 0.326\n",
      " Average Recall     (AR) @[ IoU=0.50:0.95 | area=   all | maxDets=  1 ] = 0.069\n",
      " Average Recall     (AR) @[ IoU=0.50:0.95 | area=   all | maxDets= 10 ] = 0.221\n",
      " Average Recall     (AR) @[ IoU=0.50:0.95 | area=   all | maxDets=100 ] = 0.318\n",
      " Average Recall     (AR) @[ IoU=0.50:0.95 | area= small | maxDets=100 ] = 0.289\n",
      " Average Recall     (AR) @[ IoU=0.50:0.95 | area=medium | maxDets=100 ] = 0.401\n",
      " Average Recall     (AR) @[ IoU=0.50:0.95 | area= large | maxDets=100 ] = 0.553\n",
      "0.12868373723578713 0.369933961323909\n",
      "SAVING PLOTS COMPLETE...\n",
      "SAVING PLOTS COMPLETE...\n",
      "SAVING PLOTS COMPLETE...\n",
      "SAVING PLOTS COMPLETE...\n",
      "SAVING PLOTS COMPLETE...\n",
      "SAVING PLOTS COMPLETE...\n"
     ]
    },
    {
     "name": "stderr",
     "output_type": "stream",
     "text": [
      "Epoch: [51]  [  0/180]  eta: 0:01:38  lr: 0.000484  loss: 0.6781 (0.6781)  loss_classifier: 0.1401 (0.1401)  loss_box_reg: 0.2435 (0.2435)  loss_objectness: 0.1531 (0.1531)  loss_rpn_box_reg: 0.1413 (0.1413)  time: 0.5487  data: 0.3217  max mem: 576\n",
      "Epoch: [51]  [100/180]  eta: 0:00:18  lr: 0.000476  loss: 0.4762 (0.4923)  loss_classifier: 0.1135 (0.1117)  loss_box_reg: 0.1827 (0.1838)  loss_objectness: 0.1048 (0.1127)  loss_rpn_box_reg: 0.0694 (0.0841)  time: 0.2239  data: 0.0039  max mem: 576\n",
      "Epoch: [51]  [179/180]  eta: 0:00:00  lr: 0.000469  loss: 0.4566 (0.4959)  loss_classifier: 0.1002 (0.1119)  loss_box_reg: 0.1706 (0.1854)  loss_objectness: 0.1121 (0.1138)  loss_rpn_box_reg: 0.0944 (0.0847)  time: 0.2267  data: 0.0038  max mem: 576\n",
      "Epoch: [51] Total time: 0:00:40 (0.2265 s / it)\n"
     ]
    },
    {
     "name": "stdout",
     "output_type": "stream",
     "text": [
      "creating index...\n",
      "index created!\n"
     ]
    },
    {
     "name": "stderr",
     "output_type": "stream",
     "text": [
      "Test:  [ 0/39]  eta: 0:00:18  model_time: 0.1352 (0.1352)  evaluator_time: 0.0130 (0.0130)  time: 0.4628  data: 0.2984  max mem: 576\n",
      "Test:  [38/39]  eta: 0:00:00  model_time: 0.1331 (0.1386)  evaluator_time: 0.0209 (0.0317)  time: 0.1713  data: 0.0033  max mem: 576\n",
      "Test: Total time: 0:00:07 (0.1871 s / it)\n"
     ]
    },
    {
     "name": "stdout",
     "output_type": "stream",
     "text": [
      "Averaged stats: model_time: 0.1331 (0.1386)  evaluator_time: 0.0209 (0.0317)\n",
      "Accumulating evaluation results...\n",
      "DONE (t=0.11s).\n",
      "IoU metric: bbox\n",
      " Average Precision  (AP) @[ IoU=0.50:0.95 | area=   all | maxDets=100 ] = 0.119\n",
      " Average Precision  (AP) @[ IoU=0.50      | area=   all | maxDets=100 ] = 0.356\n",
      " Average Precision  (AP) @[ IoU=0.75      | area=   all | maxDets=100 ] = 0.050\n",
      " Average Precision  (AP) @[ IoU=0.50:0.95 | area= small | maxDets=100 ] = 0.100\n",
      " Average Precision  (AP) @[ IoU=0.50:0.95 | area=medium | maxDets=100 ] = 0.180\n",
      " Average Precision  (AP) @[ IoU=0.50:0.95 | area= large | maxDets=100 ] = 0.213\n",
      " Average Recall     (AR) @[ IoU=0.50:0.95 | area=   all | maxDets=  1 ] = 0.066\n",
      " Average Recall     (AR) @[ IoU=0.50:0.95 | area=   all | maxDets= 10 ] = 0.210\n",
      " Average Recall     (AR) @[ IoU=0.50:0.95 | area=   all | maxDets=100 ] = 0.308\n",
      " Average Recall     (AR) @[ IoU=0.50:0.95 | area= small | maxDets=100 ] = 0.281\n",
      " Average Recall     (AR) @[ IoU=0.50:0.95 | area=medium | maxDets=100 ] = 0.388\n",
      " Average Recall     (AR) @[ IoU=0.50:0.95 | area= large | maxDets=100 ] = 0.468\n",
      "0.11858505368809483 0.35609852669740344\n",
      "SAVING PLOTS COMPLETE...\n",
      "SAVING PLOTS COMPLETE...\n",
      "SAVING PLOTS COMPLETE...\n",
      "SAVING PLOTS COMPLETE...\n",
      "SAVING PLOTS COMPLETE...\n",
      "SAVING PLOTS COMPLETE...\n"
     ]
    },
    {
     "name": "stderr",
     "output_type": "stream",
     "text": [
      "Epoch: [52]  [  0/180]  eta: 0:01:41  lr: 0.000469  loss: 0.4776 (0.4776)  loss_classifier: 0.0980 (0.0980)  loss_box_reg: 0.1936 (0.1936)  loss_objectness: 0.0992 (0.0992)  loss_rpn_box_reg: 0.0868 (0.0868)  time: 0.5657  data: 0.3266  max mem: 576\n",
      "Epoch: [52]  [100/180]  eta: 0:00:18  lr: 0.000460  loss: 0.5074 (0.4951)  loss_classifier: 0.1183 (0.1116)  loss_box_reg: 0.2045 (0.1875)  loss_objectness: 0.1045 (0.1132)  loss_rpn_box_reg: 0.0780 (0.0828)  time: 0.2211  data: 0.0038  max mem: 576\n",
      "Epoch: [52]  [179/180]  eta: 0:00:00  lr: 0.000453  loss: 0.4873 (0.4966)  loss_classifier: 0.1111 (0.1119)  loss_box_reg: 0.1866 (0.1877)  loss_objectness: 0.1007 (0.1127)  loss_rpn_box_reg: 0.0944 (0.0842)  time: 0.2275  data: 0.0039  max mem: 576\n",
      "Epoch: [52] Total time: 0:00:41 (0.2294 s / it)\n"
     ]
    },
    {
     "name": "stdout",
     "output_type": "stream",
     "text": [
      "creating index...\n",
      "index created!\n"
     ]
    },
    {
     "name": "stderr",
     "output_type": "stream",
     "text": [
      "Test:  [ 0/39]  eta: 0:00:18  model_time: 0.1325 (0.1325)  evaluator_time: 0.0162 (0.0162)  time: 0.4747  data: 0.3094  max mem: 576\n",
      "Test:  [38/39]  eta: 0:00:00  model_time: 0.1360 (0.1426)  evaluator_time: 0.0254 (0.0333)  time: 0.1886  data: 0.0034  max mem: 576\n",
      "Test: Total time: 0:00:07 (0.1927 s / it)\n"
     ]
    },
    {
     "name": "stdout",
     "output_type": "stream",
     "text": [
      "Averaged stats: model_time: 0.1360 (0.1426)  evaluator_time: 0.0254 (0.0333)\n",
      "Accumulating evaluation results...\n",
      "DONE (t=0.11s).\n",
      "IoU metric: bbox\n",
      " Average Precision  (AP) @[ IoU=0.50:0.95 | area=   all | maxDets=100 ] = 0.118\n",
      " Average Precision  (AP) @[ IoU=0.50      | area=   all | maxDets=100 ] = 0.360\n",
      " Average Precision  (AP) @[ IoU=0.75      | area=   all | maxDets=100 ] = 0.043\n",
      " Average Precision  (AP) @[ IoU=0.50:0.95 | area= small | maxDets=100 ] = 0.099\n",
      " Average Precision  (AP) @[ IoU=0.50:0.95 | area=medium | maxDets=100 ] = 0.175\n",
      " Average Precision  (AP) @[ IoU=0.50:0.95 | area= large | maxDets=100 ] = 0.231\n",
      " Average Recall     (AR) @[ IoU=0.50:0.95 | area=   all | maxDets=  1 ] = 0.065\n",
      " Average Recall     (AR) @[ IoU=0.50:0.95 | area=   all | maxDets= 10 ] = 0.211\n",
      " Average Recall     (AR) @[ IoU=0.50:0.95 | area=   all | maxDets=100 ] = 0.308\n",
      " Average Recall     (AR) @[ IoU=0.50:0.95 | area= small | maxDets=100 ] = 0.278\n",
      " Average Recall     (AR) @[ IoU=0.50:0.95 | area=medium | maxDets=100 ] = 0.402\n",
      " Average Recall     (AR) @[ IoU=0.50:0.95 | area= large | maxDets=100 ] = 0.463\n",
      "0.11771642946540851 0.3601911463325635\n",
      "SAVING PLOTS COMPLETE...\n",
      "SAVING PLOTS COMPLETE...\n",
      "SAVING PLOTS COMPLETE...\n",
      "SAVING PLOTS COMPLETE...\n",
      "SAVING PLOTS COMPLETE...\n",
      "SAVING PLOTS COMPLETE...\n"
     ]
    },
    {
     "name": "stderr",
     "output_type": "stream",
     "text": [
      "Epoch: [53]  [  0/180]  eta: 0:01:42  lr: 0.000453  loss: 0.4520 (0.4520)  loss_classifier: 0.0996 (0.0996)  loss_box_reg: 0.1562 (0.1562)  loss_objectness: 0.1032 (0.1032)  loss_rpn_box_reg: 0.0930 (0.0930)  time: 0.5676  data: 0.3218  max mem: 576\n",
      "Epoch: [53]  [100/180]  eta: 0:00:18  lr: 0.000444  loss: 0.4796 (0.4865)  loss_classifier: 0.1131 (0.1100)  loss_box_reg: 0.1837 (0.1848)  loss_objectness: 0.1122 (0.1103)  loss_rpn_box_reg: 0.0696 (0.0814)  time: 0.2228  data: 0.0037  max mem: 576\n",
      "Epoch: [53]  [179/180]  eta: 0:00:00  lr: 0.000437  loss: 0.5201 (0.4940)  loss_classifier: 0.1171 (0.1110)  loss_box_reg: 0.1964 (0.1876)  loss_objectness: 0.1250 (0.1114)  loss_rpn_box_reg: 0.0875 (0.0841)  time: 0.2194  data: 0.0037  max mem: 576\n",
      "Epoch: [53] Total time: 0:00:40 (0.2271 s / it)\n"
     ]
    },
    {
     "name": "stdout",
     "output_type": "stream",
     "text": [
      "creating index...\n",
      "index created!\n"
     ]
    },
    {
     "name": "stderr",
     "output_type": "stream",
     "text": [
      "Test:  [ 0/39]  eta: 0:00:18  model_time: 0.1372 (0.1372)  evaluator_time: 0.0163 (0.0163)  time: 0.4769  data: 0.3079  max mem: 576\n",
      "Test:  [38/39]  eta: 0:00:00  model_time: 0.1382 (0.1408)  evaluator_time: 0.0242 (0.0407)  time: 0.1908  data: 0.0033  max mem: 576\n",
      "Test: Total time: 0:00:07 (0.1981 s / it)\n"
     ]
    },
    {
     "name": "stdout",
     "output_type": "stream",
     "text": [
      "Averaged stats: model_time: 0.1382 (0.1408)  evaluator_time: 0.0242 (0.0407)\n",
      "Accumulating evaluation results...\n",
      "DONE (t=0.12s).\n",
      "IoU metric: bbox\n",
      " Average Precision  (AP) @[ IoU=0.50:0.95 | area=   all | maxDets=100 ] = 0.121\n",
      " Average Precision  (AP) @[ IoU=0.50      | area=   all | maxDets=100 ] = 0.360\n",
      " Average Precision  (AP) @[ IoU=0.75      | area=   all | maxDets=100 ] = 0.050\n",
      " Average Precision  (AP) @[ IoU=0.50:0.95 | area= small | maxDets=100 ] = 0.105\n",
      " Average Precision  (AP) @[ IoU=0.50:0.95 | area=medium | maxDets=100 ] = 0.172\n",
      " Average Precision  (AP) @[ IoU=0.50:0.95 | area= large | maxDets=100 ] = 0.260\n",
      " Average Recall     (AR) @[ IoU=0.50:0.95 | area=   all | maxDets=  1 ] = 0.069\n",
      " Average Recall     (AR) @[ IoU=0.50:0.95 | area=   all | maxDets= 10 ] = 0.214\n",
      " Average Recall     (AR) @[ IoU=0.50:0.95 | area=   all | maxDets=100 ] = 0.323\n",
      " Average Recall     (AR) @[ IoU=0.50:0.95 | area= small | maxDets=100 ] = 0.294\n",
      " Average Recall     (AR) @[ IoU=0.50:0.95 | area=medium | maxDets=100 ] = 0.408\n",
      " Average Recall     (AR) @[ IoU=0.50:0.95 | area= large | maxDets=100 ] = 0.537\n",
      "0.12063287234020564 0.3601654919612548\n",
      "SAVING PLOTS COMPLETE...\n",
      "SAVING PLOTS COMPLETE...\n",
      "SAVING PLOTS COMPLETE...\n",
      "SAVING PLOTS COMPLETE...\n",
      "SAVING PLOTS COMPLETE...\n",
      "SAVING PLOTS COMPLETE...\n"
     ]
    },
    {
     "name": "stderr",
     "output_type": "stream",
     "text": [
      "Epoch: [54]  [  0/180]  eta: 0:01:43  lr: 0.000437  loss: 0.6860 (0.6860)  loss_classifier: 0.1611 (0.1611)  loss_box_reg: 0.2430 (0.2430)  loss_objectness: 0.1378 (0.1378)  loss_rpn_box_reg: 0.1440 (0.1440)  time: 0.5771  data: 0.3348  max mem: 576\n",
      "Epoch: [54]  [100/180]  eta: 0:00:18  lr: 0.000429  loss: 0.4115 (0.4842)  loss_classifier: 0.0923 (0.1088)  loss_box_reg: 0.1478 (0.1841)  loss_objectness: 0.0961 (0.1093)  loss_rpn_box_reg: 0.0692 (0.0820)  time: 0.2237  data: 0.0038  max mem: 576\n",
      "Epoch: [54]  [179/180]  eta: 0:00:00  lr: 0.000422  loss: 0.4783 (0.4916)  loss_classifier: 0.1055 (0.1109)  loss_box_reg: 0.1822 (0.1872)  loss_objectness: 0.1060 (0.1101)  loss_rpn_box_reg: 0.0855 (0.0834)  time: 0.2318  data: 0.0037  max mem: 576\n",
      "Epoch: [54] Total time: 0:00:40 (0.2276 s / it)\n"
     ]
    },
    {
     "name": "stdout",
     "output_type": "stream",
     "text": [
      "creating index...\n",
      "index created!\n"
     ]
    },
    {
     "name": "stderr",
     "output_type": "stream",
     "text": [
      "Test:  [ 0/39]  eta: 0:00:18  model_time: 0.1339 (0.1339)  evaluator_time: 0.0129 (0.0129)  time: 0.4753  data: 0.3125  max mem: 576\n",
      "Test:  [38/39]  eta: 0:00:00  model_time: 0.1389 (0.1400)  evaluator_time: 0.0204 (0.0308)  time: 0.1755  data: 0.0032  max mem: 576\n",
      "Test: Total time: 0:00:07 (0.1873 s / it)\n"
     ]
    },
    {
     "name": "stdout",
     "output_type": "stream",
     "text": [
      "Averaged stats: model_time: 0.1389 (0.1400)  evaluator_time: 0.0204 (0.0308)\n",
      "Accumulating evaluation results...\n",
      "DONE (t=0.11s).\n",
      "IoU metric: bbox\n",
      " Average Precision  (AP) @[ IoU=0.50:0.95 | area=   all | maxDets=100 ] = 0.124\n",
      " Average Precision  (AP) @[ IoU=0.50      | area=   all | maxDets=100 ] = 0.366\n",
      " Average Precision  (AP) @[ IoU=0.75      | area=   all | maxDets=100 ] = 0.052\n",
      " Average Precision  (AP) @[ IoU=0.50:0.95 | area= small | maxDets=100 ] = 0.108\n",
      " Average Precision  (AP) @[ IoU=0.50:0.95 | area=medium | maxDets=100 ] = 0.178\n",
      " Average Precision  (AP) @[ IoU=0.50:0.95 | area= large | maxDets=100 ] = 0.228\n",
      " Average Recall     (AR) @[ IoU=0.50:0.95 | area=   all | maxDets=  1 ] = 0.067\n",
      " Average Recall     (AR) @[ IoU=0.50:0.95 | area=   all | maxDets= 10 ] = 0.222\n",
      " Average Recall     (AR) @[ IoU=0.50:0.95 | area=   all | maxDets=100 ] = 0.319\n",
      " Average Recall     (AR) @[ IoU=0.50:0.95 | area= small | maxDets=100 ] = 0.294\n",
      " Average Recall     (AR) @[ IoU=0.50:0.95 | area=medium | maxDets=100 ] = 0.392\n",
      " Average Recall     (AR) @[ IoU=0.50:0.95 | area= large | maxDets=100 ] = 0.489\n",
      "0.1240038174314673 0.36629322230150524\n",
      "SAVING PLOTS COMPLETE...\n",
      "SAVING PLOTS COMPLETE...\n",
      "SAVING PLOTS COMPLETE...\n",
      "SAVING PLOTS COMPLETE...\n",
      "SAVING PLOTS COMPLETE...\n",
      "SAVING PLOTS COMPLETE...\n"
     ]
    },
    {
     "name": "stderr",
     "output_type": "stream",
     "text": [
      "Epoch: [55]  [  0/180]  eta: 0:01:38  lr: 0.000422  loss: 0.6281 (0.6281)  loss_classifier: 0.1376 (0.1376)  loss_box_reg: 0.2327 (0.2327)  loss_objectness: 0.1444 (0.1444)  loss_rpn_box_reg: 0.1135 (0.1135)  time: 0.5454  data: 0.3229  max mem: 576\n",
      "Epoch: [55]  [100/180]  eta: 0:00:18  lr: 0.000413  loss: 0.4905 (0.4919)  loss_classifier: 0.1165 (0.1100)  loss_box_reg: 0.1854 (0.1861)  loss_objectness: 0.1050 (0.1110)  loss_rpn_box_reg: 0.0914 (0.0848)  time: 0.2224  data: 0.0036  max mem: 576\n",
      "Epoch: [55]  [179/180]  eta: 0:00:00  lr: 0.000406  loss: 0.4548 (0.4919)  loss_classifier: 0.1019 (0.1109)  loss_box_reg: 0.1647 (0.1863)  loss_objectness: 0.1061 (0.1114)  loss_rpn_box_reg: 0.0788 (0.0833)  time: 0.2214  data: 0.0035  max mem: 576\n",
      "Epoch: [55] Total time: 0:00:40 (0.2253 s / it)\n"
     ]
    },
    {
     "name": "stdout",
     "output_type": "stream",
     "text": [
      "creating index...\n",
      "index created!\n"
     ]
    },
    {
     "name": "stderr",
     "output_type": "stream",
     "text": [
      "Test:  [ 0/39]  eta: 0:00:18  model_time: 0.1341 (0.1341)  evaluator_time: 0.0131 (0.0131)  time: 0.4675  data: 0.3042  max mem: 576\n",
      "Test:  [38/39]  eta: 0:00:00  model_time: 0.1352 (0.1432)  evaluator_time: 0.0218 (0.0309)  time: 0.1808  data: 0.0032  max mem: 576\n",
      "Test: Total time: 0:00:07 (0.1903 s / it)\n"
     ]
    },
    {
     "name": "stdout",
     "output_type": "stream",
     "text": [
      "Averaged stats: model_time: 0.1352 (0.1432)  evaluator_time: 0.0218 (0.0309)\n",
      "Accumulating evaluation results...\n",
      "DONE (t=0.10s).\n",
      "IoU metric: bbox\n",
      " Average Precision  (AP) @[ IoU=0.50:0.95 | area=   all | maxDets=100 ] = 0.126\n",
      " Average Precision  (AP) @[ IoU=0.50      | area=   all | maxDets=100 ] = 0.365\n",
      " Average Precision  (AP) @[ IoU=0.75      | area=   all | maxDets=100 ] = 0.055\n",
      " Average Precision  (AP) @[ IoU=0.50:0.95 | area= small | maxDets=100 ] = 0.106\n",
      " Average Precision  (AP) @[ IoU=0.50:0.95 | area=medium | maxDets=100 ] = 0.187\n",
      " Average Precision  (AP) @[ IoU=0.50:0.95 | area= large | maxDets=100 ] = 0.215\n",
      " Average Recall     (AR) @[ IoU=0.50:0.95 | area=   all | maxDets=  1 ] = 0.065\n",
      " Average Recall     (AR) @[ IoU=0.50:0.95 | area=   all | maxDets= 10 ] = 0.221\n",
      " Average Recall     (AR) @[ IoU=0.50:0.95 | area=   all | maxDets=100 ] = 0.317\n",
      " Average Recall     (AR) @[ IoU=0.50:0.95 | area= small | maxDets=100 ] = 0.288\n",
      " Average Recall     (AR) @[ IoU=0.50:0.95 | area=medium | maxDets=100 ] = 0.406\n",
      " Average Recall     (AR) @[ IoU=0.50:0.95 | area= large | maxDets=100 ] = 0.463\n",
      "0.12560586300489776 0.3654282346880293\n",
      "SAVING PLOTS COMPLETE...\n",
      "SAVING PLOTS COMPLETE...\n",
      "SAVING PLOTS COMPLETE...\n",
      "SAVING PLOTS COMPLETE...\n",
      "SAVING PLOTS COMPLETE...\n",
      "SAVING PLOTS COMPLETE...\n"
     ]
    },
    {
     "name": "stderr",
     "output_type": "stream",
     "text": [
      "Epoch: [56]  [  0/180]  eta: 0:01:40  lr: 0.000406  loss: 0.5717 (0.5717)  loss_classifier: 0.1253 (0.1253)  loss_box_reg: 0.2036 (0.2036)  loss_objectness: 0.1313 (0.1313)  loss_rpn_box_reg: 0.1115 (0.1115)  time: 0.5571  data: 0.3173  max mem: 576\n",
      "Epoch: [56]  [100/180]  eta: 0:00:18  lr: 0.000398  loss: 0.4550 (0.5012)  loss_classifier: 0.1103 (0.1135)  loss_box_reg: 0.1774 (0.1900)  loss_objectness: 0.1091 (0.1119)  loss_rpn_box_reg: 0.0788 (0.0858)  time: 0.2303  data: 0.0038  max mem: 576\n",
      "Epoch: [56]  [179/180]  eta: 0:00:00  lr: 0.000391  loss: 0.4480 (0.4914)  loss_classifier: 0.1020 (0.1111)  loss_box_reg: 0.1847 (0.1875)  loss_objectness: 0.0895 (0.1097)  loss_rpn_box_reg: 0.0730 (0.0831)  time: 0.2233  data: 0.0039  max mem: 576\n",
      "Epoch: [56] Total time: 0:00:41 (0.2284 s / it)\n"
     ]
    },
    {
     "name": "stdout",
     "output_type": "stream",
     "text": [
      "creating index...\n",
      "index created!\n"
     ]
    },
    {
     "name": "stderr",
     "output_type": "stream",
     "text": [
      "Test:  [ 0/39]  eta: 0:00:18  model_time: 0.1349 (0.1349)  evaluator_time: 0.0138 (0.0138)  time: 0.4757  data: 0.3111  max mem: 576\n",
      "Test:  [38/39]  eta: 0:00:00  model_time: 0.1362 (0.1464)  evaluator_time: 0.0217 (0.0372)  time: 0.2004  data: 0.0032  max mem: 576\n",
      "Test: Total time: 0:00:07 (0.2004 s / it)\n"
     ]
    },
    {
     "name": "stdout",
     "output_type": "stream",
     "text": [
      "Averaged stats: model_time: 0.1362 (0.1464)  evaluator_time: 0.0217 (0.0372)\n",
      "Accumulating evaluation results...\n",
      "DONE (t=0.10s).\n",
      "IoU metric: bbox\n",
      " Average Precision  (AP) @[ IoU=0.50:0.95 | area=   all | maxDets=100 ] = 0.122\n",
      " Average Precision  (AP) @[ IoU=0.50      | area=   all | maxDets=100 ] = 0.365\n",
      " Average Precision  (AP) @[ IoU=0.75      | area=   all | maxDets=100 ] = 0.049\n",
      " Average Precision  (AP) @[ IoU=0.50:0.95 | area= small | maxDets=100 ] = 0.107\n",
      " Average Precision  (AP) @[ IoU=0.50:0.95 | area=medium | maxDets=100 ] = 0.175\n",
      " Average Precision  (AP) @[ IoU=0.50:0.95 | area= large | maxDets=100 ] = 0.208\n",
      " Average Recall     (AR) @[ IoU=0.50:0.95 | area=   all | maxDets=  1 ] = 0.067\n",
      " Average Recall     (AR) @[ IoU=0.50:0.95 | area=   all | maxDets= 10 ] = 0.216\n",
      " Average Recall     (AR) @[ IoU=0.50:0.95 | area=   all | maxDets=100 ] = 0.319\n",
      " Average Recall     (AR) @[ IoU=0.50:0.95 | area= small | maxDets=100 ] = 0.291\n",
      " Average Recall     (AR) @[ IoU=0.50:0.95 | area=medium | maxDets=100 ] = 0.402\n",
      " Average Recall     (AR) @[ IoU=0.50:0.95 | area= large | maxDets=100 ] = 0.468\n",
      "0.12159309588489912 0.3649461676637943\n",
      "SAVING PLOTS COMPLETE...\n",
      "SAVING PLOTS COMPLETE...\n",
      "SAVING PLOTS COMPLETE...\n",
      "SAVING PLOTS COMPLETE...\n",
      "SAVING PLOTS COMPLETE...\n",
      "SAVING PLOTS COMPLETE...\n"
     ]
    },
    {
     "name": "stderr",
     "output_type": "stream",
     "text": [
      "Epoch: [57]  [  0/180]  eta: 0:01:41  lr: 0.000391  loss: 0.3926 (0.3926)  loss_classifier: 0.0859 (0.0859)  loss_box_reg: 0.1554 (0.1554)  loss_objectness: 0.0878 (0.0878)  loss_rpn_box_reg: 0.0635 (0.0635)  time: 0.5626  data: 0.3191  max mem: 576\n",
      "Epoch: [57]  [100/180]  eta: 0:00:18  lr: 0.000382  loss: 0.5242 (0.4808)  loss_classifier: 0.1175 (0.1075)  loss_box_reg: 0.2016 (0.1828)  loss_objectness: 0.1116 (0.1078)  loss_rpn_box_reg: 0.0987 (0.0827)  time: 0.2258  data: 0.0038  max mem: 576\n",
      "Epoch: [57]  [179/180]  eta: 0:00:00  lr: 0.000376  loss: 0.5261 (0.4888)  loss_classifier: 0.1137 (0.1101)  loss_box_reg: 0.2103 (0.1864)  loss_objectness: 0.1110 (0.1092)  loss_rpn_box_reg: 0.0839 (0.0831)  time: 0.2253  data: 0.0038  max mem: 576\n",
      "Epoch: [57] Total time: 0:00:41 (0.2291 s / it)\n"
     ]
    },
    {
     "name": "stdout",
     "output_type": "stream",
     "text": [
      "creating index...\n",
      "index created!\n"
     ]
    },
    {
     "name": "stderr",
     "output_type": "stream",
     "text": [
      "Test:  [ 0/39]  eta: 0:00:18  model_time: 0.1349 (0.1349)  evaluator_time: 0.0149 (0.0149)  time: 0.4785  data: 0.3126  max mem: 576\n",
      "Test:  [38/39]  eta: 0:00:00  model_time: 0.1368 (0.1387)  evaluator_time: 0.0230 (0.0334)  time: 0.1791  data: 0.0032  max mem: 576\n",
      "Test: Total time: 0:00:07 (0.1889 s / it)\n"
     ]
    },
    {
     "name": "stdout",
     "output_type": "stream",
     "text": [
      "Averaged stats: model_time: 0.1368 (0.1387)  evaluator_time: 0.0230 (0.0334)\n",
      "Accumulating evaluation results...\n",
      "DONE (t=0.12s).\n",
      "IoU metric: bbox\n",
      " Average Precision  (AP) @[ IoU=0.50:0.95 | area=   all | maxDets=100 ] = 0.120\n",
      " Average Precision  (AP) @[ IoU=0.50      | area=   all | maxDets=100 ] = 0.359\n",
      " Average Precision  (AP) @[ IoU=0.75      | area=   all | maxDets=100 ] = 0.049\n",
      " Average Precision  (AP) @[ IoU=0.50:0.95 | area= small | maxDets=100 ] = 0.104\n",
      " Average Precision  (AP) @[ IoU=0.50:0.95 | area=medium | maxDets=100 ] = 0.170\n",
      " Average Precision  (AP) @[ IoU=0.50:0.95 | area= large | maxDets=100 ] = 0.287\n",
      " Average Recall     (AR) @[ IoU=0.50:0.95 | area=   all | maxDets=  1 ] = 0.065\n",
      " Average Recall     (AR) @[ IoU=0.50:0.95 | area=   all | maxDets= 10 ] = 0.214\n",
      " Average Recall     (AR) @[ IoU=0.50:0.95 | area=   all | maxDets=100 ] = 0.315\n",
      " Average Recall     (AR) @[ IoU=0.50:0.95 | area= small | maxDets=100 ] = 0.289\n",
      " Average Recall     (AR) @[ IoU=0.50:0.95 | area=medium | maxDets=100 ] = 0.387\n",
      " Average Recall     (AR) @[ IoU=0.50:0.95 | area= large | maxDets=100 ] = 0.553\n",
      "0.12047027483144222 0.3592466195394039\n",
      "SAVING PLOTS COMPLETE...\n",
      "SAVING PLOTS COMPLETE...\n",
      "SAVING PLOTS COMPLETE...\n",
      "SAVING PLOTS COMPLETE...\n",
      "SAVING PLOTS COMPLETE...\n",
      "SAVING PLOTS COMPLETE...\n"
     ]
    },
    {
     "name": "stderr",
     "output_type": "stream",
     "text": [
      "Epoch: [58]  [  0/180]  eta: 0:01:41  lr: 0.000376  loss: 0.4705 (0.4705)  loss_classifier: 0.1045 (0.1045)  loss_box_reg: 0.1708 (0.1708)  loss_objectness: 0.1363 (0.1363)  loss_rpn_box_reg: 0.0590 (0.0590)  time: 0.5617  data: 0.3210  max mem: 576\n",
      "Epoch: [58]  [100/180]  eta: 0:00:18  lr: 0.000367  loss: 0.4422 (0.4911)  loss_classifier: 0.0997 (0.1109)  loss_box_reg: 0.1558 (0.1882)  loss_objectness: 0.0978 (0.1086)  loss_rpn_box_reg: 0.0727 (0.0833)  time: 0.2310  data: 0.0037  max mem: 576\n",
      "Epoch: [58]  [179/180]  eta: 0:00:00  lr: 0.000361  loss: 0.4728 (0.4868)  loss_classifier: 0.0978 (0.1098)  loss_box_reg: 0.1626 (0.1862)  loss_objectness: 0.1034 (0.1082)  loss_rpn_box_reg: 0.0679 (0.0826)  time: 0.2274  data: 0.0038  max mem: 576\n",
      "Epoch: [58] Total time: 0:00:41 (0.2294 s / it)\n"
     ]
    },
    {
     "name": "stdout",
     "output_type": "stream",
     "text": [
      "creating index...\n",
      "index created!\n"
     ]
    },
    {
     "name": "stderr",
     "output_type": "stream",
     "text": [
      "Test:  [ 0/39]  eta: 0:00:18  model_time: 0.1366 (0.1366)  evaluator_time: 0.0128 (0.0128)  time: 0.4840  data: 0.3186  max mem: 576\n",
      "Test:  [38/39]  eta: 0:00:00  model_time: 0.1427 (0.1401)  evaluator_time: 0.0213 (0.0308)  time: 0.1780  data: 0.0032  max mem: 576\n",
      "Test: Total time: 0:00:07 (0.1878 s / it)\n"
     ]
    },
    {
     "name": "stdout",
     "output_type": "stream",
     "text": [
      "Averaged stats: model_time: 0.1427 (0.1401)  evaluator_time: 0.0213 (0.0308)\n",
      "Accumulating evaluation results...\n",
      "DONE (t=0.11s).\n",
      "IoU metric: bbox\n",
      " Average Precision  (AP) @[ IoU=0.50:0.95 | area=   all | maxDets=100 ] = 0.121\n",
      " Average Precision  (AP) @[ IoU=0.50      | area=   all | maxDets=100 ] = 0.359\n",
      " Average Precision  (AP) @[ IoU=0.75      | area=   all | maxDets=100 ] = 0.049\n",
      " Average Precision  (AP) @[ IoU=0.50:0.95 | area= small | maxDets=100 ] = 0.105\n",
      " Average Precision  (AP) @[ IoU=0.50:0.95 | area=medium | maxDets=100 ] = 0.172\n",
      " Average Precision  (AP) @[ IoU=0.50:0.95 | area= large | maxDets=100 ] = 0.242\n",
      " Average Recall     (AR) @[ IoU=0.50:0.95 | area=   all | maxDets=  1 ] = 0.063\n",
      " Average Recall     (AR) @[ IoU=0.50:0.95 | area=   all | maxDets= 10 ] = 0.214\n",
      " Average Recall     (AR) @[ IoU=0.50:0.95 | area=   all | maxDets=100 ] = 0.314\n",
      " Average Recall     (AR) @[ IoU=0.50:0.95 | area= small | maxDets=100 ] = 0.288\n",
      " Average Recall     (AR) @[ IoU=0.50:0.95 | area=medium | maxDets=100 ] = 0.390\n",
      " Average Recall     (AR) @[ IoU=0.50:0.95 | area= large | maxDets=100 ] = 0.500\n",
      "0.12053942938538537 0.35860165878548783\n",
      "SAVING PLOTS COMPLETE...\n",
      "SAVING PLOTS COMPLETE...\n",
      "SAVING PLOTS COMPLETE...\n",
      "SAVING PLOTS COMPLETE...\n",
      "SAVING PLOTS COMPLETE...\n",
      "SAVING PLOTS COMPLETE...\n"
     ]
    },
    {
     "name": "stderr",
     "output_type": "stream",
     "text": [
      "Epoch: [59]  [  0/180]  eta: 0:01:41  lr: 0.000361  loss: 0.4221 (0.4221)  loss_classifier: 0.1067 (0.1067)  loss_box_reg: 0.2004 (0.2004)  loss_objectness: 0.0672 (0.0672)  loss_rpn_box_reg: 0.0478 (0.0478)  time: 0.5626  data: 0.3285  max mem: 576\n",
      "Epoch: [59]  [100/180]  eta: 0:00:18  lr: 0.000352  loss: 0.5197 (0.4956)  loss_classifier: 0.1139 (0.1115)  loss_box_reg: 0.1942 (0.1904)  loss_objectness: 0.1227 (0.1094)  loss_rpn_box_reg: 0.0846 (0.0843)  time: 0.2342  data: 0.0039  max mem: 576\n",
      "Epoch: [59]  [179/180]  eta: 0:00:00  lr: 0.000346  loss: 0.4764 (0.4872)  loss_classifier: 0.1120 (0.1099)  loss_box_reg: 0.1906 (0.1868)  loss_objectness: 0.1079 (0.1081)  loss_rpn_box_reg: 0.0759 (0.0824)  time: 0.2348  data: 0.0039  max mem: 576\n",
      "Epoch: [59] Total time: 0:00:41 (0.2309 s / it)\n"
     ]
    },
    {
     "name": "stdout",
     "output_type": "stream",
     "text": [
      "creating index...\n",
      "index created!\n"
     ]
    },
    {
     "name": "stderr",
     "output_type": "stream",
     "text": [
      "Test:  [ 0/39]  eta: 0:00:18  model_time: 0.1342 (0.1342)  evaluator_time: 0.0139 (0.0139)  time: 0.4777  data: 0.3137  max mem: 576\n",
      "Test:  [38/39]  eta: 0:00:00  model_time: 0.1443 (0.1442)  evaluator_time: 0.0219 (0.0375)  time: 0.1964  data: 0.0033  max mem: 576\n",
      "Test: Total time: 0:00:07 (0.1982 s / it)\n"
     ]
    },
    {
     "name": "stdout",
     "output_type": "stream",
     "text": [
      "Averaged stats: model_time: 0.1443 (0.1442)  evaluator_time: 0.0219 (0.0375)\n",
      "Accumulating evaluation results...\n",
      "DONE (t=0.11s).\n",
      "IoU metric: bbox\n",
      " Average Precision  (AP) @[ IoU=0.50:0.95 | area=   all | maxDets=100 ] = 0.121\n",
      " Average Precision  (AP) @[ IoU=0.50      | area=   all | maxDets=100 ] = 0.364\n",
      " Average Precision  (AP) @[ IoU=0.75      | area=   all | maxDets=100 ] = 0.042\n",
      " Average Precision  (AP) @[ IoU=0.50:0.95 | area= small | maxDets=100 ] = 0.102\n",
      " Average Precision  (AP) @[ IoU=0.50:0.95 | area=medium | maxDets=100 ] = 0.179\n",
      " Average Precision  (AP) @[ IoU=0.50:0.95 | area= large | maxDets=100 ] = 0.266\n",
      " Average Recall     (AR) @[ IoU=0.50:0.95 | area=   all | maxDets=  1 ] = 0.064\n",
      " Average Recall     (AR) @[ IoU=0.50:0.95 | area=   all | maxDets= 10 ] = 0.217\n",
      " Average Recall     (AR) @[ IoU=0.50:0.95 | area=   all | maxDets=100 ] = 0.313\n",
      " Average Recall     (AR) @[ IoU=0.50:0.95 | area= small | maxDets=100 ] = 0.286\n",
      " Average Recall     (AR) @[ IoU=0.50:0.95 | area=medium | maxDets=100 ] = 0.393\n",
      " Average Recall     (AR) @[ IoU=0.50:0.95 | area= large | maxDets=100 ] = 0.484\n",
      "0.12065371337255461 0.36383716655989523\n",
      "SAVING PLOTS COMPLETE...\n",
      "SAVING PLOTS COMPLETE...\n",
      "SAVING PLOTS COMPLETE...\n",
      "SAVING PLOTS COMPLETE...\n",
      "SAVING PLOTS COMPLETE...\n",
      "SAVING PLOTS COMPLETE...\n"
     ]
    },
    {
     "name": "stderr",
     "output_type": "stream",
     "text": [
      "Epoch: [60]  [  0/180]  eta: 0:01:41  lr: 0.000345  loss: 0.4897 (0.4897)  loss_classifier: 0.1175 (0.1175)  loss_box_reg: 0.1831 (0.1831)  loss_objectness: 0.1015 (0.1015)  loss_rpn_box_reg: 0.0877 (0.0877)  time: 0.5614  data: 0.3229  max mem: 576\n",
      "Epoch: [60]  [100/180]  eta: 0:00:18  lr: 0.000337  loss: 0.4691 (0.4684)  loss_classifier: 0.1001 (0.1065)  loss_box_reg: 0.1720 (0.1815)  loss_objectness: 0.1077 (0.1038)  loss_rpn_box_reg: 0.0793 (0.0767)  time: 0.2289  data: 0.0041  max mem: 576\n",
      "Epoch: [60]  [179/180]  eta: 0:00:00  lr: 0.000331  loss: 0.5082 (0.4835)  loss_classifier: 0.1114 (0.1090)  loss_box_reg: 0.1818 (0.1864)  loss_objectness: 0.1126 (0.1062)  loss_rpn_box_reg: 0.0911 (0.0820)  time: 0.2239  data: 0.0038  max mem: 576\n",
      "Epoch: [60] Total time: 0:00:41 (0.2304 s / it)\n"
     ]
    },
    {
     "name": "stdout",
     "output_type": "stream",
     "text": [
      "creating index...\n",
      "index created!\n"
     ]
    },
    {
     "name": "stderr",
     "output_type": "stream",
     "text": [
      "Test:  [ 0/39]  eta: 0:00:18  model_time: 0.1397 (0.1397)  evaluator_time: 0.0138 (0.0138)  time: 0.4733  data: 0.3039  max mem: 576\n",
      "Test:  [38/39]  eta: 0:00:00  model_time: 0.1349 (0.1641)  evaluator_time: 0.0222 (0.0318)  time: 0.2021  data: 0.0033  max mem: 576\n",
      "Test: Total time: 0:00:08 (0.2121 s / it)\n"
     ]
    },
    {
     "name": "stdout",
     "output_type": "stream",
     "text": [
      "Averaged stats: model_time: 0.1349 (0.1641)  evaluator_time: 0.0222 (0.0318)\n",
      "Accumulating evaluation results...\n",
      "DONE (t=0.11s).\n",
      "IoU metric: bbox\n",
      " Average Precision  (AP) @[ IoU=0.50:0.95 | area=   all | maxDets=100 ] = 0.123\n",
      " Average Precision  (AP) @[ IoU=0.50      | area=   all | maxDets=100 ] = 0.368\n",
      " Average Precision  (AP) @[ IoU=0.75      | area=   all | maxDets=100 ] = 0.052\n",
      " Average Precision  (AP) @[ IoU=0.50:0.95 | area= small | maxDets=100 ] = 0.107\n",
      " Average Precision  (AP) @[ IoU=0.50:0.95 | area=medium | maxDets=100 ] = 0.176\n",
      " Average Precision  (AP) @[ IoU=0.50:0.95 | area= large | maxDets=100 ] = 0.264\n",
      " Average Recall     (AR) @[ IoU=0.50:0.95 | area=   all | maxDets=  1 ] = 0.066\n",
      " Average Recall     (AR) @[ IoU=0.50:0.95 | area=   all | maxDets= 10 ] = 0.220\n",
      " Average Recall     (AR) @[ IoU=0.50:0.95 | area=   all | maxDets=100 ] = 0.313\n",
      " Average Recall     (AR) @[ IoU=0.50:0.95 | area= small | maxDets=100 ] = 0.286\n",
      " Average Recall     (AR) @[ IoU=0.50:0.95 | area=medium | maxDets=100 ] = 0.392\n",
      " Average Recall     (AR) @[ IoU=0.50:0.95 | area= large | maxDets=100 ] = 0.489\n",
      "0.12339553618933723 0.3683124656689988\n",
      "SAVING PLOTS COMPLETE...\n",
      "SAVING PLOTS COMPLETE...\n",
      "SAVING PLOTS COMPLETE...\n",
      "SAVING PLOTS COMPLETE...\n",
      "SAVING PLOTS COMPLETE...\n",
      "SAVING PLOTS COMPLETE...\n"
     ]
    },
    {
     "name": "stderr",
     "output_type": "stream",
     "text": [
      "Epoch: [61]  [  0/180]  eta: 0:01:39  lr: 0.000331  loss: 0.4343 (0.4343)  loss_classifier: 0.0979 (0.0979)  loss_box_reg: 0.1649 (0.1649)  loss_objectness: 0.1008 (0.1008)  loss_rpn_box_reg: 0.0708 (0.0708)  time: 0.5544  data: 0.3230  max mem: 576\n",
      "Epoch: [61]  [100/180]  eta: 0:00:18  lr: 0.000322  loss: 0.5701 (0.4821)  loss_classifier: 0.1258 (0.1085)  loss_box_reg: 0.2194 (0.1847)  loss_objectness: 0.1194 (0.1057)  loss_rpn_box_reg: 0.0893 (0.0832)  time: 0.2309  data: 0.0039  max mem: 576\n",
      "Epoch: [61]  [179/180]  eta: 0:00:00  lr: 0.000316  loss: 0.4304 (0.4848)  loss_classifier: 0.1024 (0.1096)  loss_box_reg: 0.1727 (0.1859)  loss_objectness: 0.0954 (0.1070)  loss_rpn_box_reg: 0.0679 (0.0823)  time: 0.2247  data: 0.0038  max mem: 576\n",
      "Epoch: [61] Total time: 0:00:41 (0.2285 s / it)\n"
     ]
    },
    {
     "name": "stdout",
     "output_type": "stream",
     "text": [
      "creating index...\n",
      "index created!\n"
     ]
    },
    {
     "name": "stderr",
     "output_type": "stream",
     "text": [
      "Test:  [ 0/39]  eta: 0:00:19  model_time: 0.1384 (0.1384)  evaluator_time: 0.0150 (0.0150)  time: 0.4878  data: 0.3186  max mem: 576\n",
      "Test:  [38/39]  eta: 0:00:00  model_time: 0.1323 (0.1590)  evaluator_time: 0.0224 (0.0309)  time: 0.2086  data: 0.0033  max mem: 576\n",
      "Test: Total time: 0:00:08 (0.2071 s / it)\n"
     ]
    },
    {
     "name": "stdout",
     "output_type": "stream",
     "text": [
      "Averaged stats: model_time: 0.1323 (0.1590)  evaluator_time: 0.0224 (0.0309)\n",
      "Accumulating evaluation results...\n",
      "DONE (t=0.10s).\n",
      "IoU metric: bbox\n",
      " Average Precision  (AP) @[ IoU=0.50:0.95 | area=   all | maxDets=100 ] = 0.124\n",
      " Average Precision  (AP) @[ IoU=0.50      | area=   all | maxDets=100 ] = 0.361\n",
      " Average Precision  (AP) @[ IoU=0.75      | area=   all | maxDets=100 ] = 0.055\n",
      " Average Precision  (AP) @[ IoU=0.50:0.95 | area= small | maxDets=100 ] = 0.104\n",
      " Average Precision  (AP) @[ IoU=0.50:0.95 | area=medium | maxDets=100 ] = 0.178\n",
      " Average Precision  (AP) @[ IoU=0.50:0.95 | area= large | maxDets=100 ] = 0.255\n",
      " Average Recall     (AR) @[ IoU=0.50:0.95 | area=   all | maxDets=  1 ] = 0.066\n",
      " Average Recall     (AR) @[ IoU=0.50:0.95 | area=   all | maxDets= 10 ] = 0.215\n",
      " Average Recall     (AR) @[ IoU=0.50:0.95 | area=   all | maxDets=100 ] = 0.311\n",
      " Average Recall     (AR) @[ IoU=0.50:0.95 | area= small | maxDets=100 ] = 0.283\n",
      " Average Recall     (AR) @[ IoU=0.50:0.95 | area=medium | maxDets=100 ] = 0.392\n",
      " Average Recall     (AR) @[ IoU=0.50:0.95 | area= large | maxDets=100 ] = 0.532\n",
      "0.12372814850809587 0.36077104527815396\n",
      "SAVING PLOTS COMPLETE...\n",
      "SAVING PLOTS COMPLETE...\n",
      "SAVING PLOTS COMPLETE...\n",
      "SAVING PLOTS COMPLETE...\n",
      "SAVING PLOTS COMPLETE...\n",
      "SAVING PLOTS COMPLETE...\n"
     ]
    },
    {
     "name": "stderr",
     "output_type": "stream",
     "text": [
      "Epoch: [62]  [  0/180]  eta: 0:01:42  lr: 0.000316  loss: 0.5340 (0.5340)  loss_classifier: 0.1112 (0.1112)  loss_box_reg: 0.2087 (0.2087)  loss_objectness: 0.1063 (0.1063)  loss_rpn_box_reg: 0.1078 (0.1078)  time: 0.5675  data: 0.3274  max mem: 576\n",
      "Epoch: [62]  [100/180]  eta: 0:00:18  lr: 0.000308  loss: 0.4649 (0.4855)  loss_classifier: 0.0993 (0.1086)  loss_box_reg: 0.1701 (0.1866)  loss_objectness: 0.1004 (0.1052)  loss_rpn_box_reg: 0.0766 (0.0851)  time: 0.2261  data: 0.0039  max mem: 576\n",
      "Epoch: [62]  [179/180]  eta: 0:00:00  lr: 0.000302  loss: 0.4343 (0.4818)  loss_classifier: 0.1043 (0.1096)  loss_box_reg: 0.1629 (0.1854)  loss_objectness: 0.0997 (0.1055)  loss_rpn_box_reg: 0.0619 (0.0813)  time: 0.2257  data: 0.0038  max mem: 576\n",
      "Epoch: [62] Total time: 0:00:40 (0.2276 s / it)\n"
     ]
    },
    {
     "name": "stdout",
     "output_type": "stream",
     "text": [
      "creating index...\n",
      "index created!\n"
     ]
    },
    {
     "name": "stderr",
     "output_type": "stream",
     "text": [
      "Test:  [ 0/39]  eta: 0:00:18  model_time: 0.1418 (0.1418)  evaluator_time: 0.0127 (0.0127)  time: 0.4825  data: 0.3129  max mem: 576\n",
      "Test:  [38/39]  eta: 0:00:00  model_time: 0.1347 (0.1426)  evaluator_time: 0.0210 (0.0366)  time: 0.1861  data: 0.0033  max mem: 576\n",
      "Test: Total time: 0:00:07 (0.1960 s / it)\n"
     ]
    },
    {
     "name": "stdout",
     "output_type": "stream",
     "text": [
      "Averaged stats: model_time: 0.1347 (0.1426)  evaluator_time: 0.0210 (0.0366)\n",
      "Accumulating evaluation results...\n",
      "DONE (t=0.11s).\n",
      "IoU metric: bbox\n",
      " Average Precision  (AP) @[ IoU=0.50:0.95 | area=   all | maxDets=100 ] = 0.125\n",
      " Average Precision  (AP) @[ IoU=0.50      | area=   all | maxDets=100 ] = 0.370\n",
      " Average Precision  (AP) @[ IoU=0.75      | area=   all | maxDets=100 ] = 0.054\n",
      " Average Precision  (AP) @[ IoU=0.50:0.95 | area= small | maxDets=100 ] = 0.107\n",
      " Average Precision  (AP) @[ IoU=0.50:0.95 | area=medium | maxDets=100 ] = 0.177\n",
      " Average Precision  (AP) @[ IoU=0.50:0.95 | area= large | maxDets=100 ] = 0.281\n",
      " Average Recall     (AR) @[ IoU=0.50:0.95 | area=   all | maxDets=  1 ] = 0.066\n",
      " Average Recall     (AR) @[ IoU=0.50:0.95 | area=   all | maxDets= 10 ] = 0.219\n",
      " Average Recall     (AR) @[ IoU=0.50:0.95 | area=   all | maxDets=100 ] = 0.312\n",
      " Average Recall     (AR) @[ IoU=0.50:0.95 | area= small | maxDets=100 ] = 0.288\n",
      " Average Recall     (AR) @[ IoU=0.50:0.95 | area=medium | maxDets=100 ] = 0.379\n",
      " Average Recall     (AR) @[ IoU=0.50:0.95 | area= large | maxDets=100 ] = 0.532\n",
      "0.12469859379638323 0.36984365937580516\n",
      "SAVING PLOTS COMPLETE...\n",
      "SAVING PLOTS COMPLETE...\n",
      "SAVING PLOTS COMPLETE...\n",
      "SAVING PLOTS COMPLETE...\n",
      "SAVING PLOTS COMPLETE...\n",
      "SAVING PLOTS COMPLETE...\n"
     ]
    },
    {
     "name": "stderr",
     "output_type": "stream",
     "text": [
      "Epoch: [63]  [  0/180]  eta: 0:01:40  lr: 0.000301  loss: 0.4283 (0.4283)  loss_classifier: 0.0961 (0.0961)  loss_box_reg: 0.1729 (0.1729)  loss_objectness: 0.0793 (0.0793)  loss_rpn_box_reg: 0.0800 (0.0800)  time: 0.5572  data: 0.3295  max mem: 576\n",
      "Epoch: [63]  [100/180]  eta: 0:00:18  lr: 0.000293  loss: 0.4777 (0.4815)  loss_classifier: 0.1102 (0.1092)  loss_box_reg: 0.1838 (0.1867)  loss_objectness: 0.0986 (0.1053)  loss_rpn_box_reg: 0.0781 (0.0802)  time: 0.2221  data: 0.0037  max mem: 576\n",
      "Epoch: [63]  [179/180]  eta: 0:00:00  lr: 0.000287  loss: 0.4749 (0.4785)  loss_classifier: 0.1016 (0.1084)  loss_box_reg: 0.1708 (0.1846)  loss_objectness: 0.1018 (0.1042)  loss_rpn_box_reg: 0.0841 (0.0813)  time: 0.2230  data: 0.0037  max mem: 576\n",
      "Epoch: [63] Total time: 0:00:40 (0.2254 s / it)\n"
     ]
    },
    {
     "name": "stdout",
     "output_type": "stream",
     "text": [
      "creating index...\n",
      "index created!\n"
     ]
    },
    {
     "name": "stderr",
     "output_type": "stream",
     "text": [
      "Test:  [ 0/39]  eta: 0:00:18  model_time: 0.1334 (0.1334)  evaluator_time: 0.0138 (0.0138)  time: 0.4745  data: 0.3105  max mem: 576\n",
      "Test:  [38/39]  eta: 0:00:00  model_time: 0.1432 (0.1430)  evaluator_time: 0.0206 (0.0297)  time: 0.1774  data: 0.0033  max mem: 576\n",
      "Test: Total time: 0:00:07 (0.1888 s / it)\n"
     ]
    },
    {
     "name": "stdout",
     "output_type": "stream",
     "text": [
      "Averaged stats: model_time: 0.1432 (0.1430)  evaluator_time: 0.0206 (0.0297)\n",
      "Accumulating evaluation results...\n",
      "DONE (t=0.10s).\n",
      "IoU metric: bbox\n",
      " Average Precision  (AP) @[ IoU=0.50:0.95 | area=   all | maxDets=100 ] = 0.119\n",
      " Average Precision  (AP) @[ IoU=0.50      | area=   all | maxDets=100 ] = 0.361\n",
      " Average Precision  (AP) @[ IoU=0.75      | area=   all | maxDets=100 ] = 0.048\n",
      " Average Precision  (AP) @[ IoU=0.50:0.95 | area= small | maxDets=100 ] = 0.104\n",
      " Average Precision  (AP) @[ IoU=0.50:0.95 | area=medium | maxDets=100 ] = 0.168\n",
      " Average Precision  (AP) @[ IoU=0.50:0.95 | area= large | maxDets=100 ] = 0.239\n",
      " Average Recall     (AR) @[ IoU=0.50:0.95 | area=   all | maxDets=  1 ] = 0.065\n",
      " Average Recall     (AR) @[ IoU=0.50:0.95 | area=   all | maxDets= 10 ] = 0.212\n",
      " Average Recall     (AR) @[ IoU=0.50:0.95 | area=   all | maxDets=100 ] = 0.310\n",
      " Average Recall     (AR) @[ IoU=0.50:0.95 | area= small | maxDets=100 ] = 0.287\n",
      " Average Recall     (AR) @[ IoU=0.50:0.95 | area=medium | maxDets=100 ] = 0.377\n",
      " Average Recall     (AR) @[ IoU=0.50:0.95 | area= large | maxDets=100 ] = 0.474\n",
      "0.11949411594225581 0.3612361222679339\n",
      "SAVING PLOTS COMPLETE...\n",
      "SAVING PLOTS COMPLETE...\n",
      "SAVING PLOTS COMPLETE...\n",
      "SAVING PLOTS COMPLETE...\n",
      "SAVING PLOTS COMPLETE...\n",
      "SAVING PLOTS COMPLETE...\n"
     ]
    },
    {
     "name": "stderr",
     "output_type": "stream",
     "text": [
      "Epoch: [64]  [  0/180]  eta: 0:01:41  lr: 0.000287  loss: 0.7570 (0.7570)  loss_classifier: 0.1605 (0.1605)  loss_box_reg: 0.3109 (0.3109)  loss_objectness: 0.1533 (0.1533)  loss_rpn_box_reg: 0.1324 (0.1324)  time: 0.5632  data: 0.3294  max mem: 576\n"
     ]
    }
   ],
   "source": [
    "best_map = -np.inf\n",
    "best_map_05 = -np.inf\n",
    "patience = 10\n",
    "ct = 0\n",
    "\n",
    "\n",
    "for epoch in range(start_epochs, NUM_EPOCHS):\n",
    "            \n",
    "    train_loss_hist.reset()\n",
    "\n",
    "    _, batch_loss_list, \\\n",
    "            batch_loss_cls_list, \\\n",
    "            batch_loss_box_reg_list, \\\n",
    "            batch_loss_objectness_list, \\\n",
    "            batch_loss_rpn_list = train_one_epoch(\n",
    "            model, \n",
    "            optimizer, \n",
    "            train_loader, \n",
    "            DEVICE, \n",
    "            epoch, \n",
    "            train_loss_hist,\n",
    "            print_freq=100,\n",
    "                \n",
    "            scheduler=scheduler,\n",
    "            scaler=SCALER\n",
    "        )\n",
    "\n",
    "    stats, val_pred_image = evaluate(\n",
    "            model, \n",
    "            valid_loader, \n",
    "            device=DEVICE,\n",
    "            save_valid_preds=SAVE_VALID_PREDICTIONS,\n",
    "            out_dir=OUT_DIR,\n",
    "            classes=CLASSES,\n",
    "            colors=COLORS\n",
    "        )\n",
    "\n",
    "    # Append the current epoch's batch-wise losses to the `train_loss_list`.\n",
    "    train_loss_list.extend(batch_loss_list)\n",
    "    loss_cls_list.append(np.mean(np.array(batch_loss_cls_list,)))\n",
    "    loss_box_reg_list.append(np.mean(np.array(batch_loss_box_reg_list)))\n",
    "    loss_objectness_list.append(np.mean(np.array(batch_loss_objectness_list)))\n",
    "    loss_rpn_list.append(np.mean(np.array(batch_loss_rpn_list)))\n",
    "\n",
    "    # Append curent epoch's average loss to `train_loss_list_epoch`.\n",
    "    train_loss_list_epoch.append(train_loss_hist.value)\n",
    "    val_map_05.append(stats[1])\n",
    "    val_map.append(stats[0])\n",
    "\n",
    "    print(stats[0],stats[1] )\n",
    "\n",
    "    if stats[0] > best_map:\n",
    "        best_map = stats[0]\n",
    "        ct = 0\n",
    "        torch.save({\n",
    "                'epoch': 1,\n",
    "                'model_state_dict': model.state_dict(),\n",
    "                'data':  data_configs,\n",
    "                'model_name': args['model'],\n",
    "                }, f\"{OUT_DIR}/best_model.pth\")\n",
    "    elif stats[1] > best_map_05:\n",
    "        best_map_05 = stats[1]\n",
    "        ct = 0\n",
    "        torch.save({\n",
    "                'epoch': 1,\n",
    "                'model_state_dict': model.state_dict(),\n",
    "                'data':  data_configs,\n",
    "                'model_name': args['model'],\n",
    "                }, f\"{OUT_DIR}/best_model.pth\")\n",
    "    else: \n",
    "        ct += 1\n",
    "        if ct > patience: \n",
    "            print('End: best val_map and best_map_05', best_map, best_map_05)\n",
    "            break\n",
    "            \n",
    "\n",
    "        # Save loss plot for batch-wise list.\n",
    "    save_loss_plot(OUT_DIR, train_loss_list)\n",
    "    save_loss_plot( OUT_DIR,   train_loss_list_epoch,'epochs', 'train loss', save_name='train_loss_epoch')\n",
    "    save_loss_plot(OUT_DIR, loss_cls_list, 'epochs',  'loss cls',save_name='train_loss_cls')\n",
    "    save_loss_plot( OUT_DIR, loss_box_reg_list,  'epochs',  'loss bbox reg',save_name='train_loss_bbox_reg')\n",
    "    save_loss_plot( OUT_DIR, loss_objectness_list, 'epochs', 'loss obj',save_name='train_loss_obj' )\n",
    "    save_loss_plot( OUT_DIR,  loss_rpn_list, 'epochs','loss rpn bbox', save_name='train_loss_rpn_bbox')\n",
    "    save_mAP(OUT_DIR, val_map_05, val_map)\n",
    "\n",
    "    tensorboard_loss_log( 'Train loss',   np.array(train_loss_list_epoch),  writer,  epoch )\n",
    "    tensorboard_map_log( name='mAP',  val_map_05=np.array(val_map_05), val_map=np.array(val_map), writer=writer,epoch=epoch)\n",
    "\n",
    "    coco_log(OUT_DIR, stats)\n",
    "    csv_log(OUT_DIR,  stats,  epoch, train_loss_list,loss_cls_list, loss_box_reg_list, loss_objectness_list, loss_rpn_list )\n"
   ]
  },
  {
   "cell_type": "code",
   "execution_count": null,
   "id": "122e6db3-6f8c-4c4b-bde4-c6c37b886d11",
   "metadata": {},
   "outputs": [],
   "source": []
  },
  {
   "cell_type": "code",
   "execution_count": null,
   "id": "fd4ca196-9495-4a5b-94a3-c8f7c6bbbbb0",
   "metadata": {},
   "outputs": [],
   "source": []
  },
  {
   "cell_type": "code",
   "execution_count": 9,
   "id": "24c847df-25a1-407f-880d-1245f7dc04d8",
   "metadata": {},
   "outputs": [
    {
     "name": "stdout",
     "output_type": "stream",
     "text": [
      "building models from outputs/training/land4sensor_training/best_model.pth\n",
      "current model setting: base_from_mae\n",
      "Checking Labels and images...\n",
      "100%|█████████████████████████████████████| 309/309 [00:00<00:00, 227415.32it/s]\n",
      "creating index...\n",
      "index created!\n",
      "^C\n",
      "Traceback (most recent call last):\n",
      "  File \"/hdd/yuchen/pipeline/training_pipeline/eval.py\", line 202, in <module>\n",
      "    stats, _ = evaluate(\n",
      "  File \"/hdd/yuchen/anaconda3/envs/291k/lib/python3.10/site-packages/torch/utils/_contextlib.py\", line 115, in decorate_context\n",
      "    return func(*args, **kwargs)\n",
      "  File \"/hdd/yuchen/pipeline/training_pipeline/torch_utils/engine.py\", line 144, in evaluate\n",
      "    outputs = model(images)\n",
      "  File \"/hdd/yuchen/anaconda3/envs/291k/lib/python3.10/site-packages/torch/nn/modules/module.py\", line 1511, in _wrapped_call_impl\n",
      "    return self._call_impl(*args, **kwargs)\n",
      "  File \"/hdd/yuchen/anaconda3/envs/291k/lib/python3.10/site-packages/torch/nn/modules/module.py\", line 1520, in _call_impl\n",
      "    return forward_call(*args, **kwargs)\n",
      "  File \"/hdd/yuchen/anaconda3/envs/291k/lib/python3.10/site-packages/torchvision/models/detection/generalized_rcnn.py\", line 104, in forward\n",
      "    proposals, proposal_losses = self.rpn(images, features, targets)\n",
      "  File \"/hdd/yuchen/anaconda3/envs/291k/lib/python3.10/site-packages/torch/nn/modules/module.py\", line 1511, in _wrapped_call_impl\n",
      "    return self._call_impl(*args, **kwargs)\n",
      "  File \"/hdd/yuchen/anaconda3/envs/291k/lib/python3.10/site-packages/torch/nn/modules/module.py\", line 1520, in _call_impl\n",
      "    return forward_call(*args, **kwargs)\n",
      "  File \"/hdd/yuchen/anaconda3/envs/291k/lib/python3.10/site-packages/torchvision/models/detection/rpn.py\", line 370, in forward\n",
      "    proposals = self.box_coder.decode(pred_bbox_deltas.detach(), anchors)\n",
      "  File \"/hdd/yuchen/anaconda3/envs/291k/lib/python3.10/site-packages/torchvision/models/detection/_utils.py\", line 178, in decode\n",
      "    pred_boxes = self.decode_single(rel_codes, concat_boxes)\n",
      "  File \"/hdd/yuchen/anaconda3/envs/291k/lib/python3.10/site-packages/torchvision/models/detection/_utils.py\", line 216, in decode_single\n",
      "    c_to_c_h = torch.tensor(0.5, dtype=pred_ctr_y.dtype, device=pred_h.device) * pred_h\n",
      "KeyboardInterrupt\n"
     ]
    }
   ],
   "source": [
    "!python eval.py --data data_configs/land4sensor.yaml --weights outputs/training/land4sensor_training/best_model.pth --imgsz 224 --device cuda:0  --model fasterrcnn_swin"
   ]
  },
  {
   "cell_type": "code",
   "execution_count": 10,
   "id": "4b71c487-fb78-4fd6-9127-da3a4737e2c5",
   "metadata": {},
   "outputs": [
    {
     "name": "stdout",
     "output_type": "stream",
     "text": [
      "Building from model name arguments...\n",
      "current model setting: base_from_mae\n",
      "Test instances: 309\n",
      "Image 1 done...\n",
      "--------------------------------------------------\n",
      "Image 2 done...\n",
      "--------------------------------------------------\n",
      "Image 3 done...\n",
      "--------------------------------------------------\n",
      "Image 4 done...\n",
      "--------------------------------------------------\n",
      "Image 5 done...\n",
      "--------------------------------------------------\n",
      "Image 6 done...\n",
      "--------------------------------------------------\n",
      "Image 7 done...\n",
      "--------------------------------------------------\n",
      "Image 8 done...\n",
      "--------------------------------------------------\n",
      "Image 9 done...\n",
      "--------------------------------------------------\n",
      "Image 10 done...\n",
      "--------------------------------------------------\n",
      "Image 11 done...\n",
      "--------------------------------------------------\n",
      "Image 12 done...\n",
      "--------------------------------------------------\n",
      "Image 13 done...\n",
      "--------------------------------------------------\n",
      "Image 14 done...\n",
      "--------------------------------------------------\n",
      "Image 15 done...\n",
      "--------------------------------------------------\n",
      "Image 16 done...\n",
      "--------------------------------------------------\n",
      "Image 17 done...\n",
      "--------------------------------------------------\n",
      "Image 18 done...\n",
      "--------------------------------------------------\n",
      "Image 19 done...\n",
      "--------------------------------------------------\n",
      "Image 20 done...\n",
      "--------------------------------------------------\n",
      "Image 21 done...\n",
      "--------------------------------------------------\n",
      "Image 22 done...\n",
      "--------------------------------------------------\n",
      "Image 23 done...\n",
      "--------------------------------------------------\n",
      "Image 24 done...\n",
      "--------------------------------------------------\n",
      "Image 25 done...\n",
      "--------------------------------------------------\n",
      "Image 26 done...\n",
      "--------------------------------------------------\n",
      "Image 27 done...\n",
      "--------------------------------------------------\n",
      "Image 28 done...\n",
      "--------------------------------------------------\n",
      "Image 29 done...\n",
      "--------------------------------------------------\n",
      "Image 30 done...\n",
      "--------------------------------------------------\n",
      "Image 31 done...\n",
      "--------------------------------------------------\n",
      "Image 32 done...\n",
      "--------------------------------------------------\n",
      "Image 33 done...\n",
      "--------------------------------------------------\n",
      "Image 34 done...\n",
      "--------------------------------------------------\n",
      "Image 35 done...\n",
      "--------------------------------------------------\n",
      "Image 36 done...\n",
      "--------------------------------------------------\n",
      "Image 37 done...\n",
      "--------------------------------------------------\n",
      "Image 38 done...\n",
      "--------------------------------------------------\n",
      "Image 39 done...\n",
      "--------------------------------------------------\n",
      "Image 40 done...\n",
      "--------------------------------------------------\n",
      "Image 41 done...\n",
      "--------------------------------------------------\n",
      "Image 42 done...\n",
      "--------------------------------------------------\n",
      "Image 43 done...\n",
      "--------------------------------------------------\n",
      "Image 44 done...\n",
      "--------------------------------------------------\n",
      "Image 45 done...\n",
      "--------------------------------------------------\n",
      "Image 46 done...\n",
      "--------------------------------------------------\n",
      "Image 47 done...\n",
      "--------------------------------------------------\n",
      "Image 48 done...\n",
      "--------------------------------------------------\n",
      "Image 49 done...\n",
      "--------------------------------------------------\n",
      "Image 50 done...\n",
      "--------------------------------------------------\n",
      "Image 51 done...\n",
      "--------------------------------------------------\n",
      "Image 52 done...\n",
      "--------------------------------------------------\n",
      "Image 53 done...\n",
      "--------------------------------------------------\n",
      "Image 54 done...\n",
      "--------------------------------------------------\n",
      "Image 55 done...\n",
      "--------------------------------------------------\n",
      "Image 56 done...\n",
      "--------------------------------------------------\n",
      "Image 57 done...\n",
      "--------------------------------------------------\n",
      "Image 58 done...\n",
      "--------------------------------------------------\n",
      "Image 59 done...\n",
      "--------------------------------------------------\n",
      "Image 60 done...\n",
      "--------------------------------------------------\n",
      "Image 61 done...\n",
      "--------------------------------------------------\n",
      "Image 62 done...\n",
      "--------------------------------------------------\n",
      "Image 63 done...\n",
      "--------------------------------------------------\n",
      "Image 64 done...\n",
      "--------------------------------------------------\n",
      "Image 65 done...\n",
      "--------------------------------------------------\n",
      "Image 66 done...\n",
      "--------------------------------------------------\n",
      "Image 67 done...\n",
      "--------------------------------------------------\n",
      "Image 68 done...\n",
      "--------------------------------------------------\n",
      "Image 69 done...\n",
      "--------------------------------------------------\n",
      "Image 70 done...\n",
      "--------------------------------------------------\n",
      "Image 71 done...\n",
      "--------------------------------------------------\n",
      "Image 72 done...\n",
      "--------------------------------------------------\n",
      "Image 73 done...\n",
      "--------------------------------------------------\n",
      "Image 74 done...\n",
      "--------------------------------------------------\n",
      "Image 75 done...\n",
      "--------------------------------------------------\n",
      "Image 76 done...\n",
      "--------------------------------------------------\n",
      "Image 77 done...\n",
      "--------------------------------------------------\n",
      "Image 78 done...\n",
      "--------------------------------------------------\n",
      "Image 79 done...\n",
      "--------------------------------------------------\n",
      "Image 80 done...\n",
      "--------------------------------------------------\n",
      "Image 81 done...\n",
      "--------------------------------------------------\n",
      "Image 82 done...\n",
      "--------------------------------------------------\n",
      "Image 83 done...\n",
      "--------------------------------------------------\n",
      "Image 84 done...\n",
      "--------------------------------------------------\n",
      "Image 85 done...\n",
      "--------------------------------------------------\n",
      "Image 86 done...\n",
      "--------------------------------------------------\n",
      "Image 87 done...\n",
      "--------------------------------------------------\n",
      "Image 88 done...\n",
      "--------------------------------------------------\n",
      "Image 89 done...\n",
      "--------------------------------------------------\n",
      "Image 90 done...\n",
      "--------------------------------------------------\n",
      "Image 91 done...\n",
      "--------------------------------------------------\n",
      "Image 92 done...\n",
      "--------------------------------------------------\n",
      "Image 93 done...\n",
      "--------------------------------------------------\n",
      "Image 94 done...\n",
      "--------------------------------------------------\n",
      "Image 95 done...\n",
      "--------------------------------------------------\n",
      "Image 96 done...\n",
      "--------------------------------------------------\n",
      "Image 97 done...\n",
      "--------------------------------------------------\n",
      "Image 98 done...\n",
      "--------------------------------------------------\n",
      "Image 99 done...\n",
      "--------------------------------------------------\n",
      "Image 100 done...\n",
      "--------------------------------------------------\n",
      "Image 101 done...\n",
      "--------------------------------------------------\n",
      "Image 102 done...\n",
      "--------------------------------------------------\n",
      "Image 103 done...\n",
      "--------------------------------------------------\n",
      "Image 104 done...\n",
      "--------------------------------------------------\n",
      "Image 105 done...\n",
      "--------------------------------------------------\n",
      "Image 106 done...\n",
      "--------------------------------------------------\n",
      "Image 107 done...\n",
      "--------------------------------------------------\n",
      "Image 108 done...\n",
      "--------------------------------------------------\n",
      "Image 109 done...\n",
      "--------------------------------------------------\n",
      "Image 110 done...\n",
      "--------------------------------------------------\n",
      "Image 111 done...\n",
      "--------------------------------------------------\n",
      "Image 112 done...\n",
      "--------------------------------------------------\n",
      "Image 113 done...\n",
      "--------------------------------------------------\n",
      "Image 114 done...\n",
      "--------------------------------------------------\n",
      "Image 115 done...\n",
      "--------------------------------------------------\n",
      "Image 116 done...\n",
      "--------------------------------------------------\n",
      "Image 117 done...\n",
      "--------------------------------------------------\n",
      "Image 118 done...\n",
      "--------------------------------------------------\n",
      "Image 119 done...\n",
      "--------------------------------------------------\n",
      "Image 120 done...\n",
      "--------------------------------------------------\n",
      "Image 121 done...\n",
      "--------------------------------------------------\n",
      "Image 122 done...\n",
      "--------------------------------------------------\n",
      "Image 123 done...\n",
      "--------------------------------------------------\n",
      "Image 124 done...\n",
      "--------------------------------------------------\n",
      "Image 125 done...\n",
      "--------------------------------------------------\n",
      "Image 126 done...\n",
      "--------------------------------------------------\n",
      "Image 127 done...\n",
      "--------------------------------------------------\n",
      "Image 128 done...\n",
      "--------------------------------------------------\n",
      "Image 129 done...\n",
      "--------------------------------------------------\n",
      "Image 130 done...\n",
      "--------------------------------------------------\n",
      "Image 131 done...\n",
      "--------------------------------------------------\n",
      "Image 132 done...\n",
      "--------------------------------------------------\n",
      "Image 133 done...\n",
      "--------------------------------------------------\n",
      "Image 134 done...\n",
      "--------------------------------------------------\n",
      "Image 135 done...\n",
      "--------------------------------------------------\n",
      "Image 136 done...\n",
      "--------------------------------------------------\n",
      "Image 137 done...\n",
      "--------------------------------------------------\n",
      "Image 138 done...\n",
      "--------------------------------------------------\n",
      "Image 139 done...\n",
      "--------------------------------------------------\n",
      "Image 140 done...\n",
      "--------------------------------------------------\n",
      "Image 141 done...\n",
      "--------------------------------------------------\n",
      "Image 142 done...\n",
      "--------------------------------------------------\n",
      "Image 143 done...\n",
      "--------------------------------------------------\n",
      "Image 144 done...\n",
      "--------------------------------------------------\n",
      "Image 145 done...\n",
      "--------------------------------------------------\n",
      "Image 146 done...\n",
      "--------------------------------------------------\n",
      "Image 147 done...\n",
      "--------------------------------------------------\n",
      "Image 148 done...\n",
      "--------------------------------------------------\n",
      "Image 149 done...\n",
      "--------------------------------------------------\n",
      "Image 150 done...\n",
      "--------------------------------------------------\n",
      "Image 151 done...\n",
      "--------------------------------------------------\n",
      "Image 152 done...\n",
      "--------------------------------------------------\n",
      "Image 153 done...\n",
      "--------------------------------------------------\n",
      "Image 154 done...\n",
      "--------------------------------------------------\n",
      "Image 155 done...\n",
      "--------------------------------------------------\n",
      "Image 156 done...\n",
      "--------------------------------------------------\n",
      "Image 157 done...\n",
      "--------------------------------------------------\n",
      "Image 158 done...\n",
      "--------------------------------------------------\n",
      "Image 159 done...\n",
      "--------------------------------------------------\n",
      "Image 160 done...\n",
      "--------------------------------------------------\n",
      "Image 161 done...\n",
      "--------------------------------------------------\n",
      "Image 162 done...\n",
      "--------------------------------------------------\n",
      "Image 163 done...\n",
      "--------------------------------------------------\n",
      "Image 164 done...\n",
      "--------------------------------------------------\n",
      "Image 165 done...\n",
      "--------------------------------------------------\n",
      "Image 166 done...\n",
      "--------------------------------------------------\n",
      "Image 167 done...\n",
      "--------------------------------------------------\n",
      "Image 168 done...\n",
      "--------------------------------------------------\n",
      "Image 169 done...\n",
      "--------------------------------------------------\n",
      "Image 170 done...\n",
      "--------------------------------------------------\n",
      "Image 171 done...\n",
      "--------------------------------------------------\n",
      "Image 172 done...\n",
      "--------------------------------------------------\n",
      "Image 173 done...\n",
      "--------------------------------------------------\n",
      "Image 174 done...\n",
      "--------------------------------------------------\n",
      "Image 175 done...\n",
      "--------------------------------------------------\n",
      "Image 176 done...\n",
      "--------------------------------------------------\n",
      "Image 177 done...\n",
      "--------------------------------------------------\n",
      "Image 178 done...\n",
      "--------------------------------------------------\n",
      "Image 179 done...\n",
      "--------------------------------------------------\n",
      "Image 180 done...\n",
      "--------------------------------------------------\n",
      "Image 181 done...\n",
      "--------------------------------------------------\n",
      "Image 182 done...\n",
      "--------------------------------------------------\n",
      "Image 183 done...\n",
      "--------------------------------------------------\n",
      "Image 184 done...\n",
      "--------------------------------------------------\n",
      "Image 185 done...\n",
      "--------------------------------------------------\n",
      "Image 186 done...\n",
      "--------------------------------------------------\n",
      "Image 187 done...\n",
      "--------------------------------------------------\n",
      "Image 188 done...\n",
      "--------------------------------------------------\n",
      "Image 189 done...\n",
      "--------------------------------------------------\n",
      "Image 190 done...\n",
      "--------------------------------------------------\n",
      "Image 191 done...\n",
      "--------------------------------------------------\n",
      "Image 192 done...\n",
      "--------------------------------------------------\n",
      "Image 193 done...\n",
      "--------------------------------------------------\n",
      "Image 194 done...\n",
      "--------------------------------------------------\n",
      "Image 195 done...\n",
      "--------------------------------------------------\n",
      "Image 196 done...\n",
      "--------------------------------------------------\n",
      "Image 197 done...\n",
      "--------------------------------------------------\n",
      "Image 198 done...\n",
      "--------------------------------------------------\n",
      "Image 199 done...\n",
      "--------------------------------------------------\n",
      "Image 200 done...\n",
      "--------------------------------------------------\n",
      "Image 201 done...\n",
      "--------------------------------------------------\n",
      "Image 202 done...\n",
      "--------------------------------------------------\n",
      "Image 203 done...\n",
      "--------------------------------------------------\n",
      "Image 204 done...\n",
      "--------------------------------------------------\n",
      "Image 205 done...\n",
      "--------------------------------------------------\n",
      "Image 206 done...\n",
      "--------------------------------------------------\n",
      "Image 207 done...\n",
      "--------------------------------------------------\n",
      "Image 208 done...\n",
      "--------------------------------------------------\n",
      "Image 209 done...\n",
      "--------------------------------------------------\n",
      "Image 210 done...\n",
      "--------------------------------------------------\n",
      "Image 211 done...\n",
      "--------------------------------------------------\n",
      "Image 212 done...\n",
      "--------------------------------------------------\n",
      "Image 213 done...\n",
      "--------------------------------------------------\n",
      "Image 214 done...\n",
      "--------------------------------------------------\n",
      "Image 215 done...\n",
      "--------------------------------------------------\n",
      "Image 216 done...\n",
      "--------------------------------------------------\n",
      "Image 217 done...\n",
      "--------------------------------------------------\n",
      "Image 218 done...\n",
      "--------------------------------------------------\n",
      "Image 219 done...\n",
      "--------------------------------------------------\n",
      "Image 220 done...\n",
      "--------------------------------------------------\n",
      "Image 221 done...\n",
      "--------------------------------------------------\n",
      "Image 222 done...\n",
      "--------------------------------------------------\n",
      "Image 223 done...\n",
      "--------------------------------------------------\n",
      "Image 224 done...\n",
      "--------------------------------------------------\n",
      "Image 225 done...\n",
      "--------------------------------------------------\n",
      "Image 226 done...\n",
      "--------------------------------------------------\n",
      "Image 227 done...\n",
      "--------------------------------------------------\n",
      "Image 228 done...\n",
      "--------------------------------------------------\n",
      "Image 229 done...\n",
      "--------------------------------------------------\n",
      "Image 230 done...\n",
      "--------------------------------------------------\n",
      "Image 231 done...\n",
      "--------------------------------------------------\n",
      "Image 232 done...\n",
      "--------------------------------------------------\n",
      "Image 233 done...\n",
      "--------------------------------------------------\n",
      "Image 234 done...\n",
      "--------------------------------------------------\n",
      "Image 235 done...\n",
      "--------------------------------------------------\n",
      "Image 236 done...\n",
      "--------------------------------------------------\n",
      "Image 237 done...\n",
      "--------------------------------------------------\n",
      "Image 238 done...\n",
      "--------------------------------------------------\n",
      "Image 239 done...\n",
      "--------------------------------------------------\n",
      "Image 240 done...\n",
      "--------------------------------------------------\n",
      "Image 241 done...\n",
      "--------------------------------------------------\n",
      "Image 242 done...\n",
      "--------------------------------------------------\n",
      "Image 243 done...\n",
      "--------------------------------------------------\n",
      "Image 244 done...\n",
      "--------------------------------------------------\n",
      "Image 245 done...\n",
      "--------------------------------------------------\n",
      "Image 246 done...\n",
      "--------------------------------------------------\n",
      "Image 247 done...\n",
      "--------------------------------------------------\n",
      "Image 248 done...\n",
      "--------------------------------------------------\n",
      "Image 249 done...\n",
      "--------------------------------------------------\n",
      "Image 250 done...\n",
      "--------------------------------------------------\n",
      "Image 251 done...\n",
      "--------------------------------------------------\n",
      "Image 252 done...\n",
      "--------------------------------------------------\n",
      "Image 253 done...\n",
      "--------------------------------------------------\n",
      "Image 254 done...\n",
      "--------------------------------------------------\n",
      "Image 255 done...\n",
      "--------------------------------------------------\n",
      "Image 256 done...\n",
      "--------------------------------------------------\n",
      "Image 257 done...\n",
      "--------------------------------------------------\n",
      "Image 258 done...\n",
      "--------------------------------------------------\n",
      "Image 259 done...\n",
      "--------------------------------------------------\n",
      "Image 260 done...\n",
      "--------------------------------------------------\n",
      "Image 261 done...\n",
      "--------------------------------------------------\n",
      "Image 262 done...\n",
      "--------------------------------------------------\n",
      "Image 263 done...\n",
      "--------------------------------------------------\n",
      "Image 264 done...\n",
      "--------------------------------------------------\n",
      "Image 265 done...\n",
      "--------------------------------------------------\n",
      "Image 266 done...\n",
      "--------------------------------------------------\n",
      "Image 267 done...\n",
      "--------------------------------------------------\n",
      "Image 268 done...\n",
      "--------------------------------------------------\n",
      "Image 269 done...\n",
      "--------------------------------------------------\n",
      "Image 270 done...\n",
      "--------------------------------------------------\n",
      "Image 271 done...\n",
      "--------------------------------------------------\n",
      "Image 272 done...\n",
      "--------------------------------------------------\n",
      "Image 273 done...\n",
      "--------------------------------------------------\n",
      "Image 274 done...\n",
      "--------------------------------------------------\n",
      "Image 275 done...\n",
      "--------------------------------------------------\n",
      "Image 276 done...\n",
      "--------------------------------------------------\n",
      "Image 277 done...\n",
      "--------------------------------------------------\n",
      "Image 278 done...\n",
      "--------------------------------------------------\n",
      "Image 279 done...\n",
      "--------------------------------------------------\n",
      "Image 280 done...\n",
      "--------------------------------------------------\n",
      "Image 281 done...\n",
      "--------------------------------------------------\n",
      "Image 282 done...\n",
      "--------------------------------------------------\n",
      "Image 283 done...\n",
      "--------------------------------------------------\n",
      "Image 284 done...\n",
      "--------------------------------------------------\n",
      "Image 285 done...\n",
      "--------------------------------------------------\n",
      "Image 286 done...\n",
      "--------------------------------------------------\n",
      "Image 287 done...\n",
      "--------------------------------------------------\n",
      "Image 288 done...\n",
      "--------------------------------------------------\n",
      "Image 289 done...\n",
      "--------------------------------------------------\n",
      "Image 290 done...\n",
      "--------------------------------------------------\n",
      "Image 291 done...\n",
      "--------------------------------------------------\n",
      "Image 292 done...\n",
      "--------------------------------------------------\n",
      "Image 293 done...\n",
      "--------------------------------------------------\n",
      "Image 294 done...\n",
      "--------------------------------------------------\n",
      "Image 295 done...\n",
      "--------------------------------------------------\n",
      "Image 296 done...\n",
      "--------------------------------------------------\n",
      "Image 297 done...\n",
      "--------------------------------------------------\n",
      "Image 298 done...\n",
      "--------------------------------------------------\n",
      "Image 299 done...\n",
      "--------------------------------------------------\n",
      "Image 300 done...\n",
      "--------------------------------------------------\n",
      "Image 301 done...\n",
      "--------------------------------------------------\n",
      "Image 302 done...\n",
      "--------------------------------------------------\n",
      "Image 303 done...\n",
      "--------------------------------------------------\n",
      "Image 304 done...\n",
      "--------------------------------------------------\n",
      "Image 305 done...\n",
      "--------------------------------------------------\n",
      "Image 306 done...\n",
      "--------------------------------------------------\n",
      "Image 307 done...\n",
      "--------------------------------------------------\n",
      "Image 308 done...\n",
      "--------------------------------------------------\n",
      "Image 309 done...\n",
      "--------------------------------------------------\n",
      "TEST PREDICTIONS COMPLETE\n",
      "Average FPS: 26.587\n"
     ]
    }
   ],
   "source": [
    "!python inference.py --input /hdd/yuchen/pipeline/training_pipeline/data_land4sensor/valid --data data_configs/land4sensor.yaml --weights outputs/training/land4sensor_training/best_model.pth --imgsz 224 --device cuda:0 --threshold 0.8 --model fasterrcnn_swin --save_img True "
   ]
  },
  {
   "cell_type": "code",
   "execution_count": null,
   "id": "51530eb2-a0a3-4b22-badc-d7d90d0f0d2b",
   "metadata": {},
   "outputs": [],
   "source": []
  },
  {
   "cell_type": "code",
   "execution_count": null,
   "id": "9fb4e1ba-89ab-45b0-87cc-65bd751298ba",
   "metadata": {},
   "outputs": [],
   "source": []
  },
  {
   "cell_type": "code",
   "execution_count": null,
   "id": "605df499-a2a3-46f2-a7f2-03aa2632d860",
   "metadata": {},
   "outputs": [],
   "source": []
  }
 ],
 "metadata": {
  "kernelspec": {
   "display_name": "Python 3 (ipykernel)",
   "language": "python",
   "name": "python3"
  },
  "language_info": {
   "codemirror_mode": {
    "name": "ipython",
    "version": 3
   },
   "file_extension": ".py",
   "mimetype": "text/x-python",
   "name": "python",
   "nbconvert_exporter": "python",
   "pygments_lexer": "ipython3",
   "version": "3.10.13"
  }
 },
 "nbformat": 4,
 "nbformat_minor": 5
}
