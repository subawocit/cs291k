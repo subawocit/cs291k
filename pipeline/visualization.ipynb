{
 "cells": [
  {
   "cell_type": "code",
   "execution_count": 1,
   "id": "96ad9985-a9d2-4bc6-8d49-95cbffe46ad3",
   "metadata": {},
   "outputs": [],
   "source": [
    "import os\n",
    "import cv2\n",
    "import matplotlib.pyplot as plt\n",
    "import glob as glob\n",
    "import numpy as np\n",
    "\n",
    "from xml.etree import ElementTree as et"
   ]
  },
  {
   "cell_type": "code",
   "execution_count": 2,
   "id": "f49d3bec-ae72-4c88-882e-1d01a30b6ea2",
   "metadata": {},
   "outputs": [],
   "source": [
    "np.random.seed(1000)"
   ]
  },
  {
   "cell_type": "code",
   "execution_count": 3,
   "id": "6c73f54e-7e74-4234-a968-f837d11f7f41",
   "metadata": {},
   "outputs": [],
   "source": [
    "image_paths = '/hdd/yuchen/pipeline/training_pipeline/sat_data/train/'\n",
    "annotation_paths = '/hdd/yuchen/pipeline/training_pipeline/sat_data/train/'\n",
    "\n",
    "CLASSES = [\n",
    "    '__background__',\n",
    "    \"landslides\"]\n",
    "COLORS = np.random.uniform(0, 255, size=(len(CLASSES), 3))\n",
    "images = glob.glob(os.path.join(image_paths, '*.jpg'))\n",
    "annotations = glob.glob(os.path.join(annotation_paths, '*.xml'))\n",
    "\n",
    "images.sort()\n",
    "annotations.sort()"
   ]
  },
  {
   "cell_type": "code",
   "execution_count": 4,
   "id": "74583f83-f177-4aaa-9431-0b4c8f177bdc",
   "metadata": {},
   "outputs": [],
   "source": [
    "def read_annotations(xml_path):\n",
    "    tree = et.parse(xml_path)\n",
    "    root = tree.getroot()\n",
    "    \n",
    "    boxes = []\n",
    "    labels = []\n",
    "\n",
    "    # Get the height and width of the image.\n",
    "    image_width = image.shape[1]\n",
    "    image_height = image.shape[0]\n",
    "\n",
    "    # Box coordinates for xml files are extracted and corrected for image size given.\n",
    "    for member in root.findall('object'):\n",
    "        labels.append(member.find('name').text)\n",
    "        # xmin = left corner x-coordinates\n",
    "        xmin = int(member.find('bndbox').find('xmin').text)\n",
    "        # xmax = right corner x-coordinates\n",
    "        xmax = int(member.find('bndbox').find('xmax').text)\n",
    "        # ymin = left corner y-coordinates\n",
    "        ymin = int(member.find('bndbox').find('ymin').text)\n",
    "        # ymax = right corner y-coordinates\n",
    "        ymax = int(member.find('bndbox').find('ymax').text)\n",
    "        \n",
    "        boxes.append([xmin, ymin, xmax, ymax])\n",
    "    return boxes, labels"
   ]
  },
  {
   "cell_type": "code",
   "execution_count": null,
   "id": "8e0e83fe-0031-4ed9-9123-7503a6c5d218",
   "metadata": {},
   "outputs": [],
   "source": [
    "LT05_L1TP_129038_19860731_20170221_01_T1_patch_1920_0"
   ]
  },
  {
   "cell_type": "code",
   "execution_count": null,
   "id": "dbbccc28-a0a7-46f6-bd7f-7870f2baa574",
   "metadata": {},
   "outputs": [],
   "source": [
    "for image_num, image_path in enumerate(images):\n",
    "    if image_path != '/hdd/yuchen/pipeline/training_pipeline/sat_data/train/{}.jpg'.format('LT05_L1TP_129038_19860731_20170221_01_T1_patch_1920_0'):\n",
    "        continue\n",
    "    image = cv2.imread(image_path)\n",
    "    xml_path = annotations[image_num]\n",
    "    boxes, labels = read_annotations(xml_path)\n",
    "    \n",
    "    for i, box in enumerate(boxes):\n",
    "        xmin = box[0]\n",
    "        ymin = box[1]\n",
    "        xmax = box[2]\n",
    "        ymax = box[3]\n",
    "        color = COLORS[CLASSES.index(labels[i])]\n",
    "        cv2.rectangle(\n",
    "            image, \n",
    "            (int(xmin), int(ymin)),\n",
    "            (int(xmax), int(ymax)),\n",
    "            color=color,\n",
    "            thickness=2,\n",
    "            lineType=cv2.LINE_AA\n",
    "        )\n",
    "        cv2.putText(\n",
    "            image,\n",
    "            text=labels[i],\n",
    "            org=(int(xmin), int(ymin-5)),\n",
    "            fontFace=cv2.FONT_HERSHEY_SIMPLEX,\n",
    "            fontScale=1,\n",
    "            color=color,\n",
    "            thickness=2,\n",
    "            lineType=cv2.LINE_AA\n",
    "        )\n",
    "    plt.figure(figsize=(7, 5))\n",
    "    plt.title(image_path)\n",
    "    plt.imshow(image[:, :, ::-1])\n",
    "    plt.axis('off')\n",
    "    plt.show()\n",
    "    if image_num == 9:\n",
    "        break"
   ]
  },
  {
   "cell_type": "code",
   "execution_count": 6,
   "id": "007bd6dd-b229-4f42-92b3-2bf751166fb0",
   "metadata": {},
   "outputs": [
    {
     "data": {
      "text/plain": [
       "[]"
      ]
     },
     "execution_count": 6,
     "metadata": {},
     "output_type": "execute_result"
    }
   ],
   "source": [
    "annotations"
   ]
  },
  {
   "cell_type": "code",
   "execution_count": null,
   "id": "f72d148d-784e-4f00-90c2-51d4afdb1852",
   "metadata": {},
   "outputs": [],
   "source": []
  },
  {
   "cell_type": "code",
   "execution_count": null,
   "id": "f3b53bdf-57c3-492b-a26b-71f5fc2823fe",
   "metadata": {},
   "outputs": [],
   "source": []
  }
 ],
 "metadata": {
  "kernelspec": {
   "display_name": "Python 3 (ipykernel)",
   "language": "python",
   "name": "python3"
  },
  "language_info": {
   "codemirror_mode": {
    "name": "ipython",
    "version": 3
   },
   "file_extension": ".py",
   "mimetype": "text/x-python",
   "name": "python",
   "nbconvert_exporter": "python",
   "pygments_lexer": "ipython3",
   "version": "3.10.13"
  }
 },
 "nbformat": 4,
 "nbformat_minor": 5
}
