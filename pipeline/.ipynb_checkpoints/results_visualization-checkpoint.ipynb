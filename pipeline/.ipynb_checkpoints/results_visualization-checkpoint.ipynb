{
 "cells": [
  {
   "cell_type": "code",
   "execution_count": 31,
   "id": "256b7742-3bd3-4319-a7c6-1e7697bf2ee1",
   "metadata": {},
   "outputs": [],
   "source": [
    "# import matplotlib.pyplot as plt\n",
    "# import matplotlib.patches as patches\n",
    "# import xml.etree.ElementTree as ET\n",
    "\n",
    "# import matplotlib.pyplot as plt\n",
    "# from PIL import Image\n",
    "\n",
    "# for img_id in [ 3180 , 3052 , 1315 , 1087 , 749 , 1074 , 657 , 483 , 3501 , 536 , 1955 , 1450 , 986 , 1856 , 3153 , 278 , 1497 , 2070 , 1949 , 1862 , 1416 , 1247 , 178 , 1696 , 512 , 67 , 1487 , 243 , 1437 , 2125 , 2367 , 1492 , 1178 , 3517 , 29 , 3520 , 1525 , 2200 , 1833 , 196 , 3600 , 1543 , 469 , 176 , 1086 , 2511 , 2592 , 3474 , 1989 , 144 , 2079 , 3255 , 2282 , 508 , 1130 , 605 , 3037 , 2682 , 2632 , 2811 , 841 , 301 , 647 , 481 , 263 , 1938 , 3253 , 2769 , 190 , 100 , 1456 , 2560 , 2844 , 189 , 1465 , 446 , 756 , 1172 , 3117 , 2307 , 2887 , 3123 , 2593 , 978 , 1740 , 1124 , 3008 , 2687 , 1933 , 387 , 1277 , 2303 , 608 , 1314 , 1232 , 2444 , 1143 , 3111 , 906 , 1393 , 3053 , 790 , 837 , 1738 , 910 , 486 , 1818 , 2754 , 352 , 1691 , 882 , 40 , 808 , 473 , 583 , 633 , 1455 , 912 , 2437 , 1064 , 644 , 2489 , 1953 , 222 , 432 , 137 , 1141 , 1050 , 3467 , 1333 , 1060 , 3419 , 2393 , 3183 , 3231 , 1939 , 77 , 44 , 1489 , 1983 , 3217 , 1567 , 2357 , 2361 , 1039 , 1077 , 3243 , 1861 , 1413 , 3229 , 1270 , 1688 , 3150 , 2434 , 2108 , 1290 , 3293 , 2520 , 2427 , 1316 , 41 , 1262 , 1777 , 1549 , 1239 , 886 , 2060 , 2363 , 53 ]:\n",
    "\n",
    "#     tree = ET.parse(f'/hdd/yuchen/pipeline/training_pipeline/data_land4sensor/valid/{img_id}.xml') # Update this path\n",
    "#     root = tree.getroot()\n",
    "    \n",
    "#     bboxes = []\n",
    "#     for obj in root.findall('.//bndbox'):\n",
    "#         xmin = int(obj.find('xmin').text)\n",
    "#         xmax = int(obj.find('xmax').text)\n",
    "#         ymin = int(obj.find('ymin').text)\n",
    "#         ymax = int(obj.find('ymax').text)\n",
    "#         bboxes.append((xmin, ymin, xmax, ymax))\n",
    "    \n",
    "    \n",
    "#     image_width = 224\n",
    "#     image_height = 224\n",
    "\n",
    "#     plt.figure()\n",
    "    \n",
    "#     fig, axs = plt.subplots(1, 3, figsize=(15, 5))\n",
    "    \n",
    "#     # Displaying the original image\n",
    "#     img = Image.open(f'/hdd/yuchen/pipeline/training_pipeline/data_land4sensor/valid/{img_id}.jpg')\n",
    "#     axs[0].imshow(img)\n",
    "#     axs[0].set_xlim(0, image_width)\n",
    "#     axs[0].set_ylim(0, image_height)\n",
    "#     axs[0].invert_yaxis()  # Invert Y axis to match the image's origin (top left)\n",
    "#     for (xmin, ymin, xmax, ymax) in bboxes:\n",
    "#         rect = patches.Rectangle((xmin, ymin), xmax-xmin, ymax-ymin, linewidth=1, edgecolor='r', facecolor='none')\n",
    "#         axs[0].add_patch(rect)\n",
    "#     axs[0].set_title('')\n",
    "#     axs[0].axis('off')\n",
    "    \n",
    "#     # Displaying a placeholder for the processing step (Since we're directly resizing, let's just show the original again)\n",
    "#     img = Image.open(f'/hdd/yuchen/pipeline/training_pipeline/outputs/inference/vit_l_natural/{img_id}.jpg')\n",
    "#     axs[1].imshow(img)\n",
    "#     axs[1].set_title('')\n",
    "#     axs[1].axis('off')\n",
    "    \n",
    "#     # Displaying the upscaled image\n",
    "#     img = Image.open(f'/hdd/yuchen/pipeline/training_pipeline/outputs/inference/swin_t_natural/{img_id}.jpg')\n",
    "    \n",
    "#     axs[2].imshow(img)\n",
    "#     axs[2].set_title('')\n",
    "#     axs[2].axis('off')\n",
    "    \n",
    "#     plt.tight_layout()\n",
    "#     plt.show()"
   ]
  },
  {
   "cell_type": "code",
   "execution_count": null,
   "id": "ef2f043b-0530-49eb-826e-8ee14d3bfceb",
   "metadata": {},
   "outputs": [],
   "source": []
  },
  {
   "cell_type": "code",
   "execution_count": 29,
   "id": "574ef4d3-3aeb-4c43-bf4a-f0d8e7e6adfa",
   "metadata": {},
   "outputs": [
    {
     "name": "stdout",
     "output_type": "stream",
     "text": [
      "3180 , 3052 , 1315 , 1087 , 749 , 1074 , 657 , 483 , 3501 , 536 , 1955 , 1450 , 986 , 1856 , 3153 , 278 , 1497 , 2070 , 1949 , 1862 , 1416 , 1247 , 178 , 1696 , 512 , 67 , 1487 , 243 , 1437 , 2125 , 2367 , 1492 , 1178 , 3517 , 29 , 3520 , 1525 , 2200 , 1833 , 196 , 3600 , 1543 , 469 , 176 , 1086 , 2511 , 2592 , 3474 , 1989 , 144 , 2079 , 3255 , 2282 , 508 , 1130 , 605 , 3037 , 2682 , 2632 , 2811 , 841 , 301 , 647 , 481 , 263 , 1938 , 3253 , 2769 , 190 , 100 , 1456 , 2560 , 2844 , 189 , 1465 , 446 , 756 , 1172 , 3117 , 2307 , 2887 , 3123 , 2593 , 978 , 1740 , 1124 , 3008 , 2687 , 1933 , 387 , 1277 , 2303 , 608 , 1314 , 1232 , 2444 , 1143 , 3111 , 906 , 1393 , 3053 , 790 , 837 , 1738 , 910 , 486 , 1818 , 2754 , 352 , 1691 , 882 , 40 , 808 , 473 , 583 , 633 , 1455 , 912 , 2437 , 1064 , 644 , 2489 , 1953 , 222 , 432 , 137 , 1141 , 1050 , 3467 , 1333 , 1060 , 3419 , 2393 , 3183 , 3231 , 1939 , 77 , 44 , 1489 , 1983 , 3217 , 1567 , 2357 , 2361 , 1039 , 1077 , 3243 , 1861 , 1413 , 3229 , 1270 , 1688 , 3150 , 2434 , 2108 , 1290 , 3293 , 2520 , 2427 , 1316 , 41 , 1262 , 1777 , 1549 , 1239 , 886 , 2060 , 2363 , 53 , 2595 , 2312 , 507 , 334 , 1210 , 796 , 1340 , 1242 , 3133 , 1747 , 920 , 2015 , 3242 , 1529 , 1548 , 1991 , 275 , 3556 , 26 , 1179 , 3449 , 2928 , 1976 , 1376 , 941 , 1998 , 1457 , 1614 , 690 , 1657 , 1484 , 3285 , 2400 , 564 , 1535 , 2590 , 458 , 2722 , 185 , 1855 , 2390 , 844 , 3143 , 567 , 516 , 1396 , 907 , 1579 , 2102 , 2389 , 936 , 1527 , 3160 , 2397 , 1397 , 811 , 713 , 3475 , 1745 , 2720 , 3203 , 1422 , 289 , 737 , 3154 , 875 , 3085 , 2354 , 753 , 1319 , 1414 , 1425 , 3158 , 1052 , 229 , 891 , 1775 , 2837 , 833 , 3304 , 1623 , 2891 , 1197 , 324 , 1068 , 822 , 1905 , 668 , 831 , 3531 , 2920 , 1113 , 1395 , 566 , 1941 , 3163 , 2355 , 1571 , 1127 , 1781 , 951 , 49 , 3424 , 1972 , 476 , 3120 , 868 , 956 , 2551 , 506 , 54 , 1012 , 2388 , 1986 , 2119 , 1898 , 1047 , 2242 , 1299 , 326 , 642 , 2305 , 3352 , 1085 , 459 , 1891 , 729 , 923 , 2917 , 3131 , 1022 , 1365 , 345 , 1977 , 1724 , 2344 , 955 , 1770 , 1958 , 1659 , "
     ]
    }
   ],
   "source": [
    "import glob\n",
    "for f in glob.glob('/hdd/yuchen/pipeline/training_pipeline/outputs/inference/vit_l_natural/*'):\n",
    "    k = f.split('/')[-1].split('.')[0]\n",
    "    print(k, \", \", end = '')"
   ]
  }
 ],
 "metadata": {
  "kernelspec": {
   "display_name": "Python 3 (ipykernel)",
   "language": "python",
   "name": "python3"
  },
  "language_info": {
   "codemirror_mode": {
    "name": "ipython",
    "version": 3
   },
   "file_extension": ".py",
   "mimetype": "text/x-python",
   "name": "python",
   "nbconvert_exporter": "python",
   "pygments_lexer": "ipython3",
   "version": "3.10.13"
  }
 },
 "nbformat": 4,
 "nbformat_minor": 5
}
