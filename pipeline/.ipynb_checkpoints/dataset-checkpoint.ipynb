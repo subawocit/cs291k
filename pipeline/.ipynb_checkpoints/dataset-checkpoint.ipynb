{
 "cells": [
  {
   "cell_type": "code",
   "execution_count": 3,
   "id": "91729162-fcbc-4f70-8569-443185afd14c",
   "metadata": {},
   "outputs": [],
   "source": [
    "import datetime\n",
    "import json\n",
    "import numpy as np\n",
    "import os\n",
    "import time\n",
    "from pathlib import Path\n",
    "import pandas as pd\n",
    "from matplotlib import pyplot as plt\n"
   ]
  },
  {
   "cell_type": "code",
   "execution_count": null,
   "id": "a8bcb8d7-1d91-48c1-9eee-5a877ac61944",
   "metadata": {},
   "outputs": [],
   "source": [
    "import glob\n",
    "\n",
    "\n",
    "filename = 'LT05_L1TP_130038_19870725_20170320_01_T1_patch_2560_3200.npy'\n",
    "\n",
    "img = np.load(path+filename)"
   ]
  },
  {
   "cell_type": "code",
   "execution_count": 10,
   "id": "2ae2015b-c819-4eec-951b-f8f334c2b688",
   "metadata": {},
   "outputs": [],
   "source": [
    "import numpy as np\n",
    "from PIL import Image\n",
    "\n",
    "# npy_file_path = 'your_file_path_here.npy'  # Replace with your .npy file path\n",
    "# array = np.load(npy_file_path)\n",
    "\n",
    "# image = Image.fromarray(array, 'RGB' if array.shape[2] == 3 else 'RGBA')\n",
    "\n",
    "# output_image_path = 'output_image.jpg'  # Replace with your desired output path\n",
    "# image.save(output_image_path, 'JPEG')"
   ]
  },
  {
   "cell_type": "code",
   "execution_count": null,
   "id": "3c932ab1-b164-4ee1-ab71-ac07fccdffdc",
   "metadata": {
    "scrolled": true
   },
   "outputs": [],
   "source": [
    "import glob\n",
    "\n",
    "threshold = 100  # how the bbox area should be\n",
    "\n",
    "for set in ['test','train','valid']:\n",
    "    if set == 'valid': org_set = 'val'\n",
    "    else: org_set = set\n",
    "        \n",
    "    img_path = '/hdd/yuchen/satdata/landslides/{}_numpy_images'.format(org_set)\n",
    "    label_path = '/hdd/yuchen/satdata/landslides/{}_yolo_labels'.format(org_set)\n",
    "    output_image_path = '/hdd/yuchen/pipeline/training_pipeline/sat_data/{}/'.format(set)\n",
    "\n",
    "    files = [file for file in os.listdir(output_image_path) if os.path.isfile(os.path.join(output_image_path, file))]\n",
    "    for file in files:\n",
    "        os.remove(os.path.join(output_image_path, file))\n",
    "    \n",
    "    for filename_temp in glob.glob(img_path+'/*'):\n",
    "        filename = filename_temp.split('/')[-1].split('.')[0]\n",
    "        img = np.load(filename_temp)\n",
    "        img = np.moveaxis(img[np.array([2,0,1])], 0, 2)\n",
    "        image = Image.fromarray(img, 'RGB')\n",
    "        \n",
    "        label = f'{label_path}/{filename}.txt'\n",
    "\n",
    "        with open(label, 'r') as file:\n",
    "            file_content = file.read()\n",
    "            file_content = file_content.split('\\n')\n",
    "        \n",
    "        lst = [item.split(' ') for item in file_content]\n",
    "        \n",
    "        coords = []\n",
    "        for i in lst:\n",
    "            coords_temp = []\n",
    "            for j in i[1:]:\n",
    "                coords_temp.append(float(j))\n",
    "            coords.append(np.array(coords_temp, dtype='object').reshape(-1,2))\n",
    "        \n",
    "        label_base='<annotation>\\n<folder></folder>\\n<filename>{}.jpg</filename>\\n<path>{}.jpg</path>\\n<source>\\n<database></database>\\n</source>\\n<size>\\n<width>{}</width>\\n<height>{}</height>\\n<depth>3</depth>\\n</size>\\n<segmented>0</segmented>\\n'.format(filename,filename, img.shape[0], img.shape[1])\n",
    "        label_base_end = '</annotation>'\n",
    "\n",
    "        ct = 0\n",
    "        for num_labels in range(len(coords)):\n",
    "            if len(coords[num_labels]) != 0:\n",
    "                big_x=np.where(coords[num_labels][:,0] == max(coords[num_labels][:,0]))[0][0] # big x\n",
    "                small_x=np.where(coords[num_labels][:,0] == min(coords[num_labels][:,0]))[0][0] # small x\n",
    "                big_y=np.where(coords[num_labels][:,1] == max(coords[num_labels][:,1]))[0][0] # big y\n",
    "                small_y=np.where(coords[num_labels][:,1] == min(coords[num_labels][:,1]))[0][0]# small y\n",
    "                    \n",
    "                xmin, ymin = [int(coords[num_labels][small_x][0]*img.shape[0]),\n",
    "                              int((coords[num_labels][small_y][1])*img.shape[1])]\n",
    "                xmax, ymax = [int(coords[num_labels][big_x][0]*img.shape[0]), \n",
    "                              int((coords[num_labels][big_y][1])*img.shape[1])]\n",
    "\n",
    "                if xmin<0 or ymin<0 or xmax<0 or ymax<0: continue\n",
    "                elif xmax-xmin<1 or ymax-ymin<1: continue\n",
    "                elif (xmax-xmin) *  (ymax-ymin) < threshold: continue\n",
    "                else:\n",
    "                    label_name = '<object>\\n<name>landslides</name>\\n<pose>Unspecified</pose>\\n<truncated>0</truncated>\\n<difficult>0</difficult>\\n<occluded>0</occluded>\\n<bndbox><xmin>{}</xmin><xmax>{}</xmax><ymin>{}</ymin><ymax>{}</ymax></bndbox>\\n</object>\\n'.format(xmin, xmax, ymin, ymax)\n",
    "                    label_base=label_base+label_name\n",
    "                    ct += 1\n",
    "       \n",
    "        if ct == 0:\n",
    "            print(filename,'does not have any labels')\n",
    "        else:\n",
    "            label_base = label_base+label_base_end\n",
    "    \n",
    "            image.save(output_image_path+str(filename)+'.jpg', 'JPEG')\n",
    "            \n",
    "            xml_label_path=output_image_path+str(filename)+'.txt'\n",
    "            with open(xml_label_path, 'w') as file:\n",
    "                file.write(label_base)\n",
    "                \n",
    "            new_file_name = xml_label_path.split('.')[0]+'.xml'\n",
    "            \n",
    "            os.rename(xml_label_path, new_file_name)\n"
   ]
  },
  {
   "cell_type": "code",
   "execution_count": null,
   "id": "13989602-75e5-4b8d-af36-2ab976e65575",
   "metadata": {},
   "outputs": [],
   "source": []
  },
  {
   "cell_type": "code",
   "execution_count": null,
   "id": "3a6de56b-c845-4adf-8be4-7cb0513af6aa",
   "metadata": {},
   "outputs": [],
   "source": []
  },
  {
   "cell_type": "code",
   "execution_count": 78,
   "id": "6fff7f53-dde5-4330-b55e-24a9b0c931d2",
   "metadata": {},
   "outputs": [],
   "source": [
    "import os\n",
    "\n",
    "\n",
    "label_base='<annotation>\\n<folder></folder>\\n<filename>{}.jpg</filename>\\n<path>{}.jpg</path>\\n<source>\\n<database></database>\\n</source>\\n<size>\\n<width>{}</width>\\n<height>{}</height>\\n<depth>3</depth>\\n</size>\\n<segmented>0</segmented>\\n'.format(filename,filename, img.shape[0], img.shape[1])\n",
    "label_base_end = '</annotation>'\n",
    "\n",
    "for num_labels in range(len(coords)):\n",
    "    if len(coords[num_labels]) != 0:\n",
    "        big_x=np.where(coords[num_labels][:,0] == max(coords[num_labels][:,0]))[0][0] # big x\n",
    "        small_x=np.where(coords[num_labels][:,0] == min(coords[num_labels][:,0]))[0][0] # small x\n",
    "        big_y=np.where(coords[num_labels][:,1] == max(coords[num_labels][:,1]))[0][0] # big y\n",
    "        small_y=np.where(coords[num_labels][:,1] == min(coords[num_labels][:,1]))[0][0]# small y\n",
    "        \n",
    "        xmin, ymin = [coords[num_labels][small_x][0]*img.shape[0], (1-coords[num_labels][big_y][1])*img.shape[1]]\n",
    "        xmax, ymax = [coords[num_labels][big_x][0]*img.shape[0], (1-coords[num_labels][small_y][1])*img.shape[1]]\n",
    "        \n",
    "        label_name = '<object>\\n<name>landslides</name>\\n<pose>Unspecified</pose>\\n<truncated>0</truncated>\\n<difficult>0</difficult>\\n<occluded>0</occluded>\\n<bndbox><xmin>{}</xmin><xmax>{}</xmax><ymin>{}</ymin><ymax>{}</ymax></bndbox>\\n</object>\\n'.format(xmin, xmax, ymin, ymax)\n",
    "        label_base=label_base+label_name\n",
    "label_base_end = label_base_end+label_base_end\n",
    "\n",
    "with open('/hdd/yuchen/test.txt', 'w') as file:\n",
    "    file.write(label_base)\n",
    "\n",
    "current_file_name = '/hdd/yuchen/test.txt'\n",
    "new_file_name = '/hdd/yuchen/test.xml'\n",
    "\n",
    "os.rename(current_file_name, new_file_name)"
   ]
  },
  {
   "cell_type": "code",
   "execution_count": 76,
   "id": "a272e36f-6f23-4539-81df-a51e26ae79a6",
   "metadata": {},
   "outputs": [
    {
     "data": {
      "text/plain": [
       "(0.76146, 447.13728000000003)"
      ]
     },
     "execution_count": 76,
     "metadata": {},
     "output_type": "execute_result"
    }
   ],
   "source": [
    "xmin, ymin * 640"
   ]
  },
  {
   "cell_type": "code",
   "execution_count": 54,
   "id": "8e998ea7-419d-4c31-b7dd-06e20441aa40",
   "metadata": {},
   "outputs": [],
   "source": [
    "with open('/hdd/yuchen/test.txt', 'w') as file:\n",
    "    file.write(label_base)"
   ]
  },
  {
   "cell_type": "code",
   "execution_count": 55,
   "id": "881953b3-1f6d-4b29-8ba4-ea192919df9b",
   "metadata": {},
   "outputs": [],
   "source": [
    "import os\n",
    "\n",
    "# Define the current and new file names\n",
    "current_file_name = '/hdd/yuchen/test.txt'\n",
    "new_file_name = '/hdd/yuchen/test.xml'\n",
    "\n",
    "# Rename the file\n",
    "os.rename(current_file_name, new_file_name)"
   ]
  }
 ],
 "metadata": {
  "kernelspec": {
   "display_name": "Python 3 (ipykernel)",
   "language": "python",
   "name": "python3"
  },
  "language_info": {
   "codemirror_mode": {
    "name": "ipython",
    "version": 3
   },
   "file_extension": ".py",
   "mimetype": "text/x-python",
   "name": "python",
   "nbconvert_exporter": "python",
   "pygments_lexer": "ipython3",
   "version": "3.10.13"
  }
 },
 "nbformat": 4,
 "nbformat_minor": 5
}
